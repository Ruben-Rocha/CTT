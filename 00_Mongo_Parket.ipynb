{
 "cells": [
  {
   "cell_type": "code",
   "execution_count": 4,
   "id": "adccc462",
   "metadata": {},
   "outputs": [],
   "source": [
    "from pymongo import MongoClient\n",
    "import polars as pl"
   ]
  },
  {
   "cell_type": "code",
   "execution_count": 5,
   "id": "57dbfcf4",
   "metadata": {},
   "outputs": [],
   "source": [
    "# Conectar ao MongoDB\n",
    "client = MongoClient(\"mongodb://localhost:27017\")  # Conectar ao MongoDB local\n",
    "db = client[\"ctt2025\"]  # Nome da base de dados no MongoDB\n",
    "collection = db[\"expresso_2025\"]  # Nome da coleção (tabela)"
   ]
  },
  {
   "cell_type": "code",
   "execution_count": 6,
   "id": "00a6f3fd",
   "metadata": {},
   "outputs": [
    {
     "name": "stdout",
     "output_type": "stream",
     "text": [
      "Documentos no último mês: 8823102\n"
     ]
    }
   ],
   "source": [
    "from datetime import datetime, timedelta, timezone\n",
    "import polars as pl\n",
    "\n",
    "# --- intervalo últimos 30 dias ---\n",
    "end = datetime.now(timezone.utc)\n",
    "start = end - timedelta(days=30)\n",
    "\n",
    "DATE_FIELD = \"data_criacao\"\n",
    "\n",
    "proj = {\n",
    "    \"centro\": 1, \"data_criacao\": 1, \"giro\": 1, \"loptica\": 1,\n",
    "    \"janela_horaria\": 1, \"nome\": 1, \"morada\": 1, \"cp\": 1,\n",
    "    \"localidade\": 1, \"cod_t_even\": 1, \"data_evento\": 1,\n",
    "    \"latitude\": 1, \"longitude\": 1, \"nome_rem\": 1, \"cod_pais_origem\": 1,\n",
    "    \"_id\": 0  # ignora o _id, se não precisares\n",
    "}\n",
    "\n",
    "query = {DATE_FIELD: {\"$gte\": start, \"$lt\": end}}\n",
    "\n",
    "n = collection.count_documents(query)\n",
    "print(f\"Documentos no último mês: {n}\")\n",
    "\n",
    "cursor = collection.find(query, projection=proj, batch_size=10_000)\n",
    "\n",
    "batches, batch = [], []\n",
    "BATCH_SIZE = 50_000\n",
    "\n",
    "for i, item in enumerate(cursor, 1):\n",
    "    batch.append({\n",
    "        \"data_criacao\": str(item.get(\"data_criacao\") or item.get(\"DATA_CRIACAO\") or \"\"),\n",
    "        \"centro\": str(item.get(\"centro\") or item.get(\"CENTRO\") or \"\"),\n",
    "        \"giro\": str(item.get(\"giro\") or item.get(\"GIRO\") or \"\"),\n",
    "        \"loptica\": str(item.get(\"loptica\") or item.get(\"LOPTICA\") or \"\"),\n",
    "        \"janela_horaria\": str(item.get(\"janela_horaria\") or item.get(\"JANELA_HORARIA\") or \"\"),\n",
    "        \"nome\": str(item.get(\"nome\") or item.get(\"NOME\") or \"\"),\n",
    "        \"morada\": str(item.get(\"morada\") or item.get(\"MORADA\") or \"\"),\n",
    "        \"cp\": str(item.get(\"cp\") or item.get(\"CP\") or \"\"),\n",
    "        \"localidade\": str(item.get(\"localidade\") or item.get(\"LOCALIDADE\") or \"\"),\n",
    "        \"cod_t_even\": str(item.get(\"cod_t_even\") or item.get(\"COD_T_EVEN\") or \"\"),\n",
    "        \"data_evento\": str(item.get(\"data_evento\") or item.get(\"DATA_EVENTO\") or \"\"),\n",
    "        \"latitude\": str(item.get(\"latitude\") or item.get(\"LATITUDE\") or \"\"),\n",
    "        \"longitude\": str(item.get(\"longitude\") or item.get(\"LONGITUDE\") or \"\"),\n",
    "        \"nome_rem\": str(item.get(\"nome_rem\") or item.get(\"NOME_REM\") or \"\"),\n",
    "        \"cod_pais_origem\": str(item.get(\"cod_pais_origem\") or item.get(\"COD_PAIS_ORIGEM\") or \"\"),\n",
    "    })\n",
    "\n",
    "    if i % BATCH_SIZE == 0:\n",
    "        dfb = pl.DataFrame(batch)   # agora é seguro, tudo string\n",
    "        batches.append(dfb)\n",
    "        batch.clear()\n",
    "\n",
    "if batch:\n",
    "    dfb = pl.DataFrame(batch)\n",
    "    batches.append(dfb)\n",
    "\n",
    "df = pl.concat(batches, how=\"vertical_relaxed\") if batches else pl.DataFrame()\n",
    "\n",
    "# ✅ converter colunas de interesse depois\n",
    "if df.height:\n",
    "    df = df.with_columns([\n",
    "        pl.col(\"data_criacao\").str.strptime(pl.Datetime, strict=False),\n",
    "        pl.col(\"latitude\").cast(pl.Float64, strict=False),\n",
    "        pl.col(\"longitude\").cast(pl.Float64, strict=False),\n",
    "    ])\n",
    "\n",
    "\n",
    "\n"
   ]
  },
  {
   "cell_type": "code",
   "execution_count": 7,
   "id": "13d830a0",
   "metadata": {},
   "outputs": [
    {
     "data": {
      "text/html": [
       "<div><style>\n",
       ".dataframe > thead > tr,\n",
       ".dataframe > tbody > tr {\n",
       "  text-align: right;\n",
       "  white-space: pre-wrap;\n",
       "}\n",
       "</style>\n",
       "<small>shape: (50, 15)</small><table border=\"1\" class=\"dataframe\"><thead><tr><th>data_criacao</th><th>centro</th><th>giro</th><th>loptica</th><th>janela_horaria</th><th>nome</th><th>morada</th><th>cp</th><th>localidade</th><th>cod_t_even</th><th>data_evento</th><th>latitude</th><th>longitude</th><th>nome_rem</th><th>cod_pais_origem</th></tr><tr><td>datetime[μs]</td><td>str</td><td>str</td><td>str</td><td>str</td><td>str</td><td>str</td><td>str</td><td>str</td><td>str</td><td>str</td><td>f64</td><td>f64</td><td>str</td><td>str</td></tr></thead><tbody><tr><td>2025-08-02 23:00:00</td><td>&quot;8811373&quot;</td><td>&quot;2735H LUIS GONÇ&quot;</td><td>&quot;DS832898428PT&quot;</td><td>&quot;09-19&quot;</td><td>&quot;CARLA FLORENTINO&quot;</td><td>&quot;RUA DOS FARIAS 4&quot;</td><td>&quot;2735-504&quot;</td><td>&quot;AGUALVA-CACÉM&quot;</td><td>&quot;I&quot;</td><td>&quot;03/08/2025 19:29:49&quot;</td><td>null</td><td>null</td><td>&quot;YUCAN - FULFILLMENT SERVICE FO…</td><td>&quot;ES&quot;</td></tr><tr><td>2025-08-02 23:00:00</td><td>&quot;8811373&quot;</td><td>&quot;2665G NETCOUR&quot;</td><td>&quot;DD208879767PT&quot;</td><td>&quot;DOMINGO&quot;</td><td>&quot;BEATRIZ GRAA A&quot;</td><td>&quot;RUA DR JOSA SABINO LOURO, N. 1…</td><td>&quot;2665-240&quot;</td><td>&quot;MALVEIRA&quot;</td><td>&quot;I&quot;</td><td>&quot;03/08/2025 19:23:07&quot;</td><td>null</td><td>null</td><td>&quot;WORTEN - EQUIPAMENTO PARA O LA…</td><td>&quot;PT&quot;</td></tr><tr><td>2025-08-02 23:00:00</td><td>&quot;8811373&quot;</td><td>&quot;2735K LUIS GONÇ&quot;</td><td>&quot;DW756915264PT&quot;</td><td>&quot;SABADO&quot;</td><td>&quot;JOAO ROMAO&quot;</td><td>&quot;PRACETA MARIA JUDITE DE CARVAL…</td><td>&quot;2635-547&quot;</td><td>&quot;RIO DE MOURO&quot;</td><td>&quot;I&quot;</td><td>&quot;03/08/2025 19:20:26&quot;</td><td>null</td><td>null</td><td>&quot;AMAZON ROAD TRANSPORT SPAIN, S…</td><td>&quot;ES&quot;</td></tr><tr><td>2025-08-02 23:00:00</td><td>&quot;8811373&quot;</td><td>&quot;2735H LUIS GONÇ&quot;</td><td>&quot;DS832166365PT&quot;</td><td>&quot;09-19&quot;</td><td>&quot;ANDREIA SILVA&quot;</td><td>&quot;RUA CIDADE RIO DE JANEIRO, 25 …</td><td>&quot;2735-659&quot;</td><td>&quot;AGUALVA-CACÉM&quot;</td><td>&quot;H&quot;</td><td>&quot;03/08/2025 19:18:42&quot;</td><td>null</td><td>null</td><td>&quot;YUCAN - FULFILLMENT SERVICE FO…</td><td>&quot;ES&quot;</td></tr><tr><td>2025-08-02 23:00:00</td><td>&quot;8811373&quot;</td><td>&quot;2735H LUIS GONÇ&quot;</td><td>&quot;DB189659077PT&quot;</td><td>&quot;09-19&quot;</td><td>&quot;RITA CORREIA&quot;</td><td>&quot;RUA DO LUSO N7, ENCOSTA S.MARC…</td><td>&quot;2735-511&quot;</td><td>&quot;AGUALVA-CACÉM&quot;</td><td>&quot;H&quot;</td><td>&quot;03/08/2025 19:18:32&quot;</td><td>null</td><td>null</td><td>&quot;TALICA RETROSARIA ADDRESS&quot;</td><td>&quot;PT&quot;</td></tr><tr><td>&hellip;</td><td>&hellip;</td><td>&hellip;</td><td>&hellip;</td><td>&hellip;</td><td>&hellip;</td><td>&hellip;</td><td>&hellip;</td><td>&hellip;</td><td>&hellip;</td><td>&hellip;</td><td>&hellip;</td><td>&hellip;</td><td>&hellip;</td><td>&hellip;</td></tr><tr><td>2025-08-02 23:00:00</td><td>&quot;8811373&quot;</td><td>&quot;2735H LUIS GONÇ&quot;</td><td>&quot;DS831876823PT&quot;</td><td>&quot;09-19&quot;</td><td>&quot;ELIZABETE QUINTINHA&quot;</td><td>&quot;RUA SOCIEDADE RECREATIVA 13&quot;</td><td>&quot;2735-530&quot;</td><td>&quot;AGUALVA-CACÉM&quot;</td><td>&quot;I&quot;</td><td>&quot;03/08/2025 18:50:25&quot;</td><td>null</td><td>null</td><td>&quot;YUCAN - FULFILLMENT SERVICE FO…</td><td>&quot;ES&quot;</td></tr><tr><td>2025-08-02 23:00:00</td><td>&quot;8811373&quot;</td><td>&quot;2735K LUIS GONÇ&quot;</td><td>&quot;DW756964486PT&quot;</td><td>&quot;09-19&quot;</td><td>&quot;VIKTORIYA KURMAYEVA&quot;</td><td>&quot;ESTRADA MARQUES POMBAL - FITAR…</td><td>&quot;2635-652&quot;</td><td>&quot;RIO DE MOURO&quot;</td><td>&quot;H&quot;</td><td>&quot;03/08/2025 18:49:43&quot;</td><td>38.790249</td><td>-9.325962</td><td>&quot;AMAZON ROAD TRANSPORT SPAIN, S…</td><td>&quot;ES&quot;</td></tr><tr><td>2025-08-02 23:00:00</td><td>&quot;8811373&quot;</td><td>&quot;2665G NETCOUR&quot;</td><td>&quot;DW757702708PT&quot;</td><td>&quot;09-19&quot;</td><td>&quot;ANDREIA ALEXANDRE&quot;</td><td>&quot;RUA DA FEITEIRA N 8 - ROLIA&quot;</td><td>&quot;2665-375&quot;</td><td>&quot;MILHARADO&quot;</td><td>&quot;I&quot;</td><td>&quot;03/08/2025 18:49:38&quot;</td><td>null</td><td>null</td><td>&quot;AMAZON SPAIN FULFILLMENT, S.L.…</td><td>&quot;ES&quot;</td></tr><tr><td>2025-08-02 23:00:00</td><td>&quot;8811373&quot;</td><td>&quot;2665G NETCOUR&quot;</td><td>&quot;DW756841685PT&quot;</td><td>&quot;DOMINGO&quot;</td><td>&quot;ANDREIA ALEXANDRE&quot;</td><td>&quot;RUA DA FEITEIRA N 8 - ROLIA&quot;</td><td>&quot;2665-375&quot;</td><td>&quot;MILHARADO&quot;</td><td>&quot;I&quot;</td><td>&quot;03/08/2025 18:49:06&quot;</td><td>null</td><td>null</td><td>&quot;BCN8&quot;</td><td>&quot;ES&quot;</td></tr><tr><td>2025-08-02 23:00:00</td><td>&quot;8811373&quot;</td><td>&quot;2735H LUIS GONÇ&quot;</td><td>&quot;DS836085455PT&quot;</td><td>&quot;09-19&quot;</td><td>&quot;JOAO VAZ&quot;</td><td>&quot;AVENIDA DO BRASIL N 161, 1 B&quot;</td><td>&quot;2735-676&quot;</td><td>&quot;AGUALVA-CACÉM&quot;</td><td>&quot;I&quot;</td><td>&quot;03/08/2025 18:48:57&quot;</td><td>null</td><td>null</td><td>&quot;MS2 SOLUCIONES DIGITALES S.L.&quot;</td><td>&quot;ES&quot;</td></tr></tbody></table></div>"
      ],
      "text/plain": [
       "shape: (50, 15)\n",
       "┌────────────┬─────────┬───────────┬───────────┬───┬───────────┬───────────┬───────────┬───────────┐\n",
       "│ data_criac ┆ centro  ┆ giro      ┆ loptica   ┆ … ┆ latitude  ┆ longitude ┆ nome_rem  ┆ cod_pais_ │\n",
       "│ ao         ┆ ---     ┆ ---       ┆ ---       ┆   ┆ ---       ┆ ---       ┆ ---       ┆ origem    │\n",
       "│ ---        ┆ str     ┆ str       ┆ str       ┆   ┆ f64       ┆ f64       ┆ str       ┆ ---       │\n",
       "│ datetime[μ ┆         ┆           ┆           ┆   ┆           ┆           ┆           ┆ str       │\n",
       "│ s]         ┆         ┆           ┆           ┆   ┆           ┆           ┆           ┆           │\n",
       "╞════════════╪═════════╪═══════════╪═══════════╪═══╪═══════════╪═══════════╪═══════════╪═══════════╡\n",
       "│ 2025-08-02 ┆ 8811373 ┆ 2735H     ┆ DS8328984 ┆ … ┆ null      ┆ null      ┆ YUCAN -   ┆ ES        │\n",
       "│ 23:00:00   ┆         ┆ LUIS GONÇ ┆ 28PT      ┆   ┆           ┆           ┆ FULFILLME ┆           │\n",
       "│            ┆         ┆           ┆           ┆   ┆           ┆           ┆ NT        ┆           │\n",
       "│            ┆         ┆           ┆           ┆   ┆           ┆           ┆ SERVICE   ┆           │\n",
       "│            ┆         ┆           ┆           ┆   ┆           ┆           ┆ FO…       ┆           │\n",
       "│ 2025-08-02 ┆ 8811373 ┆ 2665G     ┆ DD2088797 ┆ … ┆ null      ┆ null      ┆ WORTEN -  ┆ PT        │\n",
       "│ 23:00:00   ┆         ┆ NETCOUR   ┆ 67PT      ┆   ┆           ┆           ┆ EQUIPAMEN ┆           │\n",
       "│            ┆         ┆           ┆           ┆   ┆           ┆           ┆ TO PARA O ┆           │\n",
       "│            ┆         ┆           ┆           ┆   ┆           ┆           ┆ LA…       ┆           │\n",
       "│ 2025-08-02 ┆ 8811373 ┆ 2735K     ┆ DW7569152 ┆ … ┆ null      ┆ null      ┆ AMAZON    ┆ ES        │\n",
       "│ 23:00:00   ┆         ┆ LUIS GONÇ ┆ 64PT      ┆   ┆           ┆           ┆ ROAD      ┆           │\n",
       "│            ┆         ┆           ┆           ┆   ┆           ┆           ┆ TRANSPORT ┆           │\n",
       "│            ┆         ┆           ┆           ┆   ┆           ┆           ┆ SPAIN, S… ┆           │\n",
       "│ 2025-08-02 ┆ 8811373 ┆ 2735H     ┆ DS8321663 ┆ … ┆ null      ┆ null      ┆ YUCAN -   ┆ ES        │\n",
       "│ 23:00:00   ┆         ┆ LUIS GONÇ ┆ 65PT      ┆   ┆           ┆           ┆ FULFILLME ┆           │\n",
       "│            ┆         ┆           ┆           ┆   ┆           ┆           ┆ NT        ┆           │\n",
       "│            ┆         ┆           ┆           ┆   ┆           ┆           ┆ SERVICE   ┆           │\n",
       "│            ┆         ┆           ┆           ┆   ┆           ┆           ┆ FO…       ┆           │\n",
       "│ 2025-08-02 ┆ 8811373 ┆ 2735H     ┆ DB1896590 ┆ … ┆ null      ┆ null      ┆ TALICA    ┆ PT        │\n",
       "│ 23:00:00   ┆         ┆ LUIS GONÇ ┆ 77PT      ┆   ┆           ┆           ┆ RETROSARI ┆           │\n",
       "│            ┆         ┆           ┆           ┆   ┆           ┆           ┆ A ADDRESS ┆           │\n",
       "│ …          ┆ …       ┆ …         ┆ …         ┆ … ┆ …         ┆ …         ┆ …         ┆ …         │\n",
       "│ 2025-08-02 ┆ 8811373 ┆ 2735H     ┆ DS8318768 ┆ … ┆ null      ┆ null      ┆ YUCAN -   ┆ ES        │\n",
       "│ 23:00:00   ┆         ┆ LUIS GONÇ ┆ 23PT      ┆   ┆           ┆           ┆ FULFILLME ┆           │\n",
       "│            ┆         ┆           ┆           ┆   ┆           ┆           ┆ NT        ┆           │\n",
       "│            ┆         ┆           ┆           ┆   ┆           ┆           ┆ SERVICE   ┆           │\n",
       "│            ┆         ┆           ┆           ┆   ┆           ┆           ┆ FO…       ┆           │\n",
       "│ 2025-08-02 ┆ 8811373 ┆ 2735K     ┆ DW7569644 ┆ … ┆ 38.790249 ┆ -9.325962 ┆ AMAZON    ┆ ES        │\n",
       "│ 23:00:00   ┆         ┆ LUIS GONÇ ┆ 86PT      ┆   ┆           ┆           ┆ ROAD      ┆           │\n",
       "│            ┆         ┆           ┆           ┆   ┆           ┆           ┆ TRANSPORT ┆           │\n",
       "│            ┆         ┆           ┆           ┆   ┆           ┆           ┆ SPAIN, S… ┆           │\n",
       "│ 2025-08-02 ┆ 8811373 ┆ 2665G     ┆ DW7577027 ┆ … ┆ null      ┆ null      ┆ AMAZON    ┆ ES        │\n",
       "│ 23:00:00   ┆         ┆ NETCOUR   ┆ 08PT      ┆   ┆           ┆           ┆ SPAIN FUL ┆           │\n",
       "│            ┆         ┆           ┆           ┆   ┆           ┆           ┆ FILLMENT, ┆           │\n",
       "│            ┆         ┆           ┆           ┆   ┆           ┆           ┆ S.L.…     ┆           │\n",
       "│ 2025-08-02 ┆ 8811373 ┆ 2665G     ┆ DW7568416 ┆ … ┆ null      ┆ null      ┆ BCN8      ┆ ES        │\n",
       "│ 23:00:00   ┆         ┆ NETCOUR   ┆ 85PT      ┆   ┆           ┆           ┆           ┆           │\n",
       "│ 2025-08-02 ┆ 8811373 ┆ 2735H     ┆ DS8360854 ┆ … ┆ null      ┆ null      ┆ MS2 SOLUC ┆ ES        │\n",
       "│ 23:00:00   ┆         ┆ LUIS GONÇ ┆ 55PT      ┆   ┆           ┆           ┆ IONES     ┆           │\n",
       "│            ┆         ┆           ┆           ┆   ┆           ┆           ┆ DIGITALES ┆           │\n",
       "│            ┆         ┆           ┆           ┆   ┆           ┆           ┆ S.L.      ┆           │\n",
       "└────────────┴─────────┴───────────┴───────────┴───┴───────────┴───────────┴───────────┴───────────┘"
      ]
     },
     "execution_count": 7,
     "metadata": {},
     "output_type": "execute_result"
    }
   ],
   "source": [
    "df.head(50)"
   ]
  },
  {
   "cell_type": "code",
   "execution_count": 8,
   "id": "af17a05a",
   "metadata": {},
   "outputs": [
    {
     "data": {
      "text/html": [
       "<div><style>\n",
       ".dataframe > thead > tr,\n",
       ".dataframe > tbody > tr {\n",
       "  text-align: right;\n",
       "  white-space: pre-wrap;\n",
       "}\n",
       "</style>\n",
       "<small>shape: (444_708, 15)</small><table border=\"1\" class=\"dataframe\"><thead><tr><th>data_criacao</th><th>centro</th><th>giro</th><th>loptica</th><th>janela_horaria</th><th>nome</th><th>morada</th><th>cp</th><th>localidade</th><th>cod_t_even</th><th>data_evento</th><th>latitude</th><th>longitude</th><th>nome_rem</th><th>cod_pais_origem</th></tr><tr><td>datetime[μs]</td><td>str</td><td>str</td><td>str</td><td>str</td><td>str</td><td>str</td><td>str</td><td>str</td><td>str</td><td>str</td><td>f64</td><td>f64</td><td>str</td><td>str</td></tr></thead><tbody><tr><td>2025-08-20 23:00:00</td><td>&quot;8811361&quot;</td><td>&quot;MV260&quot;</td><td>&quot;RL313217931PT&quot;</td><td>&quot;&quot;</td><td>&quot;&quot;</td><td>&quot;&quot;</td><td>&quot;&quot;</td><td>&quot;&quot;</td><td>&quot;I&quot;</td><td>&quot;21/08/2025 17:41:21&quot;</td><td>38.559422</td><td>-7.89567</td><td>&quot;&quot;</td><td>&quot;PT&quot;</td></tr><tr><td>2025-08-20 23:00:00</td><td>&quot;8811361&quot;</td><td>&quot;MV260&quot;</td><td>&quot;RL418074614PT&quot;</td><td>&quot;&quot;</td><td>&quot;&quot;</td><td>&quot;&quot;</td><td>&quot;&quot;</td><td>&quot;&quot;</td><td>&quot;I&quot;</td><td>&quot;21/08/2025 17:38:56&quot;</td><td>38.560492</td><td>-7.89229</td><td>&quot;&quot;</td><td>&quot;PT&quot;</td></tr><tr><td>2025-08-20 23:00:00</td><td>&quot;8811361&quot;</td><td>&quot;MV260&quot;</td><td>&quot;RG640777995PT&quot;</td><td>&quot;&quot;</td><td>&quot;&quot;</td><td>&quot;&quot;</td><td>&quot;&quot;</td><td>&quot;&quot;</td><td>&quot;I&quot;</td><td>&quot;21/08/2025 17:35:09&quot;</td><td>38.557668</td><td>-7.90739</td><td>&quot;&quot;</td><td>&quot;PT&quot;</td></tr><tr><td>2025-08-20 23:00:00</td><td>&quot;8811361&quot;</td><td>&quot;MV260&quot;</td><td>&quot;RF940510151PT&quot;</td><td>&quot;&quot;</td><td>&quot;&quot;</td><td>&quot;&quot;</td><td>&quot;&quot;</td><td>&quot;&quot;</td><td>&quot;I&quot;</td><td>&quot;21/08/2025 17:33:19&quot;</td><td>38.557668</td><td>-7.90739</td><td>&quot;&quot;</td><td>&quot;PT&quot;</td></tr><tr><td>2025-08-20 23:00:00</td><td>&quot;8811361&quot;</td><td>&quot;MV260&quot;</td><td>&quot;RG640777911PT&quot;</td><td>&quot;&quot;</td><td>&quot;&quot;</td><td>&quot;&quot;</td><td>&quot;&quot;</td><td>&quot;&quot;</td><td>&quot;I&quot;</td><td>&quot;21/08/2025 17:32:02&quot;</td><td>38.557668</td><td>-7.90739</td><td>&quot;&quot;</td><td>&quot;PT&quot;</td></tr><tr><td>&hellip;</td><td>&hellip;</td><td>&hellip;</td><td>&hellip;</td><td>&hellip;</td><td>&hellip;</td><td>&hellip;</td><td>&hellip;</td><td>&hellip;</td><td>&hellip;</td><td>&hellip;</td><td>&hellip;</td><td>&hellip;</td><td>&hellip;</td><td>&hellip;</td></tr><tr><td>2025-08-20 23:00:00</td><td>&quot;8819009&quot;</td><td>&quot;LOCAL CTT EXPRE&quot;</td><td>&quot;EC213265347PT&quot;</td><td>&quot;&quot;</td><td>&quot;COOPERATIVA AGRICOLA ST. ISIDR…</td><td>&quot;PEREIRA CALDAS 1, R/C&quot;</td><td>&quot;2985-158&quot;</td><td>&quot;SANTO ISIDRO DE PEGÕES&quot;</td><td>&quot;I&quot;</td><td>&quot;21/08/2025 08:13:11&quot;</td><td>38.684488</td><td>-8.658045</td><td>&quot;CAPSULAS DO NORTE INDUSTRIAS M…</td><td>&quot;PT&quot;</td></tr><tr><td>2025-08-20 23:00:00</td><td>&quot;8819009&quot;</td><td>&quot;LOCAL CTT EXPRE&quot;</td><td>&quot;EC213265333PT&quot;</td><td>&quot;&quot;</td><td>&quot;COOPERATIVA AGRICOLA ST. ISIDR…</td><td>&quot;PEREIRA CALDAS 1, R/C&quot;</td><td>&quot;2985-158&quot;</td><td>&quot;SANTO ISIDRO DE PEGÕES&quot;</td><td>&quot;I&quot;</td><td>&quot;21/08/2025 08:13:11&quot;</td><td>38.684488</td><td>-8.658045</td><td>&quot;CAPSULAS DO NORTE INDUSTRIAS M…</td><td>&quot;PT&quot;</td></tr><tr><td>2025-08-20 23:00:00</td><td>&quot;8819009&quot;</td><td>&quot;LOCAL CTT EXPRE&quot;</td><td>&quot;EC213265404PT&quot;</td><td>&quot;&quot;</td><td>&quot;COOPERATIVA AGRICOLA ST. ISIDR…</td><td>&quot;PEREIRA CALDAS 1, R/C&quot;</td><td>&quot;2985-158&quot;</td><td>&quot;SANTO ISIDRO DE PEGÕES&quot;</td><td>&quot;I&quot;</td><td>&quot;21/08/2025 08:13:11&quot;</td><td>38.684488</td><td>-8.658045</td><td>&quot;CAPSULAS DO NORTE INDUSTRIAS M…</td><td>&quot;PT&quot;</td></tr><tr><td>2025-08-20 23:00:00</td><td>&quot;8819009&quot;</td><td>&quot;LOCAL CTT EXPRE&quot;</td><td>&quot;EC213265395PT&quot;</td><td>&quot;&quot;</td><td>&quot;COOPERATIVA AGRICOLA ST. ISIDR…</td><td>&quot;PEREIRA CALDAS 1, R/C&quot;</td><td>&quot;2985-158&quot;</td><td>&quot;SANTO ISIDRO DE PEGÕES&quot;</td><td>&quot;I&quot;</td><td>&quot;21/08/2025 08:13:11&quot;</td><td>38.684488</td><td>-8.658045</td><td>&quot;CAPSULAS DO NORTE INDUSTRIAS M…</td><td>&quot;PT&quot;</td></tr><tr><td>2025-08-20 23:00:00</td><td>&quot;444707&quot;</td><td>&quot;&quot;</td><td>&quot;&quot;</td><td>&quot;&quot;</td><td>&quot;&quot;</td><td>&quot;&quot;</td><td>&quot;&quot;</td><td>&quot;&quot;</td><td>&quot;&quot;</td><td>&quot;&quot;</td><td>null</td><td>null</td><td>&quot;&quot;</td><td>&quot;&quot;</td></tr></tbody></table></div>"
      ],
      "text/plain": [
       "shape: (444_708, 15)\n",
       "┌────────────┬─────────┬───────────┬───────────┬───┬───────────┬───────────┬───────────┬───────────┐\n",
       "│ data_criac ┆ centro  ┆ giro      ┆ loptica   ┆ … ┆ latitude  ┆ longitude ┆ nome_rem  ┆ cod_pais_ │\n",
       "│ ao         ┆ ---     ┆ ---       ┆ ---       ┆   ┆ ---       ┆ ---       ┆ ---       ┆ origem    │\n",
       "│ ---        ┆ str     ┆ str       ┆ str       ┆   ┆ f64       ┆ f64       ┆ str       ┆ ---       │\n",
       "│ datetime[μ ┆         ┆           ┆           ┆   ┆           ┆           ┆           ┆ str       │\n",
       "│ s]         ┆         ┆           ┆           ┆   ┆           ┆           ┆           ┆           │\n",
       "╞════════════╪═════════╪═══════════╪═══════════╪═══╪═══════════╪═══════════╪═══════════╪═══════════╡\n",
       "│ 2025-08-20 ┆ 8811361 ┆ MV260     ┆ RL3132179 ┆ … ┆ 38.559422 ┆ -7.89567  ┆           ┆ PT        │\n",
       "│ 23:00:00   ┆         ┆           ┆ 31PT      ┆   ┆           ┆           ┆           ┆           │\n",
       "│ 2025-08-20 ┆ 8811361 ┆ MV260     ┆ RL4180746 ┆ … ┆ 38.560492 ┆ -7.89229  ┆           ┆ PT        │\n",
       "│ 23:00:00   ┆         ┆           ┆ 14PT      ┆   ┆           ┆           ┆           ┆           │\n",
       "│ 2025-08-20 ┆ 8811361 ┆ MV260     ┆ RG6407779 ┆ … ┆ 38.557668 ┆ -7.90739  ┆           ┆ PT        │\n",
       "│ 23:00:00   ┆         ┆           ┆ 95PT      ┆   ┆           ┆           ┆           ┆           │\n",
       "│ 2025-08-20 ┆ 8811361 ┆ MV260     ┆ RF9405101 ┆ … ┆ 38.557668 ┆ -7.90739  ┆           ┆ PT        │\n",
       "│ 23:00:00   ┆         ┆           ┆ 51PT      ┆   ┆           ┆           ┆           ┆           │\n",
       "│ 2025-08-20 ┆ 8811361 ┆ MV260     ┆ RG6407779 ┆ … ┆ 38.557668 ┆ -7.90739  ┆           ┆ PT        │\n",
       "│ 23:00:00   ┆         ┆           ┆ 11PT      ┆   ┆           ┆           ┆           ┆           │\n",
       "│ …          ┆ …       ┆ …         ┆ …         ┆ … ┆ …         ┆ …         ┆ …         ┆ …         │\n",
       "│ 2025-08-20 ┆ 8819009 ┆ LOCAL CTT ┆ EC2132653 ┆ … ┆ 38.684488 ┆ -8.658045 ┆ CAPSULAS  ┆ PT        │\n",
       "│ 23:00:00   ┆         ┆ EXPRE     ┆ 47PT      ┆   ┆           ┆           ┆ DO NORTE  ┆           │\n",
       "│            ┆         ┆           ┆           ┆   ┆           ┆           ┆ INDUSTRIA ┆           │\n",
       "│            ┆         ┆           ┆           ┆   ┆           ┆           ┆ S M…      ┆           │\n",
       "│ 2025-08-20 ┆ 8819009 ┆ LOCAL CTT ┆ EC2132653 ┆ … ┆ 38.684488 ┆ -8.658045 ┆ CAPSULAS  ┆ PT        │\n",
       "│ 23:00:00   ┆         ┆ EXPRE     ┆ 33PT      ┆   ┆           ┆           ┆ DO NORTE  ┆           │\n",
       "│            ┆         ┆           ┆           ┆   ┆           ┆           ┆ INDUSTRIA ┆           │\n",
       "│            ┆         ┆           ┆           ┆   ┆           ┆           ┆ S M…      ┆           │\n",
       "│ 2025-08-20 ┆ 8819009 ┆ LOCAL CTT ┆ EC2132654 ┆ … ┆ 38.684488 ┆ -8.658045 ┆ CAPSULAS  ┆ PT        │\n",
       "│ 23:00:00   ┆         ┆ EXPRE     ┆ 04PT      ┆   ┆           ┆           ┆ DO NORTE  ┆           │\n",
       "│            ┆         ┆           ┆           ┆   ┆           ┆           ┆ INDUSTRIA ┆           │\n",
       "│            ┆         ┆           ┆           ┆   ┆           ┆           ┆ S M…      ┆           │\n",
       "│ 2025-08-20 ┆ 8819009 ┆ LOCAL CTT ┆ EC2132653 ┆ … ┆ 38.684488 ┆ -8.658045 ┆ CAPSULAS  ┆ PT        │\n",
       "│ 23:00:00   ┆         ┆ EXPRE     ┆ 95PT      ┆   ┆           ┆           ┆ DO NORTE  ┆           │\n",
       "│            ┆         ┆           ┆           ┆   ┆           ┆           ┆ INDUSTRIA ┆           │\n",
       "│            ┆         ┆           ┆           ┆   ┆           ┆           ┆ S M…      ┆           │\n",
       "│ 2025-08-20 ┆ 444707  ┆           ┆           ┆ … ┆ null      ┆ null      ┆           ┆           │\n",
       "│ 23:00:00   ┆         ┆           ┆           ┆   ┆           ┆           ┆           ┆           │\n",
       "└────────────┴─────────┴───────────┴───────────┴───┴───────────┴───────────┴───────────┴───────────┘"
      ]
     },
     "execution_count": 8,
     "metadata": {},
     "output_type": "execute_result"
    }
   ],
   "source": [
    "import polars as pl\n",
    "\n",
    "# filtrar exatamente o dia 2025-08-25 (ignora horas)\n",
    "filtro = df.filter(\n",
    "    pl.col(\"data_criacao\").dt.date() == pl.date(2025, 8, 20)\n",
    ")\n",
    "\n",
    "\n",
    "filtro\n"
   ]
  },
  {
   "cell_type": "code",
   "execution_count": 9,
   "id": "cd9e6127",
   "metadata": {},
   "outputs": [
    {
     "name": "stdout",
     "output_type": "stream",
     "text": [
      "Parquet gravado em: C:\\Users\\1420844\\Downloads\\dados.parquet\n"
     ]
    }
   ],
   "source": [
    "import os\n",
    "\n",
    "# caminho para Downloads\n",
    "downloads_path = os.path.join(os.path.expanduser(\"~\"), \"Downloads\", \"dados.parquet\")\n",
    "\n",
    "# grava o df final em Parquet\n",
    "df.write_parquet(downloads_path, compression=\"zstd\")\n",
    "\n",
    "print(f\"Parquet gravado em: {downloads_path}\")\n"
   ]
  }
 ],
 "metadata": {
  "kernelspec": {
   "display_name": "Python 3",
   "language": "python",
   "name": "python3"
  },
  "language_info": {
   "codemirror_mode": {
    "name": "ipython",
    "version": 3
   },
   "file_extension": ".py",
   "mimetype": "text/x-python",
   "name": "python",
   "nbconvert_exporter": "python",
   "pygments_lexer": "ipython3",
   "version": "3.13.7"
  }
 },
 "nbformat": 4,
 "nbformat_minor": 5
}
