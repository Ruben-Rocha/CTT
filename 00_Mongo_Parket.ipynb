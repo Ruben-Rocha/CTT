{
 "cells": [
  {
   "cell_type": "code",
   "execution_count": 1,
   "id": "adccc462",
   "metadata": {},
   "outputs": [],
   "source": [
    "from pymongo import MongoClient\n",
    "import polars as pl"
   ]
  },
  {
   "cell_type": "code",
   "execution_count": 2,
   "id": "57dbfcf4",
   "metadata": {},
   "outputs": [],
   "source": [
    "# Conectar ao MongoDB\n",
    "client = MongoClient(\"mongodb://localhost:27017\")  # Conectar ao MongoDB local\n",
    "db = client[\"ctt2025\"]  # Nome da base de dados no MongoDB\n",
    "collection = db[\"expresso_2025\"]  # Nome da coleção (tabela)"
   ]
  },
  {
   "cell_type": "code",
   "execution_count": 14,
   "id": "00a6f3fd",
   "metadata": {},
   "outputs": [
    {
     "name": "stdout",
     "output_type": "stream",
     "text": [
      "Documentos no último mês: 7923246\n"
     ]
    }
   ],
   "source": [
    "from datetime import datetime, timedelta, timezone\n",
    "import polars as pl\n",
    "\n",
    "# --- intervalo últimos 30 dias ---\n",
    "end = datetime.now(timezone.utc)\n",
    "start = end - timedelta(days=30)\n",
    "\n",
    "DATE_FIELD = \"data_criacao\"\n",
    "\n",
    "proj = {\n",
    "    \"centro\": 1, \"data_criacao\": 1, \"giro\": 1, \"loptica\": 1,\n",
    "    \"janela_horaria\": 1, \"nome\": 1, \"morada\": 1, \"cp\": 1,\n",
    "    \"localidade\": 1, \"cod_t_even\": 1, \"data_evento\": 1,\n",
    "    \"latitude\": 1, \"longitude\": 1, \"nome_rem\": 1, \"cod_pais_origem\": 1,\n",
    "    \"_id\": 0  # ignora o _id, se não precisares\n",
    "}\n",
    "\n",
    "query = {DATE_FIELD: {\"$gte\": start, \"$lt\": end}}\n",
    "\n",
    "n = collection.count_documents(query)\n",
    "print(f\"Documentos no último mês: {n}\")\n",
    "\n",
    "cursor = collection.find(query, projection=proj, batch_size=10_000)\n",
    "\n",
    "batches, batch = [], []\n",
    "BATCH_SIZE = 50_000\n",
    "\n",
    "for i, item in enumerate(cursor, 1):\n",
    "    batch.append({\n",
    "        \"data_criacao\": str(item.get(\"data_criacao\") or item.get(\"DATA_CRIACAO\") or \"\"),\n",
    "        \"centro\": str(item.get(\"centro\") or item.get(\"CENTRO\") or \"\"),\n",
    "        \"giro\": str(item.get(\"giro\") or item.get(\"GIRO\") or \"\"),\n",
    "        \"loptica\": str(item.get(\"loptica\") or item.get(\"LOPTICA\") or \"\"),\n",
    "        \"janela_horaria\": str(item.get(\"janela_horaria\") or item.get(\"JANELA_HORARIA\") or \"\"),\n",
    "        \"nome\": str(item.get(\"nome\") or item.get(\"NOME\") or \"\"),\n",
    "        \"morada\": str(item.get(\"morada\") or item.get(\"MORADA\") or \"\"),\n",
    "        \"cp\": str(item.get(\"cp\") or item.get(\"CP\") or \"\"),\n",
    "        \"localidade\": str(item.get(\"localidade\") or item.get(\"LOCALIDADE\") or \"\"),\n",
    "        \"cod_t_even\": str(item.get(\"cod_t_even\") or item.get(\"COD_T_EVEN\") or \"\"),\n",
    "        \"data_evento\": str(item.get(\"data_evento\") or item.get(\"DATA_EVENTO\") or \"\"),\n",
    "        \"latitude\": str(item.get(\"latitude\") or item.get(\"LATITUDE\") or \"\"),\n",
    "        \"longitude\": str(item.get(\"longitude\") or item.get(\"LONGITUDE\") or \"\"),\n",
    "        \"nome_rem\": str(item.get(\"nome_rem\") or item.get(\"NOME_REM\") or \"\"),\n",
    "        \"cod_pais_origem\": str(item.get(\"cod_pais_origem\") or item.get(\"COD_PAIS_ORIGEM\") or \"\"),\n",
    "    })\n",
    "\n",
    "    if i % BATCH_SIZE == 0:\n",
    "        dfb = pl.DataFrame(batch)   # agora é seguro, tudo string\n",
    "        batches.append(dfb)\n",
    "        batch.clear()\n",
    "\n",
    "if batch:\n",
    "    dfb = pl.DataFrame(batch)\n",
    "    batches.append(dfb)\n",
    "\n",
    "df = pl.concat(batches, how=\"vertical_relaxed\") if batches else pl.DataFrame()\n",
    "\n",
    "# ✅ converter colunas de interesse depois\n",
    "if df.height:\n",
    "    df = df.with_columns([\n",
    "        pl.col(\"data_criacao\").str.strptime(pl.Datetime, strict=False),\n",
    "        pl.col(\"latitude\").cast(pl.Float64, strict=False),\n",
    "        pl.col(\"longitude\").cast(pl.Float64, strict=False),\n",
    "    ])\n",
    "\n",
    "\n",
    "\n"
   ]
  },
  {
   "cell_type": "code",
   "execution_count": 15,
   "id": "13d830a0",
   "metadata": {},
   "outputs": [
    {
     "data": {
      "text/html": [
       "<div><style>\n",
       ".dataframe > thead > tr,\n",
       ".dataframe > tbody > tr {\n",
       "  text-align: right;\n",
       "  white-space: pre-wrap;\n",
       "}\n",
       "</style>\n",
       "<small>shape: (50, 15)</small><table border=\"1\" class=\"dataframe\"><thead><tr><th>data_criacao</th><th>centro</th><th>giro</th><th>loptica</th><th>janela_horaria</th><th>nome</th><th>morada</th><th>cp</th><th>localidade</th><th>cod_t_even</th><th>data_evento</th><th>latitude</th><th>longitude</th><th>nome_rem</th><th>cod_pais_origem</th></tr><tr><td>datetime[μs]</td><td>str</td><td>str</td><td>str</td><td>str</td><td>str</td><td>str</td><td>str</td><td>str</td><td>str</td><td>str</td><td>f64</td><td>f64</td><td>str</td><td>str</td></tr></thead><tbody><tr><td>2025-07-27 23:00:00</td><td>&quot;0&quot;</td><td>&quot;nan&quot;</td><td>&quot;nan&quot;</td><td>&quot;nan&quot;</td><td>&quot;nan&quot;</td><td>&quot;nan&quot;</td><td>&quot;nan&quot;</td><td>&quot;nan&quot;</td><td>&quot;nan&quot;</td><td>&quot;nan&quot;</td><td>NaN</td><td>NaN</td><td>&quot;nan&quot;</td><td>&quot;nan&quot;</td></tr><tr><td>2025-07-28 23:00:00</td><td>&quot;0&quot;</td><td>&quot;nan&quot;</td><td>&quot;nan&quot;</td><td>&quot;nan&quot;</td><td>&quot;nan&quot;</td><td>&quot;nan&quot;</td><td>&quot;nan&quot;</td><td>&quot;nan&quot;</td><td>&quot;nan&quot;</td><td>&quot;nan&quot;</td><td>NaN</td><td>NaN</td><td>&quot;nan&quot;</td><td>&quot;nan&quot;</td></tr><tr><td>2025-07-29 23:00:00</td><td>&quot;0&quot;</td><td>&quot;nan&quot;</td><td>&quot;nan&quot;</td><td>&quot;nan&quot;</td><td>&quot;nan&quot;</td><td>&quot;nan&quot;</td><td>&quot;nan&quot;</td><td>&quot;nan&quot;</td><td>&quot;nan&quot;</td><td>&quot;nan&quot;</td><td>NaN</td><td>NaN</td><td>&quot;nan&quot;</td><td>&quot;nan&quot;</td></tr><tr><td>2025-07-30 23:00:00</td><td>&quot;8811361&quot;</td><td>&quot;MV260&quot;</td><td>&quot;DB198700339PT&quot;</td><td>&quot;09-19&quot;</td><td>&quot;NEVES DIAS&quot;</td><td>&quot;RUA MARIA AUXILIADORA 42 A BAI…</td><td>&quot;7005-552&quot;</td><td>&quot;ÉVORA&quot;</td><td>&quot;I&quot;</td><td>&quot;31/07/2025 17:19:35&quot;</td><td>38.558364</td><td>-7.895086</td><td>&quot;JULIE - DAT NOW, UNIPESSOAL LD…</td><td>&quot;PT&quot;</td></tr><tr><td>2025-07-30 23:00:00</td><td>&quot;8811361&quot;</td><td>&quot;MV240&quot;</td><td>&quot;RL371999478PT&quot;</td><td>&quot;&quot;</td><td>&quot;&quot;</td><td>&quot;&quot;</td><td>&quot;7040-039&quot;</td><td>&quot;ARRAIOLOS&quot;</td><td>&quot;H&quot;</td><td>&quot;31/07/2025 17:16:41&quot;</td><td>null</td><td>null</td><td>&quot;&quot;</td><td>&quot;PT&quot;</td></tr><tr><td>&hellip;</td><td>&hellip;</td><td>&hellip;</td><td>&hellip;</td><td>&hellip;</td><td>&hellip;</td><td>&hellip;</td><td>&hellip;</td><td>&hellip;</td><td>&hellip;</td><td>&hellip;</td><td>&hellip;</td><td>&hellip;</td><td>&hellip;</td><td>&hellip;</td></tr><tr><td>2025-07-30 23:00:00</td><td>&quot;8811361&quot;</td><td>&quot;MV270&quot;</td><td>&quot;DY275023717PT&quot;</td><td>&quot;09-19&quot;</td><td>&quot;CARVALHO JOAO&quot;</td><td>&quot;RUA DR JOSE ANTONIO DE ALMEIDA…</td><td>&quot;7090-269&quot;</td><td>&quot;VIANA DO ALENTEJO&quot;</td><td>&quot;I&quot;</td><td>&quot;31/07/2025 16:17:36&quot;</td><td>38.333027</td><td>-8.00176</td><td>&quot;CAINIAO&quot;</td><td>&quot;PT&quot;</td></tr><tr><td>2025-07-30 23:00:00</td><td>&quot;8811361&quot;</td><td>&quot;MV270&quot;</td><td>&quot;DS834821877PT&quot;</td><td>&quot;09-19&quot;</td><td>&quot;ISABEL LUZ&quot;</td><td>&quot;RUA DO MAUFORO NUMERO 23&quot;</td><td>&quot;7090-299&quot;</td><td>&quot;VIANA DO ALENTEJO&quot;</td><td>&quot;H&quot;</td><td>&quot;31/07/2025 16:17:02&quot;</td><td>38.333133</td><td>-8.001675</td><td>&quot;LTEVE GROUP YPCOMPLAINTS@OUTLO…</td><td>&quot;ES&quot;</td></tr><tr><td>2025-07-30 23:00:00</td><td>&quot;8811361&quot;</td><td>&quot;MV270&quot;</td><td>&quot;RW605741460PT&quot;</td><td>&quot;&quot;</td><td>&quot;&quot;</td><td>&quot;&quot;</td><td>&quot;&quot;</td><td>&quot;&quot;</td><td>&quot;I&quot;</td><td>&quot;31/07/2025 16:16:17&quot;</td><td>38.333641</td><td>-8.00193</td><td>&quot;&quot;</td><td>&quot;PT&quot;</td></tr><tr><td>2025-07-30 23:00:00</td><td>&quot;8811361&quot;</td><td>&quot;MV110&quot;</td><td>&quot;RU663789895PT&quot;</td><td>&quot;&quot;</td><td>&quot;JOSE FELICIANO FIALHO MACHADO&quot;</td><td>&quot;AV SAO SEBASTIAO 17 SENHORA DA…</td><td>&quot;7000-767&quot;</td><td>&quot;ÉVORA&quot;</td><td>&quot;I&quot;</td><td>&quot;31/07/2025 16:16:13&quot;</td><td>null</td><td>null</td><td>&quot;DIRECAO REGIONAL DE MOBILIDADE…</td><td>&quot;PT&quot;</td></tr><tr><td>2025-07-30 23:00:00</td><td>&quot;8811361&quot;</td><td>&quot;MV240&quot;</td><td>&quot;DS830037788PT&quot;</td><td>&quot;09-19&quot;</td><td>&quot;DANIELA MIGUEL&quot;</td><td>&quot;RUA COMBATENTES DA GUERRA COLO…</td><td>&quot;7040-277&quot;</td><td>&quot;IGREJINHA&quot;</td><td>&quot;I&quot;</td><td>&quot;31/07/2025 16:16:13&quot;</td><td>null</td><td>null</td><td>&quot;YUCAN - FULFILLMENT SERVICE FO…</td><td>&quot;ES&quot;</td></tr></tbody></table></div>"
      ],
      "text/plain": [
       "shape: (50, 15)\n",
       "┌─────────────┬─────────┬───────┬────────────┬───┬───────────┬───────────┬────────────┬────────────┐\n",
       "│ data_criaca ┆ centro  ┆ giro  ┆ loptica    ┆ … ┆ latitude  ┆ longitude ┆ nome_rem   ┆ cod_pais_o │\n",
       "│ o           ┆ ---     ┆ ---   ┆ ---        ┆   ┆ ---       ┆ ---       ┆ ---        ┆ rigem      │\n",
       "│ ---         ┆ str     ┆ str   ┆ str        ┆   ┆ f64       ┆ f64       ┆ str        ┆ ---        │\n",
       "│ datetime[μs ┆         ┆       ┆            ┆   ┆           ┆           ┆            ┆ str        │\n",
       "│ ]           ┆         ┆       ┆            ┆   ┆           ┆           ┆            ┆            │\n",
       "╞═════════════╪═════════╪═══════╪════════════╪═══╪═══════════╪═══════════╪════════════╪════════════╡\n",
       "│ 2025-07-27  ┆ 0       ┆ nan   ┆ nan        ┆ … ┆ NaN       ┆ NaN       ┆ nan        ┆ nan        │\n",
       "│ 23:00:00    ┆         ┆       ┆            ┆   ┆           ┆           ┆            ┆            │\n",
       "│ 2025-07-28  ┆ 0       ┆ nan   ┆ nan        ┆ … ┆ NaN       ┆ NaN       ┆ nan        ┆ nan        │\n",
       "│ 23:00:00    ┆         ┆       ┆            ┆   ┆           ┆           ┆            ┆            │\n",
       "│ 2025-07-29  ┆ 0       ┆ nan   ┆ nan        ┆ … ┆ NaN       ┆ NaN       ┆ nan        ┆ nan        │\n",
       "│ 23:00:00    ┆         ┆       ┆            ┆   ┆           ┆           ┆            ┆            │\n",
       "│ 2025-07-30  ┆ 8811361 ┆ MV260 ┆ DB19870033 ┆ … ┆ 38.558364 ┆ -7.895086 ┆ JULIE -    ┆ PT         │\n",
       "│ 23:00:00    ┆         ┆       ┆ 9PT        ┆   ┆           ┆           ┆ DAT NOW,   ┆            │\n",
       "│             ┆         ┆       ┆            ┆   ┆           ┆           ┆ UNIPESSOAL ┆            │\n",
       "│             ┆         ┆       ┆            ┆   ┆           ┆           ┆ LD…        ┆            │\n",
       "│ 2025-07-30  ┆ 8811361 ┆ MV240 ┆ RL37199947 ┆ … ┆ null      ┆ null      ┆            ┆ PT         │\n",
       "│ 23:00:00    ┆         ┆       ┆ 8PT        ┆   ┆           ┆           ┆            ┆            │\n",
       "│ …           ┆ …       ┆ …     ┆ …          ┆ … ┆ …         ┆ …         ┆ …          ┆ …          │\n",
       "│ 2025-07-30  ┆ 8811361 ┆ MV270 ┆ DY27502371 ┆ … ┆ 38.333027 ┆ -8.00176  ┆ CAINIAO    ┆ PT         │\n",
       "│ 23:00:00    ┆         ┆       ┆ 7PT        ┆   ┆           ┆           ┆            ┆            │\n",
       "│ 2025-07-30  ┆ 8811361 ┆ MV270 ┆ DS83482187 ┆ … ┆ 38.333133 ┆ -8.001675 ┆ LTEVE      ┆ ES         │\n",
       "│ 23:00:00    ┆         ┆       ┆ 7PT        ┆   ┆           ┆           ┆ GROUP YPCO ┆            │\n",
       "│             ┆         ┆       ┆            ┆   ┆           ┆           ┆ MPLAINTS@O ┆            │\n",
       "│             ┆         ┆       ┆            ┆   ┆           ┆           ┆ UTLO…      ┆            │\n",
       "│ 2025-07-30  ┆ 8811361 ┆ MV270 ┆ RW60574146 ┆ … ┆ 38.333641 ┆ -8.00193  ┆            ┆ PT         │\n",
       "│ 23:00:00    ┆         ┆       ┆ 0PT        ┆   ┆           ┆           ┆            ┆            │\n",
       "│ 2025-07-30  ┆ 8811361 ┆ MV110 ┆ RU66378989 ┆ … ┆ null      ┆ null      ┆ DIRECAO    ┆ PT         │\n",
       "│ 23:00:00    ┆         ┆       ┆ 5PT        ┆   ┆           ┆           ┆ REGIONAL   ┆            │\n",
       "│             ┆         ┆       ┆            ┆   ┆           ┆           ┆ DE MOBILID ┆            │\n",
       "│             ┆         ┆       ┆            ┆   ┆           ┆           ┆ ADE…       ┆            │\n",
       "│ 2025-07-30  ┆ 8811361 ┆ MV240 ┆ DS83003778 ┆ … ┆ null      ┆ null      ┆ YUCAN -    ┆ ES         │\n",
       "│ 23:00:00    ┆         ┆       ┆ 8PT        ┆   ┆           ┆           ┆ FULFILLMEN ┆            │\n",
       "│             ┆         ┆       ┆            ┆   ┆           ┆           ┆ T SERVICE  ┆            │\n",
       "│             ┆         ┆       ┆            ┆   ┆           ┆           ┆ FO…        ┆            │\n",
       "└─────────────┴─────────┴───────┴────────────┴───┴───────────┴───────────┴────────────┴────────────┘"
      ]
     },
     "execution_count": 15,
     "metadata": {},
     "output_type": "execute_result"
    }
   ],
   "source": [
    "df.head(50)"
   ]
  },
  {
   "cell_type": "code",
   "execution_count": 16,
   "id": "af17a05a",
   "metadata": {},
   "outputs": [
    {
     "data": {
      "text/html": [
       "<div><style>\n",
       ".dataframe > thead > tr,\n",
       ".dataframe > tbody > tr {\n",
       "  text-align: right;\n",
       "  white-space: pre-wrap;\n",
       "}\n",
       "</style>\n",
       "<small>shape: (444_708, 15)</small><table border=\"1\" class=\"dataframe\"><thead><tr><th>data_criacao</th><th>centro</th><th>giro</th><th>loptica</th><th>janela_horaria</th><th>nome</th><th>morada</th><th>cp</th><th>localidade</th><th>cod_t_even</th><th>data_evento</th><th>latitude</th><th>longitude</th><th>nome_rem</th><th>cod_pais_origem</th></tr><tr><td>datetime[μs]</td><td>str</td><td>str</td><td>str</td><td>str</td><td>str</td><td>str</td><td>str</td><td>str</td><td>str</td><td>str</td><td>f64</td><td>f64</td><td>str</td><td>str</td></tr></thead><tbody><tr><td>2025-08-20 23:00:00</td><td>&quot;8811361&quot;</td><td>&quot;MV260&quot;</td><td>&quot;RL313217931PT&quot;</td><td>&quot;&quot;</td><td>&quot;&quot;</td><td>&quot;&quot;</td><td>&quot;&quot;</td><td>&quot;&quot;</td><td>&quot;I&quot;</td><td>&quot;21/08/2025 17:41:21&quot;</td><td>38.559422</td><td>-7.89567</td><td>&quot;&quot;</td><td>&quot;PT&quot;</td></tr><tr><td>2025-08-20 23:00:00</td><td>&quot;8811361&quot;</td><td>&quot;MV260&quot;</td><td>&quot;RL418074614PT&quot;</td><td>&quot;&quot;</td><td>&quot;&quot;</td><td>&quot;&quot;</td><td>&quot;&quot;</td><td>&quot;&quot;</td><td>&quot;I&quot;</td><td>&quot;21/08/2025 17:38:56&quot;</td><td>38.560492</td><td>-7.89229</td><td>&quot;&quot;</td><td>&quot;PT&quot;</td></tr><tr><td>2025-08-20 23:00:00</td><td>&quot;8811361&quot;</td><td>&quot;MV260&quot;</td><td>&quot;RG640777995PT&quot;</td><td>&quot;&quot;</td><td>&quot;&quot;</td><td>&quot;&quot;</td><td>&quot;&quot;</td><td>&quot;&quot;</td><td>&quot;I&quot;</td><td>&quot;21/08/2025 17:35:09&quot;</td><td>38.557668</td><td>-7.90739</td><td>&quot;&quot;</td><td>&quot;PT&quot;</td></tr><tr><td>2025-08-20 23:00:00</td><td>&quot;8811361&quot;</td><td>&quot;MV260&quot;</td><td>&quot;RF940510151PT&quot;</td><td>&quot;&quot;</td><td>&quot;&quot;</td><td>&quot;&quot;</td><td>&quot;&quot;</td><td>&quot;&quot;</td><td>&quot;I&quot;</td><td>&quot;21/08/2025 17:33:19&quot;</td><td>38.557668</td><td>-7.90739</td><td>&quot;&quot;</td><td>&quot;PT&quot;</td></tr><tr><td>2025-08-20 23:00:00</td><td>&quot;8811361&quot;</td><td>&quot;MV260&quot;</td><td>&quot;RG640777911PT&quot;</td><td>&quot;&quot;</td><td>&quot;&quot;</td><td>&quot;&quot;</td><td>&quot;&quot;</td><td>&quot;&quot;</td><td>&quot;I&quot;</td><td>&quot;21/08/2025 17:32:02&quot;</td><td>38.557668</td><td>-7.90739</td><td>&quot;&quot;</td><td>&quot;PT&quot;</td></tr><tr><td>&hellip;</td><td>&hellip;</td><td>&hellip;</td><td>&hellip;</td><td>&hellip;</td><td>&hellip;</td><td>&hellip;</td><td>&hellip;</td><td>&hellip;</td><td>&hellip;</td><td>&hellip;</td><td>&hellip;</td><td>&hellip;</td><td>&hellip;</td><td>&hellip;</td></tr><tr><td>2025-08-20 23:00:00</td><td>&quot;8819009&quot;</td><td>&quot;LOCAL CTT EXPRE&quot;</td><td>&quot;EC213265347PT&quot;</td><td>&quot;&quot;</td><td>&quot;COOPERATIVA AGRICOLA ST. ISIDR…</td><td>&quot;PEREIRA CALDAS 1, R/C&quot;</td><td>&quot;2985-158&quot;</td><td>&quot;SANTO ISIDRO DE PEGÕES&quot;</td><td>&quot;I&quot;</td><td>&quot;21/08/2025 08:13:11&quot;</td><td>38.684488</td><td>-8.658045</td><td>&quot;CAPSULAS DO NORTE INDUSTRIAS M…</td><td>&quot;PT&quot;</td></tr><tr><td>2025-08-20 23:00:00</td><td>&quot;8819009&quot;</td><td>&quot;LOCAL CTT EXPRE&quot;</td><td>&quot;EC213265333PT&quot;</td><td>&quot;&quot;</td><td>&quot;COOPERATIVA AGRICOLA ST. ISIDR…</td><td>&quot;PEREIRA CALDAS 1, R/C&quot;</td><td>&quot;2985-158&quot;</td><td>&quot;SANTO ISIDRO DE PEGÕES&quot;</td><td>&quot;I&quot;</td><td>&quot;21/08/2025 08:13:11&quot;</td><td>38.684488</td><td>-8.658045</td><td>&quot;CAPSULAS DO NORTE INDUSTRIAS M…</td><td>&quot;PT&quot;</td></tr><tr><td>2025-08-20 23:00:00</td><td>&quot;8819009&quot;</td><td>&quot;LOCAL CTT EXPRE&quot;</td><td>&quot;EC213265404PT&quot;</td><td>&quot;&quot;</td><td>&quot;COOPERATIVA AGRICOLA ST. ISIDR…</td><td>&quot;PEREIRA CALDAS 1, R/C&quot;</td><td>&quot;2985-158&quot;</td><td>&quot;SANTO ISIDRO DE PEGÕES&quot;</td><td>&quot;I&quot;</td><td>&quot;21/08/2025 08:13:11&quot;</td><td>38.684488</td><td>-8.658045</td><td>&quot;CAPSULAS DO NORTE INDUSTRIAS M…</td><td>&quot;PT&quot;</td></tr><tr><td>2025-08-20 23:00:00</td><td>&quot;8819009&quot;</td><td>&quot;LOCAL CTT EXPRE&quot;</td><td>&quot;EC213265395PT&quot;</td><td>&quot;&quot;</td><td>&quot;COOPERATIVA AGRICOLA ST. ISIDR…</td><td>&quot;PEREIRA CALDAS 1, R/C&quot;</td><td>&quot;2985-158&quot;</td><td>&quot;SANTO ISIDRO DE PEGÕES&quot;</td><td>&quot;I&quot;</td><td>&quot;21/08/2025 08:13:11&quot;</td><td>38.684488</td><td>-8.658045</td><td>&quot;CAPSULAS DO NORTE INDUSTRIAS M…</td><td>&quot;PT&quot;</td></tr><tr><td>2025-08-20 23:00:00</td><td>&quot;444707&quot;</td><td>&quot;&quot;</td><td>&quot;&quot;</td><td>&quot;&quot;</td><td>&quot;&quot;</td><td>&quot;&quot;</td><td>&quot;&quot;</td><td>&quot;&quot;</td><td>&quot;&quot;</td><td>&quot;&quot;</td><td>null</td><td>null</td><td>&quot;&quot;</td><td>&quot;&quot;</td></tr></tbody></table></div>"
      ],
      "text/plain": [
       "shape: (444_708, 15)\n",
       "┌────────────┬─────────┬───────────┬───────────┬───┬───────────┬───────────┬───────────┬───────────┐\n",
       "│ data_criac ┆ centro  ┆ giro      ┆ loptica   ┆ … ┆ latitude  ┆ longitude ┆ nome_rem  ┆ cod_pais_ │\n",
       "│ ao         ┆ ---     ┆ ---       ┆ ---       ┆   ┆ ---       ┆ ---       ┆ ---       ┆ origem    │\n",
       "│ ---        ┆ str     ┆ str       ┆ str       ┆   ┆ f64       ┆ f64       ┆ str       ┆ ---       │\n",
       "│ datetime[μ ┆         ┆           ┆           ┆   ┆           ┆           ┆           ┆ str       │\n",
       "│ s]         ┆         ┆           ┆           ┆   ┆           ┆           ┆           ┆           │\n",
       "╞════════════╪═════════╪═══════════╪═══════════╪═══╪═══════════╪═══════════╪═══════════╪═══════════╡\n",
       "│ 2025-08-20 ┆ 8811361 ┆ MV260     ┆ RL3132179 ┆ … ┆ 38.559422 ┆ -7.89567  ┆           ┆ PT        │\n",
       "│ 23:00:00   ┆         ┆           ┆ 31PT      ┆   ┆           ┆           ┆           ┆           │\n",
       "│ 2025-08-20 ┆ 8811361 ┆ MV260     ┆ RL4180746 ┆ … ┆ 38.560492 ┆ -7.89229  ┆           ┆ PT        │\n",
       "│ 23:00:00   ┆         ┆           ┆ 14PT      ┆   ┆           ┆           ┆           ┆           │\n",
       "│ 2025-08-20 ┆ 8811361 ┆ MV260     ┆ RG6407779 ┆ … ┆ 38.557668 ┆ -7.90739  ┆           ┆ PT        │\n",
       "│ 23:00:00   ┆         ┆           ┆ 95PT      ┆   ┆           ┆           ┆           ┆           │\n",
       "│ 2025-08-20 ┆ 8811361 ┆ MV260     ┆ RF9405101 ┆ … ┆ 38.557668 ┆ -7.90739  ┆           ┆ PT        │\n",
       "│ 23:00:00   ┆         ┆           ┆ 51PT      ┆   ┆           ┆           ┆           ┆           │\n",
       "│ 2025-08-20 ┆ 8811361 ┆ MV260     ┆ RG6407779 ┆ … ┆ 38.557668 ┆ -7.90739  ┆           ┆ PT        │\n",
       "│ 23:00:00   ┆         ┆           ┆ 11PT      ┆   ┆           ┆           ┆           ┆           │\n",
       "│ …          ┆ …       ┆ …         ┆ …         ┆ … ┆ …         ┆ …         ┆ …         ┆ …         │\n",
       "│ 2025-08-20 ┆ 8819009 ┆ LOCAL CTT ┆ EC2132653 ┆ … ┆ 38.684488 ┆ -8.658045 ┆ CAPSULAS  ┆ PT        │\n",
       "│ 23:00:00   ┆         ┆ EXPRE     ┆ 47PT      ┆   ┆           ┆           ┆ DO NORTE  ┆           │\n",
       "│            ┆         ┆           ┆           ┆   ┆           ┆           ┆ INDUSTRIA ┆           │\n",
       "│            ┆         ┆           ┆           ┆   ┆           ┆           ┆ S M…      ┆           │\n",
       "│ 2025-08-20 ┆ 8819009 ┆ LOCAL CTT ┆ EC2132653 ┆ … ┆ 38.684488 ┆ -8.658045 ┆ CAPSULAS  ┆ PT        │\n",
       "│ 23:00:00   ┆         ┆ EXPRE     ┆ 33PT      ┆   ┆           ┆           ┆ DO NORTE  ┆           │\n",
       "│            ┆         ┆           ┆           ┆   ┆           ┆           ┆ INDUSTRIA ┆           │\n",
       "│            ┆         ┆           ┆           ┆   ┆           ┆           ┆ S M…      ┆           │\n",
       "│ 2025-08-20 ┆ 8819009 ┆ LOCAL CTT ┆ EC2132654 ┆ … ┆ 38.684488 ┆ -8.658045 ┆ CAPSULAS  ┆ PT        │\n",
       "│ 23:00:00   ┆         ┆ EXPRE     ┆ 04PT      ┆   ┆           ┆           ┆ DO NORTE  ┆           │\n",
       "│            ┆         ┆           ┆           ┆   ┆           ┆           ┆ INDUSTRIA ┆           │\n",
       "│            ┆         ┆           ┆           ┆   ┆           ┆           ┆ S M…      ┆           │\n",
       "│ 2025-08-20 ┆ 8819009 ┆ LOCAL CTT ┆ EC2132653 ┆ … ┆ 38.684488 ┆ -8.658045 ┆ CAPSULAS  ┆ PT        │\n",
       "│ 23:00:00   ┆         ┆ EXPRE     ┆ 95PT      ┆   ┆           ┆           ┆ DO NORTE  ┆           │\n",
       "│            ┆         ┆           ┆           ┆   ┆           ┆           ┆ INDUSTRIA ┆           │\n",
       "│            ┆         ┆           ┆           ┆   ┆           ┆           ┆ S M…      ┆           │\n",
       "│ 2025-08-20 ┆ 444707  ┆           ┆           ┆ … ┆ null      ┆ null      ┆           ┆           │\n",
       "│ 23:00:00   ┆         ┆           ┆           ┆   ┆           ┆           ┆           ┆           │\n",
       "└────────────┴─────────┴───────────┴───────────┴───┴───────────┴───────────┴───────────┴───────────┘"
      ]
     },
     "execution_count": 16,
     "metadata": {},
     "output_type": "execute_result"
    }
   ],
   "source": [
    "import polars as pl\n",
    "\n",
    "# filtrar exatamente o dia 2025-08-25 (ignora horas)\n",
    "filtro = df.filter(\n",
    "    pl.col(\"data_criacao\").dt.date() == pl.date(2025, 8, 20)\n",
    ")\n",
    "\n",
    "\n",
    "filtro\n"
   ]
  },
  {
   "cell_type": "code",
   "execution_count": 22,
   "id": "cd9e6127",
   "metadata": {},
   "outputs": [
    {
     "name": "stdout",
     "output_type": "stream",
     "text": [
      "Parquet gravado em: C:\\Users\\1420844\\Downloads\\dados.parquet\n"
     ]
    }
   ],
   "source": [
    "import os\n",
    "\n",
    "# caminho para Downloads\n",
    "downloads_path = os.path.join(os.path.expanduser(\"~\"), \"Downloads\", \"dados.parquet\")\n",
    "\n",
    "# grava o df final em Parquet\n",
    "df.write_parquet(downloads_path, compression=\"zstd\")\n",
    "\n",
    "print(f\"Parquet gravado em: {downloads_path}\")\n"
   ]
  }
 ],
 "metadata": {
  "kernelspec": {
   "display_name": "Python 3",
   "language": "python",
   "name": "python3"
  },
  "language_info": {
   "codemirror_mode": {
    "name": "ipython",
    "version": 3
   },
   "file_extension": ".py",
   "mimetype": "text/x-python",
   "name": "python",
   "nbconvert_exporter": "python",
   "pygments_lexer": "ipython3",
   "version": "3.13.7"
  }
 },
 "nbformat": 4,
 "nbformat_minor": 5
}
