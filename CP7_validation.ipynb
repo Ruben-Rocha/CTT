{
 "cells": [
  {
   "cell_type": "code",
   "execution_count": 5,
   "id": "8f003411",
   "metadata": {},
   "outputs": [],
   "source": [
    "from pymongo import MongoClient\n",
    "import polars as pl"
   ]
  },
  {
   "cell_type": "code",
   "execution_count": 6,
   "id": "0c114623",
   "metadata": {},
   "outputs": [],
   "source": [
    "# Conectar ao MongoDB\n",
    "client = MongoClient(\"mongodb://localhost:27017\")  # Conectar ao MongoDB local\n",
    "db = client[\"ctt2025\"]  # Nome da base de dados no MongoDB\n",
    "collection = db[\"Expresso_2025\"]  # Nome da coleção (tabela)"
   ]
  },
  {
   "cell_type": "code",
   "execution_count": 7,
   "id": "2e58a2a2",
   "metadata": {},
   "outputs": [
    {
     "name": "stdout",
     "output_type": "stream",
     "text": [
      "shape: (633, 3)\n",
      "┌─────────┬────────────┬───────────────────┐\n",
      "│ centro  ┆ data       ┆ numero_de_objetos │\n",
      "│ ---     ┆ ---        ┆ ---               │\n",
      "│ str     ┆ str        ┆ i64               │\n",
      "╞═════════╪════════════╪═══════════════════╡\n",
      "│ 8811417 ┆ 01/04/2025 ┆ 9515              │\n",
      "│ 8811373 ┆ 01/04/2025 ┆ 16724             │\n",
      "│ 8819009 ┆ 01/04/2025 ┆ 19296             │\n",
      "│ 8817018 ┆ 01/04/2025 ┆ 19078             │\n",
      "│ 8818154 ┆ 01/04/2025 ┆ 14765             │\n",
      "│ …       ┆ …          ┆ …                 │\n",
      "│ 8819001 ┆ 31/03/2025 ┆ 10426             │\n",
      "│ 8811417 ┆ 31/03/2025 ┆ 9288              │\n",
      "│ 8811496 ┆ 31/03/2025 ┆ 25844             │\n",
      "│ 8811455 ┆ 31/03/2025 ┆ 14397             │\n",
      "│ 8811456 ┆ 31/03/2025 ┆ 10034             │\n",
      "└─────────┴────────────┴───────────────────┘\n"
     ]
    }
   ],
   "source": [
    "\n",
    "\n",
    "# Consulta de agregação\n",
    "pipeline = [\n",
    "    # Filtro para garantir que estamos lidando com dados válidos\n",
    "    {\"$match\": {\"DATA_CRIACAO\": {\"$exists\": True}, \"CENTRO\": {\"$exists\": True}}},\n",
    "    \n",
    "    # Agrupar por DATA_CRIACAO e CENTRO, contar os documentos\n",
    "    {\"$group\": {\n",
    "        \"_id\": {\"DATA_CRIACAO\": \"$DATA_CRIACAO\", \"CENTRO\": \"$CENTRO\"},  # Agrupar por DATA e CENTRO\n",
    "        \"numero_de_objetos\": {\"$sum\": 1}  # Contar o número de documentos em cada grupo\n",
    "    }},\n",
    "    \n",
    "    # Ordenar pela DATA_CRIACAO\n",
    "    {\"$sort\": {\"_id.DATA_CRIACAO\": 1}}  # Ordenar pela data\n",
    "]\n",
    "\n",
    "# Executar a agregação\n",
    "resultado = collection.aggregate(pipeline)\n",
    "\n",
    "# Coletar os resultados e transformar em uma lista de dicionários\n",
    "dados = []\n",
    "for item in resultado:\n",
    "    dados.append({\n",
    "        \"centro\": item[\"_id\"][\"CENTRO\"],\n",
    "        \"data\": item[\"_id\"][\"DATA_CRIACAO\"],\n",
    "        \"numero_de_objetos\": item[\"numero_de_objetos\"]\n",
    "    })\n",
    "\n",
    "# Definir um schema explícito para o DataFrame\n",
    "schema = [\n",
    "    (\"centro\", pl.Utf8),\n",
    "    (\"data\", pl.Utf8),\n",
    "    (\"numero_de_objetos\", pl.Int64)\n",
    "]\n",
    "\n",
    "# Criar um DataFrame Polars com os dados e schema\n",
    "df = pl.DataFrame(dados, schema=schema)\n",
    "\n",
    "# Mostrar o DataFrame\n",
    "print(df)\n"
   ]
  },
  {
   "cell_type": "code",
   "execution_count": 8,
   "id": "eaf66e74",
   "metadata": {},
   "outputs": [],
   "source": [
    "# Recuperar todos os dados da coleção\n",
    "dados = []\n",
    "for item in collection.find():\n",
    "    dados.append({\n",
    "        \"centro\": item.get(\"CENTRO\"),\n",
    "        \"data\": item.get(\"DATA_CRIACAO\"),\n",
    "        \"giro\": item.get(\"Giro\"),\n",
    "        \"loptica\": item.get(\"LOPTICA\"),\n",
    "        \"janela_horaria\": item.get(\"JANELA_HORARIA\"),\n",
    "        \"nome\": item.get(\"NOME\"),\n",
    "        \"morada\": item.get(\"MORADA\"),\n",
    "        \"cp\": item.get(\"CP\"),\n",
    "        \"localidade\": item.get(\"LOCALIDADE\"),\n",
    "        \"cod_t_even\": item.get(\"COD_T_EVEN\"),\n",
    "        \"data_evento\": item.get(\"DATA_EVENTO\"),\n",
    "        \"latitude\": item.get(\"LATITUDE\"),\n",
    "        \"longitude\": item.get(\"LONGITUDE\"),\n",
    "        \"nome_rem\": item.get(\"NOME_REM\"),\n",
    "        \"cod_pais_origem\": item.get(\"COD_PAIS_ORIGEM\")\n",
    "    })\n",
    "\n",
    "# Criar o DataFrame Polars com os dados\n",
    "df = pl.DataFrame(dados)\n"
   ]
  },
  {
   "cell_type": "code",
   "execution_count": 9,
   "id": "c348fc0d",
   "metadata": {},
   "outputs": [
    {
     "data": {
      "text/html": [
       "<div><style>\n",
       ".dataframe > thead > tr,\n",
       ".dataframe > tbody > tr {\n",
       "  text-align: right;\n",
       "  white-space: pre-wrap;\n",
       "}\n",
       "</style>\n",
       "<small>shape: (5, 15)</small><table border=\"1\" class=\"dataframe\"><thead><tr><th>centro</th><th>data</th><th>giro</th><th>loptica</th><th>janela_horaria</th><th>nome</th><th>morada</th><th>cp</th><th>localidade</th><th>cod_t_even</th><th>data_evento</th><th>latitude</th><th>longitude</th><th>nome_rem</th><th>cod_pais_origem</th></tr><tr><td>str</td><td>str</td><td>str</td><td>str</td><td>str</td><td>str</td><td>str</td><td>str</td><td>str</td><td>str</td><td>str</td><td>str</td><td>str</td><td>str</td><td>str</td></tr></thead><tbody><tr><td>&quot;Lisboa&quot;</td><td>&quot;2025-04-24&quot;</td><td>&quot;G123&quot;</td><td>&quot;LO1&quot;</td><td>&quot;08:00-10:00&quot;</td><td>&quot;João Silva&quot;</td><td>&quot;Rua das Flores, 123&quot;</td><td>&quot;1000-000&quot;</td><td>&quot;Lisboa&quot;</td><td>&quot;EVT456&quot;</td><td>&quot;2025-04-23&quot;</td><td>&quot;38.7169&quot;</td><td>&quot;-9.1399&quot;</td><td>&quot;Maria Silva&quot;</td><td>&quot;PT&quot;</td></tr><tr><td>&quot;8811373&quot;</td><td>&quot;25/03/2025&quot;</td><td>null</td><td>&quot;DS726222159PT&quot;</td><td>&quot;09-19&quot;</td><td>&quot;FILIPA ALEXANDRA DE SOUSA BART…</td><td>&quot;RUA DOUTOR JOSÉ JOAQUIM DE ALM…</td><td>&quot;2775-595&quot;</td><td>&quot;CARCAVELOS&quot;</td><td>&quot;H&quot;</td><td>&quot;25/03/2025 21:11:05&quot;</td><td>&quot;38.82863972&quot;</td><td>&quot;-9.30678108&quot;</td><td>&quot;YUCAN - FULFILLMENT SERVICE FO…</td><td>&quot;ES&quot;</td></tr><tr><td>&quot;8811373&quot;</td><td>&quot;25/03/2025&quot;</td><td>null</td><td>&quot;DS725770471PT&quot;</td><td>&quot;09-19&quot;</td><td>&quot;VALERIO ANTUNES&quot;</td><td>&quot;RUA BARÃO DE MO AMEDES 79 2 FR…</td><td>&quot;2775-715&quot;</td><td>&quot;CARCAVELOS&quot;</td><td>&quot;H&quot;</td><td>&quot;25/03/2025 21:10:50&quot;</td><td>&quot;38.82863972&quot;</td><td>&quot;-9.30678108&quot;</td><td>&quot;YUCAN - FULFILLMENT SERVICE FO…</td><td>&quot;ES&quot;</td></tr><tr><td>&quot;8811373&quot;</td><td>&quot;25/03/2025&quot;</td><td>null</td><td>&quot;DD173541954PT&quot;</td><td>&quot;09-19&quot;</td><td>&quot;CLARA MADEIRA&quot;</td><td>&quot;RUA HELIODORO SALGADO 56 &quot;</td><td>&quot;2775-583&quot;</td><td>&quot;CARCAVELOS&quot;</td><td>&quot;H&quot;</td><td>&quot;25/03/2025 21:10:40&quot;</td><td>&quot;38.82863972&quot;</td><td>&quot;-9.30678108&quot;</td><td>&quot;AMINHAFARMACIA.PT&quot;</td><td>&quot;PT&quot;</td></tr><tr><td>&quot;8811373&quot;</td><td>&quot;25/03/2025&quot;</td><td>null</td><td>&quot;DW705253646PT&quot;</td><td>&quot;09-19&quot;</td><td>&quot;NUNO FREIRE&quot;</td><td>&quot;RUA DOUTOR MANUEL DE ARRIAGA 4…</td><td>&quot;2775-602&quot;</td><td>&quot;CARCAVELOS&quot;</td><td>&quot;H&quot;</td><td>&quot;25/03/2025 21:10:34&quot;</td><td>&quot;38.82863972&quot;</td><td>&quot;-9.30678108&quot;</td><td>&quot;AMAZON ROAD TRANSPORT SPAIN, S…</td><td>&quot;ES&quot;</td></tr></tbody></table></div>"
      ],
      "text/plain": [
       "shape: (5, 15)\n",
       "┌─────────┬────────────┬──────┬────────────┬───┬────────────┬────────────┬────────────┬────────────┐\n",
       "│ centro  ┆ data       ┆ giro ┆ loptica    ┆ … ┆ latitude   ┆ longitude  ┆ nome_rem   ┆ cod_pais_o │\n",
       "│ ---     ┆ ---        ┆ ---  ┆ ---        ┆   ┆ ---        ┆ ---        ┆ ---        ┆ rigem      │\n",
       "│ str     ┆ str        ┆ str  ┆ str        ┆   ┆ str        ┆ str        ┆ str        ┆ ---        │\n",
       "│         ┆            ┆      ┆            ┆   ┆            ┆            ┆            ┆ str        │\n",
       "╞═════════╪════════════╪══════╪════════════╪═══╪════════════╪════════════╪════════════╪════════════╡\n",
       "│ Lisboa  ┆ 2025-04-24 ┆ G123 ┆ LO1        ┆ … ┆ 38.7169    ┆ -9.1399    ┆ Maria      ┆ PT         │\n",
       "│         ┆            ┆      ┆            ┆   ┆            ┆            ┆ Silva      ┆            │\n",
       "│ 8811373 ┆ 25/03/2025 ┆ null ┆ DS72622215 ┆ … ┆ 38.8286397 ┆ -9.3067810 ┆ YUCAN -    ┆ ES         │\n",
       "│         ┆            ┆      ┆ 9PT        ┆   ┆ 2          ┆ 8          ┆ FULFILLMEN ┆            │\n",
       "│         ┆            ┆      ┆            ┆   ┆            ┆            ┆ T SERVICE  ┆            │\n",
       "│         ┆            ┆      ┆            ┆   ┆            ┆            ┆ FO…        ┆            │\n",
       "│ 8811373 ┆ 25/03/2025 ┆ null ┆ DS72577047 ┆ … ┆ 38.8286397 ┆ -9.3067810 ┆ YUCAN -    ┆ ES         │\n",
       "│         ┆            ┆      ┆ 1PT        ┆   ┆ 2          ┆ 8          ┆ FULFILLMEN ┆            │\n",
       "│         ┆            ┆      ┆            ┆   ┆            ┆            ┆ T SERVICE  ┆            │\n",
       "│         ┆            ┆      ┆            ┆   ┆            ┆            ┆ FO…        ┆            │\n",
       "│ 8811373 ┆ 25/03/2025 ┆ null ┆ DD17354195 ┆ … ┆ 38.8286397 ┆ -9.3067810 ┆ AMINHAFARM ┆ PT         │\n",
       "│         ┆            ┆      ┆ 4PT        ┆   ┆ 2          ┆ 8          ┆ ACIA.PT    ┆            │\n",
       "│ 8811373 ┆ 25/03/2025 ┆ null ┆ DW70525364 ┆ … ┆ 38.8286397 ┆ -9.3067810 ┆ AMAZON     ┆ ES         │\n",
       "│         ┆            ┆      ┆ 6PT        ┆   ┆ 2          ┆ 8          ┆ ROAD       ┆            │\n",
       "│         ┆            ┆      ┆            ┆   ┆            ┆            ┆ TRANSPORT  ┆            │\n",
       "│         ┆            ┆      ┆            ┆   ┆            ┆            ┆ SPAIN, S…  ┆            │\n",
       "└─────────┴────────────┴──────┴────────────┴───┴────────────┴────────────┴────────────┴────────────┘"
      ]
     },
     "execution_count": 9,
     "metadata": {},
     "output_type": "execute_result"
    }
   ],
   "source": [
    "df.head()"
   ]
  },
  {
   "cell_type": "code",
   "execution_count": 10,
   "id": "5d8ddb4b",
   "metadata": {},
   "outputs": [
    {
     "name": "stderr",
     "output_type": "stream",
     "text": [
      "/var/folders/8m/hh_3__ks6m12ytdrpdgv3zxc0000gn/T/ipykernel_6432/150678575.py:17: DeprecationWarning: `pl.count()` is deprecated. Please use `pl.len()` instead.\n",
      "  pl.count().alias(\"n_objetos_total\"),\n"
     ]
    },
    {
     "data": {
      "text/html": [
       "<div><style>\n",
       ".dataframe > thead > tr,\n",
       ".dataframe > tbody > tr {\n",
       "  text-align: right;\n",
       "  white-space: pre-wrap;\n",
       "}\n",
       "</style>\n",
       "<small>shape: (3_538_726, 6)</small><table border=\"1\" class=\"dataframe\"><thead><tr><th>dia</th><th>cliente</th><th>pais_de_origem</th><th>centro</th><th>n_objetos_total</th><th>n_objetos_cp7</th></tr><tr><td>date</td><td>str</td><td>str</td><td>str</td><td>u32</td><td>u32</td></tr></thead><tbody><tr><td>null</td><td>&quot;&nbsp;&nbsp;&nbsp;&nbsp;&nbsp;&nbsp;&nbsp;PASCALE CHARONDI RE&nbsp;&nbsp;&nbsp;&nbsp;…</td><td>&quot;PT&quot;</td><td>&quot;8811496&quot;</td><td>2</td><td>2</td></tr><tr><td>null</td><td>&quot;&nbsp;&nbsp;&nbsp;&nbsp;&nbsp;CONTROLAUTO, SA A/C&nbsp;&nbsp;INFO…</td><td>&quot;PT&quot;</td><td>&quot;8819002&quot;</td><td>2</td><td>2</td></tr><tr><td>null</td><td>&quot;&nbsp;&nbsp;&nbsp;&nbsp;&nbsp;CONTROLAUTO, SA A/C&nbsp;&nbsp;MANU…</td><td>&quot;PT&quot;</td><td>&quot;8819002&quot;</td><td>1</td><td>1</td></tr><tr><td>null</td><td>&quot;&nbsp;&nbsp;&nbsp;JUSTINA&nbsp;&nbsp;NOIAS&quot;</td><td>&quot;ES&quot;</td><td>&quot;8811455&quot;</td><td>4</td><td>4</td></tr><tr><td>null</td><td>&quot;&nbsp;&nbsp;A TOGA&nbsp;&nbsp;&nbsp;DE JOSE CARLOS LOUR…</td><td>&quot;PT&quot;</td><td>&quot;8818171&quot;</td><td>6</td><td>6</td></tr><tr><td>&hellip;</td><td>&hellip;</td><td>&hellip;</td><td>&hellip;</td><td>&hellip;</td><td>&hellip;</td></tr><tr><td>2025-04-28</td><td>&quot;ZUSETTE RODRIGUES&quot;</td><td>&quot;ES&quot;</td><td>&quot;8811373&quot;</td><td>1</td><td>1</td></tr><tr><td>2025-04-28</td><td>&quot;ZUSLOG-SERV.LOGIST.UNIP.,LDA&quot;</td><td>&quot;PT&quot;</td><td>&quot;8818171&quot;</td><td>2</td><td>2</td></tr><tr><td>2025-04-28</td><td>&quot;ZUZANNA CZAPLA&quot;</td><td>&quot;ES&quot;</td><td>&quot;8811373&quot;</td><td>1</td><td>1</td></tr><tr><td>2025-04-28</td><td>&quot;ZUZANNA PIECHANOWSKA&quot;</td><td>&quot;ES&quot;</td><td>&quot;8819009&quot;</td><td>1</td><td>1</td></tr><tr><td>2025-04-28</td><td>&quot;ZYNAIDY VIANA&quot;</td><td>&quot;ES&quot;</td><td>&quot;8811455&quot;</td><td>1</td><td>1</td></tr></tbody></table></div>"
      ],
      "text/plain": [
       "shape: (3_538_726, 6)\n",
       "┌────────────┬────────────────────────┬────────────────┬─────────┬─────────────────┬───────────────┐\n",
       "│ dia        ┆ cliente                ┆ pais_de_origem ┆ centro  ┆ n_objetos_total ┆ n_objetos_cp7 │\n",
       "│ ---        ┆ ---                    ┆ ---            ┆ ---     ┆ ---             ┆ ---           │\n",
       "│ date       ┆ str                    ┆ str            ┆ str     ┆ u32             ┆ u32           │\n",
       "╞════════════╪════════════════════════╪════════════════╪═════════╪═════════════════╪═══════════════╡\n",
       "│ null       ┆ PASCALE CHARONDI RE    ┆ PT             ┆ 8811496 ┆ 2               ┆ 2             │\n",
       "│            ┆ …                      ┆                ┆         ┆                 ┆               │\n",
       "│ null       ┆ CONTROLAUTO, SA A/C    ┆ PT             ┆ 8819002 ┆ 2               ┆ 2             │\n",
       "│            ┆ INFO…                  ┆                ┆         ┆                 ┆               │\n",
       "│ null       ┆ CONTROLAUTO, SA A/C    ┆ PT             ┆ 8819002 ┆ 1               ┆ 1             │\n",
       "│            ┆ MANU…                  ┆                ┆         ┆                 ┆               │\n",
       "│ null       ┆    JUSTINA  NOIAS      ┆ ES             ┆ 8811455 ┆ 4               ┆ 4             │\n",
       "│ null       ┆ A TOGA   DE JOSE       ┆ PT             ┆ 8818171 ┆ 6               ┆ 6             │\n",
       "│            ┆ CARLOS LOUR…           ┆                ┆         ┆                 ┆               │\n",
       "│ …          ┆ …                      ┆ …              ┆ …       ┆ …               ┆ …             │\n",
       "│ 2025-04-28 ┆ ZUSETTE RODRIGUES      ┆ ES             ┆ 8811373 ┆ 1               ┆ 1             │\n",
       "│ 2025-04-28 ┆ ZUSLOG-SERV.LOGIST.UNI ┆ PT             ┆ 8818171 ┆ 2               ┆ 2             │\n",
       "│            ┆ P.,LDA                 ┆                ┆         ┆                 ┆               │\n",
       "│ 2025-04-28 ┆ ZUZANNA CZAPLA         ┆ ES             ┆ 8811373 ┆ 1               ┆ 1             │\n",
       "│ 2025-04-28 ┆ ZUZANNA PIECHANOWSKA   ┆ ES             ┆ 8819009 ┆ 1               ┆ 1             │\n",
       "│ 2025-04-28 ┆ ZYNAIDY VIANA          ┆ ES             ┆ 8811455 ┆ 1               ┆ 1             │\n",
       "└────────────┴────────────────────────┴────────────────┴─────────┴─────────────────┴───────────────┘"
      ]
     },
     "execution_count": 10,
     "metadata": {},
     "output_type": "execute_result"
    }
   ],
   "source": [
    "import polars as pl\n",
    "\n",
    "\n",
    "# Converter o campo data para formato de data (caso esteja como string no formato 'YYYY.MM.DD')\n",
    "df = df.with_columns([\n",
    "    pl.col(\"data\").str.strptime(pl.Date, \"%Y.%m.%d\", strict=False).alias(\"dia\"),\n",
    "    pl.col(\"cp\").cast(pl.Utf8).fill_null(\"\").alias(\"cp\"),\n",
    "    pl.col(\"nome\").fill_null(\"Desconhecido\").alias(\"cliente\"),\n",
    "    pl.col(\"cod_pais_origem\").fill_null(\"??\").alias(\"pais_de_origem\"),\n",
    "    pl.col(\"centro\").fill_null(\"??\").alias(\"centro\")\n",
    "])\n",
    "\n",
    "# Agregações\n",
    "resultado = (\n",
    "    df.group_by([\"dia\", \"cliente\", \"pais_de_origem\", \"centro\"])\n",
    "    .agg([\n",
    "        pl.count().alias(\"n_objetos_total\"),\n",
    "        pl.col(\"cp\").filter(pl.col(\"cp\").str.len_chars() == 8).count().alias(\"n_objetos_cp7\")\n",
    "    ])\n",
    "    .sort([\"dia\", \"cliente\"])\n",
    ")\n",
    "\n",
    "resultado"
   ]
  },
  {
   "cell_type": "code",
   "execution_count": 12,
   "id": "eeaf6f60",
   "metadata": {},
   "outputs": [],
   "source": [
    "# Guardar como CSV\n",
    "resultado.write_parquet(\"/Users/rr/Downloads/resumo_objetos_por_cliente.parquet\")\n",
    "df.write_parquet(\"/Users/rr/Downloads/Expresso_2025.parquet\")"
   ]
  },
  {
   "cell_type": "code",
   "execution_count": null,
   "id": "005ef7cf",
   "metadata": {},
   "outputs": [
    {
     "ename": "AttributeError",
     "evalue": "'DataFrame' object has no attribute 'to_csv'",
     "output_type": "error",
     "traceback": [
      "\u001b[0;31m---------------------------------------------------------------------------\u001b[0m",
      "\u001b[0;31mAttributeError\u001b[0m                            Traceback (most recent call last)",
      "Cell \u001b[0;32mIn[14], line 1\u001b[0m\n\u001b[0;32m----> 1\u001b[0m \u001b[43mdf\u001b[49m\u001b[38;5;241;43m.\u001b[39;49m\u001b[43mto_csv\u001b[49m(\u001b[38;5;124m\"\u001b[39m\u001b[38;5;124m/Users/rr/Downloads/Expresso_2025.csv\u001b[39m\u001b[38;5;124m\"\u001b[39m)\n",
      "\u001b[0;31mAttributeError\u001b[0m: 'DataFrame' object has no attribute 'to_csv'"
     ]
    }
   ],
   "source": [
    "df.write_csv(\"/Users/rr/Downloads/Expresso_2025.csv\")\n"
   ]
  }
 ],
 "metadata": {
  "kernelspec": {
   "display_name": "3.13.2",
   "language": "python",
   "name": "python3"
  },
  "language_info": {
   "codemirror_mode": {
    "name": "ipython",
    "version": 3
   },
   "file_extension": ".py",
   "mimetype": "text/x-python",
   "name": "python",
   "nbconvert_exporter": "python",
   "pygments_lexer": "ipython3",
   "version": "3.13.2"
  }
 },
 "nbformat": 4,
 "nbformat_minor": 5
}
