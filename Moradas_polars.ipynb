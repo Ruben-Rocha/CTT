{
 "cells": [
  {
   "cell_type": "code",
   "execution_count": 69,
   "id": "4458c0d8",
   "metadata": {},
   "outputs": [],
   "source": [
    "import time\n",
    "import time, psutil, os\n",
    "start = time.time()\n",
    "m0 = psutil.Process(os.getpid()).memory_info().rss / 1024**2"
   ]
  },
  {
   "cell_type": "code",
   "execution_count": 70,
   "id": "1d7bfe11",
   "metadata": {},
   "outputs": [
    {
     "data": {
      "text/plain": [
       "polars.config.Config"
      ]
     },
     "execution_count": 70,
     "metadata": {},
     "output_type": "execute_result"
    }
   ],
   "source": [
    "import polars as pl\n",
    "\n",
    "ficheiro = r\"C:\\Users\\1420844\\Downloads\\addressGeoLoc_export_20221006.csv\"\n",
    "\n",
    "df = pl.read_csv(\n",
    "    ficheiro,\n",
    "    separator=\",\",\n",
    "    quote_char='\"',\n",
    "    skip_rows=1,\n",
    "    has_header=False,\n",
    "    new_columns=[\"MORADA\", \"CP\", \"LOCALIDADE\", \"LATITUDE\", \"LONGITUDE\"],\n",
    "    decimal_comma=True\n",
    ")\n",
    "\n",
    "pl.Config.set_tbl_formatting(\"UTF8_FULL\")  # formato mais limpo\n",
    "pl.Config.set_tbl_rows(5)                 # nº de linhas a mostrar\n",
    "pl.Config.set_tbl_width_chars(120) \n",
    "pl.Config.set_tbl_cols(\"10_000\")    \n",
    "\n"
   ]
  },
  {
   "cell_type": "code",
   "execution_count": 71,
   "id": "4702c9b7",
   "metadata": {},
   "outputs": [
    {
     "data": {
      "text/html": [
       "<div><style>\n",
       ".dataframe > thead > tr,\n",
       ".dataframe > tbody > tr {\n",
       "  text-align: right;\n",
       "  white-space: pre-wrap;\n",
       "}\n",
       "</style>\n",
       "<small>shape: (5, 5)</small><table border=\"1\" class=\"dataframe\"><thead><tr><th>MORADA</th><th>CP</th><th>LOCALIDADE</th><th>LATITUDE</th><th>LONGITUDE</th></tr><tr><td>str</td><td>str</td><td>str</td><td>str</td><td>str</td></tr></thead><tbody><tr><td>&quot;RUA CESARIO VERDE LOTE 3 A DAS…</td><td>&quot;2660&quot;</td><td>&quot;FRIELAS&quot;</td><td>&quot;38.852697456&quot;</td><td>&quot;-9.16971532999997&quot;</td></tr><tr><td>&quot;RUA DO ROXICO NR50&quot;</td><td>&quot;3865-110&quot;</td><td>&quot;FERMELA&quot;</td><td>&quot;40.709808191&quot;</td><td>&quot;-8.54878568099997&quot;</td></tr><tr><td>&quot;AVENIDA 13 DE MAIO N 536&quot;</td><td>&quot;3885-227&quot;</td><td>&quot;CORTEGACA OVR&quot;</td><td>&quot;40.94109138&quot;</td><td>&quot;-8.61864986999996&quot;</td></tr><tr><td>&quot;AV REINALDO SANTOS N 24 3 DTO&quot;</td><td>&quot;2675-673&quot;</td><td>&quot;ODIVELAS&quot;</td><td>&quot;38.7926955990001&quot;</td><td>&quot;-9.18881750599996&quot;</td></tr><tr><td>&quot;RUA DO BARREIRO N 547&quot;</td><td>&quot;4405-730&quot;</td><td>&quot;VILA NOVA DE GAIA&quot;</td><td>&quot;41.113905909&quot;</td><td>&quot;-8.63062512299996&quot;</td></tr></tbody></table></div>"
      ],
      "text/plain": [
       "shape: (5, 5)\n",
       "┌─────────────────────────────────┬──────────┬───────────────────┬──────────────────┬───────────────────┐\n",
       "│ MORADA                          ┆ CP       ┆ LOCALIDADE        ┆ LATITUDE         ┆ LONGITUDE         │\n",
       "│ ---                             ┆ ---      ┆ ---               ┆ ---              ┆ ---               │\n",
       "│ str                             ┆ str      ┆ str               ┆ str              ┆ str               │\n",
       "╞═════════════════════════════════╪══════════╪═══════════════════╪══════════════════╪═══════════════════╡\n",
       "│ RUA CESARIO VERDE LOTE 3 A DAS… ┆ 2660     ┆ FRIELAS           ┆ 38.852697456     ┆ -9.16971532999997 │\n",
       "├╌╌╌╌╌╌╌╌╌╌╌╌╌╌╌╌╌╌╌╌╌╌╌╌╌╌╌╌╌╌╌╌╌┼╌╌╌╌╌╌╌╌╌╌┼╌╌╌╌╌╌╌╌╌╌╌╌╌╌╌╌╌╌╌┼╌╌╌╌╌╌╌╌╌╌╌╌╌╌╌╌╌╌┼╌╌╌╌╌╌╌╌╌╌╌╌╌╌╌╌╌╌╌┤\n",
       "│ RUA DO ROXICO NR50              ┆ 3865-110 ┆ FERMELA           ┆ 40.709808191     ┆ -8.54878568099997 │\n",
       "├╌╌╌╌╌╌╌╌╌╌╌╌╌╌╌╌╌╌╌╌╌╌╌╌╌╌╌╌╌╌╌╌╌┼╌╌╌╌╌╌╌╌╌╌┼╌╌╌╌╌╌╌╌╌╌╌╌╌╌╌╌╌╌╌┼╌╌╌╌╌╌╌╌╌╌╌╌╌╌╌╌╌╌┼╌╌╌╌╌╌╌╌╌╌╌╌╌╌╌╌╌╌╌┤\n",
       "│ AVENIDA 13 DE MAIO N 536        ┆ 3885-227 ┆ CORTEGACA OVR     ┆ 40.94109138      ┆ -8.61864986999996 │\n",
       "├╌╌╌╌╌╌╌╌╌╌╌╌╌╌╌╌╌╌╌╌╌╌╌╌╌╌╌╌╌╌╌╌╌┼╌╌╌╌╌╌╌╌╌╌┼╌╌╌╌╌╌╌╌╌╌╌╌╌╌╌╌╌╌╌┼╌╌╌╌╌╌╌╌╌╌╌╌╌╌╌╌╌╌┼╌╌╌╌╌╌╌╌╌╌╌╌╌╌╌╌╌╌╌┤\n",
       "│ AV REINALDO SANTOS N 24 3 DTO   ┆ 2675-673 ┆ ODIVELAS          ┆ 38.7926955990001 ┆ -9.18881750599996 │\n",
       "├╌╌╌╌╌╌╌╌╌╌╌╌╌╌╌╌╌╌╌╌╌╌╌╌╌╌╌╌╌╌╌╌╌┼╌╌╌╌╌╌╌╌╌╌┼╌╌╌╌╌╌╌╌╌╌╌╌╌╌╌╌╌╌╌┼╌╌╌╌╌╌╌╌╌╌╌╌╌╌╌╌╌╌┼╌╌╌╌╌╌╌╌╌╌╌╌╌╌╌╌╌╌╌┤\n",
       "│ RUA DO BARREIRO N 547           ┆ 4405-730 ┆ VILA NOVA DE GAIA ┆ 41.113905909     ┆ -8.63062512299996 │\n",
       "└─────────────────────────────────┴──────────┴───────────────────┴──────────────────┴───────────────────┘"
      ]
     },
     "execution_count": 71,
     "metadata": {},
     "output_type": "execute_result"
    }
   ],
   "source": [
    "df.head()"
   ]
  },
  {
   "cell_type": "code",
   "execution_count": 72,
   "id": "e0382a64",
   "metadata": {},
   "outputs": [
    {
     "name": "stdout",
     "output_type": "stream",
     "text": [
      "Número de moradas: 1158\n"
     ]
    }
   ],
   "source": [
    "# garantir que CP é string\n",
    "df = df.with_columns(df[\"CP\"].cast(pl.Utf8))\n",
    "\n",
    "# filtrar e contar\n",
    "contagem = (\n",
    "    df.filter(df[\"CP\"].str.slice(0,4).is_in([\"4830\", \"4850\"]))\n",
    "      .select(pl.count(\"MORADA\"))\n",
    "      .item()\n",
    ")\n",
    "\n",
    "print(\"Número de moradas:\", contagem)"
   ]
  },
  {
   "cell_type": "code",
   "execution_count": 75,
   "id": "25e0f898",
   "metadata": {},
   "outputs": [],
   "source": [
    "df_FV = pl.DataFrame({ \"MORADA\": [\"R. Cmdt Luis Pinto 37\", \"Av. da Capela 147\"], \"CP\": [\"4830\", \"4830\"], \"LOCALIDADE\": [\"Póvoa de Lanhoso\", \"Póvoa de Lanhoso\"], \"LATITUDE\": [\"41.5739\", \"41.6029\"], \"LONGITUDE\": [\"-8.2684\", \"-8.3133\"] })"
   ]
  },
  {
   "cell_type": "code",
   "execution_count": 76,
   "id": "5451aa05",
   "metadata": {},
   "outputs": [
    {
     "data": {
      "text/html": [
       "<div><style>\n",
       ".dataframe > thead > tr,\n",
       ".dataframe > tbody > tr {\n",
       "  text-align: right;\n",
       "  white-space: pre-wrap;\n",
       "}\n",
       "</style>\n",
       "<small>shape: (1_158, 5)</small><table border=\"1\" class=\"dataframe\"><thead><tr><th>MORADA</th><th>CP</th><th>LOCALIDADE</th><th>LATITUDE</th><th>LONGITUDE</th></tr><tr><td>str</td><td>str</td><td>str</td><td>str</td><td>str</td></tr></thead><tbody><tr><td>&quot;RUA COMANDANTE LUIS PINTO DA S…</td><td>&quot;4830&quot;</td><td>&quot;POVOA DE LANHOSO&quot;</td><td>&quot;41.573881&quot;</td><td>&quot;-8.268431&quot;</td></tr><tr><td>&quot;AVENIDA DA CAPELA 147&quot;</td><td>&quot;4830&quot;</td><td>&quot;POVOA DE LANHOSO&quot;</td><td>&quot;41.602910728&quot;</td><td>&quot;-8.31333931399996&quot;</td></tr><tr><td>&quot;RUA NEUVES MAISONS NUMERO 211 …</td><td>&quot;4830-550&quot;</td><td>&quot;POVOA DE LANHOSO&quot;</td><td>&quot;41.573046436&quot;</td><td>&quot;-8.26624732199997&quot;</td></tr><tr><td>&hellip;</td><td>&hellip;</td><td>&hellip;</td><td>&hellip;</td><td>&hellip;</td></tr><tr><td>&quot;RUA DA QUINTA N 179 B&quot;</td><td>&quot;4830-379&quot;</td><td>&quot;LOUREDO PVL&quot;</td><td>&quot;41.5465713200001&quot;</td><td>&quot;-8.28988375599994&quot;</td></tr><tr><td>&quot;RUA 5 DE SETEMBRO N94 N94 RC E…</td><td>&quot;4830&quot;</td><td>&quot;PA VOA DE LANHOSO&quot;</td><td>&quot;41.57924&quot;</td><td>&quot;-8.273131&quot;</td></tr></tbody></table></div>"
      ],
      "text/plain": [
       "shape: (1_158, 5)\n",
       "┌─────────────────────────────────┬──────────┬───────────────────┬──────────────────┬───────────────────┐\n",
       "│ MORADA                          ┆ CP       ┆ LOCALIDADE        ┆ LATITUDE         ┆ LONGITUDE         │\n",
       "│ ---                             ┆ ---      ┆ ---               ┆ ---              ┆ ---               │\n",
       "│ str                             ┆ str      ┆ str               ┆ str              ┆ str               │\n",
       "╞═════════════════════════════════╪══════════╪═══════════════════╪══════════════════╪═══════════════════╡\n",
       "│ RUA COMANDANTE LUIS PINTO DA S… ┆ 4830     ┆ POVOA DE LANHOSO  ┆ 41.573881        ┆ -8.268431         │\n",
       "├╌╌╌╌╌╌╌╌╌╌╌╌╌╌╌╌╌╌╌╌╌╌╌╌╌╌╌╌╌╌╌╌╌┼╌╌╌╌╌╌╌╌╌╌┼╌╌╌╌╌╌╌╌╌╌╌╌╌╌╌╌╌╌╌┼╌╌╌╌╌╌╌╌╌╌╌╌╌╌╌╌╌╌┼╌╌╌╌╌╌╌╌╌╌╌╌╌╌╌╌╌╌╌┤\n",
       "│ AVENIDA DA CAPELA 147           ┆ 4830     ┆ POVOA DE LANHOSO  ┆ 41.602910728     ┆ -8.31333931399996 │\n",
       "├╌╌╌╌╌╌╌╌╌╌╌╌╌╌╌╌╌╌╌╌╌╌╌╌╌╌╌╌╌╌╌╌╌┼╌╌╌╌╌╌╌╌╌╌┼╌╌╌╌╌╌╌╌╌╌╌╌╌╌╌╌╌╌╌┼╌╌╌╌╌╌╌╌╌╌╌╌╌╌╌╌╌╌┼╌╌╌╌╌╌╌╌╌╌╌╌╌╌╌╌╌╌╌┤\n",
       "│ RUA NEUVES MAISONS NUMERO 211 … ┆ 4830-550 ┆ POVOA DE LANHOSO  ┆ 41.573046436     ┆ -8.26624732199997 │\n",
       "├╌╌╌╌╌╌╌╌╌╌╌╌╌╌╌╌╌╌╌╌╌╌╌╌╌╌╌╌╌╌╌╌╌┼╌╌╌╌╌╌╌╌╌╌┼╌╌╌╌╌╌╌╌╌╌╌╌╌╌╌╌╌╌╌┼╌╌╌╌╌╌╌╌╌╌╌╌╌╌╌╌╌╌┼╌╌╌╌╌╌╌╌╌╌╌╌╌╌╌╌╌╌╌┤\n",
       "│ …                               ┆ …        ┆ …                 ┆ …                ┆ …                 │\n",
       "├╌╌╌╌╌╌╌╌╌╌╌╌╌╌╌╌╌╌╌╌╌╌╌╌╌╌╌╌╌╌╌╌╌┼╌╌╌╌╌╌╌╌╌╌┼╌╌╌╌╌╌╌╌╌╌╌╌╌╌╌╌╌╌╌┼╌╌╌╌╌╌╌╌╌╌╌╌╌╌╌╌╌╌┼╌╌╌╌╌╌╌╌╌╌╌╌╌╌╌╌╌╌╌┤\n",
       "│ RUA DA QUINTA N 179 B           ┆ 4830-379 ┆ LOUREDO PVL       ┆ 41.5465713200001 ┆ -8.28988375599994 │\n",
       "├╌╌╌╌╌╌╌╌╌╌╌╌╌╌╌╌╌╌╌╌╌╌╌╌╌╌╌╌╌╌╌╌╌┼╌╌╌╌╌╌╌╌╌╌┼╌╌╌╌╌╌╌╌╌╌╌╌╌╌╌╌╌╌╌┼╌╌╌╌╌╌╌╌╌╌╌╌╌╌╌╌╌╌┼╌╌╌╌╌╌╌╌╌╌╌╌╌╌╌╌╌╌╌┤\n",
       "│ RUA 5 DE SETEMBRO N94 N94 RC E… ┆ 4830     ┆ PA VOA DE LANHOSO ┆ 41.57924         ┆ -8.273131         │\n",
       "└─────────────────────────────────┴──────────┴───────────────────┴──────────────────┴───────────────────┘"
      ]
     },
     "execution_count": 76,
     "metadata": {},
     "output_type": "execute_result"
    }
   ],
   "source": [
    "df_filtrado = df.filter(\n",
    "    df[\"CP\"].str.slice(0, 4).is_in([\"4830\", \"4850\"])\n",
    ")\n",
    "\n",
    "df_filtrado"
   ]
  },
  {
   "cell_type": "code",
   "execution_count": null,
   "id": "c19896fd",
   "metadata": {},
   "outputs": [],
   "source": [
    "import re\n",
    "import unidecode\n",
    "import polars as pl\n",
    "import pandas as pd\n",
    "from rapidfuzz import fuzz\n",
    "\n",
    "# ==========================\n",
    "# 1. Dicionários\n",
    "# ==========================\n",
    "abreviaturas = {\n",
    "    \"cmdt\": \"comandante\", \"cmte\": \"comandante\",\n",
    "    \"dr\": \"doutor\", \"dra\": \"doutora\",\n",
    "    \"sr\": \"senhor\", \"sra\": \"senhora\", \"srª\": \"senhora\",\n",
    "    \"eng\": \"engenheiro\", \"enga\": \"engenheira\", \"engª\": \"engenheira\",\n",
    "    \"prof\": \"professor\", \"profa\": \"professora\", \"profª\": \"professora\",\n",
    "    \"arq\": \"arquiteto\", \"arqa\": \"arquiteta\", \"arqª\": \"arquiteta\",\n",
    "    \"cap\": \"capitao\", \"maj\": \"major\", \"gen\": \"general\",\n",
    "    \"ten\": \"tenente\", \"alm\": \"almirante\",\n",
    "    \"sta\": \"santa\", \"sto\": \"santo\", \"s\": \"sao\", \"sao\": \"sao\",\n",
    "    \"ns\": \"nossa senhora\", \"n s\": \"nossa senhora\",\n",
    "    \"nsr\": \"nosso senhor\", \"n sr\": \"nosso senhor\",\n",
    "    \"dom\": \"dom\", \"d\": \"dom\",\n",
    "    \"visc\": \"visconde\", \"cond\": \"conde\", \"marq\": \"marques\", \"bar\": \"barao\"\n",
    "}\n",
    "\n",
    "mapa_logradouros = {\n",
    "    \"r\": \"rua\", \"rua\": \"rua\", \"rª\": \"rua\", \"ruela\": \"ruela\",\n",
    "    \"av\": \"avenida\", \"avd\": \"avenida\", \"avda\": \"avenida\", \"avenida\": \"avenida\",\n",
    "    \"tv\": \"travessa\", \"trs\": \"travessa\", \"trav\": \"travessa\", \"travessa\": \"travessa\",\n",
    "    \"pc\": \"praca\", \"pç\": \"praca\", \"pr\": \"praca\", \"prç\": \"praca\", \"praca\": \"praca\",\n",
    "    \"lg\": \"largo\", \"largo\": \"largo\",\n",
    "    \"al\": \"alameda\", \"alameda\": \"alameda\",\n",
    "    \"bq\": \"beco\", \"beco\": \"beco\",\n",
    "    \"esc\": \"escadas\", \"escadinha\": \"escadinha\", \"escadaria\": \"escadaria\",\n",
    "    \"estr\": \"estrada\", \"estrada\": \"estrada\",\n",
    "    \"cm\": \"caminho\", \"caminho\": \"caminho\", \"cam\": \"caminho\",\n",
    "    \"cç\": \"calcada\", \"calcada\": \"calcada\", \"calçada\": \"calcada\",\n",
    "    \"qt\": \"quinta\", \"quinta\": \"quinta\",\n",
    "    \"br\": \"bairro\", \"bairro\": \"bairro\",\n",
    "    \"rot\": \"rotunda\", \"rotunda\": \"rotunda\",\n",
    "    \"via\": \"via\", \"passeio\": \"passeio\",\n",
    "    \"urb\": \"urbanizacao\", \"urbanizacao\": \"urbanizacao\",\n",
    "    \"zona\": \"zona\", \"lgd\": \"lugar\", \"lugar\": \"lugar\",\n",
    "    \"campo\": \"campo\", \"terreiro\": \"terreiro\"\n",
    "}\n",
    "\n",
    "# ==========================\n",
    "# 2. Funções de normalização\n",
    "# ==========================\n",
    "def normalizar(texto: str) -> str:\n",
    "    if not texto:\n",
    "        return \"\"\n",
    "    txt = unidecode.unidecode(str(texto).lower())\n",
    "    txt = txt.replace(\".\", \"\").strip()\n",
    "    palavras = txt.split()\n",
    "    palavras = [abreviaturas.get(p, mapa_logradouros.get(p, p)) for p in palavras]\n",
    "    return \" \".join(palavras)\n",
    "\n",
    "def limpar_nome_rua(nome: str) -> str:\n",
    "    if not nome:\n",
    "        return \"\"\n",
    "    txt = unidecode.unidecode(str(nome).lower())\n",
    "    # remover logradouros\n",
    "    for log in set(mapa_logradouros.values()):\n",
    "        txt = re.sub(rf\"\\b{log}\\b\", \"\", txt)\n",
    "    # remover tokens de número\n",
    "    txt = re.sub(r\"\\b(n|nr|nº|nro|numero|num)\\b\", \"\", txt)\n",
    "    txt = re.sub(r\"\\d+\", \"\", txt)\n",
    "    # expandir abreviaturas\n",
    "    palavras = txt.split()\n",
    "    palavras = [abreviaturas.get(p, p) for p in palavras]\n",
    "    txt = \" \".join(palavras)\n",
    "    txt = re.sub(r\"\\s+\", \" \", txt).strip()\n",
    "    return txt\n",
    "\n",
    "# ==========================\n",
    "# 3. Extrair + normalizar partes\n",
    "# ==========================\n",
    "def extrair_partes(df: pl.DataFrame) -> pl.DataFrame:\n",
    "    df_parts = df.with_columns([\n",
    "        # logradouro (case-insensitive, aceita abreviações R., Av., Tv.)\n",
    "        pl.col(\"MORADA\").str.extract(\n",
    "            r\"(?i)^(R\\.?|RUA|AV\\.?|AVENIDA|TRAV\\.?|TRAVESSA|PRAÇA|ESTRADA|BECO|ALAMEDA|LARGO|CALÇADA|ROTUNDA)\", 1\n",
    "        ).alias(\"logradouro\"),\n",
    "\n",
    "        # nome da rua\n",
    "        pl.col(\"MORADA\").str.extract(\n",
    "            r\"(?i)^(?:R\\.?|RUA|AV\\.?|AVENIDA|TRAV\\.?|TRAVESSA|PRAÇA|ESTRADA|BECO|ALAMEDA|LARGO|CALÇADA|ROTUNDA)\\s+([A-ZÇÃÕÉÓÀ\\s]+?)(?:\\d|$)\", \n",
    "            1\n",
    "        ).str.strip_chars().alias(\"nome_rua\"),\n",
    "\n",
    "        # número\n",
    "        pl.col(\"MORADA\").str.extract(r\"\\s(\\d+[A-Z]?)\\b\", 1).alias(\"numero\"),\n",
    "\n",
    "        # andar\n",
    "        pl.col(\"MORADA\").str.extract(r\"(\\d+º\\s*[A-Z]*|R/C)\", 1).alias(\"andar\"),\n",
    "\n",
    "        # código postal\n",
    "        pl.col(\"MORADA\").str.extract(r\"(\\d{4}-\\d{3})\", 1).alias(\"codigo_postal\"),\n",
    "\n",
    "        # localidade (usar coluna LOCALIDADE quando existir)\n",
    "        pl.when(pl.col(\"LOCALIDADE\").is_not_null())\n",
    "          .then(pl.col(\"LOCALIDADE\"))\n",
    "          .otherwise(pl.col(\"MORADA\").str.extract(r\"([A-ZÇÃÕÉÓ]+)$\", 1))\n",
    "          .alias(\"localidade\")\n",
    "    ])\n",
    "\n",
    "    # aplicar normalização\n",
    "    df_parts = df_parts.with_columns([\n",
    "        pl.col(\"logradouro\").map_elements(normalizar, return_dtype=pl.Utf8).alias(\"logradouro_norm\"),\n",
    "        pl.col(\"nome_rua\").map_elements(limpar_nome_rua, return_dtype=pl.Utf8).alias(\"nome_rua_norm\"),\n",
    "        pl.col(\"numero\").map_elements(normalizar, return_dtype=pl.Utf8).alias(\"numero_norm\"),\n",
    "        pl.col(\"andar\").map_elements(normalizar, return_dtype=pl.Utf8).alias(\"andar_norm\"),\n",
    "        pl.col(\"codigo_postal\").map_elements(normalizar, return_dtype=pl.Utf8).alias(\"codigo_postal_norm\"),\n",
    "        pl.col(\"localidade\").map_elements(normalizar, return_dtype=pl.Utf8).alias(\"localidade_norm\")\n",
    "    ])\n",
    "\n",
    "    return df_parts\n",
    "\n",
    "# ==========================\n",
    "# 4. Comparar dois DataFrames\n",
    "# ==========================\n",
    "def comparar_dataframes(df1: pl.DataFrame, df2: pl.DataFrame, threshold=85):\n",
    "    results = []\n",
    "    pdf1, pdf2 = df1.to_pandas(), df2.to_pandas()\n",
    "\n",
    "    for i, row1 in pdf1.iterrows():\n",
    "        for j, row2 in pdf2.iterrows():\n",
    "            score_log = fuzz.token_sort_ratio(row1[\"logradouro_norm\"], row2[\"logradouro_norm\"])\n",
    "            score_rua = fuzz.token_sort_ratio(row1[\"nome_rua_norm\"], row2[\"nome_rua_norm\"])\n",
    "            score_num = fuzz.token_sort_ratio(str(row1[\"numero_norm\"]), str(row2[\"numero_norm\"]))\n",
    "            score_loc = fuzz.token_sort_ratio(row1[\"localidade_norm\"], row2[\"localidade_norm\"])\n",
    "\n",
    "            score_final = (0.3*score_log + 0.4*score_rua + 0.2*score_num + 0.1*score_loc)\n",
    "\n",
    "            if score_final >= threshold:\n",
    "                results.append({\n",
    "                    \"id_df1\": i, \"id_df2\": j,\n",
    "                    \"score\": round(score_final, 2),\n",
    "                    \"logradouro1\": row1[\"logradouro_norm\"], \"logradouro2\": row2[\"logradouro_norm\"],\n",
    "                    \"nome_rua1\": row1[\"nome_rua_norm\"], \"nome_rua2\": row2[\"nome_rua_norm\"],\n",
    "                    \"numero1\": row1[\"numero_norm\"], \"numero2\": row2[\"numero_norm\"],\n",
    "                    \"localidade1\": row1[\"localidade_norm\"], \"localidade2\": row2[\"localidade_norm\"]\n",
    "                })\n",
    "    return pd.DataFrame(results)\n"
   ]
  },
  {
   "cell_type": "code",
   "execution_count": 74,
   "id": "21bf37ee",
   "metadata": {},
   "outputs": [
    {
     "name": "stdout",
     "output_type": "stream",
     "text": [
      "Tempo Polars: 0.51 segundos\n",
      "Memória Polars: 159.75 MB\n"
     ]
    }
   ],
   "source": [
    "m1 = psutil.Process(os.getpid()).memory_info().rss / 1024**2\n",
    "print(\"Tempo Polars:\", round(time.time() - start, 2), \"segundos\")\n",
    "print(\"Memória Polars:\", round(m1 - m0, 2), \"MB\")"
   ]
  }
 ],
 "metadata": {
  "kernelspec": {
   "display_name": "Python 3",
   "language": "python",
   "name": "python3"
  },
  "language_info": {
   "codemirror_mode": {
    "name": "ipython",
    "version": 3
   },
   "file_extension": ".py",
   "mimetype": "text/x-python",
   "name": "python",
   "nbconvert_exporter": "python",
   "pygments_lexer": "ipython3",
   "version": "3.13.7"
  }
 },
 "nbformat": 4,
 "nbformat_minor": 5
}
