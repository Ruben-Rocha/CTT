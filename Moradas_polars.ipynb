{
 "cells": [
  {
   "cell_type": "code",
   "execution_count": 51,
   "id": "4458c0d8",
   "metadata": {},
   "outputs": [],
   "source": [
    "import time\n",
    "import time, psutil, os\n",
    "start = time.time()\n",
    "m0 = psutil.Process(os.getpid()).memory_info().rss / 1024**2"
   ]
  },
  {
   "cell_type": "code",
   "execution_count": 52,
   "id": "1d7bfe11",
   "metadata": {},
   "outputs": [
    {
     "data": {
      "text/plain": [
       "polars.config.Config"
      ]
     },
     "execution_count": 52,
     "metadata": {},
     "output_type": "execute_result"
    }
   ],
   "source": [
    "import polars as pl\n",
    "\n",
    "ficheiro = r\"C:\\Users\\1420844\\Downloads\\addressGeoLoc_export_20221006.csv\"\n",
    "\n",
    "df = pl.read_csv(\n",
    "    ficheiro,\n",
    "    separator=\",\",\n",
    "    quote_char='\"',\n",
    "    skip_rows=1,\n",
    "    has_header=False,\n",
    "    new_columns=[\"MORADA\", \"CP\", \"LOCALIDADE\", \"LATITUDE\", \"LONGITUDE\"],\n",
    "    decimal_comma=True\n",
    ")\n",
    "\n",
    "pl.Config.set_tbl_formatting(\"UTF8_FULL\")  # formato mais limpo\n",
    "pl.Config.set_tbl_rows(5)                 # nº de linhas a mostrar\n",
    "pl.Config.set_tbl_width_chars(120) \n",
    "pl.Config.set_tbl_cols(\"10_000\")    \n",
    "\n"
   ]
  },
  {
   "cell_type": "code",
   "execution_count": 53,
   "id": "4702c9b7",
   "metadata": {},
   "outputs": [
    {
     "data": {
      "text/html": [
       "<div><style>\n",
       ".dataframe > thead > tr,\n",
       ".dataframe > tbody > tr {\n",
       "  text-align: right;\n",
       "  white-space: pre-wrap;\n",
       "}\n",
       "</style>\n",
       "<small>shape: (5, 5)</small><table border=\"1\" class=\"dataframe\"><thead><tr><th>MORADA</th><th>CP</th><th>LOCALIDADE</th><th>LATITUDE</th><th>LONGITUDE</th></tr><tr><td>str</td><td>str</td><td>str</td><td>str</td><td>str</td></tr></thead><tbody><tr><td>&quot;RUA CESARIO VERDE LOTE 3 A DAS…</td><td>&quot;2660&quot;</td><td>&quot;FRIELAS&quot;</td><td>&quot;38.852697456&quot;</td><td>&quot;-9.16971532999997&quot;</td></tr><tr><td>&quot;RUA DO ROXICO NR50&quot;</td><td>&quot;3865-110&quot;</td><td>&quot;FERMELA&quot;</td><td>&quot;40.709808191&quot;</td><td>&quot;-8.54878568099997&quot;</td></tr><tr><td>&quot;AVENIDA 13 DE MAIO N 536&quot;</td><td>&quot;3885-227&quot;</td><td>&quot;CORTEGACA OVR&quot;</td><td>&quot;40.94109138&quot;</td><td>&quot;-8.61864986999996&quot;</td></tr><tr><td>&quot;AV REINALDO SANTOS N 24 3 DTO&quot;</td><td>&quot;2675-673&quot;</td><td>&quot;ODIVELAS&quot;</td><td>&quot;38.7926955990001&quot;</td><td>&quot;-9.18881750599996&quot;</td></tr><tr><td>&quot;RUA DO BARREIRO N 547&quot;</td><td>&quot;4405-730&quot;</td><td>&quot;VILA NOVA DE GAIA&quot;</td><td>&quot;41.113905909&quot;</td><td>&quot;-8.63062512299996&quot;</td></tr></tbody></table></div>"
      ],
      "text/plain": [
       "shape: (5, 5)\n",
       "┌─────────────────────────────────┬──────────┬───────────────────┬──────────────────┬───────────────────┐\n",
       "│ MORADA                          ┆ CP       ┆ LOCALIDADE        ┆ LATITUDE         ┆ LONGITUDE         │\n",
       "│ ---                             ┆ ---      ┆ ---               ┆ ---              ┆ ---               │\n",
       "│ str                             ┆ str      ┆ str               ┆ str              ┆ str               │\n",
       "╞═════════════════════════════════╪══════════╪═══════════════════╪══════════════════╪═══════════════════╡\n",
       "│ RUA CESARIO VERDE LOTE 3 A DAS… ┆ 2660     ┆ FRIELAS           ┆ 38.852697456     ┆ -9.16971532999997 │\n",
       "├╌╌╌╌╌╌╌╌╌╌╌╌╌╌╌╌╌╌╌╌╌╌╌╌╌╌╌╌╌╌╌╌╌┼╌╌╌╌╌╌╌╌╌╌┼╌╌╌╌╌╌╌╌╌╌╌╌╌╌╌╌╌╌╌┼╌╌╌╌╌╌╌╌╌╌╌╌╌╌╌╌╌╌┼╌╌╌╌╌╌╌╌╌╌╌╌╌╌╌╌╌╌╌┤\n",
       "│ RUA DO ROXICO NR50              ┆ 3865-110 ┆ FERMELA           ┆ 40.709808191     ┆ -8.54878568099997 │\n",
       "├╌╌╌╌╌╌╌╌╌╌╌╌╌╌╌╌╌╌╌╌╌╌╌╌╌╌╌╌╌╌╌╌╌┼╌╌╌╌╌╌╌╌╌╌┼╌╌╌╌╌╌╌╌╌╌╌╌╌╌╌╌╌╌╌┼╌╌╌╌╌╌╌╌╌╌╌╌╌╌╌╌╌╌┼╌╌╌╌╌╌╌╌╌╌╌╌╌╌╌╌╌╌╌┤\n",
       "│ AVENIDA 13 DE MAIO N 536        ┆ 3885-227 ┆ CORTEGACA OVR     ┆ 40.94109138      ┆ -8.61864986999996 │\n",
       "├╌╌╌╌╌╌╌╌╌╌╌╌╌╌╌╌╌╌╌╌╌╌╌╌╌╌╌╌╌╌╌╌╌┼╌╌╌╌╌╌╌╌╌╌┼╌╌╌╌╌╌╌╌╌╌╌╌╌╌╌╌╌╌╌┼╌╌╌╌╌╌╌╌╌╌╌╌╌╌╌╌╌╌┼╌╌╌╌╌╌╌╌╌╌╌╌╌╌╌╌╌╌╌┤\n",
       "│ AV REINALDO SANTOS N 24 3 DTO   ┆ 2675-673 ┆ ODIVELAS          ┆ 38.7926955990001 ┆ -9.18881750599996 │\n",
       "├╌╌╌╌╌╌╌╌╌╌╌╌╌╌╌╌╌╌╌╌╌╌╌╌╌╌╌╌╌╌╌╌╌┼╌╌╌╌╌╌╌╌╌╌┼╌╌╌╌╌╌╌╌╌╌╌╌╌╌╌╌╌╌╌┼╌╌╌╌╌╌╌╌╌╌╌╌╌╌╌╌╌╌┼╌╌╌╌╌╌╌╌╌╌╌╌╌╌╌╌╌╌╌┤\n",
       "│ RUA DO BARREIRO N 547           ┆ 4405-730 ┆ VILA NOVA DE GAIA ┆ 41.113905909     ┆ -8.63062512299996 │\n",
       "└─────────────────────────────────┴──────────┴───────────────────┴──────────────────┴───────────────────┘"
      ]
     },
     "execution_count": 53,
     "metadata": {},
     "output_type": "execute_result"
    }
   ],
   "source": [
    "df.head()"
   ]
  },
  {
   "cell_type": "code",
   "execution_count": 54,
   "id": "0363558c",
   "metadata": {},
   "outputs": [
    {
     "data": {
      "text/html": [
       "<div><style>\n",
       ".dataframe > thead > tr,\n",
       ".dataframe > tbody > tr {\n",
       "  text-align: right;\n",
       "  white-space: pre-wrap;\n",
       "}\n",
       "</style>\n",
       "<small>shape: (9, 6)</small><table border=\"1\" class=\"dataframe\"><thead><tr><th>statistic</th><th>MORADA</th><th>CP</th><th>LOCALIDADE</th><th>LATITUDE</th><th>LONGITUDE</th></tr><tr><td>str</td><td>str</td><td>str</td><td>str</td><td>str</td><td>str</td></tr></thead><tbody><tr><td>&quot;count&quot;</td><td>&quot;2168409&quot;</td><td>&quot;2168409&quot;</td><td>&quot;2168409&quot;</td><td>&quot;2168409&quot;</td><td>&quot;2168409&quot;</td></tr><tr><td>&quot;null_count&quot;</td><td>&quot;0&quot;</td><td>&quot;0&quot;</td><td>&quot;0&quot;</td><td>&quot;0&quot;</td><td>&quot;0&quot;</td></tr><tr><td>&quot;mean&quot;</td><td>null</td><td>null</td><td>null</td><td>null</td><td>null</td></tr><tr><td>&hellip;</td><td>&hellip;</td><td>&hellip;</td><td>&hellip;</td><td>&hellip;</td><td>&hellip;</td></tr><tr><td>&quot;75%&quot;</td><td>null</td><td>null</td><td>null</td><td>null</td><td>null</td></tr><tr><td>&quot;max&quot;</td><td>&quot;ZURICH RUA VIRGILIO MARTINHO N…</td><td>&quot;CP&quot;</td><td>&quot;VOUZELA&quot;</td><td>&quot;LATITUDE&quot;</td><td>&quot;LONGITUDE&quot;</td></tr></tbody></table></div>"
      ],
      "text/plain": [
       "shape: (9, 6)\n",
       "┌────────────┬─────────────────────────────────┬─────────┬────────────┬──────────┬───────────┐\n",
       "│ statistic  ┆ MORADA                          ┆ CP      ┆ LOCALIDADE ┆ LATITUDE ┆ LONGITUDE │\n",
       "│ ---        ┆ ---                             ┆ ---     ┆ ---        ┆ ---      ┆ ---       │\n",
       "│ str        ┆ str                             ┆ str     ┆ str        ┆ str      ┆ str       │\n",
       "╞════════════╪═════════════════════════════════╪═════════╪════════════╪══════════╪═══════════╡\n",
       "│ count      ┆ 2168409                         ┆ 2168409 ┆ 2168409    ┆ 2168409  ┆ 2168409   │\n",
       "├╌╌╌╌╌╌╌╌╌╌╌╌┼╌╌╌╌╌╌╌╌╌╌╌╌╌╌╌╌╌╌╌╌╌╌╌╌╌╌╌╌╌╌╌╌╌┼╌╌╌╌╌╌╌╌╌┼╌╌╌╌╌╌╌╌╌╌╌╌┼╌╌╌╌╌╌╌╌╌╌┼╌╌╌╌╌╌╌╌╌╌╌┤\n",
       "│ null_count ┆ 0                               ┆ 0       ┆ 0          ┆ 0        ┆ 0         │\n",
       "├╌╌╌╌╌╌╌╌╌╌╌╌┼╌╌╌╌╌╌╌╌╌╌╌╌╌╌╌╌╌╌╌╌╌╌╌╌╌╌╌╌╌╌╌╌╌┼╌╌╌╌╌╌╌╌╌┼╌╌╌╌╌╌╌╌╌╌╌╌┼╌╌╌╌╌╌╌╌╌╌┼╌╌╌╌╌╌╌╌╌╌╌┤\n",
       "│ mean       ┆ null                            ┆ null    ┆ null       ┆ null     ┆ null      │\n",
       "├╌╌╌╌╌╌╌╌╌╌╌╌┼╌╌╌╌╌╌╌╌╌╌╌╌╌╌╌╌╌╌╌╌╌╌╌╌╌╌╌╌╌╌╌╌╌┼╌╌╌╌╌╌╌╌╌┼╌╌╌╌╌╌╌╌╌╌╌╌┼╌╌╌╌╌╌╌╌╌╌┼╌╌╌╌╌╌╌╌╌╌╌┤\n",
       "│ …          ┆ …                               ┆ …       ┆ …          ┆ …        ┆ …         │\n",
       "├╌╌╌╌╌╌╌╌╌╌╌╌┼╌╌╌╌╌╌╌╌╌╌╌╌╌╌╌╌╌╌╌╌╌╌╌╌╌╌╌╌╌╌╌╌╌┼╌╌╌╌╌╌╌╌╌┼╌╌╌╌╌╌╌╌╌╌╌╌┼╌╌╌╌╌╌╌╌╌╌┼╌╌╌╌╌╌╌╌╌╌╌┤\n",
       "│ 75%        ┆ null                            ┆ null    ┆ null       ┆ null     ┆ null      │\n",
       "├╌╌╌╌╌╌╌╌╌╌╌╌┼╌╌╌╌╌╌╌╌╌╌╌╌╌╌╌╌╌╌╌╌╌╌╌╌╌╌╌╌╌╌╌╌╌┼╌╌╌╌╌╌╌╌╌┼╌╌╌╌╌╌╌╌╌╌╌╌┼╌╌╌╌╌╌╌╌╌╌┼╌╌╌╌╌╌╌╌╌╌╌┤\n",
       "│ max        ┆ ZURICH RUA VIRGILIO MARTINHO N… ┆ CP      ┆ VOUZELA    ┆ LATITUDE ┆ LONGITUDE │\n",
       "└────────────┴─────────────────────────────────┴─────────┴────────────┴──────────┴───────────┘"
      ]
     },
     "execution_count": 54,
     "metadata": {},
     "output_type": "execute_result"
    }
   ],
   "source": [
    "df.describe()"
   ]
  },
  {
   "cell_type": "code",
   "execution_count": 55,
   "id": "e0382a64",
   "metadata": {},
   "outputs": [
    {
     "name": "stdout",
     "output_type": "stream",
     "text": [
      "Número de moradas: 1158\n"
     ]
    }
   ],
   "source": [
    "# garantir que CP é string\n",
    "df = df.with_columns(df[\"CP\"].cast(pl.Utf8))\n",
    "\n",
    "# filtrar e contar\n",
    "contagem = (\n",
    "    df.filter(df[\"CP\"].str.slice(0,4).is_in([\"4830\", \"4850\"]))\n",
    "      .select(pl.count(\"MORADA\"))\n",
    "      .item()\n",
    ")\n",
    "\n",
    "print(\"Número de moradas:\", contagem)"
   ]
  },
  {
   "cell_type": "code",
   "execution_count": 56,
   "id": "5451aa05",
   "metadata": {},
   "outputs": [
    {
     "data": {
      "text/html": [
       "<div><style>\n",
       ".dataframe > thead > tr,\n",
       ".dataframe > tbody > tr {\n",
       "  text-align: right;\n",
       "  white-space: pre-wrap;\n",
       "}\n",
       "</style>\n",
       "<small>shape: (1_158, 5)</small><table border=\"1\" class=\"dataframe\"><thead><tr><th>MORADA</th><th>CP</th><th>LOCALIDADE</th><th>LATITUDE</th><th>LONGITUDE</th></tr><tr><td>str</td><td>str</td><td>str</td><td>str</td><td>str</td></tr></thead><tbody><tr><td>&quot;RUA COMANDANTE LUIS PINTO DA S…</td><td>&quot;4830&quot;</td><td>&quot;POVOA DE LANHOSO&quot;</td><td>&quot;41.573881&quot;</td><td>&quot;-8.268431&quot;</td></tr><tr><td>&quot;AVENIDA DA CAPELA 147&quot;</td><td>&quot;4830&quot;</td><td>&quot;POVOA DE LANHOSO&quot;</td><td>&quot;41.602910728&quot;</td><td>&quot;-8.31333931399996&quot;</td></tr><tr><td>&quot;RUA NEUVES MAISONS NUMERO 211 …</td><td>&quot;4830-550&quot;</td><td>&quot;POVOA DE LANHOSO&quot;</td><td>&quot;41.573046436&quot;</td><td>&quot;-8.26624732199997&quot;</td></tr><tr><td>&hellip;</td><td>&hellip;</td><td>&hellip;</td><td>&hellip;</td><td>&hellip;</td></tr><tr><td>&quot;RUA DA QUINTA N 179 B&quot;</td><td>&quot;4830-379&quot;</td><td>&quot;LOUREDO PVL&quot;</td><td>&quot;41.5465713200001&quot;</td><td>&quot;-8.28988375599994&quot;</td></tr><tr><td>&quot;RUA 5 DE SETEMBRO N94 N94 RC E…</td><td>&quot;4830&quot;</td><td>&quot;PA VOA DE LANHOSO&quot;</td><td>&quot;41.57924&quot;</td><td>&quot;-8.273131&quot;</td></tr></tbody></table></div>"
      ],
      "text/plain": [
       "shape: (1_158, 5)\n",
       "┌─────────────────────────────────┬──────────┬───────────────────┬──────────────────┬───────────────────┐\n",
       "│ MORADA                          ┆ CP       ┆ LOCALIDADE        ┆ LATITUDE         ┆ LONGITUDE         │\n",
       "│ ---                             ┆ ---      ┆ ---               ┆ ---              ┆ ---               │\n",
       "│ str                             ┆ str      ┆ str               ┆ str              ┆ str               │\n",
       "╞═════════════════════════════════╪══════════╪═══════════════════╪══════════════════╪═══════════════════╡\n",
       "│ RUA COMANDANTE LUIS PINTO DA S… ┆ 4830     ┆ POVOA DE LANHOSO  ┆ 41.573881        ┆ -8.268431         │\n",
       "├╌╌╌╌╌╌╌╌╌╌╌╌╌╌╌╌╌╌╌╌╌╌╌╌╌╌╌╌╌╌╌╌╌┼╌╌╌╌╌╌╌╌╌╌┼╌╌╌╌╌╌╌╌╌╌╌╌╌╌╌╌╌╌╌┼╌╌╌╌╌╌╌╌╌╌╌╌╌╌╌╌╌╌┼╌╌╌╌╌╌╌╌╌╌╌╌╌╌╌╌╌╌╌┤\n",
       "│ AVENIDA DA CAPELA 147           ┆ 4830     ┆ POVOA DE LANHOSO  ┆ 41.602910728     ┆ -8.31333931399996 │\n",
       "├╌╌╌╌╌╌╌╌╌╌╌╌╌╌╌╌╌╌╌╌╌╌╌╌╌╌╌╌╌╌╌╌╌┼╌╌╌╌╌╌╌╌╌╌┼╌╌╌╌╌╌╌╌╌╌╌╌╌╌╌╌╌╌╌┼╌╌╌╌╌╌╌╌╌╌╌╌╌╌╌╌╌╌┼╌╌╌╌╌╌╌╌╌╌╌╌╌╌╌╌╌╌╌┤\n",
       "│ RUA NEUVES MAISONS NUMERO 211 … ┆ 4830-550 ┆ POVOA DE LANHOSO  ┆ 41.573046436     ┆ -8.26624732199997 │\n",
       "├╌╌╌╌╌╌╌╌╌╌╌╌╌╌╌╌╌╌╌╌╌╌╌╌╌╌╌╌╌╌╌╌╌┼╌╌╌╌╌╌╌╌╌╌┼╌╌╌╌╌╌╌╌╌╌╌╌╌╌╌╌╌╌╌┼╌╌╌╌╌╌╌╌╌╌╌╌╌╌╌╌╌╌┼╌╌╌╌╌╌╌╌╌╌╌╌╌╌╌╌╌╌╌┤\n",
       "│ …                               ┆ …        ┆ …                 ┆ …                ┆ …                 │\n",
       "├╌╌╌╌╌╌╌╌╌╌╌╌╌╌╌╌╌╌╌╌╌╌╌╌╌╌╌╌╌╌╌╌╌┼╌╌╌╌╌╌╌╌╌╌┼╌╌╌╌╌╌╌╌╌╌╌╌╌╌╌╌╌╌╌┼╌╌╌╌╌╌╌╌╌╌╌╌╌╌╌╌╌╌┼╌╌╌╌╌╌╌╌╌╌╌╌╌╌╌╌╌╌╌┤\n",
       "│ RUA DA QUINTA N 179 B           ┆ 4830-379 ┆ LOUREDO PVL       ┆ 41.5465713200001 ┆ -8.28988375599994 │\n",
       "├╌╌╌╌╌╌╌╌╌╌╌╌╌╌╌╌╌╌╌╌╌╌╌╌╌╌╌╌╌╌╌╌╌┼╌╌╌╌╌╌╌╌╌╌┼╌╌╌╌╌╌╌╌╌╌╌╌╌╌╌╌╌╌╌┼╌╌╌╌╌╌╌╌╌╌╌╌╌╌╌╌╌╌┼╌╌╌╌╌╌╌╌╌╌╌╌╌╌╌╌╌╌╌┤\n",
       "│ RUA 5 DE SETEMBRO N94 N94 RC E… ┆ 4830     ┆ PA VOA DE LANHOSO ┆ 41.57924         ┆ -8.273131         │\n",
       "└─────────────────────────────────┴──────────┴───────────────────┴──────────────────┴───────────────────┘"
      ]
     },
     "execution_count": 56,
     "metadata": {},
     "output_type": "execute_result"
    }
   ],
   "source": [
    "df_filtrado = df.filter(\n",
    "    df[\"CP\"].str.slice(0, 4).is_in([\"4830\", \"4850\"])\n",
    ")\n",
    "\n",
    "df_filtrado"
   ]
  },
  {
   "cell_type": "code",
   "execution_count": 57,
   "id": "9f30fb19",
   "metadata": {},
   "outputs": [
    {
     "data": {
      "text/html": [
       "<div><style>\n",
       ".dataframe > thead > tr,\n",
       ".dataframe > tbody > tr {\n",
       "  text-align: right;\n",
       "  white-space: pre-wrap;\n",
       "}\n",
       "</style>\n",
       "<small>shape: (1_158, 11)</small><table border=\"1\" class=\"dataframe\"><thead><tr><th>MORADA</th><th>CP</th><th>LOCALIDADE</th><th>LATITUDE</th><th>LONGITUDE</th><th>logradouro</th><th>nome_rua</th><th>numero</th><th>andar</th><th>codigo_postal</th><th>localidade</th></tr><tr><td>str</td><td>str</td><td>str</td><td>str</td><td>str</td><td>str</td><td>str</td><td>str</td><td>str</td><td>str</td><td>str</td></tr></thead><tbody><tr><td>&quot;RUA COMANDANTE LUIS PINTO DA S…</td><td>&quot;4830&quot;</td><td>&quot;POVOA DE LANHOSO&quot;</td><td>&quot;41.573881&quot;</td><td>&quot;-8.268431&quot;</td><td>&quot;RUA&quot;</td><td>&quot;COMANDANTE LUIS PINTO DA SILVA…</td><td>&quot;37&quot;</td><td>null</td><td>null</td><td>null</td></tr><tr><td>&quot;AVENIDA DA CAPELA 147&quot;</td><td>&quot;4830&quot;</td><td>&quot;POVOA DE LANHOSO&quot;</td><td>&quot;41.602910728&quot;</td><td>&quot;-8.31333931399996&quot;</td><td>&quot;AVENIDA&quot;</td><td>&quot;DA CAPELA&quot;</td><td>&quot;147&quot;</td><td>null</td><td>null</td><td>null</td></tr><tr><td>&quot;RUA NEUVES MAISONS NUMERO 211 …</td><td>&quot;4830-550&quot;</td><td>&quot;POVOA DE LANHOSO&quot;</td><td>&quot;41.573046436&quot;</td><td>&quot;-8.26624732199997&quot;</td><td>&quot;RUA&quot;</td><td>&quot;NEUVES MAISONS NUMERO&quot;</td><td>&quot;211&quot;</td><td>null</td><td>null</td><td>&quot;DIREITO&quot;</td></tr><tr><td>&hellip;</td><td>&hellip;</td><td>&hellip;</td><td>&hellip;</td><td>&hellip;</td><td>&hellip;</td><td>&hellip;</td><td>&hellip;</td><td>&hellip;</td><td>&hellip;</td><td>&hellip;</td></tr><tr><td>&quot;RUA DA QUINTA N 179 B&quot;</td><td>&quot;4830-379&quot;</td><td>&quot;LOUREDO PVL&quot;</td><td>&quot;41.5465713200001&quot;</td><td>&quot;-8.28988375599994&quot;</td><td>&quot;RUA&quot;</td><td>&quot;DA QUINTA N&quot;</td><td>&quot;179&quot;</td><td>null</td><td>null</td><td>&quot;B&quot;</td></tr><tr><td>&quot;RUA 5 DE SETEMBRO N94 N94 RC E…</td><td>&quot;4830&quot;</td><td>&quot;PA VOA DE LANHOSO&quot;</td><td>&quot;41.57924&quot;</td><td>&quot;-8.273131&quot;</td><td>&quot;RUA&quot;</td><td>null</td><td>&quot;5&quot;</td><td>null</td><td>null</td><td>&quot;ESQUERDO&quot;</td></tr></tbody></table></div>"
      ],
      "text/plain": [
       "shape: (1_158, 11)\n",
       "┌───────────────────┬──────────┬──────────────────┬──────────────────┬───┬────────┬───────┬───────────────┬────────────┐\n",
       "│ MORADA            ┆ CP       ┆ LOCALIDADE       ┆ LATITUDE         ┆ … ┆ numero ┆ andar ┆ codigo_postal ┆ localidade │\n",
       "│ ---               ┆ ---      ┆ ---              ┆ ---              ┆   ┆ ---    ┆ ---   ┆ ---           ┆ ---        │\n",
       "│ str               ┆ str      ┆ str              ┆ str              ┆   ┆ str    ┆ str   ┆ str           ┆ str        │\n",
       "╞═══════════════════╪══════════╪══════════════════╪══════════════════╪═══╪════════╪═══════╪═══════════════╪════════════╡\n",
       "│ RUA COMANDANTE    ┆ 4830     ┆ POVOA DE LANHOSO ┆ 41.573881        ┆ … ┆ 37     ┆ null  ┆ null          ┆ null       │\n",
       "│ LUIS PINTO DA S…  ┆          ┆                  ┆                  ┆   ┆        ┆       ┆               ┆            │\n",
       "├╌╌╌╌╌╌╌╌╌╌╌╌╌╌╌╌╌╌╌┼╌╌╌╌╌╌╌╌╌╌┼╌╌╌╌╌╌╌╌╌╌╌╌╌╌╌╌╌╌┼╌╌╌╌╌╌╌╌╌╌╌╌╌╌╌╌╌╌┼╌╌╌┼╌╌╌╌╌╌╌╌┼╌╌╌╌╌╌╌┼╌╌╌╌╌╌╌╌╌╌╌╌╌╌╌┼╌╌╌╌╌╌╌╌╌╌╌╌┤\n",
       "│ AVENIDA DA CAPELA ┆ 4830     ┆ POVOA DE LANHOSO ┆ 41.602910728     ┆ … ┆ 147    ┆ null  ┆ null          ┆ null       │\n",
       "│ 147               ┆          ┆                  ┆                  ┆   ┆        ┆       ┆               ┆            │\n",
       "├╌╌╌╌╌╌╌╌╌╌╌╌╌╌╌╌╌╌╌┼╌╌╌╌╌╌╌╌╌╌┼╌╌╌╌╌╌╌╌╌╌╌╌╌╌╌╌╌╌┼╌╌╌╌╌╌╌╌╌╌╌╌╌╌╌╌╌╌┼╌╌╌┼╌╌╌╌╌╌╌╌┼╌╌╌╌╌╌╌┼╌╌╌╌╌╌╌╌╌╌╌╌╌╌╌┼╌╌╌╌╌╌╌╌╌╌╌╌┤\n",
       "│ RUA NEUVES        ┆ 4830-550 ┆ POVOA DE LANHOSO ┆ 41.573046436     ┆ … ┆ 211    ┆ null  ┆ null          ┆ DIREITO    │\n",
       "│ MAISONS NUMERO    ┆          ┆                  ┆                  ┆   ┆        ┆       ┆               ┆            │\n",
       "│ 211 …             ┆          ┆                  ┆                  ┆   ┆        ┆       ┆               ┆            │\n",
       "├╌╌╌╌╌╌╌╌╌╌╌╌╌╌╌╌╌╌╌┼╌╌╌╌╌╌╌╌╌╌┼╌╌╌╌╌╌╌╌╌╌╌╌╌╌╌╌╌╌┼╌╌╌╌╌╌╌╌╌╌╌╌╌╌╌╌╌╌┼╌╌╌┼╌╌╌╌╌╌╌╌┼╌╌╌╌╌╌╌┼╌╌╌╌╌╌╌╌╌╌╌╌╌╌╌┼╌╌╌╌╌╌╌╌╌╌╌╌┤\n",
       "│ …                 ┆ …        ┆ …                ┆ …                ┆ … ┆ …      ┆ …     ┆ …             ┆ …          │\n",
       "├╌╌╌╌╌╌╌╌╌╌╌╌╌╌╌╌╌╌╌┼╌╌╌╌╌╌╌╌╌╌┼╌╌╌╌╌╌╌╌╌╌╌╌╌╌╌╌╌╌┼╌╌╌╌╌╌╌╌╌╌╌╌╌╌╌╌╌╌┼╌╌╌┼╌╌╌╌╌╌╌╌┼╌╌╌╌╌╌╌┼╌╌╌╌╌╌╌╌╌╌╌╌╌╌╌┼╌╌╌╌╌╌╌╌╌╌╌╌┤\n",
       "│ RUA DA QUINTA N   ┆ 4830-379 ┆ LOUREDO PVL      ┆ 41.5465713200001 ┆ … ┆ 179    ┆ null  ┆ null          ┆ B          │\n",
       "│ 179 B             ┆          ┆                  ┆                  ┆   ┆        ┆       ┆               ┆            │\n",
       "├╌╌╌╌╌╌╌╌╌╌╌╌╌╌╌╌╌╌╌┼╌╌╌╌╌╌╌╌╌╌┼╌╌╌╌╌╌╌╌╌╌╌╌╌╌╌╌╌╌┼╌╌╌╌╌╌╌╌╌╌╌╌╌╌╌╌╌╌┼╌╌╌┼╌╌╌╌╌╌╌╌┼╌╌╌╌╌╌╌┼╌╌╌╌╌╌╌╌╌╌╌╌╌╌╌┼╌╌╌╌╌╌╌╌╌╌╌╌┤\n",
       "│ RUA 5 DE SETEMBRO ┆ 4830     ┆ PA VOA DE        ┆ 41.57924         ┆ … ┆ 5      ┆ null  ┆ null          ┆ ESQUERDO   │\n",
       "│ N94 N94 RC E…     ┆          ┆ LANHOSO          ┆                  ┆   ┆        ┆       ┆               ┆            │\n",
       "└───────────────────┴──────────┴──────────────────┴──────────────────┴───┴────────┴───────┴───────────────┴────────────┘"
      ]
     },
     "execution_count": 57,
     "metadata": {},
     "output_type": "execute_result"
    }
   ],
   "source": [
    "df_parts = df_filtrado.with_columns([\n",
    "    # logradouro\n",
    "    pl.col(\"MORADA\").str.extract(r\"^(RUA|AVENIDA|TRAVESSA|PRAÇA|ESTRADA|BECO)\", 1).alias(\"logradouro\"),\n",
    "\n",
    "    # nome da rua (do logradouro até antes do número, sem lookahead → usa stop no número)\n",
    "    pl.col(\"MORADA\").str.extract(r\"^(?:RUA|AVENIDA|TRAVESSA|PRAÇA|ESTRADA|BECO)\\s+([A-Z\\s]+?)(?:\\d|$)\", 1).str.strip_chars().alias(\"nome_rua\"),\n",
    "\n",
    "    # número da porta\n",
    "    pl.col(\"MORADA\").str.extract(r\"\\s(\\d+)\\b\", 1).alias(\"numero\"),\n",
    "\n",
    "    # andar\n",
    "    pl.col(\"MORADA\").str.extract(r\"(\\d+º\\s*[A-Z]*|R/C)\", 1).alias(\"andar\"),\n",
    "\n",
    "    # código postal\n",
    "    pl.col(\"MORADA\").str.extract(r\"(\\d{4}-\\d{3})\", 1).alias(\"codigo_postal\"),\n",
    "\n",
    "    # localidade (última palavra)\n",
    "    pl.col(\"MORADA\").str.extract(r\"([A-ZÇÃÉÓ]+)$\", 1).alias(\"localidade\")\n",
    "])\n",
    "\n",
    "df_parts"
   ]
  },
  {
   "cell_type": "code",
   "execution_count": 58,
   "id": "21bf37ee",
   "metadata": {},
   "outputs": [
    {
     "name": "stdout",
     "output_type": "stream",
     "text": [
      "Tempo Polars: 0.71 segundos\n",
      "Memória Polars: 161.99 MB\n"
     ]
    }
   ],
   "source": [
    "m1 = psutil.Process(os.getpid()).memory_info().rss / 1024**2\n",
    "print(\"Tempo Polars:\", round(time.time() - start, 2), \"segundos\")\n",
    "print(\"Memória Polars:\", round(m1 - m0, 2), \"MB\")"
   ]
  }
 ],
 "metadata": {
  "kernelspec": {
   "display_name": "Python 3",
   "language": "python",
   "name": "python3"
  },
  "language_info": {
   "codemirror_mode": {
    "name": "ipython",
    "version": 3
   },
   "file_extension": ".py",
   "mimetype": "text/x-python",
   "name": "python",
   "nbconvert_exporter": "python",
   "pygments_lexer": "ipython3",
   "version": "3.13.7"
  }
 },
 "nbformat": 4,
 "nbformat_minor": 5
}
