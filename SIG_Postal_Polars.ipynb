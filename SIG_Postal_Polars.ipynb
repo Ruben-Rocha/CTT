{
 "cells": [
  {
   "cell_type": "code",
   "execution_count": 5,
   "id": "4458c0d8",
   "metadata": {},
   "outputs": [],
   "source": [
    "import time\n",
    "import time, psutil, os\n",
    "start = time.time()\n",
    "m0 = psutil.Process(os.getpid()).memory_info().rss / 1024**2"
   ]
  },
  {
   "cell_type": "code",
   "execution_count": 6,
   "id": "05b9b172",
   "metadata": {},
   "outputs": [],
   "source": [
    "import polars as pl\n",
    "\n",
    "ficheiro = r\"C:\\Users\\1420844\\Downloads\\Portas_Portugal.csv\"\n",
    "\n",
    "# lê só a primeira linha como texto cru para apanhar os nomes das colunas\n",
    "with open(ficheiro, \"r\", encoding=\"utf8\") as f:\n",
    "    header = f.readline().strip().split(\",\")\n",
    "\n",
    "# cria schema: todas as colunas como Utf8\n",
    "schema = {c: pl.Utf8 for c in header}\n",
    "\n",
    "# lê o ficheiro aplicando esse schema\n",
    "df = pl.read_csv(\n",
    "    ficheiro,\n",
    "    separator=\",\",\n",
    "    quote_char='\"',\n",
    "    has_header=True,\n",
    "    schema_overrides=schema\n",
    ")\n",
    "\n"
   ]
  },
  {
   "cell_type": "code",
   "execution_count": 7,
   "id": "4702c9b7",
   "metadata": {},
   "outputs": [
    {
     "data": {
      "text/html": [
       "<div><style>\n",
       ".dataframe > thead > tr,\n",
       ".dataframe > tbody > tr {\n",
       "  text-align: right;\n",
       "  white-space: pre-wrap;\n",
       "}\n",
       "</style>\n",
       "<small>shape: (5, 18)</small><table border=\"1\" class=\"dataframe\"><thead><tr><th>OBJECTID</th><th>ID_PORTA</th><th>ID_SEGM</th><th>ID_ARTERIA</th><th>CARACTERISTICA</th><th>CARACTERIZACAO</th><th>NOME_COMPLETO</th><th>NOME_PORTA</th><th>PD</th><th>CP4</th><th>CP7</th><th>CPD</th><th>CP10</th><th>PE</th><th>ID_LUGAR</th><th>LOCALIDADE</th><th>DDCCFF</th><th>ESTADO</th></tr><tr><td>str</td><td>str</td><td>str</td><td>str</td><td>str</td><td>str</td><td>str</td><td>str</td><td>str</td><td>str</td><td>str</td><td>str</td><td>str</td><td>str</td><td>str</td><td>str</td><td>str</td><td>str</td></tr></thead><tbody><tr><td>&quot;1&quot;</td><td>&quot;2222556&quot;</td><td>&quot;7322889&quot;</td><td>&quot;26611411&quot;</td><td>null</td><td>null</td><td>&quot;Rua Heróis da Aviação&quot;</td><td>null</td><td>&quot;1&quot;</td><td>&quot;2615&quot;</td><td>&quot;2615-205&quot;</td><td>null</td><td>null</td><td>&quot;1&quot;</td><td>&quot;50076&quot;</td><td>&quot;Alverca do Ribatejo&quot;</td><td>&quot;111413&quot;</td><td>&quot;REAL&quot;</td></tr><tr><td>&quot;2&quot;</td><td>&quot;2204839&quot;</td><td>&quot;320766&quot;</td><td>&quot;20771411&quot;</td><td>null</td><td>null</td><td>&quot;Avenida Infante Dom Pedro&quot;</td><td>&quot;56&quot;</td><td>&quot;1&quot;</td><td>&quot;2615&quot;</td><td>&quot;2615-149&quot;</td><td>&quot;026&quot;</td><td>&quot;2615149026&quot;</td><td>&quot;2&quot;</td><td>&quot;50076&quot;</td><td>&quot;Alverca do Ribatejo&quot;</td><td>&quot;111413&quot;</td><td>&quot;REAL&quot;</td></tr><tr><td>&quot;3&quot;</td><td>&quot;5660828&quot;</td><td>&quot;321229&quot;</td><td>&quot;227351411&quot;</td><td>null</td><td>null</td><td>&quot;Rua Coronel Edgar Pereira da C…</td><td>&quot;1&quot;</td><td>&quot;1&quot;</td><td>&quot;2615&quot;</td><td>&quot;2615-382&quot;</td><td>&quot;006&quot;</td><td>&quot;2615382006&quot;</td><td>&quot;1&quot;</td><td>&quot;50076&quot;</td><td>&quot;Alverca do Ribatejo&quot;</td><td>&quot;111413&quot;</td><td>&quot;REAL&quot;</td></tr><tr><td>&quot;4&quot;</td><td>&quot;2244196&quot;</td><td>&quot;313427&quot;</td><td>&quot;13031611&quot;</td><td>null</td><td>null</td><td>&quot;Rua do Girassol&quot;</td><td>&quot;33&quot;</td><td>&quot;1&quot;</td><td>&quot;2620&quot;</td><td>&quot;2620-447&quot;</td><td>&quot;011&quot;</td><td>&quot;2620447011&quot;</td><td>&quot;1&quot;</td><td>&quot;58220&quot;</td><td>&quot;Ramada&quot;</td><td>&quot;111610&quot;</td><td>&quot;REAL&quot;</td></tr><tr><td>&quot;5&quot;</td><td>&quot;5649059&quot;</td><td>&quot;7295450&quot;</td><td>&quot;106625100&quot;</td><td>null</td><td>null</td><td>&quot;Estrada Nacional 365 - 2&quot;</td><td>&quot;O Nosso Cantinho&quot;</td><td>&quot;1&quot;</td><td>&quot;2070&quot;</td><td>&quot;2070-367&quot;</td><td>&quot;146&quot;</td><td>&quot;2070367146&quot;</td><td>&quot;1&quot;</td><td>&quot;11972&quot;</td><td>&quot;Casais dos Penedos&quot;</td><td>&quot;140604&quot;</td><td>&quot;REAL&quot;</td></tr></tbody></table></div>"
      ],
      "text/plain": [
       "shape: (5, 18)\n",
       "┌──────────┬──────────┬─────────┬────────────┬───┬──────────┬────────────────────┬────────┬────────┐\n",
       "│ OBJECTID ┆ ID_PORTA ┆ ID_SEGM ┆ ID_ARTERIA ┆ … ┆ ID_LUGAR ┆ LOCALIDADE         ┆ DDCCFF ┆ ESTADO │\n",
       "│ ---      ┆ ---      ┆ ---     ┆ ---        ┆   ┆ ---      ┆ ---                ┆ ---    ┆ ---    │\n",
       "│ str      ┆ str      ┆ str     ┆ str        ┆   ┆ str      ┆ str                ┆ str    ┆ str    │\n",
       "╞══════════╪══════════╪═════════╪════════════╪═══╪══════════╪════════════════════╪════════╪════════╡\n",
       "│ 1        ┆ 2222556  ┆ 7322889 ┆ 26611411   ┆ … ┆ 50076    ┆ Alverca do         ┆ 111413 ┆ REAL   │\n",
       "│          ┆          ┆         ┆            ┆   ┆          ┆ Ribatejo           ┆        ┆        │\n",
       "│ 2        ┆ 2204839  ┆ 320766  ┆ 20771411   ┆ … ┆ 50076    ┆ Alverca do         ┆ 111413 ┆ REAL   │\n",
       "│          ┆          ┆         ┆            ┆   ┆          ┆ Ribatejo           ┆        ┆        │\n",
       "│ 3        ┆ 5660828  ┆ 321229  ┆ 227351411  ┆ … ┆ 50076    ┆ Alverca do         ┆ 111413 ┆ REAL   │\n",
       "│          ┆          ┆         ┆            ┆   ┆          ┆ Ribatejo           ┆        ┆        │\n",
       "│ 4        ┆ 2244196  ┆ 313427  ┆ 13031611   ┆ … ┆ 58220    ┆ Ramada             ┆ 111610 ┆ REAL   │\n",
       "│ 5        ┆ 5649059  ┆ 7295450 ┆ 106625100  ┆ … ┆ 11972    ┆ Casais dos Penedos ┆ 140604 ┆ REAL   │\n",
       "└──────────┴──────────┴─────────┴────────────┴───┴──────────┴────────────────────┴────────┴────────┘"
      ]
     },
     "execution_count": 7,
     "metadata": {},
     "output_type": "execute_result"
    }
   ],
   "source": [
    "df.head()"
   ]
  },
  {
   "cell_type": "code",
   "execution_count": 8,
   "id": "21bf37ee",
   "metadata": {},
   "outputs": [
    {
     "name": "stdout",
     "output_type": "stream",
     "text": [
      "Tempo Polars: 1.1 segundos\n",
      "Memória Polars: 2194.34 MB\n"
     ]
    }
   ],
   "source": [
    "m1 = psutil.Process(os.getpid()).memory_info().rss / 1024**2\n",
    "print(\"Tempo Polars:\", round(time.time() - start, 2), \"segundos\")\n",
    "print(\"Memória Polars:\", round(m1 - m0, 2), \"MB\")"
   ]
  }
 ],
 "metadata": {
  "kernelspec": {
   "display_name": "Python 3",
   "language": "python",
   "name": "python3"
  },
  "language_info": {
   "codemirror_mode": {
    "name": "ipython",
    "version": 3
   },
   "file_extension": ".py",
   "mimetype": "text/x-python",
   "name": "python",
   "nbconvert_exporter": "python",
   "pygments_lexer": "ipython3",
   "version": "3.13.7"
  }
 },
 "nbformat": 4,
 "nbformat_minor": 5
}
