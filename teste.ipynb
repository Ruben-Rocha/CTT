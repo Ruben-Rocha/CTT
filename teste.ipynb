{
 "cells": [
  {
   "cell_type": "code",
   "execution_count": null,
   "id": "486fa874",
   "metadata": {},
   "outputs": [
    {
     "ename": "SyntaxError",
     "evalue": "(unicode error) 'unicodeescape' codec can't decode bytes in position 2-3: truncated \\UXXXXXXXX escape (1216685880.py, line 9)",
     "output_type": "error",
     "traceback": [
      "  \u001b[36mCell\u001b[39m\u001b[36m \u001b[39m\u001b[32mIn[2]\u001b[39m\u001b[32m, line 9\u001b[39m\n\u001b[31m    \u001b[39m\u001b[31mppk_path = os.path.expanduser(\"c:\\Users\\1420844\\Downloads\\cttexpresso.ppk\")  # caminho para o ficheiro .ppk\u001b[39m\n                                  ^\n\u001b[31mSyntaxError\u001b[39m\u001b[31m:\u001b[39m (unicode error) 'unicodeescape' codec can't decode bytes in position 2-3: truncated \\UXXXXXXXX escape\n"
     ]
    }
   ],
   "source": [
    "import paramiko\n",
    "\n",
    "# ==========================\n",
    "# 1. Definir variáveis\n",
    "# ==========================\n",
    "hostname = \"servidor.com\"     # substitui pelo endereço do servidor\n",
    "username = \"utilizador\"       # substitui pelo teu utilizador\n",
    "ppk_path = r\"C:\\Users\\1420844\\Downloads\\cttexpresso.ppk\"  # caminho da chave .ppk\n",
    "\n",
    "# ==========================\n",
    "# 2. Criar cliente SSH\n",
    "# ==========================\n",
    "client = paramiko.SSHClient()\n",
    "client.set_missing_host_key_policy(paramiko.AutoAddPolicy())\n",
    "\n",
    "# ==========================\n",
    "# 3. Carregar chave e ligar\n",
    "# ==========================\n",
    "pkey = paramiko.RSAKey.from_private_key_file(ppk_path)  # se tiver password: , password=\"tua_senha\"\n",
    "client.connect(hostname, username=username, pkey=pkey)\n",
    "\n",
    "# ==========================\n",
    "# 4. Executar comando no servidor\n",
    "# ==========================\n",
    "stdin, stdout, stderr = client.exec_command(\"ls -la\")\n",
    "print(stdout.read().decode())\n",
    "\n",
    "# ==========================\n",
    "# 5. Fechar ligação\n",
    "# ==========================\n",
    "client.close()\n"
   ]
  }
 ],
 "metadata": {
  "kernelspec": {
   "display_name": "Python 3",
   "language": "python",
   "name": "python3"
  },
  "language_info": {
   "codemirror_mode": {
    "name": "ipython",
    "version": 3
   },
   "file_extension": ".py",
   "mimetype": "text/x-python",
   "name": "python",
   "nbconvert_exporter": "python",
   "pygments_lexer": "ipython3",
   "version": "3.13.7"
  }
 },
 "nbformat": 4,
 "nbformat_minor": 5
}
