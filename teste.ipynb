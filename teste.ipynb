{
 "cells": [
  {
   "cell_type": "code",
   "execution_count": null,
   "id": "73da1325",
   "metadata": {},
   "outputs": [
    {
     "data": {
      "text/html": [
       "<div>\n",
       "<style scoped>\n",
       "    .dataframe tbody tr th:only-of-type {\n",
       "        vertical-align: middle;\n",
       "    }\n",
       "\n",
       "    .dataframe tbody tr th {\n",
       "        vertical-align: top;\n",
       "    }\n",
       "\n",
       "    .dataframe thead th {\n",
       "        text-align: right;\n",
       "    }\n",
       "</style>\n",
       "<table border=\"1\" class=\"dataframe\">\n",
       "  <thead>\n",
       "    <tr style=\"text-align: right;\">\n",
       "      <th></th>\n",
       "      <th>CP4_BASE</th>\n",
       "      <th>CP7</th>\n",
       "      <th>DESCRICAO_CP7</th>\n",
       "    </tr>\n",
       "  </thead>\n",
       "  <tbody>\n",
       "    <tr>\n",
       "      <th>0</th>\n",
       "      <td>1000</td>\n",
       "      <td>1000001</td>\n",
       "      <td>A: R AÇORES Impares de 1 a 19; L: LISBOA</td>\n",
       "    </tr>\n",
       "    <tr>\n",
       "      <th>1</th>\n",
       "      <td>1000</td>\n",
       "      <td>1000002</td>\n",
       "      <td>A: R AÇORES Impares de 23 a 47; L: LISBOA</td>\n",
       "    </tr>\n",
       "    <tr>\n",
       "      <th>2</th>\n",
       "      <td>1000</td>\n",
       "      <td>1000003</td>\n",
       "      <td>A: R AÇORES Impares de 49 a 61; L: LISBOA</td>\n",
       "    </tr>\n",
       "    <tr>\n",
       "      <th>3</th>\n",
       "      <td>1000</td>\n",
       "      <td>1000004</td>\n",
       "      <td>A: R AÇORES Pares de 2 a 30; L: LISBOA</td>\n",
       "    </tr>\n",
       "    <tr>\n",
       "      <th>4</th>\n",
       "      <td>1000</td>\n",
       "      <td>1000005</td>\n",
       "      <td>A: R AÇORES Pares de 30A a 84D; L: LISBOA</td>\n",
       "    </tr>\n",
       "  </tbody>\n",
       "</table>\n",
       "</div>"
      ],
      "text/plain": [
       "   CP4_BASE      CP7                              DESCRICAO_CP7\n",
       "0      1000  1000001   A: R AÇORES Impares de 1 a 19; L: LISBOA\n",
       "1      1000  1000002  A: R AÇORES Impares de 23 a 47; L: LISBOA\n",
       "2      1000  1000003  A: R AÇORES Impares de 49 a 61; L: LISBOA\n",
       "3      1000  1000004     A: R AÇORES Pares de 2 a 30; L: LISBOA\n",
       "4      1000  1000005  A: R AÇORES Pares de 30A a 84D; L: LISBOA"
      ]
     },
     "execution_count": 12,
     "metadata": {},
     "output_type": "execute_result"
    }
   ],
   "source": [
    "# ==========================\n",
    "# 1. Importar bibliotecas\n",
    "# ==========================\n",
    "import pandas as pd\n",
    "\n",
    "# ==========================\n",
    "# 2. Definir caminho do ficheiro\n",
    "# ==========================\n",
    "ARQ_IN = r\"C:\\Users\\1420844\\Downloads\\CP7_DESCRICAO_EXPORT_20250904.csv\"\n",
    "\n",
    "# ==========================\n",
    "# 3. Ler ficheiro para DataFrame\n",
    "# ==========================\n",
    "df = pd.read_csv(ARQ_IN, sep=\";\", encoding=\"utf-8\")  # ajustar separador/encoding se necessário\n",
    "\n",
    "# ==========================\n",
    "# 4. Visualizar DataFrame\n",
    "# ==========================\n",
    "df.head()\n"
   ]
  }
 ],
 "metadata": {
  "kernelspec": {
   "display_name": "Python 3",
   "language": "python",
   "name": "python3"
  },
  "language_info": {
   "codemirror_mode": {
    "name": "ipython",
    "version": 3
   },
   "file_extension": ".py",
   "mimetype": "text/x-python",
   "name": "python",
   "nbconvert_exporter": "python",
   "pygments_lexer": "ipython3",
   "version": "3.13.7"
  }
 },
 "nbformat": 4,
 "nbformat_minor": 5
}
