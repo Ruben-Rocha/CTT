{
 "cells": [
  {
   "cell_type": "code",
   "execution_count": 65,
   "id": "2f3ef410",
   "metadata": {},
   "outputs": [],
   "source": [
    "import time\n",
    "import time, psutil, os\n",
    "start = time.time()\n",
    "m0 = psutil.Process(os.getpid()).memory_info().rss / 1024**2"
   ]
  },
  {
   "cell_type": "code",
   "execution_count": 66,
   "id": "c20d26bb",
   "metadata": {},
   "outputs": [],
   "source": [
    "\n",
    "# ==========================\n",
    "# 1. Importar libs\n",
    "# ==========================\n",
    "\n",
    "import polars as pl\n",
    "\n",
    "pl.Config.set_tbl_cols(-1)  # mostra todas as colunas sem cortar\n",
    "pl.Config.set_tbl_formatting(\"UTF8_FULL\")   # mostra todos os valores sem cortar\n",
    "\n",
    "from io import StringIO\n"
   ]
  },
  {
   "cell_type": "code",
   "execution_count": 67,
   "id": "23eb16a4",
   "metadata": {},
   "outputs": [
    {
     "data": {
      "text/plain": [
       "['C:\\\\Users\\\\1420844\\\\Downloads\\\\BD_CTT_092025\\\\ARTERIA_ALTERNATIVA.CSV',\n",
       " 'C:\\\\Users\\\\1420844\\\\Downloads\\\\BD_CTT_092025\\\\CONCELHO.CSV',\n",
       " 'C:\\\\Users\\\\1420844\\\\Downloads\\\\BD_CTT_092025\\\\CP7COORDS.CSV',\n",
       " 'C:\\\\Users\\\\1420844\\\\Downloads\\\\BD_CTT_092025\\\\DISTRITO.CSV',\n",
       " 'C:\\\\Users\\\\1420844\\\\Downloads\\\\BD_CTT_092025\\\\FREGUESIA.CSV',\n",
       " 'C:\\\\Users\\\\1420844\\\\Downloads\\\\BD_CTT_092025\\\\LOCAL.CSV',\n",
       " 'C:\\\\Users\\\\1420844\\\\Downloads\\\\BD_CTT_092025\\\\LOCALIDADE.CSV',\n",
       " 'C:\\\\Users\\\\1420844\\\\Downloads\\\\BD_CTT_092025\\\\LOCART.CSV',\n",
       " 'C:\\\\Users\\\\1420844\\\\Downloads\\\\BD_CTT_092025\\\\PORTA.CSV',\n",
       " 'C:\\\\Users\\\\1420844\\\\Downloads\\\\BD_CTT_092025\\\\PORTA_ALTERNATIVA.CSV']"
      ]
     },
     "execution_count": 67,
     "metadata": {},
     "output_type": "execute_result"
    }
   ],
   "source": [
    "# ==========================\n",
    "# 1. Listar ficheiros com Pathlib\n",
    "# ==========================\n",
    "from pathlib import Path\n",
    "\n",
    "pasta = Path(r\"C:\\Users\\1420844\\Downloads\\BD_CTT_092025\")\n",
    "\n",
    "ficheiros = [str(f) for f in pasta.glob(\"*\") if f.is_file()]\n",
    "\n",
    "ficheiros"
   ]
  },
  {
   "cell_type": "code",
   "execution_count": 68,
   "id": "f46d1613",
   "metadata": {},
   "outputs": [],
   "source": [
    "r1  = r\"C:\\Users\\1420844\\Downloads\\BD_CTT_092025\\ARTERIA_ALTERNATIVA.CSV\"\n",
    "r2  = r\"C:\\Users\\1420844\\Downloads\\BD_CTT_092025\\CONCELHO.CSV\"\n",
    "r3  = r\"C:\\Users\\1420844\\Downloads\\BD_CTT_092025\\CP7COORDS.CSV\"\n",
    "r4  = r\"C:\\Users\\1420844\\Downloads\\BD_CTT_092025\\DISTRITO.CSV\"\n",
    "r5  = r\"C:\\Users\\1420844\\Downloads\\BD_CTT_092025\\FREGUESIA.CSV\"\n",
    "r6  = r\"C:\\Users\\1420844\\Downloads\\BD_CTT_092025\\LOCAL.CSV\"\n",
    "r7  = r\"C:\\Users\\1420844\\Downloads\\BD_CTT_092025\\LOCALIDADE.CSV\"\n",
    "r8  = r\"C:\\Users\\1420844\\Downloads\\BD_CTT_092025\\LOCART.CSV\"\n",
    "r9  = r\"C:\\Users\\1420844\\Downloads\\BD_CTT_092025\\PORTA.CSV\"\n",
    "r10 = r\"C:\\Users\\1420844\\Downloads\\BD_CTT_092025\\PORTA_ALTERNATIVA.CSV\""
   ]
  },
  {
   "cell_type": "code",
   "execution_count": 74,
   "id": "b9c1ff01",
   "metadata": {},
   "outputs": [],
   "source": [
    "\n",
    "with open(r9, \"rb\") as f: linhas = f.read().decode(\"utf-8\", errors=\"ignore\")\n",
    "df_portas = pl.read_csv(StringIO(linhas), separator=\";\", ignore_errors=True, decimal_comma=True)\n",
    "\n",
    "df_portas = df_portas.with_columns([\n",
    "    df_portas[col].cast(pl.Int64)\n",
    "    for col in df_portas.columns\n",
    "    if col not in (\"LONG_PORTA\", \"LAT_PORTA\") and df_portas[col].dtype == pl.Float64\n",
    "])\n"
   ]
  },
  {
   "cell_type": "code",
   "execution_count": 75,
   "id": "9a3053a5",
   "metadata": {},
   "outputs": [
    {
     "data": {
      "text/html": [
       "<div><style>\n",
       ".dataframe > thead > tr,\n",
       ".dataframe > tbody > tr {\n",
       "  text-align: right;\n",
       "  white-space: pre-wrap;\n",
       "}\n",
       "</style>\n",
       "<small>shape: (5, 14)</small><table border=\"1\" class=\"dataframe\"><thead><tr><th>ID_PORTA</th><th>PORTA_TIPO</th><th>PORTA_NUM</th><th>ID_ARTERIA</th><th>CP4</th><th>CP3</th><th>DESIGNACAO_POSTAL</th><th>ID_LOCALIDADE</th><th>ID_LOCAL</th><th>DD</th><th>CC</th><th>FF</th><th>LONG_PORTA</th><th>LAT_PORTA</th></tr><tr><td>i64</td><td>str</td><td>i64</td><td>i64</td><td>i64</td><td>i64</td><td>str</td><td>i64</td><td>i64</td><td>i64</td><td>i64</td><td>i64</td><td>f64</td><td>f64</td></tr></thead><tbody><tr><td>3</td><td>null</td><td>353</td><td>7310315</td><td>2810</td><td>291</td><td>&quot;ALMADA&quot;</td><td>1976</td><td>null</td><td>15</td><td>3</td><td>15</td><td>-9.15</td><td>38.65</td></tr><tr><td>4</td><td>null</td><td>355</td><td>7310315</td><td>2810</td><td>291</td><td>&quot;ALMADA&quot;</td><td>1976</td><td>null</td><td>15</td><td>3</td><td>15</td><td>-9.15</td><td>38.65</td></tr><tr><td>5</td><td>null</td><td>12</td><td>2111417</td><td>5000</td><td>650</td><td>&quot;VILA REAL&quot;</td><td>52333</td><td>null</td><td>17</td><td>14</td><td>38</td><td>-7.74</td><td>41.29</td></tr><tr><td>6</td><td>null</td><td>16</td><td>2111417</td><td>5000</td><td>650</td><td>&quot;VILA REAL&quot;</td><td>52333</td><td>null</td><td>17</td><td>14</td><td>38</td><td>-7.74</td><td>41.29</td></tr><tr><td>7</td><td>null</td><td>18</td><td>2111417</td><td>5000</td><td>650</td><td>&quot;VILA REAL&quot;</td><td>52333</td><td>null</td><td>17</td><td>14</td><td>38</td><td>-7.74</td><td>41.29</td></tr></tbody></table></div>"
      ],
      "text/plain": [
       "shape: (5, 14)\n",
       "┌─────┬─────┬─────┬────────┬──────┬─────┬────────┬───────┬───────┬─────┬─────┬─────┬───────┬───────┐\n",
       "│ ID_ ┆ POR ┆ POR ┆ ID_ART ┆ CP4  ┆ CP3 ┆ DESIGN ┆ ID_LO ┆ ID_LO ┆ DD  ┆ CC  ┆ FF  ┆ LONG_ ┆ LAT_P │\n",
       "│ POR ┆ TA_ ┆ TA_ ┆ ERIA   ┆ ---  ┆ --- ┆ ACAO_P ┆ CALID ┆ CAL   ┆ --- ┆ --- ┆ --- ┆ PORTA ┆ ORTA  │\n",
       "│ TA  ┆ TIP ┆ NUM ┆ ---    ┆ i64  ┆ i64 ┆ OSTAL  ┆ ADE   ┆ ---   ┆ i64 ┆ i64 ┆ i64 ┆ ---   ┆ ---   │\n",
       "│ --- ┆ O   ┆ --- ┆ i64    ┆      ┆     ┆ ---    ┆ ---   ┆ i64   ┆     ┆     ┆     ┆ f64   ┆ f64   │\n",
       "│ i64 ┆ --- ┆ i64 ┆        ┆      ┆     ┆ str    ┆ i64   ┆       ┆     ┆     ┆     ┆       ┆       │\n",
       "│     ┆ str ┆     ┆        ┆      ┆     ┆        ┆       ┆       ┆     ┆     ┆     ┆       ┆       │\n",
       "╞═════╪═════╪═════╪════════╪══════╪═════╪════════╪═══════╪═══════╪═════╪═════╪═════╪═══════╪═══════╡\n",
       "│ 3   ┆ nul ┆ 353 ┆ 731031 ┆ 2810 ┆ 291 ┆ ALMADA ┆ 1976  ┆ null  ┆ 15  ┆ 3   ┆ 15  ┆ -9.15 ┆ 38.65 │\n",
       "│     ┆ l   ┆     ┆ 5      ┆      ┆     ┆        ┆       ┆       ┆     ┆     ┆     ┆       ┆       │\n",
       "├╌╌╌╌╌┼╌╌╌╌╌┼╌╌╌╌╌┼╌╌╌╌╌╌╌╌┼╌╌╌╌╌╌┼╌╌╌╌╌┼╌╌╌╌╌╌╌╌┼╌╌╌╌╌╌╌┼╌╌╌╌╌╌╌┼╌╌╌╌╌┼╌╌╌╌╌┼╌╌╌╌╌┼╌╌╌╌╌╌╌┼╌╌╌╌╌╌╌┤\n",
       "│ 4   ┆ nul ┆ 355 ┆ 731031 ┆ 2810 ┆ 291 ┆ ALMADA ┆ 1976  ┆ null  ┆ 15  ┆ 3   ┆ 15  ┆ -9.15 ┆ 38.65 │\n",
       "│     ┆ l   ┆     ┆ 5      ┆      ┆     ┆        ┆       ┆       ┆     ┆     ┆     ┆       ┆       │\n",
       "├╌╌╌╌╌┼╌╌╌╌╌┼╌╌╌╌╌┼╌╌╌╌╌╌╌╌┼╌╌╌╌╌╌┼╌╌╌╌╌┼╌╌╌╌╌╌╌╌┼╌╌╌╌╌╌╌┼╌╌╌╌╌╌╌┼╌╌╌╌╌┼╌╌╌╌╌┼╌╌╌╌╌┼╌╌╌╌╌╌╌┼╌╌╌╌╌╌╌┤\n",
       "│ 5   ┆ nul ┆ 12  ┆ 211141 ┆ 5000 ┆ 650 ┆ VILA   ┆ 52333 ┆ null  ┆ 17  ┆ 14  ┆ 38  ┆ -7.74 ┆ 41.29 │\n",
       "│     ┆ l   ┆     ┆ 7      ┆      ┆     ┆ REAL   ┆       ┆       ┆     ┆     ┆     ┆       ┆       │\n",
       "├╌╌╌╌╌┼╌╌╌╌╌┼╌╌╌╌╌┼╌╌╌╌╌╌╌╌┼╌╌╌╌╌╌┼╌╌╌╌╌┼╌╌╌╌╌╌╌╌┼╌╌╌╌╌╌╌┼╌╌╌╌╌╌╌┼╌╌╌╌╌┼╌╌╌╌╌┼╌╌╌╌╌┼╌╌╌╌╌╌╌┼╌╌╌╌╌╌╌┤\n",
       "│ 6   ┆ nul ┆ 16  ┆ 211141 ┆ 5000 ┆ 650 ┆ VILA   ┆ 52333 ┆ null  ┆ 17  ┆ 14  ┆ 38  ┆ -7.74 ┆ 41.29 │\n",
       "│     ┆ l   ┆     ┆ 7      ┆      ┆     ┆ REAL   ┆       ┆       ┆     ┆     ┆     ┆       ┆       │\n",
       "├╌╌╌╌╌┼╌╌╌╌╌┼╌╌╌╌╌┼╌╌╌╌╌╌╌╌┼╌╌╌╌╌╌┼╌╌╌╌╌┼╌╌╌╌╌╌╌╌┼╌╌╌╌╌╌╌┼╌╌╌╌╌╌╌┼╌╌╌╌╌┼╌╌╌╌╌┼╌╌╌╌╌┼╌╌╌╌╌╌╌┼╌╌╌╌╌╌╌┤\n",
       "│ 7   ┆ nul ┆ 18  ┆ 211141 ┆ 5000 ┆ 650 ┆ VILA   ┆ 52333 ┆ null  ┆ 17  ┆ 14  ┆ 38  ┆ -7.74 ┆ 41.29 │\n",
       "│     ┆ l   ┆     ┆ 7      ┆      ┆     ┆ REAL   ┆       ┆       ┆     ┆     ┆     ┆       ┆       │\n",
       "└─────┴─────┴─────┴────────┴──────┴─────┴────────┴───────┴───────┴─────┴─────┴─────┴───────┴───────┘"
      ]
     },
     "execution_count": 75,
     "metadata": {},
     "output_type": "execute_result"
    }
   ],
   "source": [
    "df_portas.head()"
   ]
  },
  {
   "cell_type": "code",
   "execution_count": 76,
   "id": "03447b92",
   "metadata": {},
   "outputs": [
    {
     "data": {
      "text/plain": [
       "Schema([('ID_PORTA', Int64),\n",
       "        ('PORTA_TIPO', String),\n",
       "        ('PORTA_NUM', Int64),\n",
       "        ('ID_ARTERIA', Int64),\n",
       "        ('CP4', Int64),\n",
       "        ('CP3', Int64),\n",
       "        ('DESIGNACAO_POSTAL', String),\n",
       "        ('ID_LOCALIDADE', Int64),\n",
       "        ('ID_LOCAL', Int64),\n",
       "        ('DD', Int64),\n",
       "        ('CC', Int64),\n",
       "        ('FF', Int64),\n",
       "        ('LONG_PORTA', Float64),\n",
       "        ('LAT_PORTA', Float64)])"
      ]
     },
     "execution_count": 76,
     "metadata": {},
     "output_type": "execute_result"
    }
   ],
   "source": [
    "df_portas.schema\n"
   ]
  },
  {
   "cell_type": "code",
   "execution_count": null,
   "id": "09a3b1fc",
   "metadata": {},
   "outputs": [],
   "source": [
    "with open(r8, \"rb\") as f: linhas = f.read().decode(\"utf-8\", errors=\"ignore\")\n",
    "df_locart = pl.read_csv(StringIO(linhas), separator=\";\", ignore_errors=True, decimal_comma=True)\n"
   ]
  },
  {
   "cell_type": "code",
   "execution_count": null,
   "id": "0a55f0fe",
   "metadata": {},
   "outputs": [
    {
     "data": {
      "text/html": [
       "<div><style>\n",
       ".dataframe > thead > tr,\n",
       ".dataframe > tbody > tr {\n",
       "  text-align: right;\n",
       "  white-space: pre-wrap;\n",
       "}\n",
       "</style>\n",
       "<small>shape: (5, 23)</small><table border=\"1\" class=\"dataframe\"><thead><tr><th>DD</th><th>CC</th><th>FF</th><th>LLLL</th><th>LOCALIDADE</th><th>ART_COD</th><th>ART_TIPO</th><th>ART_PP</th><th>ART_TITULO</th><th>ART_SP</th><th>ART_DESIG</th><th>ART_LOCAL</th><th>I_P</th><th>INI_NUM</th><th>INI_LET</th><th>FIM_NUM</th><th>FIM_LET</th><th>ID_TIPO</th><th>ID_DESIG</th><th>CLIENTE</th><th>CP4</th><th>CP3</th><th>CPALF</th></tr><tr><td>i64</td><td>i64</td><td>i64</td><td>i64</td><td>str</td><td>i64</td><td>str</td><td>str</td><td>str</td><td>str</td><td>str</td><td>str</td><td>str</td><td>i64</td><td>str</td><td>i64</td><td>str</td><td>str</td><td>str</td><td>str</td><td>i64</td><td>i64</td><td>str</td></tr></thead><tbody><tr><td>11</td><td>11</td><td>8</td><td>45249</td><td>&quot;Rio de Mouro&quot;</td><td>68481111</td><td>&quot;Rua&quot;</td><td>&quot;do&quot;</td><td>null</td><td>null</td><td>&quot;Planeta Mercrio&quot;</td><td>&quot;Serra das Minas&quot;</td><td>null</td><td>null</td><td>null</td><td>null</td><td>null</td><td>null</td><td>null</td><td>null</td><td>2635</td><td>615</td><td>&quot;RIO DE MOURO&quot;</td></tr><tr><td>11</td><td>11</td><td>8</td><td>45249</td><td>&quot;Rio de Mouro&quot;</td><td>68591111</td><td>&quot;Praceta&quot;</td><td>&quot;da&quot;</td><td>null</td><td>null</td><td>&quot;Quinta do Esprito Santo&quot;</td><td>null</td><td>null</td><td>null</td><td>null</td><td>null</td><td>null</td><td>null</td><td>null</td><td>null</td><td>2635</td><td>647</td><td>&quot;RIO DE MOURO&quot;</td></tr><tr><td>11</td><td>11</td><td>8</td><td>45249</td><td>&quot;Rio de Mouro&quot;</td><td>68751111</td><td>&quot;Rua&quot;</td><td>null</td><td>null</td><td>null</td><td>&quot;Sacadura Cabral&quot;</td><td>&quot;Mercs&quot;</td><td>&quot;I&quot;</td><td>1</td><td>null</td><td>31</td><td>null</td><td>null</td><td>null</td><td>null</td><td>2635</td><td>258</td><td>&quot;RIO DE MOURO&quot;</td></tr><tr><td>11</td><td>11</td><td>8</td><td>45249</td><td>&quot;Rio de Mouro&quot;</td><td>68751111</td><td>&quot;Rua&quot;</td><td>null</td><td>null</td><td>null</td><td>&quot;Sacadura Cabral&quot;</td><td>&quot;Mercs&quot;</td><td>&quot;I&quot;</td><td>33</td><td>null</td><td>47</td><td>null</td><td>null</td><td>null</td><td>null</td><td>2635</td><td>259</td><td>&quot;RIO DE MOURO&quot;</td></tr><tr><td>11</td><td>11</td><td>8</td><td>45249</td><td>&quot;Rio de Mouro&quot;</td><td>68751111</td><td>&quot;Rua&quot;</td><td>null</td><td>null</td><td>null</td><td>&quot;Sacadura Cabral&quot;</td><td>&quot;Mercs&quot;</td><td>&quot;P&quot;</td><td>2</td><td>null</td><td>26</td><td>null</td><td>null</td><td>null</td><td>null</td><td>2635</td><td>257</td><td>&quot;RIO DE MOURO&quot;</td></tr></tbody></table></div>"
      ],
      "text/plain": [
       "shape: (5, 23)\n",
       "┌─────┬─────┬─────┬─────┬─────┬─────┬─────┬─────┬─────┬─────┬─────┬─────┬─────┬─────┬─────┬─────┬─────┬─────┬─────┬─────┬─────┬─────┬─────┐\n",
       "│ DD  ┆ CC  ┆ FF  ┆ LLL ┆ LOC ┆ ART ┆ ART ┆ ART ┆ ART ┆ ART ┆ ART ┆ ART ┆ I_P ┆ INI ┆ INI ┆ FIM ┆ FIM ┆ ID_ ┆ ID_ ┆ CLI ┆ CP4 ┆ CP3 ┆ CPA │\n",
       "│ --- ┆ --- ┆ --- ┆ L   ┆ ALI ┆ _CO ┆ _TI ┆ _PP ┆ _TI ┆ _SP ┆ _DE ┆ _LO ┆ --- ┆ _NU ┆ _LE ┆ _NU ┆ _LE ┆ TIP ┆ DES ┆ ENT ┆ --- ┆ --- ┆ LF  │\n",
       "│ i64 ┆ i64 ┆ i64 ┆ --- ┆ DAD ┆ D   ┆ PO  ┆ --- ┆ TUL ┆ --- ┆ SIG ┆ CAL ┆ str ┆ M   ┆ T   ┆ M   ┆ T   ┆ O   ┆ IG  ┆ E   ┆ i64 ┆ i64 ┆ --- │\n",
       "│     ┆     ┆     ┆ i64 ┆ E   ┆ --- ┆ --- ┆ str ┆ O   ┆ str ┆ --- ┆ --- ┆     ┆ --- ┆ --- ┆ --- ┆ --- ┆ --- ┆ --- ┆ --- ┆     ┆     ┆ str │\n",
       "│     ┆     ┆     ┆     ┆ --- ┆ i64 ┆ str ┆     ┆ --- ┆     ┆ str ┆ str ┆     ┆ i64 ┆ str ┆ i64 ┆ str ┆ str ┆ str ┆ str ┆     ┆     ┆     │\n",
       "│     ┆     ┆     ┆     ┆ str ┆     ┆     ┆     ┆ str ┆     ┆     ┆     ┆     ┆     ┆     ┆     ┆     ┆     ┆     ┆     ┆     ┆     ┆     │\n",
       "╞═════╪═════╪═════╪═════╪═════╪═════╪═════╪═════╪═════╪═════╪═════╪═════╪═════╪═════╪═════╪═════╪═════╪═════╪═════╪═════╪═════╪═════╪═════╡\n",
       "│ 11  ┆ 11  ┆ 8   ┆ 452 ┆ Rio ┆ 684 ┆ Rua ┆ do  ┆ nul ┆ nul ┆ Pla ┆ Ser ┆ nul ┆ nul ┆ nul ┆ nul ┆ nul ┆ nul ┆ nul ┆ nul ┆ 263 ┆ 615 ┆ RIO │\n",
       "│     ┆     ┆     ┆ 49  ┆ de  ┆ 811 ┆     ┆     ┆ l   ┆ l   ┆ net ┆ ra  ┆ l   ┆ l   ┆ l   ┆ l   ┆ l   ┆ l   ┆ l   ┆ l   ┆ 5   ┆     ┆ DE  │\n",
       "│     ┆     ┆     ┆     ┆ Mou ┆ 11  ┆     ┆     ┆     ┆     ┆ a   ┆ das ┆     ┆     ┆     ┆     ┆     ┆     ┆     ┆     ┆     ┆     ┆ MOU │\n",
       "│     ┆     ┆     ┆     ┆ ro  ┆     ┆     ┆     ┆     ┆     ┆ Mer ┆ Min ┆     ┆     ┆     ┆     ┆     ┆     ┆     ┆     ┆     ┆     ┆ RO  │\n",
       "│     ┆     ┆     ┆     ┆     ┆     ┆     ┆     ┆     ┆     ┆ cri ┆ as  ┆     ┆     ┆     ┆     ┆     ┆     ┆     ┆     ┆     ┆     ┆     │\n",
       "│     ┆     ┆     ┆     ┆     ┆     ┆     ┆     ┆     ┆     ┆ o   ┆     ┆     ┆     ┆     ┆     ┆     ┆     ┆     ┆     ┆     ┆     ┆     │\n",
       "├╌╌╌╌╌┼╌╌╌╌╌┼╌╌╌╌╌┼╌╌╌╌╌┼╌╌╌╌╌┼╌╌╌╌╌┼╌╌╌╌╌┼╌╌╌╌╌┼╌╌╌╌╌┼╌╌╌╌╌┼╌╌╌╌╌┼╌╌╌╌╌┼╌╌╌╌╌┼╌╌╌╌╌┼╌╌╌╌╌┼╌╌╌╌╌┼╌╌╌╌╌┼╌╌╌╌╌┼╌╌╌╌╌┼╌╌╌╌╌┼╌╌╌╌╌┼╌╌╌╌╌┼╌╌╌╌╌┤\n",
       "│ 11  ┆ 11  ┆ 8   ┆ 452 ┆ Rio ┆ 685 ┆ Pra ┆ da  ┆ nul ┆ nul ┆ Qui ┆ nul ┆ nul ┆ nul ┆ nul ┆ nul ┆ nul ┆ nul ┆ nul ┆ nul ┆ 263 ┆ 647 ┆ RIO │\n",
       "│     ┆     ┆     ┆ 49  ┆ de  ┆ 911 ┆ cet ┆     ┆ l   ┆ l   ┆ nta ┆ l   ┆ l   ┆ l   ┆ l   ┆ l   ┆ l   ┆ l   ┆ l   ┆ l   ┆ 5   ┆     ┆ DE  │\n",
       "│     ┆     ┆     ┆     ┆ Mou ┆ 11  ┆ a   ┆     ┆     ┆     ┆ do  ┆     ┆     ┆     ┆     ┆     ┆     ┆     ┆     ┆     ┆     ┆     ┆ MOU │\n",
       "│     ┆     ┆     ┆     ┆ ro  ┆     ┆     ┆     ┆     ┆     ┆ Esp ┆     ┆     ┆     ┆     ┆     ┆     ┆     ┆     ┆     ┆     ┆     ┆ RO  │\n",
       "│     ┆     ┆     ┆     ┆     ┆     ┆     ┆     ┆     ┆     ┆ rit ┆     ┆     ┆     ┆     ┆     ┆     ┆     ┆     ┆     ┆     ┆     ┆     │\n",
       "│     ┆     ┆     ┆     ┆     ┆     ┆     ┆     ┆     ┆     ┆ o   ┆     ┆     ┆     ┆     ┆     ┆     ┆     ┆     ┆     ┆     ┆     ┆     │\n",
       "│     ┆     ┆     ┆     ┆     ┆     ┆     ┆     ┆     ┆     ┆ San ┆     ┆     ┆     ┆     ┆     ┆     ┆     ┆     ┆     ┆     ┆     ┆     │\n",
       "│     ┆     ┆     ┆     ┆     ┆     ┆     ┆     ┆     ┆     ┆ to  ┆     ┆     ┆     ┆     ┆     ┆     ┆     ┆     ┆     ┆     ┆     ┆     │\n",
       "├╌╌╌╌╌┼╌╌╌╌╌┼╌╌╌╌╌┼╌╌╌╌╌┼╌╌╌╌╌┼╌╌╌╌╌┼╌╌╌╌╌┼╌╌╌╌╌┼╌╌╌╌╌┼╌╌╌╌╌┼╌╌╌╌╌┼╌╌╌╌╌┼╌╌╌╌╌┼╌╌╌╌╌┼╌╌╌╌╌┼╌╌╌╌╌┼╌╌╌╌╌┼╌╌╌╌╌┼╌╌╌╌╌┼╌╌╌╌╌┼╌╌╌╌╌┼╌╌╌╌╌┼╌╌╌╌╌┤\n",
       "│ 11  ┆ 11  ┆ 8   ┆ 452 ┆ Rio ┆ 687 ┆ Rua ┆ nul ┆ nul ┆ nul ┆ Sac ┆ Mer ┆ I   ┆ 1   ┆ nul ┆ 31  ┆ nul ┆ nul ┆ nul ┆ nul ┆ 263 ┆ 258 ┆ RIO │\n",
       "│     ┆     ┆     ┆ 49  ┆ de  ┆ 511 ┆     ┆ l   ┆ l   ┆ l   ┆ adu ┆ cs  ┆     ┆     ┆ l   ┆     ┆ l   ┆ l   ┆ l   ┆ l   ┆ 5   ┆     ┆ DE  │\n",
       "│     ┆     ┆     ┆     ┆ Mou ┆ 11  ┆     ┆     ┆     ┆     ┆ ra  ┆     ┆     ┆     ┆     ┆     ┆     ┆     ┆     ┆     ┆     ┆     ┆ MOU │\n",
       "│     ┆     ┆     ┆     ┆ ro  ┆     ┆     ┆     ┆     ┆     ┆ Cab ┆     ┆     ┆     ┆     ┆     ┆     ┆     ┆     ┆     ┆     ┆     ┆ RO  │\n",
       "│     ┆     ┆     ┆     ┆     ┆     ┆     ┆     ┆     ┆     ┆ ral ┆     ┆     ┆     ┆     ┆     ┆     ┆     ┆     ┆     ┆     ┆     ┆     │\n",
       "├╌╌╌╌╌┼╌╌╌╌╌┼╌╌╌╌╌┼╌╌╌╌╌┼╌╌╌╌╌┼╌╌╌╌╌┼╌╌╌╌╌┼╌╌╌╌╌┼╌╌╌╌╌┼╌╌╌╌╌┼╌╌╌╌╌┼╌╌╌╌╌┼╌╌╌╌╌┼╌╌╌╌╌┼╌╌╌╌╌┼╌╌╌╌╌┼╌╌╌╌╌┼╌╌╌╌╌┼╌╌╌╌╌┼╌╌╌╌╌┼╌╌╌╌╌┼╌╌╌╌╌┼╌╌╌╌╌┤\n",
       "│ 11  ┆ 11  ┆ 8   ┆ 452 ┆ Rio ┆ 687 ┆ Rua ┆ nul ┆ nul ┆ nul ┆ Sac ┆ Mer ┆ I   ┆ 33  ┆ nul ┆ 47  ┆ nul ┆ nul ┆ nul ┆ nul ┆ 263 ┆ 259 ┆ RIO │\n",
       "│     ┆     ┆     ┆ 49  ┆ de  ┆ 511 ┆     ┆ l   ┆ l   ┆ l   ┆ adu ┆ cs  ┆     ┆     ┆ l   ┆     ┆ l   ┆ l   ┆ l   ┆ l   ┆ 5   ┆     ┆ DE  │\n",
       "│     ┆     ┆     ┆     ┆ Mou ┆ 11  ┆     ┆     ┆     ┆     ┆ ra  ┆     ┆     ┆     ┆     ┆     ┆     ┆     ┆     ┆     ┆     ┆     ┆ MOU │\n",
       "│     ┆     ┆     ┆     ┆ ro  ┆     ┆     ┆     ┆     ┆     ┆ Cab ┆     ┆     ┆     ┆     ┆     ┆     ┆     ┆     ┆     ┆     ┆     ┆ RO  │\n",
       "│     ┆     ┆     ┆     ┆     ┆     ┆     ┆     ┆     ┆     ┆ ral ┆     ┆     ┆     ┆     ┆     ┆     ┆     ┆     ┆     ┆     ┆     ┆     │\n",
       "├╌╌╌╌╌┼╌╌╌╌╌┼╌╌╌╌╌┼╌╌╌╌╌┼╌╌╌╌╌┼╌╌╌╌╌┼╌╌╌╌╌┼╌╌╌╌╌┼╌╌╌╌╌┼╌╌╌╌╌┼╌╌╌╌╌┼╌╌╌╌╌┼╌╌╌╌╌┼╌╌╌╌╌┼╌╌╌╌╌┼╌╌╌╌╌┼╌╌╌╌╌┼╌╌╌╌╌┼╌╌╌╌╌┼╌╌╌╌╌┼╌╌╌╌╌┼╌╌╌╌╌┼╌╌╌╌╌┤\n",
       "│ 11  ┆ 11  ┆ 8   ┆ 452 ┆ Rio ┆ 687 ┆ Rua ┆ nul ┆ nul ┆ nul ┆ Sac ┆ Mer ┆ P   ┆ 2   ┆ nul ┆ 26  ┆ nul ┆ nul ┆ nul ┆ nul ┆ 263 ┆ 257 ┆ RIO │\n",
       "│     ┆     ┆     ┆ 49  ┆ de  ┆ 511 ┆     ┆ l   ┆ l   ┆ l   ┆ adu ┆ cs  ┆     ┆     ┆ l   ┆     ┆ l   ┆ l   ┆ l   ┆ l   ┆ 5   ┆     ┆ DE  │\n",
       "│     ┆     ┆     ┆     ┆ Mou ┆ 11  ┆     ┆     ┆     ┆     ┆ ra  ┆     ┆     ┆     ┆     ┆     ┆     ┆     ┆     ┆     ┆     ┆     ┆ MOU │\n",
       "│     ┆     ┆     ┆     ┆ ro  ┆     ┆     ┆     ┆     ┆     ┆ Cab ┆     ┆     ┆     ┆     ┆     ┆     ┆     ┆     ┆     ┆     ┆     ┆ RO  │\n",
       "│     ┆     ┆     ┆     ┆     ┆     ┆     ┆     ┆     ┆     ┆ ral ┆     ┆     ┆     ┆     ┆     ┆     ┆     ┆     ┆     ┆     ┆     ┆     │\n",
       "└─────┴─────┴─────┴─────┴─────┴─────┴─────┴─────┴─────┴─────┴─────┴─────┴─────┴─────┴─────┴─────┴─────┴─────┴─────┴─────┴─────┴─────┴─────┘"
      ]
     },
     "execution_count": 63,
     "metadata": {},
     "output_type": "execute_result"
    }
   ],
   "source": [
    "df_locart.head()"
   ]
  },
  {
   "cell_type": "code",
   "execution_count": 84,
   "id": "8ddb62ca",
   "metadata": {},
   "outputs": [
    {
     "data": {
      "text/plain": [
       "Schema([('DD', Int64),\n",
       "        ('CC', Int64),\n",
       "        ('FF', Int64),\n",
       "        ('LLLL', Int64),\n",
       "        ('LOCALIDADE', String),\n",
       "        ('ART_COD', Int64),\n",
       "        ('ART_TIPO', String),\n",
       "        ('ART_PP', String),\n",
       "        ('ART_TITULO', String),\n",
       "        ('ART_SP', String),\n",
       "        ('ART_DESIG', String),\n",
       "        ('ART_LOCAL', String),\n",
       "        ('I_P', String),\n",
       "        ('INI_NUM', Int64),\n",
       "        ('INI_LET', String),\n",
       "        ('FIM_NUM', Int64),\n",
       "        ('FIM_LET', String),\n",
       "        ('ID_TIPO', String),\n",
       "        ('ID_DESIG', String),\n",
       "        ('CLIENTE', String),\n",
       "        ('CP4', Int64),\n",
       "        ('CP3', Int64),\n",
       "        ('CPALF', String)])"
      ]
     },
     "execution_count": 84,
     "metadata": {},
     "output_type": "execute_result"
    }
   ],
   "source": [
    "df_locart.schema"
   ]
  },
  {
   "cell_type": "code",
   "execution_count": 80,
   "id": "0ebb98ca",
   "metadata": {},
   "outputs": [],
   "source": [
    "df_merged = df_portas.join(\n",
    "    df_locart,\n",
    "    left_on=\"ID_ARTERIA\",\n",
    "    right_on=\"ART_COD\",\n",
    "    how=\"inner\"   # podes trocar por \"left\", \"right\" ou \"outer\" conforme precisas\n",
    ")\n",
    "\n"
   ]
  },
  {
   "cell_type": "code",
   "execution_count": null,
   "id": "c2fe259f",
   "metadata": {},
   "outputs": [
    {
     "data": {
      "text/html": [
       "<div><style>\n",
       ".dataframe > thead > tr,\n",
       ".dataframe > tbody > tr {\n",
       "  text-align: right;\n",
       "  white-space: pre-wrap;\n",
       "}\n",
       "</style>\n",
       "<small>shape: (5, 11)</small><table border=\"1\" class=\"dataframe\"><thead><tr><th>ART_TIPO</th><th>ART_PP</th><th>ART_TITULO</th><th>ART_SP</th><th>ART_DESIG</th><th>ART_LOCAL</th><th>CP4</th><th>CP3</th><th>CPALF</th><th>LONG_PORTA</th><th>LAT_PORTA</th></tr><tr><td>str</td><td>str</td><td>str</td><td>str</td><td>str</td><td>str</td><td>i64</td><td>i64</td><td>str</td><td>f64</td><td>f64</td></tr></thead><tbody><tr><td>&quot;Avenida&quot;</td><td>null</td><td>null</td><td>null</td><td>&quot;23 de Julho&quot;</td><td>null</td><td>2810</td><td>291</td><td>&quot;ALMADA&quot;</td><td>-9.15</td><td>38.65</td></tr><tr><td>&quot;Avenida&quot;</td><td>null</td><td>null</td><td>null</td><td>&quot;23 de Julho&quot;</td><td>null</td><td>2810</td><td>291</td><td>&quot;ALMADA&quot;</td><td>-9.15</td><td>38.65</td></tr><tr><td>&quot;Avenida&quot;</td><td>null</td><td>null</td><td>null</td><td>&quot;23 de Julho&quot;</td><td>null</td><td>2810</td><td>291</td><td>&quot;ALMADA&quot;</td><td>-9.15</td><td>38.65</td></tr><tr><td>&quot;Avenida&quot;</td><td>null</td><td>null</td><td>null</td><td>&quot;23 de Julho&quot;</td><td>null</td><td>2810</td><td>291</td><td>&quot;ALMADA&quot;</td><td>-9.15</td><td>38.65</td></tr><tr><td>&quot;Avenida&quot;</td><td>null</td><td>null</td><td>null</td><td>&quot;23 de Julho&quot;</td><td>null</td><td>2810</td><td>291</td><td>&quot;ALMADA&quot;</td><td>-9.15</td><td>38.65</td></tr></tbody></table></div>"
      ],
      "text/plain": [
       "shape: (5, 11)\n",
       "┌─────────┬────────┬─────────┬────────┬─────────┬─────────┬──────┬─────┬────────┬─────────┬────────┐\n",
       "│ ART_TIP ┆ ART_PP ┆ ART_TIT ┆ ART_SP ┆ ART_DES ┆ ART_LOC ┆ CP4  ┆ CP3 ┆ CPALF  ┆ LONG_PO ┆ LAT_PO │\n",
       "│ O       ┆ ---    ┆ ULO     ┆ ---    ┆ IG      ┆ AL      ┆ ---  ┆ --- ┆ ---    ┆ RTA     ┆ RTA    │\n",
       "│ ---     ┆ str    ┆ ---     ┆ str    ┆ ---     ┆ ---     ┆ i64  ┆ i64 ┆ str    ┆ ---     ┆ ---    │\n",
       "│ str     ┆        ┆ str     ┆        ┆ str     ┆ str     ┆      ┆     ┆        ┆ f64     ┆ f64    │\n",
       "╞═════════╪════════╪═════════╪════════╪═════════╪═════════╪══════╪═════╪════════╪═════════╪════════╡\n",
       "│ Avenida ┆ null   ┆ null    ┆ null   ┆ 23 de   ┆ null    ┆ 2810 ┆ 291 ┆ ALMADA ┆ -9.15   ┆ 38.65  │\n",
       "│         ┆        ┆         ┆        ┆ Julho   ┆         ┆      ┆     ┆        ┆         ┆        │\n",
       "├╌╌╌╌╌╌╌╌╌┼╌╌╌╌╌╌╌╌┼╌╌╌╌╌╌╌╌╌┼╌╌╌╌╌╌╌╌┼╌╌╌╌╌╌╌╌╌┼╌╌╌╌╌╌╌╌╌┼╌╌╌╌╌╌┼╌╌╌╌╌┼╌╌╌╌╌╌╌╌┼╌╌╌╌╌╌╌╌╌┼╌╌╌╌╌╌╌╌┤\n",
       "│ Avenida ┆ null   ┆ null    ┆ null   ┆ 23 de   ┆ null    ┆ 2810 ┆ 291 ┆ ALMADA ┆ -9.15   ┆ 38.65  │\n",
       "│         ┆        ┆         ┆        ┆ Julho   ┆         ┆      ┆     ┆        ┆         ┆        │\n",
       "├╌╌╌╌╌╌╌╌╌┼╌╌╌╌╌╌╌╌┼╌╌╌╌╌╌╌╌╌┼╌╌╌╌╌╌╌╌┼╌╌╌╌╌╌╌╌╌┼╌╌╌╌╌╌╌╌╌┼╌╌╌╌╌╌┼╌╌╌╌╌┼╌╌╌╌╌╌╌╌┼╌╌╌╌╌╌╌╌╌┼╌╌╌╌╌╌╌╌┤\n",
       "│ Avenida ┆ null   ┆ null    ┆ null   ┆ 23 de   ┆ null    ┆ 2810 ┆ 291 ┆ ALMADA ┆ -9.15   ┆ 38.65  │\n",
       "│         ┆        ┆         ┆        ┆ Julho   ┆         ┆      ┆     ┆        ┆         ┆        │\n",
       "├╌╌╌╌╌╌╌╌╌┼╌╌╌╌╌╌╌╌┼╌╌╌╌╌╌╌╌╌┼╌╌╌╌╌╌╌╌┼╌╌╌╌╌╌╌╌╌┼╌╌╌╌╌╌╌╌╌┼╌╌╌╌╌╌┼╌╌╌╌╌┼╌╌╌╌╌╌╌╌┼╌╌╌╌╌╌╌╌╌┼╌╌╌╌╌╌╌╌┤\n",
       "│ Avenida ┆ null   ┆ null    ┆ null   ┆ 23 de   ┆ null    ┆ 2810 ┆ 291 ┆ ALMADA ┆ -9.15   ┆ 38.65  │\n",
       "│         ┆        ┆         ┆        ┆ Julho   ┆         ┆      ┆     ┆        ┆         ┆        │\n",
       "├╌╌╌╌╌╌╌╌╌┼╌╌╌╌╌╌╌╌┼╌╌╌╌╌╌╌╌╌┼╌╌╌╌╌╌╌╌┼╌╌╌╌╌╌╌╌╌┼╌╌╌╌╌╌╌╌╌┼╌╌╌╌╌╌┼╌╌╌╌╌┼╌╌╌╌╌╌╌╌┼╌╌╌╌╌╌╌╌╌┼╌╌╌╌╌╌╌╌┤\n",
       "│ Avenida ┆ null   ┆ null    ┆ null   ┆ 23 de   ┆ null    ┆ 2810 ┆ 291 ┆ ALMADA ┆ -9.15   ┆ 38.65  │\n",
       "│         ┆        ┆         ┆        ┆ Julho   ┆         ┆      ┆     ┆        ┆         ┆        │\n",
       "└─────────┴────────┴─────────┴────────┴─────────┴─────────┴──────┴─────┴────────┴─────────┴────────┘"
      ]
     },
     "execution_count": 83,
     "metadata": {},
     "output_type": "execute_result"
    }
   ],
   "source": [
    "df_final = df_merged.select([\n",
    "    pl.col(\"ART_TIPO\").alias(\"ART_TIPO\"),\n",
    "    pl.col(\"ART_PP\").alias(\"ART_PP\"),\n",
    "    pl.col(\"ART_TITULO\").alias(\"ART_TITULO\"),\n",
    "    pl.col(\"ART_SP\").alias(\"ART_SP\"),\n",
    "    pl.col(\"ART_DESIG\").alias(\"ART_DESIG\"),\n",
    "    pl.col(\"ART_LOCAL\").alias(\"ART_LOCAL\"),\n",
    "    pl.col(\"CP4\").alias(\"CP4\"),\n",
    "    pl.col(\"CP3\").alias(\"CP3\"),\n",
    "    pl.col(\"CPALF\").alias(\"CPALF\"),\n",
    "    pl.col(\"INI_NUM\").alias(\"INI_NUM\"),\n",
    "    pl.col(\"CPALF\").alias(\"CPALF\"),\n",
    "    pl.col(\"CPALF\").alias(\"CPALF\"),\n",
    "    pl.col(\"LONG_PORTA\").alias(\"LONG_PORTA\"),\n",
    "    pl.col(\"LAT_PORTA\").alias(\"LAT_PORTA\")\n",
    "])\n",
    "\n",
    "df_final.head()\n"
   ]
  },
  {
   "cell_type": "code",
   "execution_count": null,
   "id": "a9de7280",
   "metadata": {},
   "outputs": [
    {
     "name": "stdout",
     "output_type": "stream",
     "text": [
      "Tempo Polars: 4.66 segundos\n",
      "Memória Polars: 371.27 MB\n"
     ]
    }
   ],
   "source": [
    "m1 = psutil.Process(os.getpid()).memory_info().rss / 1024**2\n",
    "print(\"Tempo Polars:\", round(time.time() - start, 2), \"segundos\")\n",
    "print(\"Memória Polars:\", round(m1 - m0, 2), \"MB\")"
   ]
  }
 ],
 "metadata": {
  "kernelspec": {
   "display_name": "Python 3",
   "language": "python",
   "name": "python3"
  },
  "language_info": {
   "codemirror_mode": {
    "name": "ipython",
    "version": 3
   },
   "file_extension": ".py",
   "mimetype": "text/x-python",
   "name": "python",
   "nbconvert_exporter": "python",
   "pygments_lexer": "ipython3",
   "version": "3.13.7"
  }
 },
 "nbformat": 4,
 "nbformat_minor": 5
}
