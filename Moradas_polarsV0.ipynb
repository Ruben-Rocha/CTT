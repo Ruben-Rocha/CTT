{
 "cells": [
  {
   "cell_type": "code",
   "execution_count": 53,
   "id": "2f3ef410",
   "metadata": {},
   "outputs": [],
   "source": [
    "# ==========================\n",
    "# 1. Imports\n",
    "# ==========================\n",
    "import time, psutil, os, gc\n",
    "\n",
    "# ==========================\n",
    "# 2. Inicio\n",
    "# ==========================\n",
    "process = psutil.Process(os.getpid())\n",
    "gc.collect()  # limpa o lixo pendente\n",
    "\n",
    "start = time.time()\n",
    "m0 = process.memory_info().rss / 1024**2  # MB"
   ]
  },
  {
   "cell_type": "code",
   "execution_count": 54,
   "id": "c20d26bb",
   "metadata": {},
   "outputs": [],
   "source": [
    "\n",
    "# ==========================\n",
    "# 1. Importar libs\n",
    "# ==========================\n",
    "\n",
    "import polars as pl\n",
    "\n",
    "pl.Config.set_tbl_cols(-1)  # mostra todas as colunas sem cortar\n",
    "pl.Config.set_tbl_formatting(\"UTF8_FULL\")   # mostra todos os valores sem cortar\n",
    "\n",
    "from io import StringIO\n"
   ]
  },
  {
   "cell_type": "code",
   "execution_count": 55,
   "id": "23eb16a4",
   "metadata": {},
   "outputs": [
    {
     "data": {
      "text/plain": [
       "['C:\\\\Users\\\\1420844\\\\Downloads\\\\BD_CTT_092025\\\\ARTERIA_ALTERNATIVA.CSV',\n",
       " 'C:\\\\Users\\\\1420844\\\\Downloads\\\\BD_CTT_092025\\\\CONCELHO.CSV',\n",
       " 'C:\\\\Users\\\\1420844\\\\Downloads\\\\BD_CTT_092025\\\\CP7COORDS.CSV',\n",
       " 'C:\\\\Users\\\\1420844\\\\Downloads\\\\BD_CTT_092025\\\\DISTRITO.CSV',\n",
       " 'C:\\\\Users\\\\1420844\\\\Downloads\\\\BD_CTT_092025\\\\FREGUESIA.CSV',\n",
       " 'C:\\\\Users\\\\1420844\\\\Downloads\\\\BD_CTT_092025\\\\LOCAL.CSV',\n",
       " 'C:\\\\Users\\\\1420844\\\\Downloads\\\\BD_CTT_092025\\\\LOCALIDADE.CSV',\n",
       " 'C:\\\\Users\\\\1420844\\\\Downloads\\\\BD_CTT_092025\\\\LOCART.CSV',\n",
       " 'C:\\\\Users\\\\1420844\\\\Downloads\\\\BD_CTT_092025\\\\PORTA.CSV',\n",
       " 'C:\\\\Users\\\\1420844\\\\Downloads\\\\BD_CTT_092025\\\\PORTA_ALTERNATIVA.CSV']"
      ]
     },
     "execution_count": 55,
     "metadata": {},
     "output_type": "execute_result"
    }
   ],
   "source": [
    "# ==========================\n",
    "# 1. Listar ficheiros com Pathlib\n",
    "# ==========================\n",
    "from pathlib import Path\n",
    "\n",
    "pasta = Path(r\"C:\\Users\\1420844\\Downloads\\BD_CTT_092025\")\n",
    "\n",
    "ficheiros = [str(f) for f in pasta.glob(\"*\") if f.is_file()]\n",
    "\n",
    "ficheiros"
   ]
  },
  {
   "cell_type": "code",
   "execution_count": 56,
   "id": "f46d1613",
   "metadata": {},
   "outputs": [],
   "source": [
    "r1  = r\"C:\\Users\\1420844\\Downloads\\BD_CTT_092025\\ARTERIA_ALTERNATIVA.CSV\"\n",
    "r2  = r\"C:\\Users\\1420844\\Downloads\\BD_CTT_092025\\CONCELHO.CSV\"\n",
    "r3  = r\"C:\\Users\\1420844\\Downloads\\BD_CTT_092025\\CP7COORDS.CSV\"\n",
    "r4  = r\"C:\\Users\\1420844\\Downloads\\BD_CTT_092025\\DISTRITO.CSV\"\n",
    "r5  = r\"C:\\Users\\1420844\\Downloads\\BD_CTT_092025\\FREGUESIA.CSV\"\n",
    "r6  = r\"C:\\Users\\1420844\\Downloads\\BD_CTT_092025\\LOCAL.CSV\"\n",
    "r7  = r\"C:\\Users\\1420844\\Downloads\\BD_CTT_092025\\LOCALIDADE.CSV\"\n",
    "r8  = r\"C:\\Users\\1420844\\Downloads\\BD_CTT_092025\\LOCART.CSV\"\n",
    "r9  = r\"C:\\Users\\1420844\\Downloads\\BD_CTT_092025\\PORTA.CSV\"\n",
    "r10 = r\"C:\\Users\\1420844\\Downloads\\BD_CTT_092025\\PORTA_ALTERNATIVA.CSV\""
   ]
  },
  {
   "cell_type": "code",
   "execution_count": 57,
   "id": "b9c1ff01",
   "metadata": {},
   "outputs": [],
   "source": [
    "\n",
    "with open(r9, \"rb\") as f: linhas = f.read().decode(\"utf-8\", errors=\"ignore\")\n",
    "df_portas = pl.read_csv(StringIO(linhas), separator=\";\", ignore_errors=True, decimal_comma=True)\n",
    "\n",
    "df_portas = df_portas.with_columns([\n",
    "    df_portas[col].cast(pl.Int64)\n",
    "    for col in df_portas.columns\n",
    "    if col not in (\"LONG_PORTA\", \"LAT_PORTA\") and df_portas[col].dtype == pl.Float64\n",
    "])\n"
   ]
  },
  {
   "cell_type": "code",
   "execution_count": 58,
   "id": "9a3053a5",
   "metadata": {},
   "outputs": [
    {
     "data": {
      "text/html": [
       "<div><style>\n",
       ".dataframe > thead > tr,\n",
       ".dataframe > tbody > tr {\n",
       "  text-align: right;\n",
       "  white-space: pre-wrap;\n",
       "}\n",
       "</style>\n",
       "<small>shape: (5, 14)</small><table border=\"1\" class=\"dataframe\"><thead><tr><th>ID_PORTA</th><th>PORTA_TIPO</th><th>PORTA_NUM</th><th>ID_ARTERIA</th><th>CP4</th><th>CP3</th><th>DESIGNACAO_POSTAL</th><th>ID_LOCALIDADE</th><th>ID_LOCAL</th><th>DD</th><th>CC</th><th>FF</th><th>LONG_PORTA</th><th>LAT_PORTA</th></tr><tr><td>i64</td><td>str</td><td>i64</td><td>i64</td><td>i64</td><td>i64</td><td>str</td><td>i64</td><td>i64</td><td>i64</td><td>i64</td><td>i64</td><td>f64</td><td>f64</td></tr></thead><tbody><tr><td>3</td><td>null</td><td>353</td><td>7310315</td><td>2810</td><td>291</td><td>&quot;ALMADA&quot;</td><td>1976</td><td>null</td><td>15</td><td>3</td><td>15</td><td>-9.15</td><td>38.65</td></tr><tr><td>4</td><td>null</td><td>355</td><td>7310315</td><td>2810</td><td>291</td><td>&quot;ALMADA&quot;</td><td>1976</td><td>null</td><td>15</td><td>3</td><td>15</td><td>-9.15</td><td>38.65</td></tr><tr><td>5</td><td>null</td><td>12</td><td>2111417</td><td>5000</td><td>650</td><td>&quot;VILA REAL&quot;</td><td>52333</td><td>null</td><td>17</td><td>14</td><td>38</td><td>-7.74</td><td>41.29</td></tr><tr><td>6</td><td>null</td><td>16</td><td>2111417</td><td>5000</td><td>650</td><td>&quot;VILA REAL&quot;</td><td>52333</td><td>null</td><td>17</td><td>14</td><td>38</td><td>-7.74</td><td>41.29</td></tr><tr><td>7</td><td>null</td><td>18</td><td>2111417</td><td>5000</td><td>650</td><td>&quot;VILA REAL&quot;</td><td>52333</td><td>null</td><td>17</td><td>14</td><td>38</td><td>-7.74</td><td>41.29</td></tr></tbody></table></div>"
      ],
      "text/plain": [
       "shape: (5, 14)\n",
       "┌─────┬─────┬─────┬────────┬──────┬─────┬────────┬───────┬───────┬─────┬─────┬─────┬───────┬───────┐\n",
       "│ ID_ ┆ POR ┆ POR ┆ ID_ART ┆ CP4  ┆ CP3 ┆ DESIGN ┆ ID_LO ┆ ID_LO ┆ DD  ┆ CC  ┆ FF  ┆ LONG_ ┆ LAT_P │\n",
       "│ POR ┆ TA_ ┆ TA_ ┆ ERIA   ┆ ---  ┆ --- ┆ ACAO_P ┆ CALID ┆ CAL   ┆ --- ┆ --- ┆ --- ┆ PORTA ┆ ORTA  │\n",
       "│ TA  ┆ TIP ┆ NUM ┆ ---    ┆ i64  ┆ i64 ┆ OSTAL  ┆ ADE   ┆ ---   ┆ i64 ┆ i64 ┆ i64 ┆ ---   ┆ ---   │\n",
       "│ --- ┆ O   ┆ --- ┆ i64    ┆      ┆     ┆ ---    ┆ ---   ┆ i64   ┆     ┆     ┆     ┆ f64   ┆ f64   │\n",
       "│ i64 ┆ --- ┆ i64 ┆        ┆      ┆     ┆ str    ┆ i64   ┆       ┆     ┆     ┆     ┆       ┆       │\n",
       "│     ┆ str ┆     ┆        ┆      ┆     ┆        ┆       ┆       ┆     ┆     ┆     ┆       ┆       │\n",
       "╞═════╪═════╪═════╪════════╪══════╪═════╪════════╪═══════╪═══════╪═════╪═════╪═════╪═══════╪═══════╡\n",
       "│ 3   ┆ nul ┆ 353 ┆ 731031 ┆ 2810 ┆ 291 ┆ ALMADA ┆ 1976  ┆ null  ┆ 15  ┆ 3   ┆ 15  ┆ -9.15 ┆ 38.65 │\n",
       "│     ┆ l   ┆     ┆ 5      ┆      ┆     ┆        ┆       ┆       ┆     ┆     ┆     ┆       ┆       │\n",
       "├╌╌╌╌╌┼╌╌╌╌╌┼╌╌╌╌╌┼╌╌╌╌╌╌╌╌┼╌╌╌╌╌╌┼╌╌╌╌╌┼╌╌╌╌╌╌╌╌┼╌╌╌╌╌╌╌┼╌╌╌╌╌╌╌┼╌╌╌╌╌┼╌╌╌╌╌┼╌╌╌╌╌┼╌╌╌╌╌╌╌┼╌╌╌╌╌╌╌┤\n",
       "│ 4   ┆ nul ┆ 355 ┆ 731031 ┆ 2810 ┆ 291 ┆ ALMADA ┆ 1976  ┆ null  ┆ 15  ┆ 3   ┆ 15  ┆ -9.15 ┆ 38.65 │\n",
       "│     ┆ l   ┆     ┆ 5      ┆      ┆     ┆        ┆       ┆       ┆     ┆     ┆     ┆       ┆       │\n",
       "├╌╌╌╌╌┼╌╌╌╌╌┼╌╌╌╌╌┼╌╌╌╌╌╌╌╌┼╌╌╌╌╌╌┼╌╌╌╌╌┼╌╌╌╌╌╌╌╌┼╌╌╌╌╌╌╌┼╌╌╌╌╌╌╌┼╌╌╌╌╌┼╌╌╌╌╌┼╌╌╌╌╌┼╌╌╌╌╌╌╌┼╌╌╌╌╌╌╌┤\n",
       "│ 5   ┆ nul ┆ 12  ┆ 211141 ┆ 5000 ┆ 650 ┆ VILA   ┆ 52333 ┆ null  ┆ 17  ┆ 14  ┆ 38  ┆ -7.74 ┆ 41.29 │\n",
       "│     ┆ l   ┆     ┆ 7      ┆      ┆     ┆ REAL   ┆       ┆       ┆     ┆     ┆     ┆       ┆       │\n",
       "├╌╌╌╌╌┼╌╌╌╌╌┼╌╌╌╌╌┼╌╌╌╌╌╌╌╌┼╌╌╌╌╌╌┼╌╌╌╌╌┼╌╌╌╌╌╌╌╌┼╌╌╌╌╌╌╌┼╌╌╌╌╌╌╌┼╌╌╌╌╌┼╌╌╌╌╌┼╌╌╌╌╌┼╌╌╌╌╌╌╌┼╌╌╌╌╌╌╌┤\n",
       "│ 6   ┆ nul ┆ 16  ┆ 211141 ┆ 5000 ┆ 650 ┆ VILA   ┆ 52333 ┆ null  ┆ 17  ┆ 14  ┆ 38  ┆ -7.74 ┆ 41.29 │\n",
       "│     ┆ l   ┆     ┆ 7      ┆      ┆     ┆ REAL   ┆       ┆       ┆     ┆     ┆     ┆       ┆       │\n",
       "├╌╌╌╌╌┼╌╌╌╌╌┼╌╌╌╌╌┼╌╌╌╌╌╌╌╌┼╌╌╌╌╌╌┼╌╌╌╌╌┼╌╌╌╌╌╌╌╌┼╌╌╌╌╌╌╌┼╌╌╌╌╌╌╌┼╌╌╌╌╌┼╌╌╌╌╌┼╌╌╌╌╌┼╌╌╌╌╌╌╌┼╌╌╌╌╌╌╌┤\n",
       "│ 7   ┆ nul ┆ 18  ┆ 211141 ┆ 5000 ┆ 650 ┆ VILA   ┆ 52333 ┆ null  ┆ 17  ┆ 14  ┆ 38  ┆ -7.74 ┆ 41.29 │\n",
       "│     ┆ l   ┆     ┆ 7      ┆      ┆     ┆ REAL   ┆       ┆       ┆     ┆     ┆     ┆       ┆       │\n",
       "└─────┴─────┴─────┴────────┴──────┴─────┴────────┴───────┴───────┴─────┴─────┴─────┴───────┴───────┘"
      ]
     },
     "execution_count": 58,
     "metadata": {},
     "output_type": "execute_result"
    }
   ],
   "source": [
    "df_portas.head()"
   ]
  },
  {
   "cell_type": "code",
   "execution_count": 59,
   "id": "03447b92",
   "metadata": {},
   "outputs": [
    {
     "data": {
      "text/plain": [
       "Schema([('ID_PORTA', Int64),\n",
       "        ('PORTA_TIPO', String),\n",
       "        ('PORTA_NUM', Int64),\n",
       "        ('ID_ARTERIA', Int64),\n",
       "        ('CP4', Int64),\n",
       "        ('CP3', Int64),\n",
       "        ('DESIGNACAO_POSTAL', String),\n",
       "        ('ID_LOCALIDADE', Int64),\n",
       "        ('ID_LOCAL', Int64),\n",
       "        ('DD', Int64),\n",
       "        ('CC', Int64),\n",
       "        ('FF', Int64),\n",
       "        ('LONG_PORTA', Float64),\n",
       "        ('LAT_PORTA', Float64)])"
      ]
     },
     "execution_count": 59,
     "metadata": {},
     "output_type": "execute_result"
    }
   ],
   "source": [
    "df_portas.schema\n"
   ]
  },
  {
   "cell_type": "code",
   "execution_count": 60,
   "id": "09a3b1fc",
   "metadata": {},
   "outputs": [],
   "source": [
    "with open(r8, \"rb\") as f: linhas = f.read().decode(\"utf-8\", errors=\"ignore\")\n",
    "df_locart = pl.read_csv(StringIO(linhas), separator=\";\", ignore_errors=True, decimal_comma=True)\n"
   ]
  },
  {
   "cell_type": "code",
   "execution_count": 61,
   "id": "0a55f0fe",
   "metadata": {},
   "outputs": [
    {
     "data": {
      "text/html": [
       "<div><style>\n",
       ".dataframe > thead > tr,\n",
       ".dataframe > tbody > tr {\n",
       "  text-align: right;\n",
       "  white-space: pre-wrap;\n",
       "}\n",
       "</style>\n",
       "<small>shape: (5, 23)</small><table border=\"1\" class=\"dataframe\"><thead><tr><th>DD</th><th>CC</th><th>FF</th><th>LLLL</th><th>LOCALIDADE</th><th>ART_COD</th><th>ART_TIPO</th><th>ART_PP</th><th>ART_TITULO</th><th>ART_SP</th><th>ART_DESIG</th><th>ART_LOCAL</th><th>I_P</th><th>INI_NUM</th><th>INI_LET</th><th>FIM_NUM</th><th>FIM_LET</th><th>ID_TIPO</th><th>ID_DESIG</th><th>CLIENTE</th><th>CP4</th><th>CP3</th><th>CPALF</th></tr><tr><td>i64</td><td>i64</td><td>i64</td><td>i64</td><td>str</td><td>i64</td><td>str</td><td>str</td><td>str</td><td>str</td><td>str</td><td>str</td><td>str</td><td>i64</td><td>str</td><td>i64</td><td>str</td><td>str</td><td>str</td><td>str</td><td>i64</td><td>i64</td><td>str</td></tr></thead><tbody><tr><td>11</td><td>11</td><td>8</td><td>45249</td><td>&quot;Rio de Mouro&quot;</td><td>68481111</td><td>&quot;Rua&quot;</td><td>&quot;do&quot;</td><td>null</td><td>null</td><td>&quot;Planeta Mercrio&quot;</td><td>&quot;Serra das Minas&quot;</td><td>null</td><td>null</td><td>null</td><td>null</td><td>null</td><td>null</td><td>null</td><td>null</td><td>2635</td><td>615</td><td>&quot;RIO DE MOURO&quot;</td></tr><tr><td>11</td><td>11</td><td>8</td><td>45249</td><td>&quot;Rio de Mouro&quot;</td><td>68591111</td><td>&quot;Praceta&quot;</td><td>&quot;da&quot;</td><td>null</td><td>null</td><td>&quot;Quinta do Esprito Santo&quot;</td><td>null</td><td>null</td><td>null</td><td>null</td><td>null</td><td>null</td><td>null</td><td>null</td><td>null</td><td>2635</td><td>647</td><td>&quot;RIO DE MOURO&quot;</td></tr><tr><td>11</td><td>11</td><td>8</td><td>45249</td><td>&quot;Rio de Mouro&quot;</td><td>68751111</td><td>&quot;Rua&quot;</td><td>null</td><td>null</td><td>null</td><td>&quot;Sacadura Cabral&quot;</td><td>&quot;Mercs&quot;</td><td>&quot;I&quot;</td><td>1</td><td>null</td><td>31</td><td>null</td><td>null</td><td>null</td><td>null</td><td>2635</td><td>258</td><td>&quot;RIO DE MOURO&quot;</td></tr><tr><td>11</td><td>11</td><td>8</td><td>45249</td><td>&quot;Rio de Mouro&quot;</td><td>68751111</td><td>&quot;Rua&quot;</td><td>null</td><td>null</td><td>null</td><td>&quot;Sacadura Cabral&quot;</td><td>&quot;Mercs&quot;</td><td>&quot;I&quot;</td><td>33</td><td>null</td><td>47</td><td>null</td><td>null</td><td>null</td><td>null</td><td>2635</td><td>259</td><td>&quot;RIO DE MOURO&quot;</td></tr><tr><td>11</td><td>11</td><td>8</td><td>45249</td><td>&quot;Rio de Mouro&quot;</td><td>68751111</td><td>&quot;Rua&quot;</td><td>null</td><td>null</td><td>null</td><td>&quot;Sacadura Cabral&quot;</td><td>&quot;Mercs&quot;</td><td>&quot;P&quot;</td><td>2</td><td>null</td><td>26</td><td>null</td><td>null</td><td>null</td><td>null</td><td>2635</td><td>257</td><td>&quot;RIO DE MOURO&quot;</td></tr></tbody></table></div>"
      ],
      "text/plain": [
       "shape: (5, 23)\n",
       "┌─────┬─────┬─────┬─────┬─────┬─────┬─────┬─────┬─────┬─────┬─────┬─────┬─────┬─────┬─────┬─────┬─────┬─────┬─────┬─────┬─────┬─────┬─────┐\n",
       "│ DD  ┆ CC  ┆ FF  ┆ LLL ┆ LOC ┆ ART ┆ ART ┆ ART ┆ ART ┆ ART ┆ ART ┆ ART ┆ I_P ┆ INI ┆ INI ┆ FIM ┆ FIM ┆ ID_ ┆ ID_ ┆ CLI ┆ CP4 ┆ CP3 ┆ CPA │\n",
       "│ --- ┆ --- ┆ --- ┆ L   ┆ ALI ┆ _CO ┆ _TI ┆ _PP ┆ _TI ┆ _SP ┆ _DE ┆ _LO ┆ --- ┆ _NU ┆ _LE ┆ _NU ┆ _LE ┆ TIP ┆ DES ┆ ENT ┆ --- ┆ --- ┆ LF  │\n",
       "│ i64 ┆ i64 ┆ i64 ┆ --- ┆ DAD ┆ D   ┆ PO  ┆ --- ┆ TUL ┆ --- ┆ SIG ┆ CAL ┆ str ┆ M   ┆ T   ┆ M   ┆ T   ┆ O   ┆ IG  ┆ E   ┆ i64 ┆ i64 ┆ --- │\n",
       "│     ┆     ┆     ┆ i64 ┆ E   ┆ --- ┆ --- ┆ str ┆ O   ┆ str ┆ --- ┆ --- ┆     ┆ --- ┆ --- ┆ --- ┆ --- ┆ --- ┆ --- ┆ --- ┆     ┆     ┆ str │\n",
       "│     ┆     ┆     ┆     ┆ --- ┆ i64 ┆ str ┆     ┆ --- ┆     ┆ str ┆ str ┆     ┆ i64 ┆ str ┆ i64 ┆ str ┆ str ┆ str ┆ str ┆     ┆     ┆     │\n",
       "│     ┆     ┆     ┆     ┆ str ┆     ┆     ┆     ┆ str ┆     ┆     ┆     ┆     ┆     ┆     ┆     ┆     ┆     ┆     ┆     ┆     ┆     ┆     │\n",
       "╞═════╪═════╪═════╪═════╪═════╪═════╪═════╪═════╪═════╪═════╪═════╪═════╪═════╪═════╪═════╪═════╪═════╪═════╪═════╪═════╪═════╪═════╪═════╡\n",
       "│ 11  ┆ 11  ┆ 8   ┆ 452 ┆ Rio ┆ 684 ┆ Rua ┆ do  ┆ nul ┆ nul ┆ Pla ┆ Ser ┆ nul ┆ nul ┆ nul ┆ nul ┆ nul ┆ nul ┆ nul ┆ nul ┆ 263 ┆ 615 ┆ RIO │\n",
       "│     ┆     ┆     ┆ 49  ┆ de  ┆ 811 ┆     ┆     ┆ l   ┆ l   ┆ net ┆ ra  ┆ l   ┆ l   ┆ l   ┆ l   ┆ l   ┆ l   ┆ l   ┆ l   ┆ 5   ┆     ┆ DE  │\n",
       "│     ┆     ┆     ┆     ┆ Mou ┆ 11  ┆     ┆     ┆     ┆     ┆ a   ┆ das ┆     ┆     ┆     ┆     ┆     ┆     ┆     ┆     ┆     ┆     ┆ MOU │\n",
       "│     ┆     ┆     ┆     ┆ ro  ┆     ┆     ┆     ┆     ┆     ┆ Mer ┆ Min ┆     ┆     ┆     ┆     ┆     ┆     ┆     ┆     ┆     ┆     ┆ RO  │\n",
       "│     ┆     ┆     ┆     ┆     ┆     ┆     ┆     ┆     ┆     ┆ cri ┆ as  ┆     ┆     ┆     ┆     ┆     ┆     ┆     ┆     ┆     ┆     ┆     │\n",
       "│     ┆     ┆     ┆     ┆     ┆     ┆     ┆     ┆     ┆     ┆ o   ┆     ┆     ┆     ┆     ┆     ┆     ┆     ┆     ┆     ┆     ┆     ┆     │\n",
       "├╌╌╌╌╌┼╌╌╌╌╌┼╌╌╌╌╌┼╌╌╌╌╌┼╌╌╌╌╌┼╌╌╌╌╌┼╌╌╌╌╌┼╌╌╌╌╌┼╌╌╌╌╌┼╌╌╌╌╌┼╌╌╌╌╌┼╌╌╌╌╌┼╌╌╌╌╌┼╌╌╌╌╌┼╌╌╌╌╌┼╌╌╌╌╌┼╌╌╌╌╌┼╌╌╌╌╌┼╌╌╌╌╌┼╌╌╌╌╌┼╌╌╌╌╌┼╌╌╌╌╌┼╌╌╌╌╌┤\n",
       "│ 11  ┆ 11  ┆ 8   ┆ 452 ┆ Rio ┆ 685 ┆ Pra ┆ da  ┆ nul ┆ nul ┆ Qui ┆ nul ┆ nul ┆ nul ┆ nul ┆ nul ┆ nul ┆ nul ┆ nul ┆ nul ┆ 263 ┆ 647 ┆ RIO │\n",
       "│     ┆     ┆     ┆ 49  ┆ de  ┆ 911 ┆ cet ┆     ┆ l   ┆ l   ┆ nta ┆ l   ┆ l   ┆ l   ┆ l   ┆ l   ┆ l   ┆ l   ┆ l   ┆ l   ┆ 5   ┆     ┆ DE  │\n",
       "│     ┆     ┆     ┆     ┆ Mou ┆ 11  ┆ a   ┆     ┆     ┆     ┆ do  ┆     ┆     ┆     ┆     ┆     ┆     ┆     ┆     ┆     ┆     ┆     ┆ MOU │\n",
       "│     ┆     ┆     ┆     ┆ ro  ┆     ┆     ┆     ┆     ┆     ┆ Esp ┆     ┆     ┆     ┆     ┆     ┆     ┆     ┆     ┆     ┆     ┆     ┆ RO  │\n",
       "│     ┆     ┆     ┆     ┆     ┆     ┆     ┆     ┆     ┆     ┆ rit ┆     ┆     ┆     ┆     ┆     ┆     ┆     ┆     ┆     ┆     ┆     ┆     │\n",
       "│     ┆     ┆     ┆     ┆     ┆     ┆     ┆     ┆     ┆     ┆ o   ┆     ┆     ┆     ┆     ┆     ┆     ┆     ┆     ┆     ┆     ┆     ┆     │\n",
       "│     ┆     ┆     ┆     ┆     ┆     ┆     ┆     ┆     ┆     ┆ San ┆     ┆     ┆     ┆     ┆     ┆     ┆     ┆     ┆     ┆     ┆     ┆     │\n",
       "│     ┆     ┆     ┆     ┆     ┆     ┆     ┆     ┆     ┆     ┆ to  ┆     ┆     ┆     ┆     ┆     ┆     ┆     ┆     ┆     ┆     ┆     ┆     │\n",
       "├╌╌╌╌╌┼╌╌╌╌╌┼╌╌╌╌╌┼╌╌╌╌╌┼╌╌╌╌╌┼╌╌╌╌╌┼╌╌╌╌╌┼╌╌╌╌╌┼╌╌╌╌╌┼╌╌╌╌╌┼╌╌╌╌╌┼╌╌╌╌╌┼╌╌╌╌╌┼╌╌╌╌╌┼╌╌╌╌╌┼╌╌╌╌╌┼╌╌╌╌╌┼╌╌╌╌╌┼╌╌╌╌╌┼╌╌╌╌╌┼╌╌╌╌╌┼╌╌╌╌╌┼╌╌╌╌╌┤\n",
       "│ 11  ┆ 11  ┆ 8   ┆ 452 ┆ Rio ┆ 687 ┆ Rua ┆ nul ┆ nul ┆ nul ┆ Sac ┆ Mer ┆ I   ┆ 1   ┆ nul ┆ 31  ┆ nul ┆ nul ┆ nul ┆ nul ┆ 263 ┆ 258 ┆ RIO │\n",
       "│     ┆     ┆     ┆ 49  ┆ de  ┆ 511 ┆     ┆ l   ┆ l   ┆ l   ┆ adu ┆ cs  ┆     ┆     ┆ l   ┆     ┆ l   ┆ l   ┆ l   ┆ l   ┆ 5   ┆     ┆ DE  │\n",
       "│     ┆     ┆     ┆     ┆ Mou ┆ 11  ┆     ┆     ┆     ┆     ┆ ra  ┆     ┆     ┆     ┆     ┆     ┆     ┆     ┆     ┆     ┆     ┆     ┆ MOU │\n",
       "│     ┆     ┆     ┆     ┆ ro  ┆     ┆     ┆     ┆     ┆     ┆ Cab ┆     ┆     ┆     ┆     ┆     ┆     ┆     ┆     ┆     ┆     ┆     ┆ RO  │\n",
       "│     ┆     ┆     ┆     ┆     ┆     ┆     ┆     ┆     ┆     ┆ ral ┆     ┆     ┆     ┆     ┆     ┆     ┆     ┆     ┆     ┆     ┆     ┆     │\n",
       "├╌╌╌╌╌┼╌╌╌╌╌┼╌╌╌╌╌┼╌╌╌╌╌┼╌╌╌╌╌┼╌╌╌╌╌┼╌╌╌╌╌┼╌╌╌╌╌┼╌╌╌╌╌┼╌╌╌╌╌┼╌╌╌╌╌┼╌╌╌╌╌┼╌╌╌╌╌┼╌╌╌╌╌┼╌╌╌╌╌┼╌╌╌╌╌┼╌╌╌╌╌┼╌╌╌╌╌┼╌╌╌╌╌┼╌╌╌╌╌┼╌╌╌╌╌┼╌╌╌╌╌┼╌╌╌╌╌┤\n",
       "│ 11  ┆ 11  ┆ 8   ┆ 452 ┆ Rio ┆ 687 ┆ Rua ┆ nul ┆ nul ┆ nul ┆ Sac ┆ Mer ┆ I   ┆ 33  ┆ nul ┆ 47  ┆ nul ┆ nul ┆ nul ┆ nul ┆ 263 ┆ 259 ┆ RIO │\n",
       "│     ┆     ┆     ┆ 49  ┆ de  ┆ 511 ┆     ┆ l   ┆ l   ┆ l   ┆ adu ┆ cs  ┆     ┆     ┆ l   ┆     ┆ l   ┆ l   ┆ l   ┆ l   ┆ 5   ┆     ┆ DE  │\n",
       "│     ┆     ┆     ┆     ┆ Mou ┆ 11  ┆     ┆     ┆     ┆     ┆ ra  ┆     ┆     ┆     ┆     ┆     ┆     ┆     ┆     ┆     ┆     ┆     ┆ MOU │\n",
       "│     ┆     ┆     ┆     ┆ ro  ┆     ┆     ┆     ┆     ┆     ┆ Cab ┆     ┆     ┆     ┆     ┆     ┆     ┆     ┆     ┆     ┆     ┆     ┆ RO  │\n",
       "│     ┆     ┆     ┆     ┆     ┆     ┆     ┆     ┆     ┆     ┆ ral ┆     ┆     ┆     ┆     ┆     ┆     ┆     ┆     ┆     ┆     ┆     ┆     │\n",
       "├╌╌╌╌╌┼╌╌╌╌╌┼╌╌╌╌╌┼╌╌╌╌╌┼╌╌╌╌╌┼╌╌╌╌╌┼╌╌╌╌╌┼╌╌╌╌╌┼╌╌╌╌╌┼╌╌╌╌╌┼╌╌╌╌╌┼╌╌╌╌╌┼╌╌╌╌╌┼╌╌╌╌╌┼╌╌╌╌╌┼╌╌╌╌╌┼╌╌╌╌╌┼╌╌╌╌╌┼╌╌╌╌╌┼╌╌╌╌╌┼╌╌╌╌╌┼╌╌╌╌╌┼╌╌╌╌╌┤\n",
       "│ 11  ┆ 11  ┆ 8   ┆ 452 ┆ Rio ┆ 687 ┆ Rua ┆ nul ┆ nul ┆ nul ┆ Sac ┆ Mer ┆ P   ┆ 2   ┆ nul ┆ 26  ┆ nul ┆ nul ┆ nul ┆ nul ┆ 263 ┆ 257 ┆ RIO │\n",
       "│     ┆     ┆     ┆ 49  ┆ de  ┆ 511 ┆     ┆ l   ┆ l   ┆ l   ┆ adu ┆ cs  ┆     ┆     ┆ l   ┆     ┆ l   ┆ l   ┆ l   ┆ l   ┆ 5   ┆     ┆ DE  │\n",
       "│     ┆     ┆     ┆     ┆ Mou ┆ 11  ┆     ┆     ┆     ┆     ┆ ra  ┆     ┆     ┆     ┆     ┆     ┆     ┆     ┆     ┆     ┆     ┆     ┆ MOU │\n",
       "│     ┆     ┆     ┆     ┆ ro  ┆     ┆     ┆     ┆     ┆     ┆ Cab ┆     ┆     ┆     ┆     ┆     ┆     ┆     ┆     ┆     ┆     ┆     ┆ RO  │\n",
       "│     ┆     ┆     ┆     ┆     ┆     ┆     ┆     ┆     ┆     ┆ ral ┆     ┆     ┆     ┆     ┆     ┆     ┆     ┆     ┆     ┆     ┆     ┆     │\n",
       "└─────┴─────┴─────┴─────┴─────┴─────┴─────┴─────┴─────┴─────┴─────┴─────┴─────┴─────┴─────┴─────┴─────┴─────┴─────┴─────┴─────┴─────┴─────┘"
      ]
     },
     "execution_count": 61,
     "metadata": {},
     "output_type": "execute_result"
    }
   ],
   "source": [
    "df_locart.head()"
   ]
  },
  {
   "cell_type": "code",
   "execution_count": 62,
   "id": "cd6d0f9e",
   "metadata": {},
   "outputs": [
    {
     "name": "stderr",
     "output_type": "stream",
     "text": [
      "C:\\Users\\1420844\\AppData\\Local\\Temp\\ipykernel_18000\\4145517808.py:29: DataOrientationWarning: Row orientation inferred during DataFrame construction. Explicitly specify the orientation by passing `orient=\"row\"` to silence this warning.\n",
      "  df_PORTA_ALTERNATIVA = pl.DataFrame(dados, schema=header)\n"
     ]
    },
    {
     "data": {
      "text/html": [
       "<div><style>\n",
       ".dataframe > thead > tr,\n",
       ".dataframe > tbody > tr {\n",
       "  text-align: right;\n",
       "  white-space: pre-wrap;\n",
       "}\n",
       "</style>\n",
       "<small>shape: (230_411, 4)</small><table border=\"1\" class=\"dataframe\"><thead><tr><th>ID_PORTA</th><th>PORTA_TIPO</th><th>PORTA_NUM</th><th>PORTA_SUFIXO</th></tr><tr><td>i64</td><td>str</td><td>f64</td><td>str</td></tr></thead><tbody><tr><td>134</td><td>&quot;Lote&quot;</td><td>23.0</td><td>null</td></tr><tr><td>135</td><td>&quot;Lote&quot;</td><td>24.0</td><td>null</td></tr><tr><td>136</td><td>&quot;Lote&quot;</td><td>25.0</td><td>null</td></tr><tr><td>137</td><td>&quot;Lote&quot;</td><td>26.0</td><td>null</td></tr><tr><td>138</td><td>&quot;Lote&quot;</td><td>27.0</td><td>null</td></tr><tr><td>&hellip;</td><td>&hellip;</td><td>&hellip;</td><td>&hellip;</td></tr><tr><td>7492754</td><td>&quot;Edifcio&quot;</td><td>null</td><td>&quot;Cidadania Caboz Gonalves&quot;</td></tr><tr><td>7493063</td><td>&quot;Lote&quot;</td><td>410.0</td><td>null</td></tr><tr><td>7493132</td><td>&quot;Lote&quot;</td><td>2.0</td><td>null</td></tr><tr><td>7493133</td><td>&quot;Lote&quot;</td><td>3.0</td><td>null</td></tr><tr><td>7493218</td><td>&quot;Casa&quot;</td><td>null</td><td>&quot;Portal-De-Lamas&quot;</td></tr></tbody></table></div>"
      ],
      "text/plain": [
       "shape: (230_411, 4)\n",
       "┌──────────┬────────────┬───────────┬──────────────────────────┐\n",
       "│ ID_PORTA ┆ PORTA_TIPO ┆ PORTA_NUM ┆ PORTA_SUFIXO             │\n",
       "│ ---      ┆ ---        ┆ ---       ┆ ---                      │\n",
       "│ i64      ┆ str        ┆ f64       ┆ str                      │\n",
       "╞══════════╪════════════╪═══════════╪══════════════════════════╡\n",
       "│ 134      ┆ Lote       ┆ 23.0      ┆ null                     │\n",
       "├╌╌╌╌╌╌╌╌╌╌┼╌╌╌╌╌╌╌╌╌╌╌╌┼╌╌╌╌╌╌╌╌╌╌╌┼╌╌╌╌╌╌╌╌╌╌╌╌╌╌╌╌╌╌╌╌╌╌╌╌╌╌┤\n",
       "│ 135      ┆ Lote       ┆ 24.0      ┆ null                     │\n",
       "├╌╌╌╌╌╌╌╌╌╌┼╌╌╌╌╌╌╌╌╌╌╌╌┼╌╌╌╌╌╌╌╌╌╌╌┼╌╌╌╌╌╌╌╌╌╌╌╌╌╌╌╌╌╌╌╌╌╌╌╌╌╌┤\n",
       "│ 136      ┆ Lote       ┆ 25.0      ┆ null                     │\n",
       "├╌╌╌╌╌╌╌╌╌╌┼╌╌╌╌╌╌╌╌╌╌╌╌┼╌╌╌╌╌╌╌╌╌╌╌┼╌╌╌╌╌╌╌╌╌╌╌╌╌╌╌╌╌╌╌╌╌╌╌╌╌╌┤\n",
       "│ 137      ┆ Lote       ┆ 26.0      ┆ null                     │\n",
       "├╌╌╌╌╌╌╌╌╌╌┼╌╌╌╌╌╌╌╌╌╌╌╌┼╌╌╌╌╌╌╌╌╌╌╌┼╌╌╌╌╌╌╌╌╌╌╌╌╌╌╌╌╌╌╌╌╌╌╌╌╌╌┤\n",
       "│ 138      ┆ Lote       ┆ 27.0      ┆ null                     │\n",
       "├╌╌╌╌╌╌╌╌╌╌┼╌╌╌╌╌╌╌╌╌╌╌╌┼╌╌╌╌╌╌╌╌╌╌╌┼╌╌╌╌╌╌╌╌╌╌╌╌╌╌╌╌╌╌╌╌╌╌╌╌╌╌┤\n",
       "│ …        ┆ …          ┆ …         ┆ …                        │\n",
       "├╌╌╌╌╌╌╌╌╌╌┼╌╌╌╌╌╌╌╌╌╌╌╌┼╌╌╌╌╌╌╌╌╌╌╌┼╌╌╌╌╌╌╌╌╌╌╌╌╌╌╌╌╌╌╌╌╌╌╌╌╌╌┤\n",
       "│ 7492754  ┆ Edifcio    ┆ null      ┆ Cidadania Caboz Gonalves │\n",
       "├╌╌╌╌╌╌╌╌╌╌┼╌╌╌╌╌╌╌╌╌╌╌╌┼╌╌╌╌╌╌╌╌╌╌╌┼╌╌╌╌╌╌╌╌╌╌╌╌╌╌╌╌╌╌╌╌╌╌╌╌╌╌┤\n",
       "│ 7493063  ┆ Lote       ┆ 410.0     ┆ null                     │\n",
       "├╌╌╌╌╌╌╌╌╌╌┼╌╌╌╌╌╌╌╌╌╌╌╌┼╌╌╌╌╌╌╌╌╌╌╌┼╌╌╌╌╌╌╌╌╌╌╌╌╌╌╌╌╌╌╌╌╌╌╌╌╌╌┤\n",
       "│ 7493132  ┆ Lote       ┆ 2.0       ┆ null                     │\n",
       "├╌╌╌╌╌╌╌╌╌╌┼╌╌╌╌╌╌╌╌╌╌╌╌┼╌╌╌╌╌╌╌╌╌╌╌┼╌╌╌╌╌╌╌╌╌╌╌╌╌╌╌╌╌╌╌╌╌╌╌╌╌╌┤\n",
       "│ 7493133  ┆ Lote       ┆ 3.0       ┆ null                     │\n",
       "├╌╌╌╌╌╌╌╌╌╌┼╌╌╌╌╌╌╌╌╌╌╌╌┼╌╌╌╌╌╌╌╌╌╌╌┼╌╌╌╌╌╌╌╌╌╌╌╌╌╌╌╌╌╌╌╌╌╌╌╌╌╌┤\n",
       "│ 7493218  ┆ Casa       ┆ null      ┆ Portal-De-Lamas          │\n",
       "└──────────┴────────────┴───────────┴──────────────────────────┘"
      ]
     },
     "execution_count": 62,
     "metadata": {},
     "output_type": "execute_result"
    }
   ],
   "source": [
    "# ==========================\n",
    "# 1. Ler ficheiro e separar manualmente\n",
    "# ==========================\n",
    "import polars as pl\n",
    "\n",
    "with open(r10, \"r\", encoding=\"utf-8\", errors=\"ignore\") as f:\n",
    "    linhas = [l.strip() for l in f if l.strip()]\n",
    "\n",
    "# header na primeira linha\n",
    "header = linhas[0].split(\";\")\n",
    "\n",
    "# processar restantes linhas\n",
    "dados = []\n",
    "for linha in linhas[1:]:\n",
    "    partes = linha.split(\";\")\n",
    "    # garantir que tem o mesmo nº de colunas\n",
    "    while len(partes) < len(header):\n",
    "        partes.append(\"\")\n",
    "    # transformar \"\" em None\n",
    "    partes = [p if p != \"\" else None for p in partes]\n",
    "    # substituir vírgula decimal\n",
    "    partes[0] = int(float(partes[0].replace(\",\", \".\"))) if partes[0] else None  # inteiro\n",
    "    partes[2] = float(partes[2].replace(\",\", \".\")) if partes[2] else None       # decimal\n",
    "    dados.append(partes)\n",
    "\n",
    "# ==========================\n",
    "# 2. Criar DataFrame Polars\n",
    "# ==========================\n",
    "df_PORTA_ALTERNATIVA = pl.DataFrame(dados, schema=header)\n",
    "\n",
    "df_PORTA_ALTERNATIVA\n"
   ]
  },
  {
   "cell_type": "code",
   "execution_count": 71,
   "id": "9cb6b069",
   "metadata": {},
   "outputs": [],
   "source": [
    "\n",
    "with open(r1, \"rb\") as f: linhas = f.read().decode(\"utf-8\", errors=\"ignore\")\n",
    "df_arteria_alternativa = pl.read_csv(StringIO(linhas), separator=\";\", ignore_errors=True, decimal_comma=True)\n",
    "\n",
    "df_arteria_alternativa = df_portas.with_columns([\n",
    "    df_portas[col].cast(pl.Int64)\n",
    "    for col in df_portas.columns\n",
    "    if col not in (\"LONG_PORTA\", \"LAT_PORTA\") and df_portas[col].dtype == pl.Float64\n",
    "])"
   ]
  },
  {
   "cell_type": "code",
   "execution_count": 72,
   "id": "d921c067",
   "metadata": {},
   "outputs": [
    {
     "data": {
      "text/html": [
       "<div><style>\n",
       ".dataframe > thead > tr,\n",
       ".dataframe > tbody > tr {\n",
       "  text-align: right;\n",
       "  white-space: pre-wrap;\n",
       "}\n",
       "</style>\n",
       "<small>shape: (24_566, 6)</small><table border=\"1\" class=\"dataframe\"><thead><tr><th>ID_ARTERIA</th><th>ART_TIPO</th><th>ART_PP</th><th>ART_TITULO</th><th>ART_SP</th><th>ART_DESIG</th></tr><tr><td>i64</td><td>str</td><td>str</td><td>str</td><td>str</td><td>str</td></tr></thead><tbody><tr><td>10204</td><td>&quot;Rua&quot;</td><td>null</td><td>&quot;Conselheiro&quot;</td><td>null</td><td>&quot;Ablio Bea&quot;</td></tr><tr><td>10210</td><td>&quot;Rua&quot;</td><td>null</td><td>null</td><td>null</td><td>&quot;Acrcio Lopes&quot;</td></tr><tr><td>10215</td><td>&quot;Rua&quot;</td><td>null</td><td>null</td><td>null</td><td>&quot;Rui Sousa Vinagre&quot;</td></tr><tr><td>10302</td><td>&quot;Largo&quot;</td><td>&quot;de&quot;</td><td>&quot;Santo&quot;</td><td>null</td><td>&quot;Antnio&quot;</td></tr><tr><td>10304</td><td>&quot;Rua&quot;</td><td>null</td><td>null</td><td>null</td><td>&quot;A&quot;</td></tr><tr><td>&hellip;</td><td>&hellip;</td><td>&hellip;</td><td>&hellip;</td><td>&hellip;</td><td>&hellip;</td></tr><tr><td>2146890000</td><td>&quot;Estrada&quot;</td><td>&quot;da&quot;</td><td>null</td><td>null</td><td>&quot;Barragem .&quot;</td></tr><tr><td>2147000000</td><td>&quot;Rua&quot;</td><td>&quot;da&quot;</td><td>null</td><td>null</td><td>&quot;Leziria&quot;</td></tr><tr><td>2147040000</td><td>&quot;Estrada&quot;</td><td>&quot;de&quot;</td><td>null</td><td>null</td><td>&quot;Silves&quot;</td></tr><tr><td>2147040000</td><td>&quot;Estrada Nacional&quot;</td><td>null</td><td>null</td><td>null</td><td>&quot;529&quot;</td></tr><tr><td>2147080000</td><td>&quot;Estrada Nacional&quot;</td><td>null</td><td>null</td><td>null</td><td>&quot;124&quot;</td></tr></tbody></table></div>"
      ],
      "text/plain": [
       "shape: (24_566, 6)\n",
       "┌────────────┬──────────────────┬────────┬─────────────┬────────┬───────────────────┐\n",
       "│ ID_ARTERIA ┆ ART_TIPO         ┆ ART_PP ┆ ART_TITULO  ┆ ART_SP ┆ ART_DESIG         │\n",
       "│ ---        ┆ ---              ┆ ---    ┆ ---         ┆ ---    ┆ ---               │\n",
       "│ i64        ┆ str              ┆ str    ┆ str         ┆ str    ┆ str               │\n",
       "╞════════════╪══════════════════╪════════╪═════════════╪════════╪═══════════════════╡\n",
       "│ 10204      ┆ Rua              ┆ null   ┆ Conselheiro ┆ null   ┆ Ablio Bea         │\n",
       "├╌╌╌╌╌╌╌╌╌╌╌╌┼╌╌╌╌╌╌╌╌╌╌╌╌╌╌╌╌╌╌┼╌╌╌╌╌╌╌╌┼╌╌╌╌╌╌╌╌╌╌╌╌╌┼╌╌╌╌╌╌╌╌┼╌╌╌╌╌╌╌╌╌╌╌╌╌╌╌╌╌╌╌┤\n",
       "│ 10210      ┆ Rua              ┆ null   ┆ null        ┆ null   ┆ Acrcio Lopes      │\n",
       "├╌╌╌╌╌╌╌╌╌╌╌╌┼╌╌╌╌╌╌╌╌╌╌╌╌╌╌╌╌╌╌┼╌╌╌╌╌╌╌╌┼╌╌╌╌╌╌╌╌╌╌╌╌╌┼╌╌╌╌╌╌╌╌┼╌╌╌╌╌╌╌╌╌╌╌╌╌╌╌╌╌╌╌┤\n",
       "│ 10215      ┆ Rua              ┆ null   ┆ null        ┆ null   ┆ Rui Sousa Vinagre │\n",
       "├╌╌╌╌╌╌╌╌╌╌╌╌┼╌╌╌╌╌╌╌╌╌╌╌╌╌╌╌╌╌╌┼╌╌╌╌╌╌╌╌┼╌╌╌╌╌╌╌╌╌╌╌╌╌┼╌╌╌╌╌╌╌╌┼╌╌╌╌╌╌╌╌╌╌╌╌╌╌╌╌╌╌╌┤\n",
       "│ 10302      ┆ Largo            ┆ de     ┆ Santo       ┆ null   ┆ Antnio            │\n",
       "├╌╌╌╌╌╌╌╌╌╌╌╌┼╌╌╌╌╌╌╌╌╌╌╌╌╌╌╌╌╌╌┼╌╌╌╌╌╌╌╌┼╌╌╌╌╌╌╌╌╌╌╌╌╌┼╌╌╌╌╌╌╌╌┼╌╌╌╌╌╌╌╌╌╌╌╌╌╌╌╌╌╌╌┤\n",
       "│ 10304      ┆ Rua              ┆ null   ┆ null        ┆ null   ┆ A                 │\n",
       "├╌╌╌╌╌╌╌╌╌╌╌╌┼╌╌╌╌╌╌╌╌╌╌╌╌╌╌╌╌╌╌┼╌╌╌╌╌╌╌╌┼╌╌╌╌╌╌╌╌╌╌╌╌╌┼╌╌╌╌╌╌╌╌┼╌╌╌╌╌╌╌╌╌╌╌╌╌╌╌╌╌╌╌┤\n",
       "│ …          ┆ …                ┆ …      ┆ …           ┆ …      ┆ …                 │\n",
       "├╌╌╌╌╌╌╌╌╌╌╌╌┼╌╌╌╌╌╌╌╌╌╌╌╌╌╌╌╌╌╌┼╌╌╌╌╌╌╌╌┼╌╌╌╌╌╌╌╌╌╌╌╌╌┼╌╌╌╌╌╌╌╌┼╌╌╌╌╌╌╌╌╌╌╌╌╌╌╌╌╌╌╌┤\n",
       "│ 2146890000 ┆ Estrada          ┆ da     ┆ null        ┆ null   ┆ Barragem .        │\n",
       "├╌╌╌╌╌╌╌╌╌╌╌╌┼╌╌╌╌╌╌╌╌╌╌╌╌╌╌╌╌╌╌┼╌╌╌╌╌╌╌╌┼╌╌╌╌╌╌╌╌╌╌╌╌╌┼╌╌╌╌╌╌╌╌┼╌╌╌╌╌╌╌╌╌╌╌╌╌╌╌╌╌╌╌┤\n",
       "│ 2147000000 ┆ Rua              ┆ da     ┆ null        ┆ null   ┆ Leziria           │\n",
       "├╌╌╌╌╌╌╌╌╌╌╌╌┼╌╌╌╌╌╌╌╌╌╌╌╌╌╌╌╌╌╌┼╌╌╌╌╌╌╌╌┼╌╌╌╌╌╌╌╌╌╌╌╌╌┼╌╌╌╌╌╌╌╌┼╌╌╌╌╌╌╌╌╌╌╌╌╌╌╌╌╌╌╌┤\n",
       "│ 2147040000 ┆ Estrada          ┆ de     ┆ null        ┆ null   ┆ Silves            │\n",
       "├╌╌╌╌╌╌╌╌╌╌╌╌┼╌╌╌╌╌╌╌╌╌╌╌╌╌╌╌╌╌╌┼╌╌╌╌╌╌╌╌┼╌╌╌╌╌╌╌╌╌╌╌╌╌┼╌╌╌╌╌╌╌╌┼╌╌╌╌╌╌╌╌╌╌╌╌╌╌╌╌╌╌╌┤\n",
       "│ 2147040000 ┆ Estrada Nacional ┆ null   ┆ null        ┆ null   ┆ 529               │\n",
       "├╌╌╌╌╌╌╌╌╌╌╌╌┼╌╌╌╌╌╌╌╌╌╌╌╌╌╌╌╌╌╌┼╌╌╌╌╌╌╌╌┼╌╌╌╌╌╌╌╌╌╌╌╌╌┼╌╌╌╌╌╌╌╌┼╌╌╌╌╌╌╌╌╌╌╌╌╌╌╌╌╌╌╌┤\n",
       "│ 2147080000 ┆ Estrada Nacional ┆ null   ┆ null        ┆ null   ┆ 124               │\n",
       "└────────────┴──────────────────┴────────┴─────────────┴────────┴───────────────────┘"
      ]
     },
     "execution_count": 72,
     "metadata": {},
     "output_type": "execute_result"
    }
   ],
   "source": [
    "df_arteria_alternativa"
   ]
  },
  {
   "cell_type": "markdown",
   "id": "4cc941ed",
   "metadata": {},
   "source": [
    "Merge"
   ]
  },
  {
   "cell_type": "code",
   "execution_count": 63,
   "id": "02f420d3",
   "metadata": {},
   "outputs": [],
   "source": [
    "df_merged = df_locart.join(\n",
    "    df_portas,\n",
    "    left_on=\"ART_COD\",\n",
    "    right_on=\"ID_ARTERIA\",\n",
    "    how=\"left\"   # podes trocar por \"left\", \"right\" ou \"outer\" conforme precisas\n",
    ")"
   ]
  },
  {
   "cell_type": "code",
   "execution_count": 73,
   "id": "bb225fab",
   "metadata": {},
   "outputs": [
    {
     "data": {
      "text/html": [
       "<div><style>\n",
       ".dataframe > thead > tr,\n",
       ".dataframe > tbody > tr {\n",
       "  text-align: right;\n",
       "  white-space: pre-wrap;\n",
       "}\n",
       "</style>\n",
       "<small>shape: (5, 36)</small><table border=\"1\" class=\"dataframe\"><thead><tr><th>DD</th><th>CC</th><th>FF</th><th>LLLL</th><th>LOCALIDADE</th><th>ART_COD</th><th>ART_TIPO</th><th>ART_PP</th><th>ART_TITULO</th><th>ART_SP</th><th>ART_DESIG</th><th>ART_LOCAL</th><th>I_P</th><th>INI_NUM</th><th>INI_LET</th><th>FIM_NUM</th><th>FIM_LET</th><th>ID_TIPO</th><th>ID_DESIG</th><th>CLIENTE</th><th>CP4</th><th>CP3</th><th>CPALF</th><th>ID_PORTA</th><th>PORTA_TIPO</th><th>PORTA_NUM</th><th>CP4_right</th><th>CP3_right</th><th>DESIGNACAO_POSTAL</th><th>ID_LOCALIDADE</th><th>ID_LOCAL</th><th>DD_right</th><th>CC_right</th><th>FF_right</th><th>LONG_PORTA</th><th>LAT_PORTA</th></tr><tr><td>i64</td><td>i64</td><td>i64</td><td>i64</td><td>str</td><td>i64</td><td>str</td><td>str</td><td>str</td><td>str</td><td>str</td><td>str</td><td>str</td><td>i64</td><td>str</td><td>i64</td><td>str</td><td>str</td><td>str</td><td>str</td><td>i64</td><td>i64</td><td>str</td><td>i64</td><td>str</td><td>i64</td><td>i64</td><td>i64</td><td>str</td><td>i64</td><td>i64</td><td>i64</td><td>i64</td><td>i64</td><td>f64</td><td>f64</td></tr></thead><tbody><tr><td>11</td><td>11</td><td>8</td><td>45249</td><td>&quot;Rio de Mouro&quot;</td><td>68481111</td><td>&quot;Rua&quot;</td><td>&quot;do&quot;</td><td>null</td><td>null</td><td>&quot;Planeta Mercrio&quot;</td><td>&quot;Serra das Minas&quot;</td><td>null</td><td>null</td><td>null</td><td>null</td><td>null</td><td>null</td><td>null</td><td>null</td><td>2635</td><td>615</td><td>&quot;RIO DE MOURO&quot;</td><td>1503081</td><td>null</td><td>1</td><td>2635</td><td>615</td><td>&quot;RIO DE MOURO&quot;</td><td>45249</td><td>5026</td><td>11</td><td>11</td><td>8</td><td>-9.32</td><td>38.78</td></tr><tr><td>11</td><td>11</td><td>8</td><td>45249</td><td>&quot;Rio de Mouro&quot;</td><td>68481111</td><td>&quot;Rua&quot;</td><td>&quot;do&quot;</td><td>null</td><td>null</td><td>&quot;Planeta Mercrio&quot;</td><td>&quot;Serra das Minas&quot;</td><td>null</td><td>null</td><td>null</td><td>null</td><td>null</td><td>null</td><td>null</td><td>null</td><td>2635</td><td>615</td><td>&quot;RIO DE MOURO&quot;</td><td>1503082</td><td>null</td><td>3</td><td>2635</td><td>615</td><td>&quot;RIO DE MOURO&quot;</td><td>45249</td><td>5026</td><td>11</td><td>11</td><td>8</td><td>-9.32</td><td>38.78</td></tr><tr><td>11</td><td>11</td><td>8</td><td>45249</td><td>&quot;Rio de Mouro&quot;</td><td>68481111</td><td>&quot;Rua&quot;</td><td>&quot;do&quot;</td><td>null</td><td>null</td><td>&quot;Planeta Mercrio&quot;</td><td>&quot;Serra das Minas&quot;</td><td>null</td><td>null</td><td>null</td><td>null</td><td>null</td><td>null</td><td>null</td><td>null</td><td>2635</td><td>615</td><td>&quot;RIO DE MOURO&quot;</td><td>1503083</td><td>null</td><td>5</td><td>2635</td><td>615</td><td>&quot;RIO DE MOURO&quot;</td><td>45249</td><td>5026</td><td>11</td><td>11</td><td>8</td><td>-9.32</td><td>38.78</td></tr><tr><td>11</td><td>11</td><td>8</td><td>45249</td><td>&quot;Rio de Mouro&quot;</td><td>68481111</td><td>&quot;Rua&quot;</td><td>&quot;do&quot;</td><td>null</td><td>null</td><td>&quot;Planeta Mercrio&quot;</td><td>&quot;Serra das Minas&quot;</td><td>null</td><td>null</td><td>null</td><td>null</td><td>null</td><td>null</td><td>null</td><td>null</td><td>2635</td><td>615</td><td>&quot;RIO DE MOURO&quot;</td><td>1529907</td><td>null</td><td>7</td><td>2635</td><td>615</td><td>&quot;RIO DE MOURO&quot;</td><td>45249</td><td>5026</td><td>11</td><td>11</td><td>8</td><td>-9.32</td><td>38.78</td></tr><tr><td>11</td><td>11</td><td>8</td><td>45249</td><td>&quot;Rio de Mouro&quot;</td><td>68481111</td><td>&quot;Rua&quot;</td><td>&quot;do&quot;</td><td>null</td><td>null</td><td>&quot;Planeta Mercrio&quot;</td><td>&quot;Serra das Minas&quot;</td><td>null</td><td>null</td><td>null</td><td>null</td><td>null</td><td>null</td><td>null</td><td>null</td><td>2635</td><td>615</td><td>&quot;RIO DE MOURO&quot;</td><td>1529908</td><td>null</td><td>7</td><td>2635</td><td>615</td><td>&quot;RIO DE MOURO&quot;</td><td>45249</td><td>5026</td><td>11</td><td>11</td><td>8</td><td>-9.32</td><td>38.78</td></tr></tbody></table></div>"
      ],
      "text/plain": [
       "shape: (5, 36)\n",
       "┌─────┬─────┬─────┬─────┬─────┬─────┬─────┬─────┬─────┬─────┬─────┬─────┬─────┬─────┬─────┬─────┬─────┬─────┬─────┬─────┬─────┬─────┬─────┬─────┬─────┬─────┬─────┬─────┬─────┬─────┬─────┬─────┬─────┬─────┬─────┬─────┐\n",
       "│ DD  ┆ CC  ┆ FF  ┆ LLL ┆ LOC ┆ ART ┆ ART ┆ ART ┆ ART ┆ ART ┆ ART ┆ ART ┆ I_P ┆ INI ┆ INI ┆ FIM ┆ FIM ┆ ID_ ┆ ID_ ┆ CLI ┆ CP4 ┆ CP3 ┆ CPA ┆ ID_ ┆ POR ┆ POR ┆ CP4 ┆ CP3 ┆ DES ┆ ID_ ┆ ID_ ┆ DD_ ┆ CC_ ┆ FF_ ┆ LON ┆ LAT │\n",
       "│ --- ┆ --- ┆ --- ┆ L   ┆ ALI ┆ _CO ┆ _TI ┆ _PP ┆ _TI ┆ _SP ┆ _DE ┆ _LO ┆ --- ┆ _NU ┆ _LE ┆ _NU ┆ _LE ┆ TIP ┆ DES ┆ ENT ┆ --- ┆ --- ┆ LF  ┆ POR ┆ TA_ ┆ TA_ ┆ _ri ┆ _ri ┆ IGN ┆ LOC ┆ LOC ┆ rig ┆ rig ┆ rig ┆ G_P ┆ _PO │\n",
       "│ i64 ┆ i64 ┆ i64 ┆ --- ┆ DAD ┆ D   ┆ PO  ┆ --- ┆ TUL ┆ --- ┆ SIG ┆ CAL ┆ str ┆ M   ┆ T   ┆ M   ┆ T   ┆ O   ┆ IG  ┆ E   ┆ i64 ┆ i64 ┆ --- ┆ TA  ┆ TIP ┆ NUM ┆ ght ┆ ght ┆ ACA ┆ ALI ┆ AL  ┆ ht  ┆ ht  ┆ ht  ┆ ORT ┆ RTA │\n",
       "│     ┆     ┆     ┆ i64 ┆ E   ┆ --- ┆ --- ┆ str ┆ O   ┆ str ┆ --- ┆ --- ┆     ┆ --- ┆ --- ┆ --- ┆ --- ┆ --- ┆ --- ┆ --- ┆     ┆     ┆ str ┆ --- ┆ O   ┆ --- ┆ --- ┆ --- ┆ O_P ┆ DAD ┆ --- ┆ --- ┆ --- ┆ --- ┆ A   ┆ --- │\n",
       "│     ┆     ┆     ┆     ┆ --- ┆ i64 ┆ str ┆     ┆ --- ┆     ┆ str ┆ str ┆     ┆ i64 ┆ str ┆ i64 ┆ str ┆ str ┆ str ┆ str ┆     ┆     ┆     ┆ i64 ┆ --- ┆ i64 ┆ i64 ┆ i64 ┆ OST ┆ E   ┆ i64 ┆ i64 ┆ i64 ┆ i64 ┆ --- ┆ f64 │\n",
       "│     ┆     ┆     ┆     ┆ str ┆     ┆     ┆     ┆ str ┆     ┆     ┆     ┆     ┆     ┆     ┆     ┆     ┆     ┆     ┆     ┆     ┆     ┆     ┆     ┆ str ┆     ┆     ┆     ┆ AL  ┆ --- ┆     ┆     ┆     ┆     ┆ f64 ┆     │\n",
       "│     ┆     ┆     ┆     ┆     ┆     ┆     ┆     ┆     ┆     ┆     ┆     ┆     ┆     ┆     ┆     ┆     ┆     ┆     ┆     ┆     ┆     ┆     ┆     ┆     ┆     ┆     ┆     ┆ --- ┆ i64 ┆     ┆     ┆     ┆     ┆     ┆     │\n",
       "│     ┆     ┆     ┆     ┆     ┆     ┆     ┆     ┆     ┆     ┆     ┆     ┆     ┆     ┆     ┆     ┆     ┆     ┆     ┆     ┆     ┆     ┆     ┆     ┆     ┆     ┆     ┆     ┆ str ┆     ┆     ┆     ┆     ┆     ┆     ┆     │\n",
       "╞═════╪═════╪═════╪═════╪═════╪═════╪═════╪═════╪═════╪═════╪═════╪═════╪═════╪═════╪═════╪═════╪═════╪═════╪═════╪═════╪═════╪═════╪═════╪═════╪═════╪═════╪═════╪═════╪═════╪═════╪═════╪═════╪═════╪═════╪═════╪═════╡\n",
       "│ 11  ┆ 11  ┆ 8   ┆ 452 ┆ Rio ┆ 684 ┆ Rua ┆ do  ┆ nul ┆ nul ┆ Pla ┆ Ser ┆ nul ┆ nul ┆ nul ┆ nul ┆ nul ┆ nul ┆ nul ┆ nul ┆ 263 ┆ 615 ┆ RIO ┆ 150 ┆ nul ┆ 1   ┆ 263 ┆ 615 ┆ RIO ┆ 452 ┆ 502 ┆ 11  ┆ 11  ┆ 8   ┆ -9. ┆ 38. │\n",
       "│     ┆     ┆     ┆ 49  ┆ de  ┆ 811 ┆     ┆     ┆ l   ┆ l   ┆ net ┆ ra  ┆ l   ┆ l   ┆ l   ┆ l   ┆ l   ┆ l   ┆ l   ┆ l   ┆ 5   ┆     ┆ DE  ┆ 308 ┆ l   ┆     ┆ 5   ┆     ┆ DE  ┆ 49  ┆ 6   ┆     ┆     ┆     ┆ 32  ┆ 78  │\n",
       "│     ┆     ┆     ┆     ┆ Mou ┆ 11  ┆     ┆     ┆     ┆     ┆ a   ┆ das ┆     ┆     ┆     ┆     ┆     ┆     ┆     ┆     ┆     ┆     ┆ MOU ┆ 1   ┆     ┆     ┆     ┆     ┆ MOU ┆     ┆     ┆     ┆     ┆     ┆     ┆     │\n",
       "│     ┆     ┆     ┆     ┆ ro  ┆     ┆     ┆     ┆     ┆     ┆ Mer ┆ Min ┆     ┆     ┆     ┆     ┆     ┆     ┆     ┆     ┆     ┆     ┆ RO  ┆     ┆     ┆     ┆     ┆     ┆ RO  ┆     ┆     ┆     ┆     ┆     ┆     ┆     │\n",
       "│     ┆     ┆     ┆     ┆     ┆     ┆     ┆     ┆     ┆     ┆ cri ┆ as  ┆     ┆     ┆     ┆     ┆     ┆     ┆     ┆     ┆     ┆     ┆     ┆     ┆     ┆     ┆     ┆     ┆     ┆     ┆     ┆     ┆     ┆     ┆     ┆     │\n",
       "│     ┆     ┆     ┆     ┆     ┆     ┆     ┆     ┆     ┆     ┆ o   ┆     ┆     ┆     ┆     ┆     ┆     ┆     ┆     ┆     ┆     ┆     ┆     ┆     ┆     ┆     ┆     ┆     ┆     ┆     ┆     ┆     ┆     ┆     ┆     ┆     │\n",
       "├╌╌╌╌╌┼╌╌╌╌╌┼╌╌╌╌╌┼╌╌╌╌╌┼╌╌╌╌╌┼╌╌╌╌╌┼╌╌╌╌╌┼╌╌╌╌╌┼╌╌╌╌╌┼╌╌╌╌╌┼╌╌╌╌╌┼╌╌╌╌╌┼╌╌╌╌╌┼╌╌╌╌╌┼╌╌╌╌╌┼╌╌╌╌╌┼╌╌╌╌╌┼╌╌╌╌╌┼╌╌╌╌╌┼╌╌╌╌╌┼╌╌╌╌╌┼╌╌╌╌╌┼╌╌╌╌╌┼╌╌╌╌╌┼╌╌╌╌╌┼╌╌╌╌╌┼╌╌╌╌╌┼╌╌╌╌╌┼╌╌╌╌╌┼╌╌╌╌╌┼╌╌╌╌╌┼╌╌╌╌╌┼╌╌╌╌╌┼╌╌╌╌╌┼╌╌╌╌╌┼╌╌╌╌╌┤\n",
       "│ 11  ┆ 11  ┆ 8   ┆ 452 ┆ Rio ┆ 684 ┆ Rua ┆ do  ┆ nul ┆ nul ┆ Pla ┆ Ser ┆ nul ┆ nul ┆ nul ┆ nul ┆ nul ┆ nul ┆ nul ┆ nul ┆ 263 ┆ 615 ┆ RIO ┆ 150 ┆ nul ┆ 3   ┆ 263 ┆ 615 ┆ RIO ┆ 452 ┆ 502 ┆ 11  ┆ 11  ┆ 8   ┆ -9. ┆ 38. │\n",
       "│     ┆     ┆     ┆ 49  ┆ de  ┆ 811 ┆     ┆     ┆ l   ┆ l   ┆ net ┆ ra  ┆ l   ┆ l   ┆ l   ┆ l   ┆ l   ┆ l   ┆ l   ┆ l   ┆ 5   ┆     ┆ DE  ┆ 308 ┆ l   ┆     ┆ 5   ┆     ┆ DE  ┆ 49  ┆ 6   ┆     ┆     ┆     ┆ 32  ┆ 78  │\n",
       "│     ┆     ┆     ┆     ┆ Mou ┆ 11  ┆     ┆     ┆     ┆     ┆ a   ┆ das ┆     ┆     ┆     ┆     ┆     ┆     ┆     ┆     ┆     ┆     ┆ MOU ┆ 2   ┆     ┆     ┆     ┆     ┆ MOU ┆     ┆     ┆     ┆     ┆     ┆     ┆     │\n",
       "│     ┆     ┆     ┆     ┆ ro  ┆     ┆     ┆     ┆     ┆     ┆ Mer ┆ Min ┆     ┆     ┆     ┆     ┆     ┆     ┆     ┆     ┆     ┆     ┆ RO  ┆     ┆     ┆     ┆     ┆     ┆ RO  ┆     ┆     ┆     ┆     ┆     ┆     ┆     │\n",
       "│     ┆     ┆     ┆     ┆     ┆     ┆     ┆     ┆     ┆     ┆ cri ┆ as  ┆     ┆     ┆     ┆     ┆     ┆     ┆     ┆     ┆     ┆     ┆     ┆     ┆     ┆     ┆     ┆     ┆     ┆     ┆     ┆     ┆     ┆     ┆     ┆     │\n",
       "│     ┆     ┆     ┆     ┆     ┆     ┆     ┆     ┆     ┆     ┆ o   ┆     ┆     ┆     ┆     ┆     ┆     ┆     ┆     ┆     ┆     ┆     ┆     ┆     ┆     ┆     ┆     ┆     ┆     ┆     ┆     ┆     ┆     ┆     ┆     ┆     │\n",
       "├╌╌╌╌╌┼╌╌╌╌╌┼╌╌╌╌╌┼╌╌╌╌╌┼╌╌╌╌╌┼╌╌╌╌╌┼╌╌╌╌╌┼╌╌╌╌╌┼╌╌╌╌╌┼╌╌╌╌╌┼╌╌╌╌╌┼╌╌╌╌╌┼╌╌╌╌╌┼╌╌╌╌╌┼╌╌╌╌╌┼╌╌╌╌╌┼╌╌╌╌╌┼╌╌╌╌╌┼╌╌╌╌╌┼╌╌╌╌╌┼╌╌╌╌╌┼╌╌╌╌╌┼╌╌╌╌╌┼╌╌╌╌╌┼╌╌╌╌╌┼╌╌╌╌╌┼╌╌╌╌╌┼╌╌╌╌╌┼╌╌╌╌╌┼╌╌╌╌╌┼╌╌╌╌╌┼╌╌╌╌╌┼╌╌╌╌╌┼╌╌╌╌╌┼╌╌╌╌╌┼╌╌╌╌╌┤\n",
       "│ 11  ┆ 11  ┆ 8   ┆ 452 ┆ Rio ┆ 684 ┆ Rua ┆ do  ┆ nul ┆ nul ┆ Pla ┆ Ser ┆ nul ┆ nul ┆ nul ┆ nul ┆ nul ┆ nul ┆ nul ┆ nul ┆ 263 ┆ 615 ┆ RIO ┆ 150 ┆ nul ┆ 5   ┆ 263 ┆ 615 ┆ RIO ┆ 452 ┆ 502 ┆ 11  ┆ 11  ┆ 8   ┆ -9. ┆ 38. │\n",
       "│     ┆     ┆     ┆ 49  ┆ de  ┆ 811 ┆     ┆     ┆ l   ┆ l   ┆ net ┆ ra  ┆ l   ┆ l   ┆ l   ┆ l   ┆ l   ┆ l   ┆ l   ┆ l   ┆ 5   ┆     ┆ DE  ┆ 308 ┆ l   ┆     ┆ 5   ┆     ┆ DE  ┆ 49  ┆ 6   ┆     ┆     ┆     ┆ 32  ┆ 78  │\n",
       "│     ┆     ┆     ┆     ┆ Mou ┆ 11  ┆     ┆     ┆     ┆     ┆ a   ┆ das ┆     ┆     ┆     ┆     ┆     ┆     ┆     ┆     ┆     ┆     ┆ MOU ┆ 3   ┆     ┆     ┆     ┆     ┆ MOU ┆     ┆     ┆     ┆     ┆     ┆     ┆     │\n",
       "│     ┆     ┆     ┆     ┆ ro  ┆     ┆     ┆     ┆     ┆     ┆ Mer ┆ Min ┆     ┆     ┆     ┆     ┆     ┆     ┆     ┆     ┆     ┆     ┆ RO  ┆     ┆     ┆     ┆     ┆     ┆ RO  ┆     ┆     ┆     ┆     ┆     ┆     ┆     │\n",
       "│     ┆     ┆     ┆     ┆     ┆     ┆     ┆     ┆     ┆     ┆ cri ┆ as  ┆     ┆     ┆     ┆     ┆     ┆     ┆     ┆     ┆     ┆     ┆     ┆     ┆     ┆     ┆     ┆     ┆     ┆     ┆     ┆     ┆     ┆     ┆     ┆     │\n",
       "│     ┆     ┆     ┆     ┆     ┆     ┆     ┆     ┆     ┆     ┆ o   ┆     ┆     ┆     ┆     ┆     ┆     ┆     ┆     ┆     ┆     ┆     ┆     ┆     ┆     ┆     ┆     ┆     ┆     ┆     ┆     ┆     ┆     ┆     ┆     ┆     │\n",
       "├╌╌╌╌╌┼╌╌╌╌╌┼╌╌╌╌╌┼╌╌╌╌╌┼╌╌╌╌╌┼╌╌╌╌╌┼╌╌╌╌╌┼╌╌╌╌╌┼╌╌╌╌╌┼╌╌╌╌╌┼╌╌╌╌╌┼╌╌╌╌╌┼╌╌╌╌╌┼╌╌╌╌╌┼╌╌╌╌╌┼╌╌╌╌╌┼╌╌╌╌╌┼╌╌╌╌╌┼╌╌╌╌╌┼╌╌╌╌╌┼╌╌╌╌╌┼╌╌╌╌╌┼╌╌╌╌╌┼╌╌╌╌╌┼╌╌╌╌╌┼╌╌╌╌╌┼╌╌╌╌╌┼╌╌╌╌╌┼╌╌╌╌╌┼╌╌╌╌╌┼╌╌╌╌╌┼╌╌╌╌╌┼╌╌╌╌╌┼╌╌╌╌╌┼╌╌╌╌╌┼╌╌╌╌╌┤\n",
       "│ 11  ┆ 11  ┆ 8   ┆ 452 ┆ Rio ┆ 684 ┆ Rua ┆ do  ┆ nul ┆ nul ┆ Pla ┆ Ser ┆ nul ┆ nul ┆ nul ┆ nul ┆ nul ┆ nul ┆ nul ┆ nul ┆ 263 ┆ 615 ┆ RIO ┆ 152 ┆ nul ┆ 7   ┆ 263 ┆ 615 ┆ RIO ┆ 452 ┆ 502 ┆ 11  ┆ 11  ┆ 8   ┆ -9. ┆ 38. │\n",
       "│     ┆     ┆     ┆ 49  ┆ de  ┆ 811 ┆     ┆     ┆ l   ┆ l   ┆ net ┆ ra  ┆ l   ┆ l   ┆ l   ┆ l   ┆ l   ┆ l   ┆ l   ┆ l   ┆ 5   ┆     ┆ DE  ┆ 990 ┆ l   ┆     ┆ 5   ┆     ┆ DE  ┆ 49  ┆ 6   ┆     ┆     ┆     ┆ 32  ┆ 78  │\n",
       "│     ┆     ┆     ┆     ┆ Mou ┆ 11  ┆     ┆     ┆     ┆     ┆ a   ┆ das ┆     ┆     ┆     ┆     ┆     ┆     ┆     ┆     ┆     ┆     ┆ MOU ┆ 7   ┆     ┆     ┆     ┆     ┆ MOU ┆     ┆     ┆     ┆     ┆     ┆     ┆     │\n",
       "│     ┆     ┆     ┆     ┆ ro  ┆     ┆     ┆     ┆     ┆     ┆ Mer ┆ Min ┆     ┆     ┆     ┆     ┆     ┆     ┆     ┆     ┆     ┆     ┆ RO  ┆     ┆     ┆     ┆     ┆     ┆ RO  ┆     ┆     ┆     ┆     ┆     ┆     ┆     │\n",
       "│     ┆     ┆     ┆     ┆     ┆     ┆     ┆     ┆     ┆     ┆ cri ┆ as  ┆     ┆     ┆     ┆     ┆     ┆     ┆     ┆     ┆     ┆     ┆     ┆     ┆     ┆     ┆     ┆     ┆     ┆     ┆     ┆     ┆     ┆     ┆     ┆     │\n",
       "│     ┆     ┆     ┆     ┆     ┆     ┆     ┆     ┆     ┆     ┆ o   ┆     ┆     ┆     ┆     ┆     ┆     ┆     ┆     ┆     ┆     ┆     ┆     ┆     ┆     ┆     ┆     ┆     ┆     ┆     ┆     ┆     ┆     ┆     ┆     ┆     │\n",
       "├╌╌╌╌╌┼╌╌╌╌╌┼╌╌╌╌╌┼╌╌╌╌╌┼╌╌╌╌╌┼╌╌╌╌╌┼╌╌╌╌╌┼╌╌╌╌╌┼╌╌╌╌╌┼╌╌╌╌╌┼╌╌╌╌╌┼╌╌╌╌╌┼╌╌╌╌╌┼╌╌╌╌╌┼╌╌╌╌╌┼╌╌╌╌╌┼╌╌╌╌╌┼╌╌╌╌╌┼╌╌╌╌╌┼╌╌╌╌╌┼╌╌╌╌╌┼╌╌╌╌╌┼╌╌╌╌╌┼╌╌╌╌╌┼╌╌╌╌╌┼╌╌╌╌╌┼╌╌╌╌╌┼╌╌╌╌╌┼╌╌╌╌╌┼╌╌╌╌╌┼╌╌╌╌╌┼╌╌╌╌╌┼╌╌╌╌╌┼╌╌╌╌╌┼╌╌╌╌╌┼╌╌╌╌╌┤\n",
       "│ 11  ┆ 11  ┆ 8   ┆ 452 ┆ Rio ┆ 684 ┆ Rua ┆ do  ┆ nul ┆ nul ┆ Pla ┆ Ser ┆ nul ┆ nul ┆ nul ┆ nul ┆ nul ┆ nul ┆ nul ┆ nul ┆ 263 ┆ 615 ┆ RIO ┆ 152 ┆ nul ┆ 7   ┆ 263 ┆ 615 ┆ RIO ┆ 452 ┆ 502 ┆ 11  ┆ 11  ┆ 8   ┆ -9. ┆ 38. │\n",
       "│     ┆     ┆     ┆ 49  ┆ de  ┆ 811 ┆     ┆     ┆ l   ┆ l   ┆ net ┆ ra  ┆ l   ┆ l   ┆ l   ┆ l   ┆ l   ┆ l   ┆ l   ┆ l   ┆ 5   ┆     ┆ DE  ┆ 990 ┆ l   ┆     ┆ 5   ┆     ┆ DE  ┆ 49  ┆ 6   ┆     ┆     ┆     ┆ 32  ┆ 78  │\n",
       "│     ┆     ┆     ┆     ┆ Mou ┆ 11  ┆     ┆     ┆     ┆     ┆ a   ┆ das ┆     ┆     ┆     ┆     ┆     ┆     ┆     ┆     ┆     ┆     ┆ MOU ┆ 8   ┆     ┆     ┆     ┆     ┆ MOU ┆     ┆     ┆     ┆     ┆     ┆     ┆     │\n",
       "│     ┆     ┆     ┆     ┆ ro  ┆     ┆     ┆     ┆     ┆     ┆ Mer ┆ Min ┆     ┆     ┆     ┆     ┆     ┆     ┆     ┆     ┆     ┆     ┆ RO  ┆     ┆     ┆     ┆     ┆     ┆ RO  ┆     ┆     ┆     ┆     ┆     ┆     ┆     │\n",
       "│     ┆     ┆     ┆     ┆     ┆     ┆     ┆     ┆     ┆     ┆ cri ┆ as  ┆     ┆     ┆     ┆     ┆     ┆     ┆     ┆     ┆     ┆     ┆     ┆     ┆     ┆     ┆     ┆     ┆     ┆     ┆     ┆     ┆     ┆     ┆     ┆     │\n",
       "│     ┆     ┆     ┆     ┆     ┆     ┆     ┆     ┆     ┆     ┆ o   ┆     ┆     ┆     ┆     ┆     ┆     ┆     ┆     ┆     ┆     ┆     ┆     ┆     ┆     ┆     ┆     ┆     ┆     ┆     ┆     ┆     ┆     ┆     ┆     ┆     │\n",
       "└─────┴─────┴─────┴─────┴─────┴─────┴─────┴─────┴─────┴─────┴─────┴─────┴─────┴─────┴─────┴─────┴─────┴─────┴─────┴─────┴─────┴─────┴─────┴─────┴─────┴─────┴─────┴─────┴─────┴─────┴─────┴─────┴─────┴─────┴─────┴─────┘"
      ]
     },
     "execution_count": 73,
     "metadata": {},
     "output_type": "execute_result"
    }
   ],
   "source": [
    "df_merged.head()"
   ]
  },
  {
   "cell_type": "code",
   "execution_count": 65,
   "id": "dbd7c88c",
   "metadata": {},
   "outputs": [
    {
     "data": {
      "text/html": [
       "<div><style>\n",
       ".dataframe > thead > tr,\n",
       ".dataframe > tbody > tr {\n",
       "  text-align: right;\n",
       "  white-space: pre-wrap;\n",
       "}\n",
       "</style>\n",
       "<small>shape: (8_776_384, 39)</small><table border=\"1\" class=\"dataframe\"><thead><tr><th>DD</th><th>CC</th><th>FF</th><th>LLLL</th><th>LOCALIDADE</th><th>ART_COD</th><th>ART_TIPO</th><th>ART_PP</th><th>ART_TITULO</th><th>ART_SP</th><th>ART_DESIG</th><th>ART_LOCAL</th><th>I_P</th><th>INI_NUM</th><th>INI_LET</th><th>FIM_NUM</th><th>FIM_LET</th><th>ID_TIPO</th><th>ID_DESIG</th><th>CLIENTE</th><th>CP4</th><th>CP3</th><th>CPALF</th><th>ID_PORTA</th><th>PORTA_TIPO</th><th>PORTA_NUM</th><th>CP4_right</th><th>CP3_right</th><th>DESIGNACAO_POSTAL</th><th>ID_LOCALIDADE</th><th>ID_LOCAL</th><th>DD_right</th><th>CC_right</th><th>FF_right</th><th>LONG_PORTA</th><th>LAT_PORTA</th><th>PORTA_TIPO_right</th><th>PORTA_NUM_right</th><th>PORTA_SUFIXO</th></tr><tr><td>i64</td><td>i64</td><td>i64</td><td>i64</td><td>str</td><td>i64</td><td>str</td><td>str</td><td>str</td><td>str</td><td>str</td><td>str</td><td>str</td><td>i64</td><td>str</td><td>i64</td><td>str</td><td>str</td><td>str</td><td>str</td><td>i64</td><td>i64</td><td>str</td><td>i64</td><td>str</td><td>i64</td><td>i64</td><td>i64</td><td>str</td><td>i64</td><td>i64</td><td>i64</td><td>i64</td><td>i64</td><td>f64</td><td>f64</td><td>str</td><td>f64</td><td>str</td></tr></thead><tbody><tr><td>11</td><td>11</td><td>8</td><td>45249</td><td>&quot;Rio de Mouro&quot;</td><td>68481111</td><td>&quot;Rua&quot;</td><td>&quot;do&quot;</td><td>null</td><td>null</td><td>&quot;Planeta Mercrio&quot;</td><td>&quot;Serra das Minas&quot;</td><td>null</td><td>null</td><td>null</td><td>null</td><td>null</td><td>null</td><td>null</td><td>null</td><td>2635</td><td>615</td><td>&quot;RIO DE MOURO&quot;</td><td>1503081</td><td>null</td><td>1</td><td>2635</td><td>615</td><td>&quot;RIO DE MOURO&quot;</td><td>45249</td><td>5026</td><td>11</td><td>11</td><td>8</td><td>-9.32</td><td>38.78</td><td>&quot;Lote&quot;</td><td>35.0</td><td>null</td></tr><tr><td>11</td><td>11</td><td>8</td><td>45249</td><td>&quot;Rio de Mouro&quot;</td><td>68481111</td><td>&quot;Rua&quot;</td><td>&quot;do&quot;</td><td>null</td><td>null</td><td>&quot;Planeta Mercrio&quot;</td><td>&quot;Serra das Minas&quot;</td><td>null</td><td>null</td><td>null</td><td>null</td><td>null</td><td>null</td><td>null</td><td>null</td><td>2635</td><td>615</td><td>&quot;RIO DE MOURO&quot;</td><td>1503082</td><td>null</td><td>3</td><td>2635</td><td>615</td><td>&quot;RIO DE MOURO&quot;</td><td>45249</td><td>5026</td><td>11</td><td>11</td><td>8</td><td>-9.32</td><td>38.78</td><td>&quot;Lote&quot;</td><td>34.0</td><td>null</td></tr><tr><td>11</td><td>11</td><td>8</td><td>45249</td><td>&quot;Rio de Mouro&quot;</td><td>68481111</td><td>&quot;Rua&quot;</td><td>&quot;do&quot;</td><td>null</td><td>null</td><td>&quot;Planeta Mercrio&quot;</td><td>&quot;Serra das Minas&quot;</td><td>null</td><td>null</td><td>null</td><td>null</td><td>null</td><td>null</td><td>null</td><td>null</td><td>2635</td><td>615</td><td>&quot;RIO DE MOURO&quot;</td><td>1503083</td><td>null</td><td>5</td><td>2635</td><td>615</td><td>&quot;RIO DE MOURO&quot;</td><td>45249</td><td>5026</td><td>11</td><td>11</td><td>8</td><td>-9.32</td><td>38.78</td><td>&quot;Lote&quot;</td><td>33.0</td><td>null</td></tr><tr><td>11</td><td>11</td><td>8</td><td>45249</td><td>&quot;Rio de Mouro&quot;</td><td>68481111</td><td>&quot;Rua&quot;</td><td>&quot;do&quot;</td><td>null</td><td>null</td><td>&quot;Planeta Mercrio&quot;</td><td>&quot;Serra das Minas&quot;</td><td>null</td><td>null</td><td>null</td><td>null</td><td>null</td><td>null</td><td>null</td><td>null</td><td>2635</td><td>615</td><td>&quot;RIO DE MOURO&quot;</td><td>1529907</td><td>null</td><td>7</td><td>2635</td><td>615</td><td>&quot;RIO DE MOURO&quot;</td><td>45249</td><td>5026</td><td>11</td><td>11</td><td>8</td><td>-9.32</td><td>38.78</td><td>null</td><td>null</td><td>null</td></tr><tr><td>11</td><td>11</td><td>8</td><td>45249</td><td>&quot;Rio de Mouro&quot;</td><td>68481111</td><td>&quot;Rua&quot;</td><td>&quot;do&quot;</td><td>null</td><td>null</td><td>&quot;Planeta Mercrio&quot;</td><td>&quot;Serra das Minas&quot;</td><td>null</td><td>null</td><td>null</td><td>null</td><td>null</td><td>null</td><td>null</td><td>null</td><td>2635</td><td>615</td><td>&quot;RIO DE MOURO&quot;</td><td>1529908</td><td>null</td><td>7</td><td>2635</td><td>615</td><td>&quot;RIO DE MOURO&quot;</td><td>45249</td><td>5026</td><td>11</td><td>11</td><td>8</td><td>-9.32</td><td>38.78</td><td>null</td><td>null</td><td>null</td></tr><tr><td>&hellip;</td><td>&hellip;</td><td>&hellip;</td><td>&hellip;</td><td>&hellip;</td><td>&hellip;</td><td>&hellip;</td><td>&hellip;</td><td>&hellip;</td><td>&hellip;</td><td>&hellip;</td><td>&hellip;</td><td>&hellip;</td><td>&hellip;</td><td>&hellip;</td><td>&hellip;</td><td>&hellip;</td><td>&hellip;</td><td>&hellip;</td><td>&hellip;</td><td>&hellip;</td><td>&hellip;</td><td>&hellip;</td><td>&hellip;</td><td>&hellip;</td><td>&hellip;</td><td>&hellip;</td><td>&hellip;</td><td>&hellip;</td><td>&hellip;</td><td>&hellip;</td><td>&hellip;</td><td>&hellip;</td><td>&hellip;</td><td>&hellip;</td><td>&hellip;</td><td>&hellip;</td><td>&hellip;</td><td>&hellip;</td></tr><tr><td>18</td><td>24</td><td>15</td><td>86819</td><td>&quot;Ortigais&quot;</td><td>56226100</td><td>&quot;Estrada Nacional&quot;</td><td>null</td><td>null</td><td>null</td><td>&quot;16&quot;</td><td>null</td><td>&quot;P&quot;</td><td>6</td><td>null</td><td>6</td><td>null</td><td>null</td><td>null</td><td>null</td><td>3670</td><td>278</td><td>&quot;VOUZELA&quot;</td><td>7487711</td><td>null</td><td>6</td><td>3670</td><td>278</td><td>&quot;VOUZELA&quot;</td><td>86819</td><td>null</td><td>18</td><td>24</td><td>15</td><td>-8.09</td><td>40.72</td><td>null</td><td>null</td><td>null</td></tr><tr><td>18</td><td>24</td><td>15</td><td>86819</td><td>&quot;Ortigais&quot;</td><td>279100100</td><td>&quot;Rua&quot;</td><td>&quot;da&quot;</td><td>null</td><td>null</td><td>&quot;Estrada Nacional&quot;</td><td>null</td><td>null</td><td>null</td><td>null</td><td>null</td><td>null</td><td>null</td><td>null</td><td>null</td><td>3670</td><td>278</td><td>&quot;VOUZELA&quot;</td><td>6672587</td><td>null</td><td>14</td><td>3670</td><td>278</td><td>&quot;VOUZELA&quot;</td><td>86819</td><td>null</td><td>18</td><td>24</td><td>15</td><td>-8.09</td><td>40.72</td><td>null</td><td>null</td><td>null</td></tr><tr><td>18</td><td>24</td><td>15</td><td>86819</td><td>&quot;Ortigais&quot;</td><td>279100100</td><td>&quot;Rua&quot;</td><td>&quot;da&quot;</td><td>null</td><td>null</td><td>&quot;Estrada Nacional&quot;</td><td>null</td><td>null</td><td>null</td><td>null</td><td>null</td><td>null</td><td>null</td><td>null</td><td>null</td><td>3670</td><td>278</td><td>&quot;VOUZELA&quot;</td><td>6672597</td><td>null</td><td>20</td><td>3670</td><td>278</td><td>&quot;VOUZELA&quot;</td><td>86819</td><td>null</td><td>18</td><td>24</td><td>15</td><td>-8.09</td><td>40.72</td><td>null</td><td>null</td><td>null</td></tr><tr><td>18</td><td>24</td><td>15</td><td>86819</td><td>&quot;Ortigais&quot;</td><td>279100100</td><td>&quot;Rua&quot;</td><td>&quot;da&quot;</td><td>null</td><td>null</td><td>&quot;Estrada Nacional&quot;</td><td>null</td><td>null</td><td>null</td><td>null</td><td>null</td><td>null</td><td>null</td><td>null</td><td>null</td><td>3670</td><td>278</td><td>&quot;VOUZELA&quot;</td><td>7487705</td><td>null</td><td>18</td><td>3670</td><td>278</td><td>&quot;VOUZELA&quot;</td><td>86819</td><td>null</td><td>18</td><td>24</td><td>15</td><td>-8.09</td><td>40.72</td><td>null</td><td>null</td><td>null</td></tr><tr><td>18</td><td>24</td><td>15</td><td>86819</td><td>&quot;Ortigais&quot;</td><td>279100100</td><td>&quot;Rua&quot;</td><td>&quot;da&quot;</td><td>null</td><td>null</td><td>&quot;Estrada Nacional&quot;</td><td>null</td><td>null</td><td>null</td><td>null</td><td>null</td><td>null</td><td>null</td><td>null</td><td>null</td><td>3670</td><td>278</td><td>&quot;VOUZELA&quot;</td><td>7487708</td><td>null</td><td>16</td><td>3670</td><td>278</td><td>&quot;VOUZELA&quot;</td><td>86819</td><td>null</td><td>18</td><td>24</td><td>15</td><td>-8.09</td><td>40.72</td><td>null</td><td>null</td><td>null</td></tr></tbody></table></div>"
      ],
      "text/plain": [
       "shape: (8_776_384, 39)\n",
       "┌─────┬─────┬─────┬─────┬─────┬─────┬─────┬─────┬─────┬─────┬─────┬─────┬─────┬─────┬─────┬─────┬─────┬─────┬─────┬─────┬─────┬─────┬─────┬─────┬─────┬─────┬─────┬─────┬─────┬─────┬─────┬─────┬─────┬─────┬─────┬─────┬─────┬─────┬─────┐\n",
       "│ DD  ┆ CC  ┆ FF  ┆ LLL ┆ LOC ┆ ART ┆ ART ┆ ART ┆ ART ┆ ART ┆ ART ┆ ART ┆ I_P ┆ INI ┆ INI ┆ FIM ┆ FIM ┆ ID_ ┆ ID_ ┆ CLI ┆ CP4 ┆ CP3 ┆ CPA ┆ ID_ ┆ POR ┆ POR ┆ CP4 ┆ CP3 ┆ DES ┆ ID_ ┆ ID_ ┆ DD_ ┆ CC_ ┆ FF_ ┆ LON ┆ LAT ┆ POR ┆ POR ┆ POR │\n",
       "│ --- ┆ --- ┆ --- ┆ L   ┆ ALI ┆ _CO ┆ _TI ┆ _PP ┆ _TI ┆ _SP ┆ _DE ┆ _LO ┆ --- ┆ _NU ┆ _LE ┆ _NU ┆ _LE ┆ TIP ┆ DES ┆ ENT ┆ --- ┆ --- ┆ LF  ┆ POR ┆ TA_ ┆ TA_ ┆ _ri ┆ _ri ┆ IGN ┆ LOC ┆ LOC ┆ rig ┆ rig ┆ rig ┆ G_P ┆ _PO ┆ TA_ ┆ TA_ ┆ TA_ │\n",
       "│ i64 ┆ i64 ┆ i64 ┆ --- ┆ DAD ┆ D   ┆ PO  ┆ --- ┆ TUL ┆ --- ┆ SIG ┆ CAL ┆ str ┆ M   ┆ T   ┆ M   ┆ T   ┆ O   ┆ IG  ┆ E   ┆ i64 ┆ i64 ┆ --- ┆ TA  ┆ TIP ┆ NUM ┆ ght ┆ ght ┆ ACA ┆ ALI ┆ AL  ┆ ht  ┆ ht  ┆ ht  ┆ ORT ┆ RTA ┆ TIP ┆ NUM ┆ SUF │\n",
       "│     ┆     ┆     ┆ i64 ┆ E   ┆ --- ┆ --- ┆ str ┆ O   ┆ str ┆ --- ┆ --- ┆     ┆ --- ┆ --- ┆ --- ┆ --- ┆ --- ┆ --- ┆ --- ┆     ┆     ┆ str ┆ --- ┆ O   ┆ --- ┆ --- ┆ --- ┆ O_P ┆ DAD ┆ --- ┆ --- ┆ --- ┆ --- ┆ A   ┆ --- ┆ O_r ┆ _ri ┆ IXO │\n",
       "│     ┆     ┆     ┆     ┆ --- ┆ i64 ┆ str ┆     ┆ --- ┆     ┆ str ┆ str ┆     ┆ i64 ┆ str ┆ i64 ┆ str ┆ str ┆ str ┆ str ┆     ┆     ┆     ┆ i64 ┆ --- ┆ i64 ┆ i64 ┆ i64 ┆ OST ┆ E   ┆ i64 ┆ i64 ┆ i64 ┆ i64 ┆ --- ┆ f64 ┆ igh ┆ ght ┆ --- │\n",
       "│     ┆     ┆     ┆     ┆ str ┆     ┆     ┆     ┆ str ┆     ┆     ┆     ┆     ┆     ┆     ┆     ┆     ┆     ┆     ┆     ┆     ┆     ┆     ┆     ┆ str ┆     ┆     ┆     ┆ AL  ┆ --- ┆     ┆     ┆     ┆     ┆ f64 ┆     ┆ t   ┆ --- ┆ str │\n",
       "│     ┆     ┆     ┆     ┆     ┆     ┆     ┆     ┆     ┆     ┆     ┆     ┆     ┆     ┆     ┆     ┆     ┆     ┆     ┆     ┆     ┆     ┆     ┆     ┆     ┆     ┆     ┆     ┆ --- ┆ i64 ┆     ┆     ┆     ┆     ┆     ┆     ┆ --- ┆ f64 ┆     │\n",
       "│     ┆     ┆     ┆     ┆     ┆     ┆     ┆     ┆     ┆     ┆     ┆     ┆     ┆     ┆     ┆     ┆     ┆     ┆     ┆     ┆     ┆     ┆     ┆     ┆     ┆     ┆     ┆     ┆ str ┆     ┆     ┆     ┆     ┆     ┆     ┆     ┆ str ┆     ┆     │\n",
       "╞═════╪═════╪═════╪═════╪═════╪═════╪═════╪═════╪═════╪═════╪═════╪═════╪═════╪═════╪═════╪═════╪═════╪═════╪═════╪═════╪═════╪═════╪═════╪═════╪═════╪═════╪═════╪═════╪═════╪═════╪═════╪═════╪═════╪═════╪═════╪═════╪═════╪═════╪═════╡\n",
       "│ 11  ┆ 11  ┆ 8   ┆ 452 ┆ Rio ┆ 684 ┆ Rua ┆ do  ┆ nul ┆ nul ┆ Pla ┆ Ser ┆ nul ┆ nul ┆ nul ┆ nul ┆ nul ┆ nul ┆ nul ┆ nul ┆ 263 ┆ 615 ┆ RIO ┆ 150 ┆ nul ┆ 1   ┆ 263 ┆ 615 ┆ RIO ┆ 452 ┆ 502 ┆ 11  ┆ 11  ┆ 8   ┆ -9. ┆ 38. ┆ Lot ┆ 35. ┆ nul │\n",
       "│     ┆     ┆     ┆ 49  ┆ de  ┆ 811 ┆     ┆     ┆ l   ┆ l   ┆ net ┆ ra  ┆ l   ┆ l   ┆ l   ┆ l   ┆ l   ┆ l   ┆ l   ┆ l   ┆ 5   ┆     ┆ DE  ┆ 308 ┆ l   ┆     ┆ 5   ┆     ┆ DE  ┆ 49  ┆ 6   ┆     ┆     ┆     ┆ 32  ┆ 78  ┆ e   ┆ 0   ┆ l   │\n",
       "│     ┆     ┆     ┆     ┆ Mou ┆ 11  ┆     ┆     ┆     ┆     ┆ a   ┆ das ┆     ┆     ┆     ┆     ┆     ┆     ┆     ┆     ┆     ┆     ┆ MOU ┆ 1   ┆     ┆     ┆     ┆     ┆ MOU ┆     ┆     ┆     ┆     ┆     ┆     ┆     ┆     ┆     ┆     │\n",
       "│     ┆     ┆     ┆     ┆ ro  ┆     ┆     ┆     ┆     ┆     ┆ Mer ┆ Min ┆     ┆     ┆     ┆     ┆     ┆     ┆     ┆     ┆     ┆     ┆ RO  ┆     ┆     ┆     ┆     ┆     ┆ RO  ┆     ┆     ┆     ┆     ┆     ┆     ┆     ┆     ┆     ┆     │\n",
       "│     ┆     ┆     ┆     ┆     ┆     ┆     ┆     ┆     ┆     ┆ cri ┆ as  ┆     ┆     ┆     ┆     ┆     ┆     ┆     ┆     ┆     ┆     ┆     ┆     ┆     ┆     ┆     ┆     ┆     ┆     ┆     ┆     ┆     ┆     ┆     ┆     ┆     ┆     ┆     │\n",
       "│     ┆     ┆     ┆     ┆     ┆     ┆     ┆     ┆     ┆     ┆ o   ┆     ┆     ┆     ┆     ┆     ┆     ┆     ┆     ┆     ┆     ┆     ┆     ┆     ┆     ┆     ┆     ┆     ┆     ┆     ┆     ┆     ┆     ┆     ┆     ┆     ┆     ┆     ┆     │\n",
       "├╌╌╌╌╌┼╌╌╌╌╌┼╌╌╌╌╌┼╌╌╌╌╌┼╌╌╌╌╌┼╌╌╌╌╌┼╌╌╌╌╌┼╌╌╌╌╌┼╌╌╌╌╌┼╌╌╌╌╌┼╌╌╌╌╌┼╌╌╌╌╌┼╌╌╌╌╌┼╌╌╌╌╌┼╌╌╌╌╌┼╌╌╌╌╌┼╌╌╌╌╌┼╌╌╌╌╌┼╌╌╌╌╌┼╌╌╌╌╌┼╌╌╌╌╌┼╌╌╌╌╌┼╌╌╌╌╌┼╌╌╌╌╌┼╌╌╌╌╌┼╌╌╌╌╌┼╌╌╌╌╌┼╌╌╌╌╌┼╌╌╌╌╌┼╌╌╌╌╌┼╌╌╌╌╌┼╌╌╌╌╌┼╌╌╌╌╌┼╌╌╌╌╌┼╌╌╌╌╌┼╌╌╌╌╌┼╌╌╌╌╌┼╌╌╌╌╌┼╌╌╌╌╌┤\n",
       "│ 11  ┆ 11  ┆ 8   ┆ 452 ┆ Rio ┆ 684 ┆ Rua ┆ do  ┆ nul ┆ nul ┆ Pla ┆ Ser ┆ nul ┆ nul ┆ nul ┆ nul ┆ nul ┆ nul ┆ nul ┆ nul ┆ 263 ┆ 615 ┆ RIO ┆ 150 ┆ nul ┆ 3   ┆ 263 ┆ 615 ┆ RIO ┆ 452 ┆ 502 ┆ 11  ┆ 11  ┆ 8   ┆ -9. ┆ 38. ┆ Lot ┆ 34. ┆ nul │\n",
       "│     ┆     ┆     ┆ 49  ┆ de  ┆ 811 ┆     ┆     ┆ l   ┆ l   ┆ net ┆ ra  ┆ l   ┆ l   ┆ l   ┆ l   ┆ l   ┆ l   ┆ l   ┆ l   ┆ 5   ┆     ┆ DE  ┆ 308 ┆ l   ┆     ┆ 5   ┆     ┆ DE  ┆ 49  ┆ 6   ┆     ┆     ┆     ┆ 32  ┆ 78  ┆ e   ┆ 0   ┆ l   │\n",
       "│     ┆     ┆     ┆     ┆ Mou ┆ 11  ┆     ┆     ┆     ┆     ┆ a   ┆ das ┆     ┆     ┆     ┆     ┆     ┆     ┆     ┆     ┆     ┆     ┆ MOU ┆ 2   ┆     ┆     ┆     ┆     ┆ MOU ┆     ┆     ┆     ┆     ┆     ┆     ┆     ┆     ┆     ┆     │\n",
       "│     ┆     ┆     ┆     ┆ ro  ┆     ┆     ┆     ┆     ┆     ┆ Mer ┆ Min ┆     ┆     ┆     ┆     ┆     ┆     ┆     ┆     ┆     ┆     ┆ RO  ┆     ┆     ┆     ┆     ┆     ┆ RO  ┆     ┆     ┆     ┆     ┆     ┆     ┆     ┆     ┆     ┆     │\n",
       "│     ┆     ┆     ┆     ┆     ┆     ┆     ┆     ┆     ┆     ┆ cri ┆ as  ┆     ┆     ┆     ┆     ┆     ┆     ┆     ┆     ┆     ┆     ┆     ┆     ┆     ┆     ┆     ┆     ┆     ┆     ┆     ┆     ┆     ┆     ┆     ┆     ┆     ┆     ┆     │\n",
       "│     ┆     ┆     ┆     ┆     ┆     ┆     ┆     ┆     ┆     ┆ o   ┆     ┆     ┆     ┆     ┆     ┆     ┆     ┆     ┆     ┆     ┆     ┆     ┆     ┆     ┆     ┆     ┆     ┆     ┆     ┆     ┆     ┆     ┆     ┆     ┆     ┆     ┆     ┆     │\n",
       "├╌╌╌╌╌┼╌╌╌╌╌┼╌╌╌╌╌┼╌╌╌╌╌┼╌╌╌╌╌┼╌╌╌╌╌┼╌╌╌╌╌┼╌╌╌╌╌┼╌╌╌╌╌┼╌╌╌╌╌┼╌╌╌╌╌┼╌╌╌╌╌┼╌╌╌╌╌┼╌╌╌╌╌┼╌╌╌╌╌┼╌╌╌╌╌┼╌╌╌╌╌┼╌╌╌╌╌┼╌╌╌╌╌┼╌╌╌╌╌┼╌╌╌╌╌┼╌╌╌╌╌┼╌╌╌╌╌┼╌╌╌╌╌┼╌╌╌╌╌┼╌╌╌╌╌┼╌╌╌╌╌┼╌╌╌╌╌┼╌╌╌╌╌┼╌╌╌╌╌┼╌╌╌╌╌┼╌╌╌╌╌┼╌╌╌╌╌┼╌╌╌╌╌┼╌╌╌╌╌┼╌╌╌╌╌┼╌╌╌╌╌┼╌╌╌╌╌┼╌╌╌╌╌┤\n",
       "│ 11  ┆ 11  ┆ 8   ┆ 452 ┆ Rio ┆ 684 ┆ Rua ┆ do  ┆ nul ┆ nul ┆ Pla ┆ Ser ┆ nul ┆ nul ┆ nul ┆ nul ┆ nul ┆ nul ┆ nul ┆ nul ┆ 263 ┆ 615 ┆ RIO ┆ 150 ┆ nul ┆ 5   ┆ 263 ┆ 615 ┆ RIO ┆ 452 ┆ 502 ┆ 11  ┆ 11  ┆ 8   ┆ -9. ┆ 38. ┆ Lot ┆ 33. ┆ nul │\n",
       "│     ┆     ┆     ┆ 49  ┆ de  ┆ 811 ┆     ┆     ┆ l   ┆ l   ┆ net ┆ ra  ┆ l   ┆ l   ┆ l   ┆ l   ┆ l   ┆ l   ┆ l   ┆ l   ┆ 5   ┆     ┆ DE  ┆ 308 ┆ l   ┆     ┆ 5   ┆     ┆ DE  ┆ 49  ┆ 6   ┆     ┆     ┆     ┆ 32  ┆ 78  ┆ e   ┆ 0   ┆ l   │\n",
       "│     ┆     ┆     ┆     ┆ Mou ┆ 11  ┆     ┆     ┆     ┆     ┆ a   ┆ das ┆     ┆     ┆     ┆     ┆     ┆     ┆     ┆     ┆     ┆     ┆ MOU ┆ 3   ┆     ┆     ┆     ┆     ┆ MOU ┆     ┆     ┆     ┆     ┆     ┆     ┆     ┆     ┆     ┆     │\n",
       "│     ┆     ┆     ┆     ┆ ro  ┆     ┆     ┆     ┆     ┆     ┆ Mer ┆ Min ┆     ┆     ┆     ┆     ┆     ┆     ┆     ┆     ┆     ┆     ┆ RO  ┆     ┆     ┆     ┆     ┆     ┆ RO  ┆     ┆     ┆     ┆     ┆     ┆     ┆     ┆     ┆     ┆     │\n",
       "│     ┆     ┆     ┆     ┆     ┆     ┆     ┆     ┆     ┆     ┆ cri ┆ as  ┆     ┆     ┆     ┆     ┆     ┆     ┆     ┆     ┆     ┆     ┆     ┆     ┆     ┆     ┆     ┆     ┆     ┆     ┆     ┆     ┆     ┆     ┆     ┆     ┆     ┆     ┆     │\n",
       "│     ┆     ┆     ┆     ┆     ┆     ┆     ┆     ┆     ┆     ┆ o   ┆     ┆     ┆     ┆     ┆     ┆     ┆     ┆     ┆     ┆     ┆     ┆     ┆     ┆     ┆     ┆     ┆     ┆     ┆     ┆     ┆     ┆     ┆     ┆     ┆     ┆     ┆     ┆     │\n",
       "├╌╌╌╌╌┼╌╌╌╌╌┼╌╌╌╌╌┼╌╌╌╌╌┼╌╌╌╌╌┼╌╌╌╌╌┼╌╌╌╌╌┼╌╌╌╌╌┼╌╌╌╌╌┼╌╌╌╌╌┼╌╌╌╌╌┼╌╌╌╌╌┼╌╌╌╌╌┼╌╌╌╌╌┼╌╌╌╌╌┼╌╌╌╌╌┼╌╌╌╌╌┼╌╌╌╌╌┼╌╌╌╌╌┼╌╌╌╌╌┼╌╌╌╌╌┼╌╌╌╌╌┼╌╌╌╌╌┼╌╌╌╌╌┼╌╌╌╌╌┼╌╌╌╌╌┼╌╌╌╌╌┼╌╌╌╌╌┼╌╌╌╌╌┼╌╌╌╌╌┼╌╌╌╌╌┼╌╌╌╌╌┼╌╌╌╌╌┼╌╌╌╌╌┼╌╌╌╌╌┼╌╌╌╌╌┼╌╌╌╌╌┼╌╌╌╌╌┼╌╌╌╌╌┤\n",
       "│ 11  ┆ 11  ┆ 8   ┆ 452 ┆ Rio ┆ 684 ┆ Rua ┆ do  ┆ nul ┆ nul ┆ Pla ┆ Ser ┆ nul ┆ nul ┆ nul ┆ nul ┆ nul ┆ nul ┆ nul ┆ nul ┆ 263 ┆ 615 ┆ RIO ┆ 152 ┆ nul ┆ 7   ┆ 263 ┆ 615 ┆ RIO ┆ 452 ┆ 502 ┆ 11  ┆ 11  ┆ 8   ┆ -9. ┆ 38. ┆ nul ┆ nul ┆ nul │\n",
       "│     ┆     ┆     ┆ 49  ┆ de  ┆ 811 ┆     ┆     ┆ l   ┆ l   ┆ net ┆ ra  ┆ l   ┆ l   ┆ l   ┆ l   ┆ l   ┆ l   ┆ l   ┆ l   ┆ 5   ┆     ┆ DE  ┆ 990 ┆ l   ┆     ┆ 5   ┆     ┆ DE  ┆ 49  ┆ 6   ┆     ┆     ┆     ┆ 32  ┆ 78  ┆ l   ┆ l   ┆ l   │\n",
       "│     ┆     ┆     ┆     ┆ Mou ┆ 11  ┆     ┆     ┆     ┆     ┆ a   ┆ das ┆     ┆     ┆     ┆     ┆     ┆     ┆     ┆     ┆     ┆     ┆ MOU ┆ 7   ┆     ┆     ┆     ┆     ┆ MOU ┆     ┆     ┆     ┆     ┆     ┆     ┆     ┆     ┆     ┆     │\n",
       "│     ┆     ┆     ┆     ┆ ro  ┆     ┆     ┆     ┆     ┆     ┆ Mer ┆ Min ┆     ┆     ┆     ┆     ┆     ┆     ┆     ┆     ┆     ┆     ┆ RO  ┆     ┆     ┆     ┆     ┆     ┆ RO  ┆     ┆     ┆     ┆     ┆     ┆     ┆     ┆     ┆     ┆     │\n",
       "│     ┆     ┆     ┆     ┆     ┆     ┆     ┆     ┆     ┆     ┆ cri ┆ as  ┆     ┆     ┆     ┆     ┆     ┆     ┆     ┆     ┆     ┆     ┆     ┆     ┆     ┆     ┆     ┆     ┆     ┆     ┆     ┆     ┆     ┆     ┆     ┆     ┆     ┆     ┆     │\n",
       "│     ┆     ┆     ┆     ┆     ┆     ┆     ┆     ┆     ┆     ┆ o   ┆     ┆     ┆     ┆     ┆     ┆     ┆     ┆     ┆     ┆     ┆     ┆     ┆     ┆     ┆     ┆     ┆     ┆     ┆     ┆     ┆     ┆     ┆     ┆     ┆     ┆     ┆     ┆     │\n",
       "├╌╌╌╌╌┼╌╌╌╌╌┼╌╌╌╌╌┼╌╌╌╌╌┼╌╌╌╌╌┼╌╌╌╌╌┼╌╌╌╌╌┼╌╌╌╌╌┼╌╌╌╌╌┼╌╌╌╌╌┼╌╌╌╌╌┼╌╌╌╌╌┼╌╌╌╌╌┼╌╌╌╌╌┼╌╌╌╌╌┼╌╌╌╌╌┼╌╌╌╌╌┼╌╌╌╌╌┼╌╌╌╌╌┼╌╌╌╌╌┼╌╌╌╌╌┼╌╌╌╌╌┼╌╌╌╌╌┼╌╌╌╌╌┼╌╌╌╌╌┼╌╌╌╌╌┼╌╌╌╌╌┼╌╌╌╌╌┼╌╌╌╌╌┼╌╌╌╌╌┼╌╌╌╌╌┼╌╌╌╌╌┼╌╌╌╌╌┼╌╌╌╌╌┼╌╌╌╌╌┼╌╌╌╌╌┼╌╌╌╌╌┼╌╌╌╌╌┼╌╌╌╌╌┤\n",
       "│ 11  ┆ 11  ┆ 8   ┆ 452 ┆ Rio ┆ 684 ┆ Rua ┆ do  ┆ nul ┆ nul ┆ Pla ┆ Ser ┆ nul ┆ nul ┆ nul ┆ nul ┆ nul ┆ nul ┆ nul ┆ nul ┆ 263 ┆ 615 ┆ RIO ┆ 152 ┆ nul ┆ 7   ┆ 263 ┆ 615 ┆ RIO ┆ 452 ┆ 502 ┆ 11  ┆ 11  ┆ 8   ┆ -9. ┆ 38. ┆ nul ┆ nul ┆ nul │\n",
       "│     ┆     ┆     ┆ 49  ┆ de  ┆ 811 ┆     ┆     ┆ l   ┆ l   ┆ net ┆ ra  ┆ l   ┆ l   ┆ l   ┆ l   ┆ l   ┆ l   ┆ l   ┆ l   ┆ 5   ┆     ┆ DE  ┆ 990 ┆ l   ┆     ┆ 5   ┆     ┆ DE  ┆ 49  ┆ 6   ┆     ┆     ┆     ┆ 32  ┆ 78  ┆ l   ┆ l   ┆ l   │\n",
       "│     ┆     ┆     ┆     ┆ Mou ┆ 11  ┆     ┆     ┆     ┆     ┆ a   ┆ das ┆     ┆     ┆     ┆     ┆     ┆     ┆     ┆     ┆     ┆     ┆ MOU ┆ 8   ┆     ┆     ┆     ┆     ┆ MOU ┆     ┆     ┆     ┆     ┆     ┆     ┆     ┆     ┆     ┆     │\n",
       "│     ┆     ┆     ┆     ┆ ro  ┆     ┆     ┆     ┆     ┆     ┆ Mer ┆ Min ┆     ┆     ┆     ┆     ┆     ┆     ┆     ┆     ┆     ┆     ┆ RO  ┆     ┆     ┆     ┆     ┆     ┆ RO  ┆     ┆     ┆     ┆     ┆     ┆     ┆     ┆     ┆     ┆     │\n",
       "│     ┆     ┆     ┆     ┆     ┆     ┆     ┆     ┆     ┆     ┆ cri ┆ as  ┆     ┆     ┆     ┆     ┆     ┆     ┆     ┆     ┆     ┆     ┆     ┆     ┆     ┆     ┆     ┆     ┆     ┆     ┆     ┆     ┆     ┆     ┆     ┆     ┆     ┆     ┆     │\n",
       "│     ┆     ┆     ┆     ┆     ┆     ┆     ┆     ┆     ┆     ┆ o   ┆     ┆     ┆     ┆     ┆     ┆     ┆     ┆     ┆     ┆     ┆     ┆     ┆     ┆     ┆     ┆     ┆     ┆     ┆     ┆     ┆     ┆     ┆     ┆     ┆     ┆     ┆     ┆     │\n",
       "├╌╌╌╌╌┼╌╌╌╌╌┼╌╌╌╌╌┼╌╌╌╌╌┼╌╌╌╌╌┼╌╌╌╌╌┼╌╌╌╌╌┼╌╌╌╌╌┼╌╌╌╌╌┼╌╌╌╌╌┼╌╌╌╌╌┼╌╌╌╌╌┼╌╌╌╌╌┼╌╌╌╌╌┼╌╌╌╌╌┼╌╌╌╌╌┼╌╌╌╌╌┼╌╌╌╌╌┼╌╌╌╌╌┼╌╌╌╌╌┼╌╌╌╌╌┼╌╌╌╌╌┼╌╌╌╌╌┼╌╌╌╌╌┼╌╌╌╌╌┼╌╌╌╌╌┼╌╌╌╌╌┼╌╌╌╌╌┼╌╌╌╌╌┼╌╌╌╌╌┼╌╌╌╌╌┼╌╌╌╌╌┼╌╌╌╌╌┼╌╌╌╌╌┼╌╌╌╌╌┼╌╌╌╌╌┼╌╌╌╌╌┼╌╌╌╌╌┼╌╌╌╌╌┤\n",
       "│ …   ┆ …   ┆ …   ┆ …   ┆ …   ┆ …   ┆ …   ┆ …   ┆ …   ┆ …   ┆ …   ┆ …   ┆ …   ┆ …   ┆ …   ┆ …   ┆ …   ┆ …   ┆ …   ┆ …   ┆ …   ┆ …   ┆ …   ┆ …   ┆ …   ┆ …   ┆ …   ┆ …   ┆ …   ┆ …   ┆ …   ┆ …   ┆ …   ┆ …   ┆ …   ┆ …   ┆ …   ┆ …   ┆ …   │\n",
       "├╌╌╌╌╌┼╌╌╌╌╌┼╌╌╌╌╌┼╌╌╌╌╌┼╌╌╌╌╌┼╌╌╌╌╌┼╌╌╌╌╌┼╌╌╌╌╌┼╌╌╌╌╌┼╌╌╌╌╌┼╌╌╌╌╌┼╌╌╌╌╌┼╌╌╌╌╌┼╌╌╌╌╌┼╌╌╌╌╌┼╌╌╌╌╌┼╌╌╌╌╌┼╌╌╌╌╌┼╌╌╌╌╌┼╌╌╌╌╌┼╌╌╌╌╌┼╌╌╌╌╌┼╌╌╌╌╌┼╌╌╌╌╌┼╌╌╌╌╌┼╌╌╌╌╌┼╌╌╌╌╌┼╌╌╌╌╌┼╌╌╌╌╌┼╌╌╌╌╌┼╌╌╌╌╌┼╌╌╌╌╌┼╌╌╌╌╌┼╌╌╌╌╌┼╌╌╌╌╌┼╌╌╌╌╌┼╌╌╌╌╌┼╌╌╌╌╌┼╌╌╌╌╌┤\n",
       "│ 18  ┆ 24  ┆ 15  ┆ 868 ┆ Ort ┆ 562 ┆ Est ┆ nul ┆ nul ┆ nul ┆ 16  ┆ nul ┆ P   ┆ 6   ┆ nul ┆ 6   ┆ nul ┆ nul ┆ nul ┆ nul ┆ 367 ┆ 278 ┆ VOU ┆ 748 ┆ nul ┆ 6   ┆ 367 ┆ 278 ┆ VOU ┆ 868 ┆ nul ┆ 18  ┆ 24  ┆ 15  ┆ -8. ┆ 40. ┆ nul ┆ nul ┆ nul │\n",
       "│     ┆     ┆     ┆ 19  ┆ iga ┆ 261 ┆ rad ┆ l   ┆ l   ┆ l   ┆     ┆ l   ┆     ┆     ┆ l   ┆     ┆ l   ┆ l   ┆ l   ┆ l   ┆ 0   ┆     ┆ ZEL ┆ 771 ┆ l   ┆     ┆ 0   ┆     ┆ ZEL ┆ 19  ┆ l   ┆     ┆     ┆     ┆ 09  ┆ 72  ┆ l   ┆ l   ┆ l   │\n",
       "│     ┆     ┆     ┆     ┆ is  ┆ 00  ┆ a   ┆     ┆     ┆     ┆     ┆     ┆     ┆     ┆     ┆     ┆     ┆     ┆     ┆     ┆     ┆     ┆ A   ┆ 1   ┆     ┆     ┆     ┆     ┆ A   ┆     ┆     ┆     ┆     ┆     ┆     ┆     ┆     ┆     ┆     │\n",
       "│     ┆     ┆     ┆     ┆     ┆     ┆ Nac ┆     ┆     ┆     ┆     ┆     ┆     ┆     ┆     ┆     ┆     ┆     ┆     ┆     ┆     ┆     ┆     ┆     ┆     ┆     ┆     ┆     ┆     ┆     ┆     ┆     ┆     ┆     ┆     ┆     ┆     ┆     ┆     │\n",
       "│     ┆     ┆     ┆     ┆     ┆     ┆ ion ┆     ┆     ┆     ┆     ┆     ┆     ┆     ┆     ┆     ┆     ┆     ┆     ┆     ┆     ┆     ┆     ┆     ┆     ┆     ┆     ┆     ┆     ┆     ┆     ┆     ┆     ┆     ┆     ┆     ┆     ┆     ┆     │\n",
       "│     ┆     ┆     ┆     ┆     ┆     ┆ al  ┆     ┆     ┆     ┆     ┆     ┆     ┆     ┆     ┆     ┆     ┆     ┆     ┆     ┆     ┆     ┆     ┆     ┆     ┆     ┆     ┆     ┆     ┆     ┆     ┆     ┆     ┆     ┆     ┆     ┆     ┆     ┆     │\n",
       "├╌╌╌╌╌┼╌╌╌╌╌┼╌╌╌╌╌┼╌╌╌╌╌┼╌╌╌╌╌┼╌╌╌╌╌┼╌╌╌╌╌┼╌╌╌╌╌┼╌╌╌╌╌┼╌╌╌╌╌┼╌╌╌╌╌┼╌╌╌╌╌┼╌╌╌╌╌┼╌╌╌╌╌┼╌╌╌╌╌┼╌╌╌╌╌┼╌╌╌╌╌┼╌╌╌╌╌┼╌╌╌╌╌┼╌╌╌╌╌┼╌╌╌╌╌┼╌╌╌╌╌┼╌╌╌╌╌┼╌╌╌╌╌┼╌╌╌╌╌┼╌╌╌╌╌┼╌╌╌╌╌┼╌╌╌╌╌┼╌╌╌╌╌┼╌╌╌╌╌┼╌╌╌╌╌┼╌╌╌╌╌┼╌╌╌╌╌┼╌╌╌╌╌┼╌╌╌╌╌┼╌╌╌╌╌┼╌╌╌╌╌┼╌╌╌╌╌┼╌╌╌╌╌┤\n",
       "│ 18  ┆ 24  ┆ 15  ┆ 868 ┆ Ort ┆ 279 ┆ Rua ┆ da  ┆ nul ┆ nul ┆ Est ┆ nul ┆ nul ┆ nul ┆ nul ┆ nul ┆ nul ┆ nul ┆ nul ┆ nul ┆ 367 ┆ 278 ┆ VOU ┆ 667 ┆ nul ┆ 14  ┆ 367 ┆ 278 ┆ VOU ┆ 868 ┆ nul ┆ 18  ┆ 24  ┆ 15  ┆ -8. ┆ 40. ┆ nul ┆ nul ┆ nul │\n",
       "│     ┆     ┆     ┆ 19  ┆ iga ┆ 100 ┆     ┆     ┆ l   ┆ l   ┆ rad ┆ l   ┆ l   ┆ l   ┆ l   ┆ l   ┆ l   ┆ l   ┆ l   ┆ l   ┆ 0   ┆     ┆ ZEL ┆ 258 ┆ l   ┆     ┆ 0   ┆     ┆ ZEL ┆ 19  ┆ l   ┆     ┆     ┆     ┆ 09  ┆ 72  ┆ l   ┆ l   ┆ l   │\n",
       "│     ┆     ┆     ┆     ┆ is  ┆ 100 ┆     ┆     ┆     ┆     ┆ a   ┆     ┆     ┆     ┆     ┆     ┆     ┆     ┆     ┆     ┆     ┆     ┆ A   ┆ 7   ┆     ┆     ┆     ┆     ┆ A   ┆     ┆     ┆     ┆     ┆     ┆     ┆     ┆     ┆     ┆     │\n",
       "│     ┆     ┆     ┆     ┆     ┆     ┆     ┆     ┆     ┆     ┆ Nac ┆     ┆     ┆     ┆     ┆     ┆     ┆     ┆     ┆     ┆     ┆     ┆     ┆     ┆     ┆     ┆     ┆     ┆     ┆     ┆     ┆     ┆     ┆     ┆     ┆     ┆     ┆     ┆     │\n",
       "│     ┆     ┆     ┆     ┆     ┆     ┆     ┆     ┆     ┆     ┆ ion ┆     ┆     ┆     ┆     ┆     ┆     ┆     ┆     ┆     ┆     ┆     ┆     ┆     ┆     ┆     ┆     ┆     ┆     ┆     ┆     ┆     ┆     ┆     ┆     ┆     ┆     ┆     ┆     │\n",
       "│     ┆     ┆     ┆     ┆     ┆     ┆     ┆     ┆     ┆     ┆ al  ┆     ┆     ┆     ┆     ┆     ┆     ┆     ┆     ┆     ┆     ┆     ┆     ┆     ┆     ┆     ┆     ┆     ┆     ┆     ┆     ┆     ┆     ┆     ┆     ┆     ┆     ┆     ┆     │\n",
       "├╌╌╌╌╌┼╌╌╌╌╌┼╌╌╌╌╌┼╌╌╌╌╌┼╌╌╌╌╌┼╌╌╌╌╌┼╌╌╌╌╌┼╌╌╌╌╌┼╌╌╌╌╌┼╌╌╌╌╌┼╌╌╌╌╌┼╌╌╌╌╌┼╌╌╌╌╌┼╌╌╌╌╌┼╌╌╌╌╌┼╌╌╌╌╌┼╌╌╌╌╌┼╌╌╌╌╌┼╌╌╌╌╌┼╌╌╌╌╌┼╌╌╌╌╌┼╌╌╌╌╌┼╌╌╌╌╌┼╌╌╌╌╌┼╌╌╌╌╌┼╌╌╌╌╌┼╌╌╌╌╌┼╌╌╌╌╌┼╌╌╌╌╌┼╌╌╌╌╌┼╌╌╌╌╌┼╌╌╌╌╌┼╌╌╌╌╌┼╌╌╌╌╌┼╌╌╌╌╌┼╌╌╌╌╌┼╌╌╌╌╌┼╌╌╌╌╌┼╌╌╌╌╌┤\n",
       "│ 18  ┆ 24  ┆ 15  ┆ 868 ┆ Ort ┆ 279 ┆ Rua ┆ da  ┆ nul ┆ nul ┆ Est ┆ nul ┆ nul ┆ nul ┆ nul ┆ nul ┆ nul ┆ nul ┆ nul ┆ nul ┆ 367 ┆ 278 ┆ VOU ┆ 667 ┆ nul ┆ 20  ┆ 367 ┆ 278 ┆ VOU ┆ 868 ┆ nul ┆ 18  ┆ 24  ┆ 15  ┆ -8. ┆ 40. ┆ nul ┆ nul ┆ nul │\n",
       "│     ┆     ┆     ┆ 19  ┆ iga ┆ 100 ┆     ┆     ┆ l   ┆ l   ┆ rad ┆ l   ┆ l   ┆ l   ┆ l   ┆ l   ┆ l   ┆ l   ┆ l   ┆ l   ┆ 0   ┆     ┆ ZEL ┆ 259 ┆ l   ┆     ┆ 0   ┆     ┆ ZEL ┆ 19  ┆ l   ┆     ┆     ┆     ┆ 09  ┆ 72  ┆ l   ┆ l   ┆ l   │\n",
       "│     ┆     ┆     ┆     ┆ is  ┆ 100 ┆     ┆     ┆     ┆     ┆ a   ┆     ┆     ┆     ┆     ┆     ┆     ┆     ┆     ┆     ┆     ┆     ┆ A   ┆ 7   ┆     ┆     ┆     ┆     ┆ A   ┆     ┆     ┆     ┆     ┆     ┆     ┆     ┆     ┆     ┆     │\n",
       "│     ┆     ┆     ┆     ┆     ┆     ┆     ┆     ┆     ┆     ┆ Nac ┆     ┆     ┆     ┆     ┆     ┆     ┆     ┆     ┆     ┆     ┆     ┆     ┆     ┆     ┆     ┆     ┆     ┆     ┆     ┆     ┆     ┆     ┆     ┆     ┆     ┆     ┆     ┆     │\n",
       "│     ┆     ┆     ┆     ┆     ┆     ┆     ┆     ┆     ┆     ┆ ion ┆     ┆     ┆     ┆     ┆     ┆     ┆     ┆     ┆     ┆     ┆     ┆     ┆     ┆     ┆     ┆     ┆     ┆     ┆     ┆     ┆     ┆     ┆     ┆     ┆     ┆     ┆     ┆     │\n",
       "│     ┆     ┆     ┆     ┆     ┆     ┆     ┆     ┆     ┆     ┆ al  ┆     ┆     ┆     ┆     ┆     ┆     ┆     ┆     ┆     ┆     ┆     ┆     ┆     ┆     ┆     ┆     ┆     ┆     ┆     ┆     ┆     ┆     ┆     ┆     ┆     ┆     ┆     ┆     │\n",
       "├╌╌╌╌╌┼╌╌╌╌╌┼╌╌╌╌╌┼╌╌╌╌╌┼╌╌╌╌╌┼╌╌╌╌╌┼╌╌╌╌╌┼╌╌╌╌╌┼╌╌╌╌╌┼╌╌╌╌╌┼╌╌╌╌╌┼╌╌╌╌╌┼╌╌╌╌╌┼╌╌╌╌╌┼╌╌╌╌╌┼╌╌╌╌╌┼╌╌╌╌╌┼╌╌╌╌╌┼╌╌╌╌╌┼╌╌╌╌╌┼╌╌╌╌╌┼╌╌╌╌╌┼╌╌╌╌╌┼╌╌╌╌╌┼╌╌╌╌╌┼╌╌╌╌╌┼╌╌╌╌╌┼╌╌╌╌╌┼╌╌╌╌╌┼╌╌╌╌╌┼╌╌╌╌╌┼╌╌╌╌╌┼╌╌╌╌╌┼╌╌╌╌╌┼╌╌╌╌╌┼╌╌╌╌╌┼╌╌╌╌╌┼╌╌╌╌╌┼╌╌╌╌╌┤\n",
       "│ 18  ┆ 24  ┆ 15  ┆ 868 ┆ Ort ┆ 279 ┆ Rua ┆ da  ┆ nul ┆ nul ┆ Est ┆ nul ┆ nul ┆ nul ┆ nul ┆ nul ┆ nul ┆ nul ┆ nul ┆ nul ┆ 367 ┆ 278 ┆ VOU ┆ 748 ┆ nul ┆ 18  ┆ 367 ┆ 278 ┆ VOU ┆ 868 ┆ nul ┆ 18  ┆ 24  ┆ 15  ┆ -8. ┆ 40. ┆ nul ┆ nul ┆ nul │\n",
       "│     ┆     ┆     ┆ 19  ┆ iga ┆ 100 ┆     ┆     ┆ l   ┆ l   ┆ rad ┆ l   ┆ l   ┆ l   ┆ l   ┆ l   ┆ l   ┆ l   ┆ l   ┆ l   ┆ 0   ┆     ┆ ZEL ┆ 770 ┆ l   ┆     ┆ 0   ┆     ┆ ZEL ┆ 19  ┆ l   ┆     ┆     ┆     ┆ 09  ┆ 72  ┆ l   ┆ l   ┆ l   │\n",
       "│     ┆     ┆     ┆     ┆ is  ┆ 100 ┆     ┆     ┆     ┆     ┆ a   ┆     ┆     ┆     ┆     ┆     ┆     ┆     ┆     ┆     ┆     ┆     ┆ A   ┆ 5   ┆     ┆     ┆     ┆     ┆ A   ┆     ┆     ┆     ┆     ┆     ┆     ┆     ┆     ┆     ┆     │\n",
       "│     ┆     ┆     ┆     ┆     ┆     ┆     ┆     ┆     ┆     ┆ Nac ┆     ┆     ┆     ┆     ┆     ┆     ┆     ┆     ┆     ┆     ┆     ┆     ┆     ┆     ┆     ┆     ┆     ┆     ┆     ┆     ┆     ┆     ┆     ┆     ┆     ┆     ┆     ┆     │\n",
       "│     ┆     ┆     ┆     ┆     ┆     ┆     ┆     ┆     ┆     ┆ ion ┆     ┆     ┆     ┆     ┆     ┆     ┆     ┆     ┆     ┆     ┆     ┆     ┆     ┆     ┆     ┆     ┆     ┆     ┆     ┆     ┆     ┆     ┆     ┆     ┆     ┆     ┆     ┆     │\n",
       "│     ┆     ┆     ┆     ┆     ┆     ┆     ┆     ┆     ┆     ┆ al  ┆     ┆     ┆     ┆     ┆     ┆     ┆     ┆     ┆     ┆     ┆     ┆     ┆     ┆     ┆     ┆     ┆     ┆     ┆     ┆     ┆     ┆     ┆     ┆     ┆     ┆     ┆     ┆     │\n",
       "├╌╌╌╌╌┼╌╌╌╌╌┼╌╌╌╌╌┼╌╌╌╌╌┼╌╌╌╌╌┼╌╌╌╌╌┼╌╌╌╌╌┼╌╌╌╌╌┼╌╌╌╌╌┼╌╌╌╌╌┼╌╌╌╌╌┼╌╌╌╌╌┼╌╌╌╌╌┼╌╌╌╌╌┼╌╌╌╌╌┼╌╌╌╌╌┼╌╌╌╌╌┼╌╌╌╌╌┼╌╌╌╌╌┼╌╌╌╌╌┼╌╌╌╌╌┼╌╌╌╌╌┼╌╌╌╌╌┼╌╌╌╌╌┼╌╌╌╌╌┼╌╌╌╌╌┼╌╌╌╌╌┼╌╌╌╌╌┼╌╌╌╌╌┼╌╌╌╌╌┼╌╌╌╌╌┼╌╌╌╌╌┼╌╌╌╌╌┼╌╌╌╌╌┼╌╌╌╌╌┼╌╌╌╌╌┼╌╌╌╌╌┼╌╌╌╌╌┼╌╌╌╌╌┤\n",
       "│ 18  ┆ 24  ┆ 15  ┆ 868 ┆ Ort ┆ 279 ┆ Rua ┆ da  ┆ nul ┆ nul ┆ Est ┆ nul ┆ nul ┆ nul ┆ nul ┆ nul ┆ nul ┆ nul ┆ nul ┆ nul ┆ 367 ┆ 278 ┆ VOU ┆ 748 ┆ nul ┆ 16  ┆ 367 ┆ 278 ┆ VOU ┆ 868 ┆ nul ┆ 18  ┆ 24  ┆ 15  ┆ -8. ┆ 40. ┆ nul ┆ nul ┆ nul │\n",
       "│     ┆     ┆     ┆ 19  ┆ iga ┆ 100 ┆     ┆     ┆ l   ┆ l   ┆ rad ┆ l   ┆ l   ┆ l   ┆ l   ┆ l   ┆ l   ┆ l   ┆ l   ┆ l   ┆ 0   ┆     ┆ ZEL ┆ 770 ┆ l   ┆     ┆ 0   ┆     ┆ ZEL ┆ 19  ┆ l   ┆     ┆     ┆     ┆ 09  ┆ 72  ┆ l   ┆ l   ┆ l   │\n",
       "│     ┆     ┆     ┆     ┆ is  ┆ 100 ┆     ┆     ┆     ┆     ┆ a   ┆     ┆     ┆     ┆     ┆     ┆     ┆     ┆     ┆     ┆     ┆     ┆ A   ┆ 8   ┆     ┆     ┆     ┆     ┆ A   ┆     ┆     ┆     ┆     ┆     ┆     ┆     ┆     ┆     ┆     │\n",
       "│     ┆     ┆     ┆     ┆     ┆     ┆     ┆     ┆     ┆     ┆ Nac ┆     ┆     ┆     ┆     ┆     ┆     ┆     ┆     ┆     ┆     ┆     ┆     ┆     ┆     ┆     ┆     ┆     ┆     ┆     ┆     ┆     ┆     ┆     ┆     ┆     ┆     ┆     ┆     │\n",
       "│     ┆     ┆     ┆     ┆     ┆     ┆     ┆     ┆     ┆     ┆ ion ┆     ┆     ┆     ┆     ┆     ┆     ┆     ┆     ┆     ┆     ┆     ┆     ┆     ┆     ┆     ┆     ┆     ┆     ┆     ┆     ┆     ┆     ┆     ┆     ┆     ┆     ┆     ┆     │\n",
       "│     ┆     ┆     ┆     ┆     ┆     ┆     ┆     ┆     ┆     ┆ al  ┆     ┆     ┆     ┆     ┆     ┆     ┆     ┆     ┆     ┆     ┆     ┆     ┆     ┆     ┆     ┆     ┆     ┆     ┆     ┆     ┆     ┆     ┆     ┆     ┆     ┆     ┆     ┆     │\n",
       "└─────┴─────┴─────┴─────┴─────┴─────┴─────┴─────┴─────┴─────┴─────┴─────┴─────┴─────┴─────┴─────┴─────┴─────┴─────┴─────┴─────┴─────┴─────┴─────┴─────┴─────┴─────┴─────┴─────┴─────┴─────┴─────┴─────┴─────┴─────┴─────┴─────┴─────┴─────┘"
      ]
     },
     "execution_count": 65,
     "metadata": {},
     "output_type": "execute_result"
    }
   ],
   "source": [
    "df_merged_2 = df_merged.join(\n",
    "    df_PORTA_ALTERNATIVA,\n",
    "    left_on=\"ID_PORTA\",       # <- ajusta para a tua chave em df_locart/df_portas\n",
    "    right_on=\"ID_PORTA\",       # <- chave no df_PORTA_ALTERNATIVA\n",
    "    how=\"left\"\n",
    ")\n",
    "\n",
    "df_merged_2\n"
   ]
  },
  {
   "cell_type": "code",
   "execution_count": 74,
   "id": "52763f42",
   "metadata": {},
   "outputs": [
    {
     "data": {
      "text/html": [
       "<div><style>\n",
       ".dataframe > thead > tr,\n",
       ".dataframe > tbody > tr {\n",
       "  text-align: right;\n",
       "  white-space: pre-wrap;\n",
       "}\n",
       "</style>\n",
       "<small>shape: (8_988_421, 44)</small><table border=\"1\" class=\"dataframe\"><thead><tr><th>DD</th><th>CC</th><th>FF</th><th>LLLL</th><th>LOCALIDADE</th><th>ART_COD</th><th>ART_TIPO</th><th>ART_PP</th><th>ART_TITULO</th><th>ART_SP</th><th>ART_DESIG</th><th>ART_LOCAL</th><th>I_P</th><th>INI_NUM</th><th>INI_LET</th><th>FIM_NUM</th><th>FIM_LET</th><th>ID_TIPO</th><th>ID_DESIG</th><th>CLIENTE</th><th>CP4</th><th>CP3</th><th>CPALF</th><th>ID_PORTA</th><th>PORTA_TIPO</th><th>PORTA_NUM</th><th>CP4_right</th><th>CP3_right</th><th>DESIGNACAO_POSTAL</th><th>ID_LOCALIDADE</th><th>ID_LOCAL</th><th>DD_right</th><th>CC_right</th><th>FF_right</th><th>LONG_PORTA</th><th>LAT_PORTA</th><th>PORTA_TIPO_right</th><th>PORTA_NUM_right</th><th>PORTA_SUFIXO</th><th>ART_TIPO_right</th><th>ART_PP_right</th><th>ART_TITULO_right</th><th>ART_SP_right</th><th>ART_DESIG_right</th></tr><tr><td>i64</td><td>i64</td><td>i64</td><td>i64</td><td>str</td><td>i64</td><td>str</td><td>str</td><td>str</td><td>str</td><td>str</td><td>str</td><td>str</td><td>i64</td><td>str</td><td>i64</td><td>str</td><td>str</td><td>str</td><td>str</td><td>i64</td><td>i64</td><td>str</td><td>i64</td><td>str</td><td>i64</td><td>i64</td><td>i64</td><td>str</td><td>i64</td><td>i64</td><td>i64</td><td>i64</td><td>i64</td><td>f64</td><td>f64</td><td>str</td><td>f64</td><td>str</td><td>str</td><td>str</td><td>str</td><td>str</td><td>str</td></tr></thead><tbody><tr><td>11</td><td>11</td><td>8</td><td>45249</td><td>&quot;Rio de Mouro&quot;</td><td>68481111</td><td>&quot;Rua&quot;</td><td>&quot;do&quot;</td><td>null</td><td>null</td><td>&quot;Planeta Mercrio&quot;</td><td>&quot;Serra das Minas&quot;</td><td>null</td><td>null</td><td>null</td><td>null</td><td>null</td><td>null</td><td>null</td><td>null</td><td>2635</td><td>615</td><td>&quot;RIO DE MOURO&quot;</td><td>1503081</td><td>null</td><td>1</td><td>2635</td><td>615</td><td>&quot;RIO DE MOURO&quot;</td><td>45249</td><td>5026</td><td>11</td><td>11</td><td>8</td><td>-9.32</td><td>38.78</td><td>&quot;Lote&quot;</td><td>35.0</td><td>null</td><td>null</td><td>null</td><td>null</td><td>null</td><td>null</td></tr><tr><td>11</td><td>11</td><td>8</td><td>45249</td><td>&quot;Rio de Mouro&quot;</td><td>68481111</td><td>&quot;Rua&quot;</td><td>&quot;do&quot;</td><td>null</td><td>null</td><td>&quot;Planeta Mercrio&quot;</td><td>&quot;Serra das Minas&quot;</td><td>null</td><td>null</td><td>null</td><td>null</td><td>null</td><td>null</td><td>null</td><td>null</td><td>2635</td><td>615</td><td>&quot;RIO DE MOURO&quot;</td><td>1503082</td><td>null</td><td>3</td><td>2635</td><td>615</td><td>&quot;RIO DE MOURO&quot;</td><td>45249</td><td>5026</td><td>11</td><td>11</td><td>8</td><td>-9.32</td><td>38.78</td><td>&quot;Lote&quot;</td><td>34.0</td><td>null</td><td>null</td><td>null</td><td>null</td><td>null</td><td>null</td></tr><tr><td>11</td><td>11</td><td>8</td><td>45249</td><td>&quot;Rio de Mouro&quot;</td><td>68481111</td><td>&quot;Rua&quot;</td><td>&quot;do&quot;</td><td>null</td><td>null</td><td>&quot;Planeta Mercrio&quot;</td><td>&quot;Serra das Minas&quot;</td><td>null</td><td>null</td><td>null</td><td>null</td><td>null</td><td>null</td><td>null</td><td>null</td><td>2635</td><td>615</td><td>&quot;RIO DE MOURO&quot;</td><td>1503083</td><td>null</td><td>5</td><td>2635</td><td>615</td><td>&quot;RIO DE MOURO&quot;</td><td>45249</td><td>5026</td><td>11</td><td>11</td><td>8</td><td>-9.32</td><td>38.78</td><td>&quot;Lote&quot;</td><td>33.0</td><td>null</td><td>null</td><td>null</td><td>null</td><td>null</td><td>null</td></tr><tr><td>11</td><td>11</td><td>8</td><td>45249</td><td>&quot;Rio de Mouro&quot;</td><td>68481111</td><td>&quot;Rua&quot;</td><td>&quot;do&quot;</td><td>null</td><td>null</td><td>&quot;Planeta Mercrio&quot;</td><td>&quot;Serra das Minas&quot;</td><td>null</td><td>null</td><td>null</td><td>null</td><td>null</td><td>null</td><td>null</td><td>null</td><td>2635</td><td>615</td><td>&quot;RIO DE MOURO&quot;</td><td>1529907</td><td>null</td><td>7</td><td>2635</td><td>615</td><td>&quot;RIO DE MOURO&quot;</td><td>45249</td><td>5026</td><td>11</td><td>11</td><td>8</td><td>-9.32</td><td>38.78</td><td>null</td><td>null</td><td>null</td><td>null</td><td>null</td><td>null</td><td>null</td><td>null</td></tr><tr><td>11</td><td>11</td><td>8</td><td>45249</td><td>&quot;Rio de Mouro&quot;</td><td>68481111</td><td>&quot;Rua&quot;</td><td>&quot;do&quot;</td><td>null</td><td>null</td><td>&quot;Planeta Mercrio&quot;</td><td>&quot;Serra das Minas&quot;</td><td>null</td><td>null</td><td>null</td><td>null</td><td>null</td><td>null</td><td>null</td><td>null</td><td>2635</td><td>615</td><td>&quot;RIO DE MOURO&quot;</td><td>1529908</td><td>null</td><td>7</td><td>2635</td><td>615</td><td>&quot;RIO DE MOURO&quot;</td><td>45249</td><td>5026</td><td>11</td><td>11</td><td>8</td><td>-9.32</td><td>38.78</td><td>null</td><td>null</td><td>null</td><td>null</td><td>null</td><td>null</td><td>null</td><td>null</td></tr><tr><td>&hellip;</td><td>&hellip;</td><td>&hellip;</td><td>&hellip;</td><td>&hellip;</td><td>&hellip;</td><td>&hellip;</td><td>&hellip;</td><td>&hellip;</td><td>&hellip;</td><td>&hellip;</td><td>&hellip;</td><td>&hellip;</td><td>&hellip;</td><td>&hellip;</td><td>&hellip;</td><td>&hellip;</td><td>&hellip;</td><td>&hellip;</td><td>&hellip;</td><td>&hellip;</td><td>&hellip;</td><td>&hellip;</td><td>&hellip;</td><td>&hellip;</td><td>&hellip;</td><td>&hellip;</td><td>&hellip;</td><td>&hellip;</td><td>&hellip;</td><td>&hellip;</td><td>&hellip;</td><td>&hellip;</td><td>&hellip;</td><td>&hellip;</td><td>&hellip;</td><td>&hellip;</td><td>&hellip;</td><td>&hellip;</td><td>&hellip;</td><td>&hellip;</td><td>&hellip;</td><td>&hellip;</td><td>&hellip;</td></tr><tr><td>18</td><td>24</td><td>15</td><td>86819</td><td>&quot;Ortigais&quot;</td><td>56226100</td><td>&quot;Estrada Nacional&quot;</td><td>null</td><td>null</td><td>null</td><td>&quot;16&quot;</td><td>null</td><td>&quot;P&quot;</td><td>6</td><td>null</td><td>6</td><td>null</td><td>null</td><td>null</td><td>null</td><td>3670</td><td>278</td><td>&quot;VOUZELA&quot;</td><td>7487711</td><td>null</td><td>6</td><td>3670</td><td>278</td><td>&quot;VOUZELA&quot;</td><td>86819</td><td>null</td><td>18</td><td>24</td><td>15</td><td>-8.09</td><td>40.72</td><td>null</td><td>null</td><td>null</td><td>null</td><td>null</td><td>null</td><td>null</td><td>null</td></tr><tr><td>18</td><td>24</td><td>15</td><td>86819</td><td>&quot;Ortigais&quot;</td><td>279100100</td><td>&quot;Rua&quot;</td><td>&quot;da&quot;</td><td>null</td><td>null</td><td>&quot;Estrada Nacional&quot;</td><td>null</td><td>null</td><td>null</td><td>null</td><td>null</td><td>null</td><td>null</td><td>null</td><td>null</td><td>3670</td><td>278</td><td>&quot;VOUZELA&quot;</td><td>6672587</td><td>null</td><td>14</td><td>3670</td><td>278</td><td>&quot;VOUZELA&quot;</td><td>86819</td><td>null</td><td>18</td><td>24</td><td>15</td><td>-8.09</td><td>40.72</td><td>null</td><td>null</td><td>null</td><td>null</td><td>null</td><td>null</td><td>null</td><td>null</td></tr><tr><td>18</td><td>24</td><td>15</td><td>86819</td><td>&quot;Ortigais&quot;</td><td>279100100</td><td>&quot;Rua&quot;</td><td>&quot;da&quot;</td><td>null</td><td>null</td><td>&quot;Estrada Nacional&quot;</td><td>null</td><td>null</td><td>null</td><td>null</td><td>null</td><td>null</td><td>null</td><td>null</td><td>null</td><td>3670</td><td>278</td><td>&quot;VOUZELA&quot;</td><td>6672597</td><td>null</td><td>20</td><td>3670</td><td>278</td><td>&quot;VOUZELA&quot;</td><td>86819</td><td>null</td><td>18</td><td>24</td><td>15</td><td>-8.09</td><td>40.72</td><td>null</td><td>null</td><td>null</td><td>null</td><td>null</td><td>null</td><td>null</td><td>null</td></tr><tr><td>18</td><td>24</td><td>15</td><td>86819</td><td>&quot;Ortigais&quot;</td><td>279100100</td><td>&quot;Rua&quot;</td><td>&quot;da&quot;</td><td>null</td><td>null</td><td>&quot;Estrada Nacional&quot;</td><td>null</td><td>null</td><td>null</td><td>null</td><td>null</td><td>null</td><td>null</td><td>null</td><td>null</td><td>3670</td><td>278</td><td>&quot;VOUZELA&quot;</td><td>7487705</td><td>null</td><td>18</td><td>3670</td><td>278</td><td>&quot;VOUZELA&quot;</td><td>86819</td><td>null</td><td>18</td><td>24</td><td>15</td><td>-8.09</td><td>40.72</td><td>null</td><td>null</td><td>null</td><td>null</td><td>null</td><td>null</td><td>null</td><td>null</td></tr><tr><td>18</td><td>24</td><td>15</td><td>86819</td><td>&quot;Ortigais&quot;</td><td>279100100</td><td>&quot;Rua&quot;</td><td>&quot;da&quot;</td><td>null</td><td>null</td><td>&quot;Estrada Nacional&quot;</td><td>null</td><td>null</td><td>null</td><td>null</td><td>null</td><td>null</td><td>null</td><td>null</td><td>null</td><td>3670</td><td>278</td><td>&quot;VOUZELA&quot;</td><td>7487708</td><td>null</td><td>16</td><td>3670</td><td>278</td><td>&quot;VOUZELA&quot;</td><td>86819</td><td>null</td><td>18</td><td>24</td><td>15</td><td>-8.09</td><td>40.72</td><td>null</td><td>null</td><td>null</td><td>null</td><td>null</td><td>null</td><td>null</td><td>null</td></tr></tbody></table></div>"
      ],
      "text/plain": [
       "shape: (8_988_421, 44)\n",
       "┌─────┬─────┬─────┬─────┬─────┬─────┬─────┬─────┬─────┬─────┬─────┬─────┬─────┬─────┬─────┬─────┬─────┬─────┬─────┬─────┬─────┬─────┬─────┬─────┬─────┬─────┬─────┬─────┬─────┬─────┬─────┬─────┬─────┬─────┬─────┬─────┬─────┬─────┬─────┬─────┬─────┬─────┬─────┬─────┐\n",
       "│ DD  ┆ CC  ┆ FF  ┆ LLL ┆ LOC ┆ ART ┆ ART ┆ ART ┆ ART ┆ ART ┆ ART ┆ ART ┆ I_P ┆ INI ┆ INI ┆ FIM ┆ FIM ┆ ID_ ┆ ID_ ┆ CLI ┆ CP4 ┆ CP3 ┆ CPA ┆ ID_ ┆ POR ┆ POR ┆ CP4 ┆ CP3 ┆ DES ┆ ID_ ┆ ID_ ┆ DD_ ┆ CC_ ┆ FF_ ┆ LON ┆ LAT ┆ POR ┆ POR ┆ POR ┆ ART ┆ ART ┆ ART ┆ ART ┆ ART │\n",
       "│ --- ┆ --- ┆ --- ┆ L   ┆ ALI ┆ _CO ┆ _TI ┆ _PP ┆ _TI ┆ _SP ┆ _DE ┆ _LO ┆ --- ┆ _NU ┆ _LE ┆ _NU ┆ _LE ┆ TIP ┆ DES ┆ ENT ┆ --- ┆ --- ┆ LF  ┆ POR ┆ TA_ ┆ TA_ ┆ _ri ┆ _ri ┆ IGN ┆ LOC ┆ LOC ┆ rig ┆ rig ┆ rig ┆ G_P ┆ _PO ┆ TA_ ┆ TA_ ┆ TA_ ┆ _TI ┆ _PP ┆ _TI ┆ _SP ┆ _DE │\n",
       "│ i64 ┆ i64 ┆ i64 ┆ --- ┆ DAD ┆ D   ┆ PO  ┆ --- ┆ TUL ┆ --- ┆ SIG ┆ CAL ┆ str ┆ M   ┆ T   ┆ M   ┆ T   ┆ O   ┆ IG  ┆ E   ┆ i64 ┆ i64 ┆ --- ┆ TA  ┆ TIP ┆ NUM ┆ ght ┆ ght ┆ ACA ┆ ALI ┆ AL  ┆ ht  ┆ ht  ┆ ht  ┆ ORT ┆ RTA ┆ TIP ┆ NUM ┆ SUF ┆ PO_ ┆ _ri ┆ TUL ┆ _ri ┆ SIG │\n",
       "│     ┆     ┆     ┆ i64 ┆ E   ┆ --- ┆ --- ┆ str ┆ O   ┆ str ┆ --- ┆ --- ┆     ┆ --- ┆ --- ┆ --- ┆ --- ┆ --- ┆ --- ┆ --- ┆     ┆     ┆ str ┆ --- ┆ O   ┆ --- ┆ --- ┆ --- ┆ O_P ┆ DAD ┆ --- ┆ --- ┆ --- ┆ --- ┆ A   ┆ --- ┆ O_r ┆ _ri ┆ IXO ┆ rig ┆ ght ┆ O_r ┆ ght ┆ _ri │\n",
       "│     ┆     ┆     ┆     ┆ --- ┆ i64 ┆ str ┆     ┆ --- ┆     ┆ str ┆ str ┆     ┆ i64 ┆ str ┆ i64 ┆ str ┆ str ┆ str ┆ str ┆     ┆     ┆     ┆ i64 ┆ --- ┆ i64 ┆ i64 ┆ i64 ┆ OST ┆ E   ┆ i64 ┆ i64 ┆ i64 ┆ i64 ┆ --- ┆ f64 ┆ igh ┆ ght ┆ --- ┆ ht  ┆ --- ┆ igh ┆ --- ┆ ght │\n",
       "│     ┆     ┆     ┆     ┆ str ┆     ┆     ┆     ┆ str ┆     ┆     ┆     ┆     ┆     ┆     ┆     ┆     ┆     ┆     ┆     ┆     ┆     ┆     ┆     ┆ str ┆     ┆     ┆     ┆ AL  ┆ --- ┆     ┆     ┆     ┆     ┆ f64 ┆     ┆ t   ┆ --- ┆ str ┆ --- ┆ str ┆ t   ┆ str ┆ --- │\n",
       "│     ┆     ┆     ┆     ┆     ┆     ┆     ┆     ┆     ┆     ┆     ┆     ┆     ┆     ┆     ┆     ┆     ┆     ┆     ┆     ┆     ┆     ┆     ┆     ┆     ┆     ┆     ┆     ┆ --- ┆ i64 ┆     ┆     ┆     ┆     ┆     ┆     ┆ --- ┆ f64 ┆     ┆ str ┆     ┆ --- ┆     ┆ str │\n",
       "│     ┆     ┆     ┆     ┆     ┆     ┆     ┆     ┆     ┆     ┆     ┆     ┆     ┆     ┆     ┆     ┆     ┆     ┆     ┆     ┆     ┆     ┆     ┆     ┆     ┆     ┆     ┆     ┆ str ┆     ┆     ┆     ┆     ┆     ┆     ┆     ┆ str ┆     ┆     ┆     ┆     ┆ str ┆     ┆     │\n",
       "╞═════╪═════╪═════╪═════╪═════╪═════╪═════╪═════╪═════╪═════╪═════╪═════╪═════╪═════╪═════╪═════╪═════╪═════╪═════╪═════╪═════╪═════╪═════╪═════╪═════╪═════╪═════╪═════╪═════╪═════╪═════╪═════╪═════╪═════╪═════╪═════╪═════╪═════╪═════╪═════╪═════╪═════╪═════╪═════╡\n",
       "│ 11  ┆ 11  ┆ 8   ┆ 452 ┆ Rio ┆ 684 ┆ Rua ┆ do  ┆ nul ┆ nul ┆ Pla ┆ Ser ┆ nul ┆ nul ┆ nul ┆ nul ┆ nul ┆ nul ┆ nul ┆ nul ┆ 263 ┆ 615 ┆ RIO ┆ 150 ┆ nul ┆ 1   ┆ 263 ┆ 615 ┆ RIO ┆ 452 ┆ 502 ┆ 11  ┆ 11  ┆ 8   ┆ -9. ┆ 38. ┆ Lot ┆ 35. ┆ nul ┆ nul ┆ nul ┆ nul ┆ nul ┆ nul │\n",
       "│     ┆     ┆     ┆ 49  ┆ de  ┆ 811 ┆     ┆     ┆ l   ┆ l   ┆ net ┆ ra  ┆ l   ┆ l   ┆ l   ┆ l   ┆ l   ┆ l   ┆ l   ┆ l   ┆ 5   ┆     ┆ DE  ┆ 308 ┆ l   ┆     ┆ 5   ┆     ┆ DE  ┆ 49  ┆ 6   ┆     ┆     ┆     ┆ 32  ┆ 78  ┆ e   ┆ 0   ┆ l   ┆ l   ┆ l   ┆ l   ┆ l   ┆ l   │\n",
       "│     ┆     ┆     ┆     ┆ Mou ┆ 11  ┆     ┆     ┆     ┆     ┆ a   ┆ das ┆     ┆     ┆     ┆     ┆     ┆     ┆     ┆     ┆     ┆     ┆ MOU ┆ 1   ┆     ┆     ┆     ┆     ┆ MOU ┆     ┆     ┆     ┆     ┆     ┆     ┆     ┆     ┆     ┆     ┆     ┆     ┆     ┆     ┆     │\n",
       "│     ┆     ┆     ┆     ┆ ro  ┆     ┆     ┆     ┆     ┆     ┆ Mer ┆ Min ┆     ┆     ┆     ┆     ┆     ┆     ┆     ┆     ┆     ┆     ┆ RO  ┆     ┆     ┆     ┆     ┆     ┆ RO  ┆     ┆     ┆     ┆     ┆     ┆     ┆     ┆     ┆     ┆     ┆     ┆     ┆     ┆     ┆     │\n",
       "│     ┆     ┆     ┆     ┆     ┆     ┆     ┆     ┆     ┆     ┆ cri ┆ as  ┆     ┆     ┆     ┆     ┆     ┆     ┆     ┆     ┆     ┆     ┆     ┆     ┆     ┆     ┆     ┆     ┆     ┆     ┆     ┆     ┆     ┆     ┆     ┆     ┆     ┆     ┆     ┆     ┆     ┆     ┆     ┆     │\n",
       "│     ┆     ┆     ┆     ┆     ┆     ┆     ┆     ┆     ┆     ┆ o   ┆     ┆     ┆     ┆     ┆     ┆     ┆     ┆     ┆     ┆     ┆     ┆     ┆     ┆     ┆     ┆     ┆     ┆     ┆     ┆     ┆     ┆     ┆     ┆     ┆     ┆     ┆     ┆     ┆     ┆     ┆     ┆     ┆     │\n",
       "├╌╌╌╌╌┼╌╌╌╌╌┼╌╌╌╌╌┼╌╌╌╌╌┼╌╌╌╌╌┼╌╌╌╌╌┼╌╌╌╌╌┼╌╌╌╌╌┼╌╌╌╌╌┼╌╌╌╌╌┼╌╌╌╌╌┼╌╌╌╌╌┼╌╌╌╌╌┼╌╌╌╌╌┼╌╌╌╌╌┼╌╌╌╌╌┼╌╌╌╌╌┼╌╌╌╌╌┼╌╌╌╌╌┼╌╌╌╌╌┼╌╌╌╌╌┼╌╌╌╌╌┼╌╌╌╌╌┼╌╌╌╌╌┼╌╌╌╌╌┼╌╌╌╌╌┼╌╌╌╌╌┼╌╌╌╌╌┼╌╌╌╌╌┼╌╌╌╌╌┼╌╌╌╌╌┼╌╌╌╌╌┼╌╌╌╌╌┼╌╌╌╌╌┼╌╌╌╌╌┼╌╌╌╌╌┼╌╌╌╌╌┼╌╌╌╌╌┼╌╌╌╌╌┼╌╌╌╌╌┼╌╌╌╌╌┼╌╌╌╌╌┼╌╌╌╌╌┼╌╌╌╌╌┤\n",
       "│ 11  ┆ 11  ┆ 8   ┆ 452 ┆ Rio ┆ 684 ┆ Rua ┆ do  ┆ nul ┆ nul ┆ Pla ┆ Ser ┆ nul ┆ nul ┆ nul ┆ nul ┆ nul ┆ nul ┆ nul ┆ nul ┆ 263 ┆ 615 ┆ RIO ┆ 150 ┆ nul ┆ 3   ┆ 263 ┆ 615 ┆ RIO ┆ 452 ┆ 502 ┆ 11  ┆ 11  ┆ 8   ┆ -9. ┆ 38. ┆ Lot ┆ 34. ┆ nul ┆ nul ┆ nul ┆ nul ┆ nul ┆ nul │\n",
       "│     ┆     ┆     ┆ 49  ┆ de  ┆ 811 ┆     ┆     ┆ l   ┆ l   ┆ net ┆ ra  ┆ l   ┆ l   ┆ l   ┆ l   ┆ l   ┆ l   ┆ l   ┆ l   ┆ 5   ┆     ┆ DE  ┆ 308 ┆ l   ┆     ┆ 5   ┆     ┆ DE  ┆ 49  ┆ 6   ┆     ┆     ┆     ┆ 32  ┆ 78  ┆ e   ┆ 0   ┆ l   ┆ l   ┆ l   ┆ l   ┆ l   ┆ l   │\n",
       "│     ┆     ┆     ┆     ┆ Mou ┆ 11  ┆     ┆     ┆     ┆     ┆ a   ┆ das ┆     ┆     ┆     ┆     ┆     ┆     ┆     ┆     ┆     ┆     ┆ MOU ┆ 2   ┆     ┆     ┆     ┆     ┆ MOU ┆     ┆     ┆     ┆     ┆     ┆     ┆     ┆     ┆     ┆     ┆     ┆     ┆     ┆     ┆     │\n",
       "│     ┆     ┆     ┆     ┆ ro  ┆     ┆     ┆     ┆     ┆     ┆ Mer ┆ Min ┆     ┆     ┆     ┆     ┆     ┆     ┆     ┆     ┆     ┆     ┆ RO  ┆     ┆     ┆     ┆     ┆     ┆ RO  ┆     ┆     ┆     ┆     ┆     ┆     ┆     ┆     ┆     ┆     ┆     ┆     ┆     ┆     ┆     │\n",
       "│     ┆     ┆     ┆     ┆     ┆     ┆     ┆     ┆     ┆     ┆ cri ┆ as  ┆     ┆     ┆     ┆     ┆     ┆     ┆     ┆     ┆     ┆     ┆     ┆     ┆     ┆     ┆     ┆     ┆     ┆     ┆     ┆     ┆     ┆     ┆     ┆     ┆     ┆     ┆     ┆     ┆     ┆     ┆     ┆     │\n",
       "│     ┆     ┆     ┆     ┆     ┆     ┆     ┆     ┆     ┆     ┆ o   ┆     ┆     ┆     ┆     ┆     ┆     ┆     ┆     ┆     ┆     ┆     ┆     ┆     ┆     ┆     ┆     ┆     ┆     ┆     ┆     ┆     ┆     ┆     ┆     ┆     ┆     ┆     ┆     ┆     ┆     ┆     ┆     ┆     │\n",
       "├╌╌╌╌╌┼╌╌╌╌╌┼╌╌╌╌╌┼╌╌╌╌╌┼╌╌╌╌╌┼╌╌╌╌╌┼╌╌╌╌╌┼╌╌╌╌╌┼╌╌╌╌╌┼╌╌╌╌╌┼╌╌╌╌╌┼╌╌╌╌╌┼╌╌╌╌╌┼╌╌╌╌╌┼╌╌╌╌╌┼╌╌╌╌╌┼╌╌╌╌╌┼╌╌╌╌╌┼╌╌╌╌╌┼╌╌╌╌╌┼╌╌╌╌╌┼╌╌╌╌╌┼╌╌╌╌╌┼╌╌╌╌╌┼╌╌╌╌╌┼╌╌╌╌╌┼╌╌╌╌╌┼╌╌╌╌╌┼╌╌╌╌╌┼╌╌╌╌╌┼╌╌╌╌╌┼╌╌╌╌╌┼╌╌╌╌╌┼╌╌╌╌╌┼╌╌╌╌╌┼╌╌╌╌╌┼╌╌╌╌╌┼╌╌╌╌╌┼╌╌╌╌╌┼╌╌╌╌╌┼╌╌╌╌╌┼╌╌╌╌╌┼╌╌╌╌╌┼╌╌╌╌╌┤\n",
       "│ 11  ┆ 11  ┆ 8   ┆ 452 ┆ Rio ┆ 684 ┆ Rua ┆ do  ┆ nul ┆ nul ┆ Pla ┆ Ser ┆ nul ┆ nul ┆ nul ┆ nul ┆ nul ┆ nul ┆ nul ┆ nul ┆ 263 ┆ 615 ┆ RIO ┆ 150 ┆ nul ┆ 5   ┆ 263 ┆ 615 ┆ RIO ┆ 452 ┆ 502 ┆ 11  ┆ 11  ┆ 8   ┆ -9. ┆ 38. ┆ Lot ┆ 33. ┆ nul ┆ nul ┆ nul ┆ nul ┆ nul ┆ nul │\n",
       "│     ┆     ┆     ┆ 49  ┆ de  ┆ 811 ┆     ┆     ┆ l   ┆ l   ┆ net ┆ ra  ┆ l   ┆ l   ┆ l   ┆ l   ┆ l   ┆ l   ┆ l   ┆ l   ┆ 5   ┆     ┆ DE  ┆ 308 ┆ l   ┆     ┆ 5   ┆     ┆ DE  ┆ 49  ┆ 6   ┆     ┆     ┆     ┆ 32  ┆ 78  ┆ e   ┆ 0   ┆ l   ┆ l   ┆ l   ┆ l   ┆ l   ┆ l   │\n",
       "│     ┆     ┆     ┆     ┆ Mou ┆ 11  ┆     ┆     ┆     ┆     ┆ a   ┆ das ┆     ┆     ┆     ┆     ┆     ┆     ┆     ┆     ┆     ┆     ┆ MOU ┆ 3   ┆     ┆     ┆     ┆     ┆ MOU ┆     ┆     ┆     ┆     ┆     ┆     ┆     ┆     ┆     ┆     ┆     ┆     ┆     ┆     ┆     │\n",
       "│     ┆     ┆     ┆     ┆ ro  ┆     ┆     ┆     ┆     ┆     ┆ Mer ┆ Min ┆     ┆     ┆     ┆     ┆     ┆     ┆     ┆     ┆     ┆     ┆ RO  ┆     ┆     ┆     ┆     ┆     ┆ RO  ┆     ┆     ┆     ┆     ┆     ┆     ┆     ┆     ┆     ┆     ┆     ┆     ┆     ┆     ┆     │\n",
       "│     ┆     ┆     ┆     ┆     ┆     ┆     ┆     ┆     ┆     ┆ cri ┆ as  ┆     ┆     ┆     ┆     ┆     ┆     ┆     ┆     ┆     ┆     ┆     ┆     ┆     ┆     ┆     ┆     ┆     ┆     ┆     ┆     ┆     ┆     ┆     ┆     ┆     ┆     ┆     ┆     ┆     ┆     ┆     ┆     │\n",
       "│     ┆     ┆     ┆     ┆     ┆     ┆     ┆     ┆     ┆     ┆ o   ┆     ┆     ┆     ┆     ┆     ┆     ┆     ┆     ┆     ┆     ┆     ┆     ┆     ┆     ┆     ┆     ┆     ┆     ┆     ┆     ┆     ┆     ┆     ┆     ┆     ┆     ┆     ┆     ┆     ┆     ┆     ┆     ┆     │\n",
       "├╌╌╌╌╌┼╌╌╌╌╌┼╌╌╌╌╌┼╌╌╌╌╌┼╌╌╌╌╌┼╌╌╌╌╌┼╌╌╌╌╌┼╌╌╌╌╌┼╌╌╌╌╌┼╌╌╌╌╌┼╌╌╌╌╌┼╌╌╌╌╌┼╌╌╌╌╌┼╌╌╌╌╌┼╌╌╌╌╌┼╌╌╌╌╌┼╌╌╌╌╌┼╌╌╌╌╌┼╌╌╌╌╌┼╌╌╌╌╌┼╌╌╌╌╌┼╌╌╌╌╌┼╌╌╌╌╌┼╌╌╌╌╌┼╌╌╌╌╌┼╌╌╌╌╌┼╌╌╌╌╌┼╌╌╌╌╌┼╌╌╌╌╌┼╌╌╌╌╌┼╌╌╌╌╌┼╌╌╌╌╌┼╌╌╌╌╌┼╌╌╌╌╌┼╌╌╌╌╌┼╌╌╌╌╌┼╌╌╌╌╌┼╌╌╌╌╌┼╌╌╌╌╌┼╌╌╌╌╌┼╌╌╌╌╌┼╌╌╌╌╌┼╌╌╌╌╌┼╌╌╌╌╌┤\n",
       "│ 11  ┆ 11  ┆ 8   ┆ 452 ┆ Rio ┆ 684 ┆ Rua ┆ do  ┆ nul ┆ nul ┆ Pla ┆ Ser ┆ nul ┆ nul ┆ nul ┆ nul ┆ nul ┆ nul ┆ nul ┆ nul ┆ 263 ┆ 615 ┆ RIO ┆ 152 ┆ nul ┆ 7   ┆ 263 ┆ 615 ┆ RIO ┆ 452 ┆ 502 ┆ 11  ┆ 11  ┆ 8   ┆ -9. ┆ 38. ┆ nul ┆ nul ┆ nul ┆ nul ┆ nul ┆ nul ┆ nul ┆ nul │\n",
       "│     ┆     ┆     ┆ 49  ┆ de  ┆ 811 ┆     ┆     ┆ l   ┆ l   ┆ net ┆ ra  ┆ l   ┆ l   ┆ l   ┆ l   ┆ l   ┆ l   ┆ l   ┆ l   ┆ 5   ┆     ┆ DE  ┆ 990 ┆ l   ┆     ┆ 5   ┆     ┆ DE  ┆ 49  ┆ 6   ┆     ┆     ┆     ┆ 32  ┆ 78  ┆ l   ┆ l   ┆ l   ┆ l   ┆ l   ┆ l   ┆ l   ┆ l   │\n",
       "│     ┆     ┆     ┆     ┆ Mou ┆ 11  ┆     ┆     ┆     ┆     ┆ a   ┆ das ┆     ┆     ┆     ┆     ┆     ┆     ┆     ┆     ┆     ┆     ┆ MOU ┆ 7   ┆     ┆     ┆     ┆     ┆ MOU ┆     ┆     ┆     ┆     ┆     ┆     ┆     ┆     ┆     ┆     ┆     ┆     ┆     ┆     ┆     │\n",
       "│     ┆     ┆     ┆     ┆ ro  ┆     ┆     ┆     ┆     ┆     ┆ Mer ┆ Min ┆     ┆     ┆     ┆     ┆     ┆     ┆     ┆     ┆     ┆     ┆ RO  ┆     ┆     ┆     ┆     ┆     ┆ RO  ┆     ┆     ┆     ┆     ┆     ┆     ┆     ┆     ┆     ┆     ┆     ┆     ┆     ┆     ┆     │\n",
       "│     ┆     ┆     ┆     ┆     ┆     ┆     ┆     ┆     ┆     ┆ cri ┆ as  ┆     ┆     ┆     ┆     ┆     ┆     ┆     ┆     ┆     ┆     ┆     ┆     ┆     ┆     ┆     ┆     ┆     ┆     ┆     ┆     ┆     ┆     ┆     ┆     ┆     ┆     ┆     ┆     ┆     ┆     ┆     ┆     │\n",
       "│     ┆     ┆     ┆     ┆     ┆     ┆     ┆     ┆     ┆     ┆ o   ┆     ┆     ┆     ┆     ┆     ┆     ┆     ┆     ┆     ┆     ┆     ┆     ┆     ┆     ┆     ┆     ┆     ┆     ┆     ┆     ┆     ┆     ┆     ┆     ┆     ┆     ┆     ┆     ┆     ┆     ┆     ┆     ┆     │\n",
       "├╌╌╌╌╌┼╌╌╌╌╌┼╌╌╌╌╌┼╌╌╌╌╌┼╌╌╌╌╌┼╌╌╌╌╌┼╌╌╌╌╌┼╌╌╌╌╌┼╌╌╌╌╌┼╌╌╌╌╌┼╌╌╌╌╌┼╌╌╌╌╌┼╌╌╌╌╌┼╌╌╌╌╌┼╌╌╌╌╌┼╌╌╌╌╌┼╌╌╌╌╌┼╌╌╌╌╌┼╌╌╌╌╌┼╌╌╌╌╌┼╌╌╌╌╌┼╌╌╌╌╌┼╌╌╌╌╌┼╌╌╌╌╌┼╌╌╌╌╌┼╌╌╌╌╌┼╌╌╌╌╌┼╌╌╌╌╌┼╌╌╌╌╌┼╌╌╌╌╌┼╌╌╌╌╌┼╌╌╌╌╌┼╌╌╌╌╌┼╌╌╌╌╌┼╌╌╌╌╌┼╌╌╌╌╌┼╌╌╌╌╌┼╌╌╌╌╌┼╌╌╌╌╌┼╌╌╌╌╌┼╌╌╌╌╌┼╌╌╌╌╌┼╌╌╌╌╌┼╌╌╌╌╌┤\n",
       "│ 11  ┆ 11  ┆ 8   ┆ 452 ┆ Rio ┆ 684 ┆ Rua ┆ do  ┆ nul ┆ nul ┆ Pla ┆ Ser ┆ nul ┆ nul ┆ nul ┆ nul ┆ nul ┆ nul ┆ nul ┆ nul ┆ 263 ┆ 615 ┆ RIO ┆ 152 ┆ nul ┆ 7   ┆ 263 ┆ 615 ┆ RIO ┆ 452 ┆ 502 ┆ 11  ┆ 11  ┆ 8   ┆ -9. ┆ 38. ┆ nul ┆ nul ┆ nul ┆ nul ┆ nul ┆ nul ┆ nul ┆ nul │\n",
       "│     ┆     ┆     ┆ 49  ┆ de  ┆ 811 ┆     ┆     ┆ l   ┆ l   ┆ net ┆ ra  ┆ l   ┆ l   ┆ l   ┆ l   ┆ l   ┆ l   ┆ l   ┆ l   ┆ 5   ┆     ┆ DE  ┆ 990 ┆ l   ┆     ┆ 5   ┆     ┆ DE  ┆ 49  ┆ 6   ┆     ┆     ┆     ┆ 32  ┆ 78  ┆ l   ┆ l   ┆ l   ┆ l   ┆ l   ┆ l   ┆ l   ┆ l   │\n",
       "│     ┆     ┆     ┆     ┆ Mou ┆ 11  ┆     ┆     ┆     ┆     ┆ a   ┆ das ┆     ┆     ┆     ┆     ┆     ┆     ┆     ┆     ┆     ┆     ┆ MOU ┆ 8   ┆     ┆     ┆     ┆     ┆ MOU ┆     ┆     ┆     ┆     ┆     ┆     ┆     ┆     ┆     ┆     ┆     ┆     ┆     ┆     ┆     │\n",
       "│     ┆     ┆     ┆     ┆ ro  ┆     ┆     ┆     ┆     ┆     ┆ Mer ┆ Min ┆     ┆     ┆     ┆     ┆     ┆     ┆     ┆     ┆     ┆     ┆ RO  ┆     ┆     ┆     ┆     ┆     ┆ RO  ┆     ┆     ┆     ┆     ┆     ┆     ┆     ┆     ┆     ┆     ┆     ┆     ┆     ┆     ┆     │\n",
       "│     ┆     ┆     ┆     ┆     ┆     ┆     ┆     ┆     ┆     ┆ cri ┆ as  ┆     ┆     ┆     ┆     ┆     ┆     ┆     ┆     ┆     ┆     ┆     ┆     ┆     ┆     ┆     ┆     ┆     ┆     ┆     ┆     ┆     ┆     ┆     ┆     ┆     ┆     ┆     ┆     ┆     ┆     ┆     ┆     │\n",
       "│     ┆     ┆     ┆     ┆     ┆     ┆     ┆     ┆     ┆     ┆ o   ┆     ┆     ┆     ┆     ┆     ┆     ┆     ┆     ┆     ┆     ┆     ┆     ┆     ┆     ┆     ┆     ┆     ┆     ┆     ┆     ┆     ┆     ┆     ┆     ┆     ┆     ┆     ┆     ┆     ┆     ┆     ┆     ┆     │\n",
       "├╌╌╌╌╌┼╌╌╌╌╌┼╌╌╌╌╌┼╌╌╌╌╌┼╌╌╌╌╌┼╌╌╌╌╌┼╌╌╌╌╌┼╌╌╌╌╌┼╌╌╌╌╌┼╌╌╌╌╌┼╌╌╌╌╌┼╌╌╌╌╌┼╌╌╌╌╌┼╌╌╌╌╌┼╌╌╌╌╌┼╌╌╌╌╌┼╌╌╌╌╌┼╌╌╌╌╌┼╌╌╌╌╌┼╌╌╌╌╌┼╌╌╌╌╌┼╌╌╌╌╌┼╌╌╌╌╌┼╌╌╌╌╌┼╌╌╌╌╌┼╌╌╌╌╌┼╌╌╌╌╌┼╌╌╌╌╌┼╌╌╌╌╌┼╌╌╌╌╌┼╌╌╌╌╌┼╌╌╌╌╌┼╌╌╌╌╌┼╌╌╌╌╌┼╌╌╌╌╌┼╌╌╌╌╌┼╌╌╌╌╌┼╌╌╌╌╌┼╌╌╌╌╌┼╌╌╌╌╌┼╌╌╌╌╌┼╌╌╌╌╌┼╌╌╌╌╌┼╌╌╌╌╌┤\n",
       "│ …   ┆ …   ┆ …   ┆ …   ┆ …   ┆ …   ┆ …   ┆ …   ┆ …   ┆ …   ┆ …   ┆ …   ┆ …   ┆ …   ┆ …   ┆ …   ┆ …   ┆ …   ┆ …   ┆ …   ┆ …   ┆ …   ┆ …   ┆ …   ┆ …   ┆ …   ┆ …   ┆ …   ┆ …   ┆ …   ┆ …   ┆ …   ┆ …   ┆ …   ┆ …   ┆ …   ┆ …   ┆ …   ┆ …   ┆ …   ┆ …   ┆ …   ┆ …   ┆ …   │\n",
       "├╌╌╌╌╌┼╌╌╌╌╌┼╌╌╌╌╌┼╌╌╌╌╌┼╌╌╌╌╌┼╌╌╌╌╌┼╌╌╌╌╌┼╌╌╌╌╌┼╌╌╌╌╌┼╌╌╌╌╌┼╌╌╌╌╌┼╌╌╌╌╌┼╌╌╌╌╌┼╌╌╌╌╌┼╌╌╌╌╌┼╌╌╌╌╌┼╌╌╌╌╌┼╌╌╌╌╌┼╌╌╌╌╌┼╌╌╌╌╌┼╌╌╌╌╌┼╌╌╌╌╌┼╌╌╌╌╌┼╌╌╌╌╌┼╌╌╌╌╌┼╌╌╌╌╌┼╌╌╌╌╌┼╌╌╌╌╌┼╌╌╌╌╌┼╌╌╌╌╌┼╌╌╌╌╌┼╌╌╌╌╌┼╌╌╌╌╌┼╌╌╌╌╌┼╌╌╌╌╌┼╌╌╌╌╌┼╌╌╌╌╌┼╌╌╌╌╌┼╌╌╌╌╌┼╌╌╌╌╌┼╌╌╌╌╌┼╌╌╌╌╌┼╌╌╌╌╌┼╌╌╌╌╌┤\n",
       "│ 18  ┆ 24  ┆ 15  ┆ 868 ┆ Ort ┆ 562 ┆ Est ┆ nul ┆ nul ┆ nul ┆ 16  ┆ nul ┆ P   ┆ 6   ┆ nul ┆ 6   ┆ nul ┆ nul ┆ nul ┆ nul ┆ 367 ┆ 278 ┆ VOU ┆ 748 ┆ nul ┆ 6   ┆ 367 ┆ 278 ┆ VOU ┆ 868 ┆ nul ┆ 18  ┆ 24  ┆ 15  ┆ -8. ┆ 40. ┆ nul ┆ nul ┆ nul ┆ nul ┆ nul ┆ nul ┆ nul ┆ nul │\n",
       "│     ┆     ┆     ┆ 19  ┆ iga ┆ 261 ┆ rad ┆ l   ┆ l   ┆ l   ┆     ┆ l   ┆     ┆     ┆ l   ┆     ┆ l   ┆ l   ┆ l   ┆ l   ┆ 0   ┆     ┆ ZEL ┆ 771 ┆ l   ┆     ┆ 0   ┆     ┆ ZEL ┆ 19  ┆ l   ┆     ┆     ┆     ┆ 09  ┆ 72  ┆ l   ┆ l   ┆ l   ┆ l   ┆ l   ┆ l   ┆ l   ┆ l   │\n",
       "│     ┆     ┆     ┆     ┆ is  ┆ 00  ┆ a   ┆     ┆     ┆     ┆     ┆     ┆     ┆     ┆     ┆     ┆     ┆     ┆     ┆     ┆     ┆     ┆ A   ┆ 1   ┆     ┆     ┆     ┆     ┆ A   ┆     ┆     ┆     ┆     ┆     ┆     ┆     ┆     ┆     ┆     ┆     ┆     ┆     ┆     ┆     │\n",
       "│     ┆     ┆     ┆     ┆     ┆     ┆ Nac ┆     ┆     ┆     ┆     ┆     ┆     ┆     ┆     ┆     ┆     ┆     ┆     ┆     ┆     ┆     ┆     ┆     ┆     ┆     ┆     ┆     ┆     ┆     ┆     ┆     ┆     ┆     ┆     ┆     ┆     ┆     ┆     ┆     ┆     ┆     ┆     ┆     │\n",
       "│     ┆     ┆     ┆     ┆     ┆     ┆ ion ┆     ┆     ┆     ┆     ┆     ┆     ┆     ┆     ┆     ┆     ┆     ┆     ┆     ┆     ┆     ┆     ┆     ┆     ┆     ┆     ┆     ┆     ┆     ┆     ┆     ┆     ┆     ┆     ┆     ┆     ┆     ┆     ┆     ┆     ┆     ┆     ┆     │\n",
       "│     ┆     ┆     ┆     ┆     ┆     ┆ al  ┆     ┆     ┆     ┆     ┆     ┆     ┆     ┆     ┆     ┆     ┆     ┆     ┆     ┆     ┆     ┆     ┆     ┆     ┆     ┆     ┆     ┆     ┆     ┆     ┆     ┆     ┆     ┆     ┆     ┆     ┆     ┆     ┆     ┆     ┆     ┆     ┆     │\n",
       "├╌╌╌╌╌┼╌╌╌╌╌┼╌╌╌╌╌┼╌╌╌╌╌┼╌╌╌╌╌┼╌╌╌╌╌┼╌╌╌╌╌┼╌╌╌╌╌┼╌╌╌╌╌┼╌╌╌╌╌┼╌╌╌╌╌┼╌╌╌╌╌┼╌╌╌╌╌┼╌╌╌╌╌┼╌╌╌╌╌┼╌╌╌╌╌┼╌╌╌╌╌┼╌╌╌╌╌┼╌╌╌╌╌┼╌╌╌╌╌┼╌╌╌╌╌┼╌╌╌╌╌┼╌╌╌╌╌┼╌╌╌╌╌┼╌╌╌╌╌┼╌╌╌╌╌┼╌╌╌╌╌┼╌╌╌╌╌┼╌╌╌╌╌┼╌╌╌╌╌┼╌╌╌╌╌┼╌╌╌╌╌┼╌╌╌╌╌┼╌╌╌╌╌┼╌╌╌╌╌┼╌╌╌╌╌┼╌╌╌╌╌┼╌╌╌╌╌┼╌╌╌╌╌┼╌╌╌╌╌┼╌╌╌╌╌┼╌╌╌╌╌┼╌╌╌╌╌┼╌╌╌╌╌┤\n",
       "│ 18  ┆ 24  ┆ 15  ┆ 868 ┆ Ort ┆ 279 ┆ Rua ┆ da  ┆ nul ┆ nul ┆ Est ┆ nul ┆ nul ┆ nul ┆ nul ┆ nul ┆ nul ┆ nul ┆ nul ┆ nul ┆ 367 ┆ 278 ┆ VOU ┆ 667 ┆ nul ┆ 14  ┆ 367 ┆ 278 ┆ VOU ┆ 868 ┆ nul ┆ 18  ┆ 24  ┆ 15  ┆ -8. ┆ 40. ┆ nul ┆ nul ┆ nul ┆ nul ┆ nul ┆ nul ┆ nul ┆ nul │\n",
       "│     ┆     ┆     ┆ 19  ┆ iga ┆ 100 ┆     ┆     ┆ l   ┆ l   ┆ rad ┆ l   ┆ l   ┆ l   ┆ l   ┆ l   ┆ l   ┆ l   ┆ l   ┆ l   ┆ 0   ┆     ┆ ZEL ┆ 258 ┆ l   ┆     ┆ 0   ┆     ┆ ZEL ┆ 19  ┆ l   ┆     ┆     ┆     ┆ 09  ┆ 72  ┆ l   ┆ l   ┆ l   ┆ l   ┆ l   ┆ l   ┆ l   ┆ l   │\n",
       "│     ┆     ┆     ┆     ┆ is  ┆ 100 ┆     ┆     ┆     ┆     ┆ a   ┆     ┆     ┆     ┆     ┆     ┆     ┆     ┆     ┆     ┆     ┆     ┆ A   ┆ 7   ┆     ┆     ┆     ┆     ┆ A   ┆     ┆     ┆     ┆     ┆     ┆     ┆     ┆     ┆     ┆     ┆     ┆     ┆     ┆     ┆     │\n",
       "│     ┆     ┆     ┆     ┆     ┆     ┆     ┆     ┆     ┆     ┆ Nac ┆     ┆     ┆     ┆     ┆     ┆     ┆     ┆     ┆     ┆     ┆     ┆     ┆     ┆     ┆     ┆     ┆     ┆     ┆     ┆     ┆     ┆     ┆     ┆     ┆     ┆     ┆     ┆     ┆     ┆     ┆     ┆     ┆     │\n",
       "│     ┆     ┆     ┆     ┆     ┆     ┆     ┆     ┆     ┆     ┆ ion ┆     ┆     ┆     ┆     ┆     ┆     ┆     ┆     ┆     ┆     ┆     ┆     ┆     ┆     ┆     ┆     ┆     ┆     ┆     ┆     ┆     ┆     ┆     ┆     ┆     ┆     ┆     ┆     ┆     ┆     ┆     ┆     ┆     │\n",
       "│     ┆     ┆     ┆     ┆     ┆     ┆     ┆     ┆     ┆     ┆ al  ┆     ┆     ┆     ┆     ┆     ┆     ┆     ┆     ┆     ┆     ┆     ┆     ┆     ┆     ┆     ┆     ┆     ┆     ┆     ┆     ┆     ┆     ┆     ┆     ┆     ┆     ┆     ┆     ┆     ┆     ┆     ┆     ┆     │\n",
       "├╌╌╌╌╌┼╌╌╌╌╌┼╌╌╌╌╌┼╌╌╌╌╌┼╌╌╌╌╌┼╌╌╌╌╌┼╌╌╌╌╌┼╌╌╌╌╌┼╌╌╌╌╌┼╌╌╌╌╌┼╌╌╌╌╌┼╌╌╌╌╌┼╌╌╌╌╌┼╌╌╌╌╌┼╌╌╌╌╌┼╌╌╌╌╌┼╌╌╌╌╌┼╌╌╌╌╌┼╌╌╌╌╌┼╌╌╌╌╌┼╌╌╌╌╌┼╌╌╌╌╌┼╌╌╌╌╌┼╌╌╌╌╌┼╌╌╌╌╌┼╌╌╌╌╌┼╌╌╌╌╌┼╌╌╌╌╌┼╌╌╌╌╌┼╌╌╌╌╌┼╌╌╌╌╌┼╌╌╌╌╌┼╌╌╌╌╌┼╌╌╌╌╌┼╌╌╌╌╌┼╌╌╌╌╌┼╌╌╌╌╌┼╌╌╌╌╌┼╌╌╌╌╌┼╌╌╌╌╌┼╌╌╌╌╌┼╌╌╌╌╌┼╌╌╌╌╌┼╌╌╌╌╌┤\n",
       "│ 18  ┆ 24  ┆ 15  ┆ 868 ┆ Ort ┆ 279 ┆ Rua ┆ da  ┆ nul ┆ nul ┆ Est ┆ nul ┆ nul ┆ nul ┆ nul ┆ nul ┆ nul ┆ nul ┆ nul ┆ nul ┆ 367 ┆ 278 ┆ VOU ┆ 667 ┆ nul ┆ 20  ┆ 367 ┆ 278 ┆ VOU ┆ 868 ┆ nul ┆ 18  ┆ 24  ┆ 15  ┆ -8. ┆ 40. ┆ nul ┆ nul ┆ nul ┆ nul ┆ nul ┆ nul ┆ nul ┆ nul │\n",
       "│     ┆     ┆     ┆ 19  ┆ iga ┆ 100 ┆     ┆     ┆ l   ┆ l   ┆ rad ┆ l   ┆ l   ┆ l   ┆ l   ┆ l   ┆ l   ┆ l   ┆ l   ┆ l   ┆ 0   ┆     ┆ ZEL ┆ 259 ┆ l   ┆     ┆ 0   ┆     ┆ ZEL ┆ 19  ┆ l   ┆     ┆     ┆     ┆ 09  ┆ 72  ┆ l   ┆ l   ┆ l   ┆ l   ┆ l   ┆ l   ┆ l   ┆ l   │\n",
       "│     ┆     ┆     ┆     ┆ is  ┆ 100 ┆     ┆     ┆     ┆     ┆ a   ┆     ┆     ┆     ┆     ┆     ┆     ┆     ┆     ┆     ┆     ┆     ┆ A   ┆ 7   ┆     ┆     ┆     ┆     ┆ A   ┆     ┆     ┆     ┆     ┆     ┆     ┆     ┆     ┆     ┆     ┆     ┆     ┆     ┆     ┆     │\n",
       "│     ┆     ┆     ┆     ┆     ┆     ┆     ┆     ┆     ┆     ┆ Nac ┆     ┆     ┆     ┆     ┆     ┆     ┆     ┆     ┆     ┆     ┆     ┆     ┆     ┆     ┆     ┆     ┆     ┆     ┆     ┆     ┆     ┆     ┆     ┆     ┆     ┆     ┆     ┆     ┆     ┆     ┆     ┆     ┆     │\n",
       "│     ┆     ┆     ┆     ┆     ┆     ┆     ┆     ┆     ┆     ┆ ion ┆     ┆     ┆     ┆     ┆     ┆     ┆     ┆     ┆     ┆     ┆     ┆     ┆     ┆     ┆     ┆     ┆     ┆     ┆     ┆     ┆     ┆     ┆     ┆     ┆     ┆     ┆     ┆     ┆     ┆     ┆     ┆     ┆     │\n",
       "│     ┆     ┆     ┆     ┆     ┆     ┆     ┆     ┆     ┆     ┆ al  ┆     ┆     ┆     ┆     ┆     ┆     ┆     ┆     ┆     ┆     ┆     ┆     ┆     ┆     ┆     ┆     ┆     ┆     ┆     ┆     ┆     ┆     ┆     ┆     ┆     ┆     ┆     ┆     ┆     ┆     ┆     ┆     ┆     │\n",
       "├╌╌╌╌╌┼╌╌╌╌╌┼╌╌╌╌╌┼╌╌╌╌╌┼╌╌╌╌╌┼╌╌╌╌╌┼╌╌╌╌╌┼╌╌╌╌╌┼╌╌╌╌╌┼╌╌╌╌╌┼╌╌╌╌╌┼╌╌╌╌╌┼╌╌╌╌╌┼╌╌╌╌╌┼╌╌╌╌╌┼╌╌╌╌╌┼╌╌╌╌╌┼╌╌╌╌╌┼╌╌╌╌╌┼╌╌╌╌╌┼╌╌╌╌╌┼╌╌╌╌╌┼╌╌╌╌╌┼╌╌╌╌╌┼╌╌╌╌╌┼╌╌╌╌╌┼╌╌╌╌╌┼╌╌╌╌╌┼╌╌╌╌╌┼╌╌╌╌╌┼╌╌╌╌╌┼╌╌╌╌╌┼╌╌╌╌╌┼╌╌╌╌╌┼╌╌╌╌╌┼╌╌╌╌╌┼╌╌╌╌╌┼╌╌╌╌╌┼╌╌╌╌╌┼╌╌╌╌╌┼╌╌╌╌╌┼╌╌╌╌╌┼╌╌╌╌╌┼╌╌╌╌╌┤\n",
       "│ 18  ┆ 24  ┆ 15  ┆ 868 ┆ Ort ┆ 279 ┆ Rua ┆ da  ┆ nul ┆ nul ┆ Est ┆ nul ┆ nul ┆ nul ┆ nul ┆ nul ┆ nul ┆ nul ┆ nul ┆ nul ┆ 367 ┆ 278 ┆ VOU ┆ 748 ┆ nul ┆ 18  ┆ 367 ┆ 278 ┆ VOU ┆ 868 ┆ nul ┆ 18  ┆ 24  ┆ 15  ┆ -8. ┆ 40. ┆ nul ┆ nul ┆ nul ┆ nul ┆ nul ┆ nul ┆ nul ┆ nul │\n",
       "│     ┆     ┆     ┆ 19  ┆ iga ┆ 100 ┆     ┆     ┆ l   ┆ l   ┆ rad ┆ l   ┆ l   ┆ l   ┆ l   ┆ l   ┆ l   ┆ l   ┆ l   ┆ l   ┆ 0   ┆     ┆ ZEL ┆ 770 ┆ l   ┆     ┆ 0   ┆     ┆ ZEL ┆ 19  ┆ l   ┆     ┆     ┆     ┆ 09  ┆ 72  ┆ l   ┆ l   ┆ l   ┆ l   ┆ l   ┆ l   ┆ l   ┆ l   │\n",
       "│     ┆     ┆     ┆     ┆ is  ┆ 100 ┆     ┆     ┆     ┆     ┆ a   ┆     ┆     ┆     ┆     ┆     ┆     ┆     ┆     ┆     ┆     ┆     ┆ A   ┆ 5   ┆     ┆     ┆     ┆     ┆ A   ┆     ┆     ┆     ┆     ┆     ┆     ┆     ┆     ┆     ┆     ┆     ┆     ┆     ┆     ┆     │\n",
       "│     ┆     ┆     ┆     ┆     ┆     ┆     ┆     ┆     ┆     ┆ Nac ┆     ┆     ┆     ┆     ┆     ┆     ┆     ┆     ┆     ┆     ┆     ┆     ┆     ┆     ┆     ┆     ┆     ┆     ┆     ┆     ┆     ┆     ┆     ┆     ┆     ┆     ┆     ┆     ┆     ┆     ┆     ┆     ┆     │\n",
       "│     ┆     ┆     ┆     ┆     ┆     ┆     ┆     ┆     ┆     ┆ ion ┆     ┆     ┆     ┆     ┆     ┆     ┆     ┆     ┆     ┆     ┆     ┆     ┆     ┆     ┆     ┆     ┆     ┆     ┆     ┆     ┆     ┆     ┆     ┆     ┆     ┆     ┆     ┆     ┆     ┆     ┆     ┆     ┆     │\n",
       "│     ┆     ┆     ┆     ┆     ┆     ┆     ┆     ┆     ┆     ┆ al  ┆     ┆     ┆     ┆     ┆     ┆     ┆     ┆     ┆     ┆     ┆     ┆     ┆     ┆     ┆     ┆     ┆     ┆     ┆     ┆     ┆     ┆     ┆     ┆     ┆     ┆     ┆     ┆     ┆     ┆     ┆     ┆     ┆     │\n",
       "├╌╌╌╌╌┼╌╌╌╌╌┼╌╌╌╌╌┼╌╌╌╌╌┼╌╌╌╌╌┼╌╌╌╌╌┼╌╌╌╌╌┼╌╌╌╌╌┼╌╌╌╌╌┼╌╌╌╌╌┼╌╌╌╌╌┼╌╌╌╌╌┼╌╌╌╌╌┼╌╌╌╌╌┼╌╌╌╌╌┼╌╌╌╌╌┼╌╌╌╌╌┼╌╌╌╌╌┼╌╌╌╌╌┼╌╌╌╌╌┼╌╌╌╌╌┼╌╌╌╌╌┼╌╌╌╌╌┼╌╌╌╌╌┼╌╌╌╌╌┼╌╌╌╌╌┼╌╌╌╌╌┼╌╌╌╌╌┼╌╌╌╌╌┼╌╌╌╌╌┼╌╌╌╌╌┼╌╌╌╌╌┼╌╌╌╌╌┼╌╌╌╌╌┼╌╌╌╌╌┼╌╌╌╌╌┼╌╌╌╌╌┼╌╌╌╌╌┼╌╌╌╌╌┼╌╌╌╌╌┼╌╌╌╌╌┼╌╌╌╌╌┼╌╌╌╌╌┼╌╌╌╌╌┤\n",
       "│ 18  ┆ 24  ┆ 15  ┆ 868 ┆ Ort ┆ 279 ┆ Rua ┆ da  ┆ nul ┆ nul ┆ Est ┆ nul ┆ nul ┆ nul ┆ nul ┆ nul ┆ nul ┆ nul ┆ nul ┆ nul ┆ 367 ┆ 278 ┆ VOU ┆ 748 ┆ nul ┆ 16  ┆ 367 ┆ 278 ┆ VOU ┆ 868 ┆ nul ┆ 18  ┆ 24  ┆ 15  ┆ -8. ┆ 40. ┆ nul ┆ nul ┆ nul ┆ nul ┆ nul ┆ nul ┆ nul ┆ nul │\n",
       "│     ┆     ┆     ┆ 19  ┆ iga ┆ 100 ┆     ┆     ┆ l   ┆ l   ┆ rad ┆ l   ┆ l   ┆ l   ┆ l   ┆ l   ┆ l   ┆ l   ┆ l   ┆ l   ┆ 0   ┆     ┆ ZEL ┆ 770 ┆ l   ┆     ┆ 0   ┆     ┆ ZEL ┆ 19  ┆ l   ┆     ┆     ┆     ┆ 09  ┆ 72  ┆ l   ┆ l   ┆ l   ┆ l   ┆ l   ┆ l   ┆ l   ┆ l   │\n",
       "│     ┆     ┆     ┆     ┆ is  ┆ 100 ┆     ┆     ┆     ┆     ┆ a   ┆     ┆     ┆     ┆     ┆     ┆     ┆     ┆     ┆     ┆     ┆     ┆ A   ┆ 8   ┆     ┆     ┆     ┆     ┆ A   ┆     ┆     ┆     ┆     ┆     ┆     ┆     ┆     ┆     ┆     ┆     ┆     ┆     ┆     ┆     │\n",
       "│     ┆     ┆     ┆     ┆     ┆     ┆     ┆     ┆     ┆     ┆ Nac ┆     ┆     ┆     ┆     ┆     ┆     ┆     ┆     ┆     ┆     ┆     ┆     ┆     ┆     ┆     ┆     ┆     ┆     ┆     ┆     ┆     ┆     ┆     ┆     ┆     ┆     ┆     ┆     ┆     ┆     ┆     ┆     ┆     │\n",
       "│     ┆     ┆     ┆     ┆     ┆     ┆     ┆     ┆     ┆     ┆ ion ┆     ┆     ┆     ┆     ┆     ┆     ┆     ┆     ┆     ┆     ┆     ┆     ┆     ┆     ┆     ┆     ┆     ┆     ┆     ┆     ┆     ┆     ┆     ┆     ┆     ┆     ┆     ┆     ┆     ┆     ┆     ┆     ┆     │\n",
       "│     ┆     ┆     ┆     ┆     ┆     ┆     ┆     ┆     ┆     ┆ al  ┆     ┆     ┆     ┆     ┆     ┆     ┆     ┆     ┆     ┆     ┆     ┆     ┆     ┆     ┆     ┆     ┆     ┆     ┆     ┆     ┆     ┆     ┆     ┆     ┆     ┆     ┆     ┆     ┆     ┆     ┆     ┆     ┆     │\n",
       "└─────┴─────┴─────┴─────┴─────┴─────┴─────┴─────┴─────┴─────┴─────┴─────┴─────┴─────┴─────┴─────┴─────┴─────┴─────┴─────┴─────┴─────┴─────┴─────┴─────┴─────┴─────┴─────┴─────┴─────┴─────┴─────┴─────┴─────┴─────┴─────┴─────┴─────┴─────┴─────┴─────┴─────┴─────┴─────┘"
      ]
     },
     "execution_count": 74,
     "metadata": {},
     "output_type": "execute_result"
    }
   ],
   "source": [
    "df_merged_3 = df_merged_2.join(\n",
    "    df_arteria_alternativa,\n",
    "    left_on=\"ART_COD\",       # <- ajusta para a tua chave em df_locart/df_portas\n",
    "    right_on=\"ID_ARTERIA\",       # <- chave no df_PORTA_ALTERNATIVA\n",
    "    how=\"left\"\n",
    ")\n",
    "\n",
    "df_merged_3"
   ]
  },
  {
   "cell_type": "code",
   "execution_count": 76,
   "id": "241f05f2",
   "metadata": {},
   "outputs": [
    {
     "data": {
      "text/plain": [
       "['DD',\n",
       " 'CC',\n",
       " 'FF',\n",
       " 'LLLL',\n",
       " 'LOCALIDADE',\n",
       " 'ART_COD',\n",
       " 'ART_TIPO',\n",
       " 'ART_PP',\n",
       " 'ART_TITULO',\n",
       " 'ART_SP',\n",
       " 'ART_DESIG',\n",
       " 'ART_LOCAL',\n",
       " 'I_P',\n",
       " 'INI_NUM',\n",
       " 'INI_LET',\n",
       " 'FIM_NUM',\n",
       " 'FIM_LET',\n",
       " 'ID_TIPO',\n",
       " 'ID_DESIG',\n",
       " 'CLIENTE',\n",
       " 'CP4',\n",
       " 'CP3',\n",
       " 'CPALF',\n",
       " 'ID_PORTA',\n",
       " 'PORTA_TIPO',\n",
       " 'PORTA_NUM',\n",
       " 'CP4_right',\n",
       " 'CP3_right',\n",
       " 'DESIGNACAO_POSTAL',\n",
       " 'ID_LOCALIDADE',\n",
       " 'ID_LOCAL',\n",
       " 'DD_right',\n",
       " 'CC_right',\n",
       " 'FF_right',\n",
       " 'LONG_PORTA',\n",
       " 'LAT_PORTA',\n",
       " 'PORTA_TIPO_right',\n",
       " 'PORTA_NUM_right',\n",
       " 'PORTA_SUFIXO',\n",
       " 'ART_TIPO_right',\n",
       " 'ART_PP_right',\n",
       " 'ART_TITULO_right',\n",
       " 'ART_SP_right',\n",
       " 'ART_DESIG_right']"
      ]
     },
     "execution_count": 76,
     "metadata": {},
     "output_type": "execute_result"
    }
   ],
   "source": [
    "df_merged_3.columns"
   ]
  },
  {
   "cell_type": "code",
   "execution_count": 78,
   "id": "c2fe259f",
   "metadata": {},
   "outputs": [],
   "source": [
    "df_final = df_merged_3.select([\n",
    "    pl.col(\"ART_TIPO\").alias(\"ART_TIPO\"),\n",
    "    pl.col(\"ART_PP\").alias(\"ART_PP\"),\n",
    "    pl.col(\"ART_TITULO\").alias(\"ART_TITULO\"),\n",
    "    pl.col(\"ART_SP\").alias(\"ART_SP\"),\n",
    "    pl.col(\"ART_DESIG\").alias(\"ART_DESIG\"),\n",
    "\n",
    "    pl.col(\"ART_TIPO_right\").alias(\"ART_TIPO_alt\"),\n",
    "    pl.col(\"ART_PP_right\").alias(\"ART_PP_alt\"),\n",
    "    pl.col(\"ART_TITULO_right\").alias(\"ART_TITULO_alt\"),   # fix\n",
    "    pl.col(\"ART_SP_right\").alias(\"ART_SP_alt\"),           # fix\n",
    "    pl.col(\"ART_DESIG_right\").alias(\"ART_DESIG_alt\"),     # fix\n",
    "\n",
    "    pl.col(\"ART_LOCAL\").alias(\"ART_LOCAL\"),\n",
    "    pl.col(\"CP4\").alias(\"CP4\"),\n",
    "    pl.col(\"CP3\").alias(\"CP3\"),\n",
    "    pl.col(\"CPALF\").alias(\"CPALF\"),\n",
    "\n",
    "    pl.col(\"PORTA_NUM\").alias(\"PORTA_NUM\"),\n",
    "    pl.col(\"PORTA_TIPO\").alias(\"PORTA_TIPO_alt\"),\n",
    "    pl.col(\"PORTA_NUM\").alias(\"PORTA_NUM_alt\"),\n",
    "    pl.col(\"PORTA_SUFIXO\").alias(\"PORTA_SUFIXO_alt\"),\n",
    "\n",
    "    pl.col(\"LONG_PORTA\").alias(\"LONG_PORTA\"),\n",
    "    pl.col(\"LAT_PORTA\").alias(\"LAT_PORTA\"),\n",
    "])\n",
    "\n"
   ]
  },
  {
   "cell_type": "code",
   "execution_count": 80,
   "id": "151b3439",
   "metadata": {},
   "outputs": [
    {
     "data": {
      "text/html": [
       "<div><style>\n",
       ".dataframe > thead > tr,\n",
       ".dataframe > tbody > tr {\n",
       "  text-align: right;\n",
       "  white-space: pre-wrap;\n",
       "}\n",
       "</style>\n",
       "<small>shape: (5, 20)</small><table border=\"1\" class=\"dataframe\"><thead><tr><th>ART_TIPO</th><th>ART_PP</th><th>ART_TITULO</th><th>ART_SP</th><th>ART_DESIG</th><th>ART_TIPO_alt</th><th>ART_PP_alt</th><th>ART_TITULO_alt</th><th>ART_SP_alt</th><th>ART_DESIG_alt</th><th>ART_LOCAL</th><th>CP4</th><th>CP3</th><th>CPALF</th><th>PORTA_NUM</th><th>PORTA_TIPO_alt</th><th>PORTA_NUM_alt</th><th>PORTA_SUFIXO_alt</th><th>LONG_PORTA</th><th>LAT_PORTA</th></tr><tr><td>str</td><td>str</td><td>str</td><td>str</td><td>str</td><td>str</td><td>str</td><td>str</td><td>str</td><td>str</td><td>str</td><td>i64</td><td>i64</td><td>str</td><td>i64</td><td>str</td><td>i64</td><td>str</td><td>f64</td><td>f64</td></tr></thead><tbody><tr><td>&quot;Rua&quot;</td><td>&quot;do&quot;</td><td>null</td><td>null</td><td>&quot;Planeta Mercrio&quot;</td><td>null</td><td>null</td><td>null</td><td>null</td><td>null</td><td>&quot;Serra das Minas&quot;</td><td>2635</td><td>615</td><td>&quot;RIO DE MOURO&quot;</td><td>1</td><td>null</td><td>1</td><td>null</td><td>-9.32</td><td>38.78</td></tr><tr><td>&quot;Rua&quot;</td><td>&quot;do&quot;</td><td>null</td><td>null</td><td>&quot;Planeta Mercrio&quot;</td><td>null</td><td>null</td><td>null</td><td>null</td><td>null</td><td>&quot;Serra das Minas&quot;</td><td>2635</td><td>615</td><td>&quot;RIO DE MOURO&quot;</td><td>3</td><td>null</td><td>3</td><td>null</td><td>-9.32</td><td>38.78</td></tr><tr><td>&quot;Rua&quot;</td><td>&quot;do&quot;</td><td>null</td><td>null</td><td>&quot;Planeta Mercrio&quot;</td><td>null</td><td>null</td><td>null</td><td>null</td><td>null</td><td>&quot;Serra das Minas&quot;</td><td>2635</td><td>615</td><td>&quot;RIO DE MOURO&quot;</td><td>5</td><td>null</td><td>5</td><td>null</td><td>-9.32</td><td>38.78</td></tr><tr><td>&quot;Rua&quot;</td><td>&quot;do&quot;</td><td>null</td><td>null</td><td>&quot;Planeta Mercrio&quot;</td><td>null</td><td>null</td><td>null</td><td>null</td><td>null</td><td>&quot;Serra das Minas&quot;</td><td>2635</td><td>615</td><td>&quot;RIO DE MOURO&quot;</td><td>7</td><td>null</td><td>7</td><td>null</td><td>-9.32</td><td>38.78</td></tr><tr><td>&quot;Rua&quot;</td><td>&quot;do&quot;</td><td>null</td><td>null</td><td>&quot;Planeta Mercrio&quot;</td><td>null</td><td>null</td><td>null</td><td>null</td><td>null</td><td>&quot;Serra das Minas&quot;</td><td>2635</td><td>615</td><td>&quot;RIO DE MOURO&quot;</td><td>7</td><td>null</td><td>7</td><td>null</td><td>-9.32</td><td>38.78</td></tr></tbody></table></div>"
      ],
      "text/plain": [
       "shape: (5, 20)\n",
       "┌─────┬─────┬─────┬─────┬─────┬─────┬─────┬─────┬─────┬─────┬─────┬─────┬─────┬─────┬─────┬─────┬─────┬─────┬─────┬─────┐\n",
       "│ ART ┆ ART ┆ ART ┆ ART ┆ ART ┆ ART ┆ ART ┆ ART ┆ ART ┆ ART ┆ ART ┆ CP4 ┆ CP3 ┆ CPA ┆ POR ┆ POR ┆ POR ┆ POR ┆ LON ┆ LAT │\n",
       "│ _TI ┆ _PP ┆ _TI ┆ _SP ┆ _DE ┆ _TI ┆ _PP ┆ _TI ┆ _SP ┆ _DE ┆ _LO ┆ --- ┆ --- ┆ LF  ┆ TA_ ┆ TA_ ┆ TA_ ┆ TA_ ┆ G_P ┆ _PO │\n",
       "│ PO  ┆ --- ┆ TUL ┆ --- ┆ SIG ┆ PO_ ┆ _al ┆ TUL ┆ _al ┆ SIG ┆ CAL ┆ i64 ┆ i64 ┆ --- ┆ NUM ┆ TIP ┆ NUM ┆ SUF ┆ ORT ┆ RTA │\n",
       "│ --- ┆ str ┆ O   ┆ str ┆ --- ┆ alt ┆ t   ┆ O_a ┆ t   ┆ _al ┆ --- ┆     ┆     ┆ str ┆ --- ┆ O_a ┆ _al ┆ IXO ┆ A   ┆ --- │\n",
       "│ str ┆     ┆ --- ┆     ┆ str ┆ --- ┆ --- ┆ lt  ┆ --- ┆ t   ┆ str ┆     ┆     ┆     ┆ i64 ┆ lt  ┆ t   ┆ _al ┆ --- ┆ f64 │\n",
       "│     ┆     ┆ str ┆     ┆     ┆ str ┆ str ┆ --- ┆ str ┆ --- ┆     ┆     ┆     ┆     ┆     ┆ --- ┆ --- ┆ t   ┆ f64 ┆     │\n",
       "│     ┆     ┆     ┆     ┆     ┆     ┆     ┆ str ┆     ┆ str ┆     ┆     ┆     ┆     ┆     ┆ str ┆ i64 ┆ --- ┆     ┆     │\n",
       "│     ┆     ┆     ┆     ┆     ┆     ┆     ┆     ┆     ┆     ┆     ┆     ┆     ┆     ┆     ┆     ┆     ┆ str ┆     ┆     │\n",
       "╞═════╪═════╪═════╪═════╪═════╪═════╪═════╪═════╪═════╪═════╪═════╪═════╪═════╪═════╪═════╪═════╪═════╪═════╪═════╪═════╡\n",
       "│ Rua ┆ do  ┆ nul ┆ nul ┆ Pla ┆ nul ┆ nul ┆ nul ┆ nul ┆ nul ┆ Ser ┆ 263 ┆ 615 ┆ RIO ┆ 1   ┆ nul ┆ 1   ┆ nul ┆ -9. ┆ 38. │\n",
       "│     ┆     ┆ l   ┆ l   ┆ net ┆ l   ┆ l   ┆ l   ┆ l   ┆ l   ┆ ra  ┆ 5   ┆     ┆ DE  ┆     ┆ l   ┆     ┆ l   ┆ 32  ┆ 78  │\n",
       "│     ┆     ┆     ┆     ┆ a   ┆     ┆     ┆     ┆     ┆     ┆ das ┆     ┆     ┆ MOU ┆     ┆     ┆     ┆     ┆     ┆     │\n",
       "│     ┆     ┆     ┆     ┆ Mer ┆     ┆     ┆     ┆     ┆     ┆ Min ┆     ┆     ┆ RO  ┆     ┆     ┆     ┆     ┆     ┆     │\n",
       "│     ┆     ┆     ┆     ┆ cri ┆     ┆     ┆     ┆     ┆     ┆ as  ┆     ┆     ┆     ┆     ┆     ┆     ┆     ┆     ┆     │\n",
       "│     ┆     ┆     ┆     ┆ o   ┆     ┆     ┆     ┆     ┆     ┆     ┆     ┆     ┆     ┆     ┆     ┆     ┆     ┆     ┆     │\n",
       "├╌╌╌╌╌┼╌╌╌╌╌┼╌╌╌╌╌┼╌╌╌╌╌┼╌╌╌╌╌┼╌╌╌╌╌┼╌╌╌╌╌┼╌╌╌╌╌┼╌╌╌╌╌┼╌╌╌╌╌┼╌╌╌╌╌┼╌╌╌╌╌┼╌╌╌╌╌┼╌╌╌╌╌┼╌╌╌╌╌┼╌╌╌╌╌┼╌╌╌╌╌┼╌╌╌╌╌┼╌╌╌╌╌┼╌╌╌╌╌┤\n",
       "│ Rua ┆ do  ┆ nul ┆ nul ┆ Pla ┆ nul ┆ nul ┆ nul ┆ nul ┆ nul ┆ Ser ┆ 263 ┆ 615 ┆ RIO ┆ 3   ┆ nul ┆ 3   ┆ nul ┆ -9. ┆ 38. │\n",
       "│     ┆     ┆ l   ┆ l   ┆ net ┆ l   ┆ l   ┆ l   ┆ l   ┆ l   ┆ ra  ┆ 5   ┆     ┆ DE  ┆     ┆ l   ┆     ┆ l   ┆ 32  ┆ 78  │\n",
       "│     ┆     ┆     ┆     ┆ a   ┆     ┆     ┆     ┆     ┆     ┆ das ┆     ┆     ┆ MOU ┆     ┆     ┆     ┆     ┆     ┆     │\n",
       "│     ┆     ┆     ┆     ┆ Mer ┆     ┆     ┆     ┆     ┆     ┆ Min ┆     ┆     ┆ RO  ┆     ┆     ┆     ┆     ┆     ┆     │\n",
       "│     ┆     ┆     ┆     ┆ cri ┆     ┆     ┆     ┆     ┆     ┆ as  ┆     ┆     ┆     ┆     ┆     ┆     ┆     ┆     ┆     │\n",
       "│     ┆     ┆     ┆     ┆ o   ┆     ┆     ┆     ┆     ┆     ┆     ┆     ┆     ┆     ┆     ┆     ┆     ┆     ┆     ┆     │\n",
       "├╌╌╌╌╌┼╌╌╌╌╌┼╌╌╌╌╌┼╌╌╌╌╌┼╌╌╌╌╌┼╌╌╌╌╌┼╌╌╌╌╌┼╌╌╌╌╌┼╌╌╌╌╌┼╌╌╌╌╌┼╌╌╌╌╌┼╌╌╌╌╌┼╌╌╌╌╌┼╌╌╌╌╌┼╌╌╌╌╌┼╌╌╌╌╌┼╌╌╌╌╌┼╌╌╌╌╌┼╌╌╌╌╌┼╌╌╌╌╌┤\n",
       "│ Rua ┆ do  ┆ nul ┆ nul ┆ Pla ┆ nul ┆ nul ┆ nul ┆ nul ┆ nul ┆ Ser ┆ 263 ┆ 615 ┆ RIO ┆ 5   ┆ nul ┆ 5   ┆ nul ┆ -9. ┆ 38. │\n",
       "│     ┆     ┆ l   ┆ l   ┆ net ┆ l   ┆ l   ┆ l   ┆ l   ┆ l   ┆ ra  ┆ 5   ┆     ┆ DE  ┆     ┆ l   ┆     ┆ l   ┆ 32  ┆ 78  │\n",
       "│     ┆     ┆     ┆     ┆ a   ┆     ┆     ┆     ┆     ┆     ┆ das ┆     ┆     ┆ MOU ┆     ┆     ┆     ┆     ┆     ┆     │\n",
       "│     ┆     ┆     ┆     ┆ Mer ┆     ┆     ┆     ┆     ┆     ┆ Min ┆     ┆     ┆ RO  ┆     ┆     ┆     ┆     ┆     ┆     │\n",
       "│     ┆     ┆     ┆     ┆ cri ┆     ┆     ┆     ┆     ┆     ┆ as  ┆     ┆     ┆     ┆     ┆     ┆     ┆     ┆     ┆     │\n",
       "│     ┆     ┆     ┆     ┆ o   ┆     ┆     ┆     ┆     ┆     ┆     ┆     ┆     ┆     ┆     ┆     ┆     ┆     ┆     ┆     │\n",
       "├╌╌╌╌╌┼╌╌╌╌╌┼╌╌╌╌╌┼╌╌╌╌╌┼╌╌╌╌╌┼╌╌╌╌╌┼╌╌╌╌╌┼╌╌╌╌╌┼╌╌╌╌╌┼╌╌╌╌╌┼╌╌╌╌╌┼╌╌╌╌╌┼╌╌╌╌╌┼╌╌╌╌╌┼╌╌╌╌╌┼╌╌╌╌╌┼╌╌╌╌╌┼╌╌╌╌╌┼╌╌╌╌╌┼╌╌╌╌╌┤\n",
       "│ Rua ┆ do  ┆ nul ┆ nul ┆ Pla ┆ nul ┆ nul ┆ nul ┆ nul ┆ nul ┆ Ser ┆ 263 ┆ 615 ┆ RIO ┆ 7   ┆ nul ┆ 7   ┆ nul ┆ -9. ┆ 38. │\n",
       "│     ┆     ┆ l   ┆ l   ┆ net ┆ l   ┆ l   ┆ l   ┆ l   ┆ l   ┆ ra  ┆ 5   ┆     ┆ DE  ┆     ┆ l   ┆     ┆ l   ┆ 32  ┆ 78  │\n",
       "│     ┆     ┆     ┆     ┆ a   ┆     ┆     ┆     ┆     ┆     ┆ das ┆     ┆     ┆ MOU ┆     ┆     ┆     ┆     ┆     ┆     │\n",
       "│     ┆     ┆     ┆     ┆ Mer ┆     ┆     ┆     ┆     ┆     ┆ Min ┆     ┆     ┆ RO  ┆     ┆     ┆     ┆     ┆     ┆     │\n",
       "│     ┆     ┆     ┆     ┆ cri ┆     ┆     ┆     ┆     ┆     ┆ as  ┆     ┆     ┆     ┆     ┆     ┆     ┆     ┆     ┆     │\n",
       "│     ┆     ┆     ┆     ┆ o   ┆     ┆     ┆     ┆     ┆     ┆     ┆     ┆     ┆     ┆     ┆     ┆     ┆     ┆     ┆     │\n",
       "├╌╌╌╌╌┼╌╌╌╌╌┼╌╌╌╌╌┼╌╌╌╌╌┼╌╌╌╌╌┼╌╌╌╌╌┼╌╌╌╌╌┼╌╌╌╌╌┼╌╌╌╌╌┼╌╌╌╌╌┼╌╌╌╌╌┼╌╌╌╌╌┼╌╌╌╌╌┼╌╌╌╌╌┼╌╌╌╌╌┼╌╌╌╌╌┼╌╌╌╌╌┼╌╌╌╌╌┼╌╌╌╌╌┼╌╌╌╌╌┤\n",
       "│ Rua ┆ do  ┆ nul ┆ nul ┆ Pla ┆ nul ┆ nul ┆ nul ┆ nul ┆ nul ┆ Ser ┆ 263 ┆ 615 ┆ RIO ┆ 7   ┆ nul ┆ 7   ┆ nul ┆ -9. ┆ 38. │\n",
       "│     ┆     ┆ l   ┆ l   ┆ net ┆ l   ┆ l   ┆ l   ┆ l   ┆ l   ┆ ra  ┆ 5   ┆     ┆ DE  ┆     ┆ l   ┆     ┆ l   ┆ 32  ┆ 78  │\n",
       "│     ┆     ┆     ┆     ┆ a   ┆     ┆     ┆     ┆     ┆     ┆ das ┆     ┆     ┆ MOU ┆     ┆     ┆     ┆     ┆     ┆     │\n",
       "│     ┆     ┆     ┆     ┆ Mer ┆     ┆     ┆     ┆     ┆     ┆ Min ┆     ┆     ┆ RO  ┆     ┆     ┆     ┆     ┆     ┆     │\n",
       "│     ┆     ┆     ┆     ┆ cri ┆     ┆     ┆     ┆     ┆     ┆ as  ┆     ┆     ┆     ┆     ┆     ┆     ┆     ┆     ┆     │\n",
       "│     ┆     ┆     ┆     ┆ o   ┆     ┆     ┆     ┆     ┆     ┆     ┆     ┆     ┆     ┆     ┆     ┆     ┆     ┆     ┆     │\n",
       "└─────┴─────┴─────┴─────┴─────┴─────┴─────┴─────┴─────┴─────┴─────┴─────┴─────┴─────┴─────┴─────┴─────┴─────┴─────┴─────┘"
      ]
     },
     "execution_count": 80,
     "metadata": {},
     "output_type": "execute_result"
    }
   ],
   "source": [
    "df_final.head()"
   ]
  },
  {
   "cell_type": "code",
   "execution_count": 67,
   "id": "a9de7280",
   "metadata": {},
   "outputs": [
    {
     "name": "stdout",
     "output_type": "stream",
     "text": [
      "Tempo Polars: 14.88 segundos\n",
      "Memória Polars (delta): -6010.13 MB\n",
      "Memória Polars (final): 2716.46 MB\n"
     ]
    }
   ],
   "source": [
    "gc.collect()\n",
    "m1 = process.memory_info().rss / 1024**2\n",
    "\n",
    "print(\"Tempo Polars:\", round(time.time() - start, 2), \"segundos\")\n",
    "print(\"Memória Polars (delta):\", round(m1 - m0, 2), \"MB\")\n",
    "print(\"Memória Polars (final):\", round(m1, 2), \"MB\")"
   ]
  }
 ],
 "metadata": {
  "kernelspec": {
   "display_name": "Python 3",
   "language": "python",
   "name": "python3"
  },
  "language_info": {
   "codemirror_mode": {
    "name": "ipython",
    "version": 3
   },
   "file_extension": ".py",
   "mimetype": "text/x-python",
   "name": "python",
   "nbconvert_exporter": "python",
   "pygments_lexer": "ipython3",
   "version": "3.13.7"
  }
 },
 "nbformat": 4,
 "nbformat_minor": 5
}
