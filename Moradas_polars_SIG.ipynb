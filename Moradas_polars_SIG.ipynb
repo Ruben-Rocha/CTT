{
 "cells": [
  {
   "cell_type": "code",
   "execution_count": 46,
   "id": "2f3ef410",
   "metadata": {},
   "outputs": [],
   "source": [
    "# ==========================\n",
    "# 1. Imports\n",
    "# ==========================\n",
    "import time, psutil, os, gc\n",
    "\n",
    "# ==========================\n",
    "# 2. Inicio\n",
    "# ==========================\n",
    "process = psutil.Process(os.getpid())\n",
    "gc.collect()  # limpa o lixo pendente\n",
    "\n",
    "start = time.time()\n",
    "m0 = process.memory_info().rss / 1024**2  # MB"
   ]
  },
  {
   "cell_type": "code",
   "execution_count": 47,
   "id": "c20d26bb",
   "metadata": {},
   "outputs": [],
   "source": [
    "\n",
    "# ==========================\n",
    "# 1. Importar libs\n",
    "# ==========================\n",
    "\n",
    "import polars as pl\n",
    "\n",
    "pl.Config.set_tbl_cols(-1)  # mostra todas as colunas sem cortar\n",
    "pl.Config.set_tbl_formatting(\"UTF8_FULL\")   # mostra todos os valores sem cortar\n",
    "\n",
    "from io import StringIO\n"
   ]
  },
  {
   "cell_type": "code",
   "execution_count": 48,
   "id": "23eb16a4",
   "metadata": {},
   "outputs": [
    {
     "data": {
      "text/plain": [
       "['C:\\\\Users\\\\1420844\\\\Downloads\\\\BD_CTT_092025\\\\ARTERIA_ALTERNATIVA.CSV',\n",
       " 'C:\\\\Users\\\\1420844\\\\Downloads\\\\BD_CTT_092025\\\\CONCELHO.CSV',\n",
       " 'C:\\\\Users\\\\1420844\\\\Downloads\\\\BD_CTT_092025\\\\CP7COORDS.CSV',\n",
       " 'C:\\\\Users\\\\1420844\\\\Downloads\\\\BD_CTT_092025\\\\DISTRITO.CSV',\n",
       " 'C:\\\\Users\\\\1420844\\\\Downloads\\\\BD_CTT_092025\\\\FREGUESIA.CSV',\n",
       " 'C:\\\\Users\\\\1420844\\\\Downloads\\\\BD_CTT_092025\\\\LOCAL.CSV',\n",
       " 'C:\\\\Users\\\\1420844\\\\Downloads\\\\BD_CTT_092025\\\\LOCALIDADE.CSV',\n",
       " 'C:\\\\Users\\\\1420844\\\\Downloads\\\\BD_CTT_092025\\\\LOCART.CSV',\n",
       " 'C:\\\\Users\\\\1420844\\\\Downloads\\\\BD_CTT_092025\\\\PORTA.CSV',\n",
       " 'C:\\\\Users\\\\1420844\\\\Downloads\\\\BD_CTT_092025\\\\PORTA_ALTERNATIVA.CSV']"
      ]
     },
     "execution_count": 48,
     "metadata": {},
     "output_type": "execute_result"
    }
   ],
   "source": [
    "# ==========================\n",
    "# 1. Listar ficheiros com Pathlib\n",
    "# ==========================\n",
    "from pathlib import Path\n",
    "\n",
    "pasta = Path(r\"C:\\Users\\1420844\\Downloads\\BD_CTT_092025\")\n",
    "\n",
    "ficheiros = [str(f) for f in pasta.glob(\"*\") if f.is_file()]\n",
    "\n",
    "ficheiros"
   ]
  },
  {
   "cell_type": "code",
   "execution_count": 49,
   "id": "f46d1613",
   "metadata": {},
   "outputs": [],
   "source": [
    "r1  = r\"C:\\Users\\1420844\\Downloads\\BD_CTT_092025\\ARTERIA_ALTERNATIVA.CSV\"\n",
    "r2  = r\"C:\\Users\\1420844\\Downloads\\BD_CTT_092025\\CONCELHO.CSV\"\n",
    "r3  = r\"C:\\Users\\1420844\\Downloads\\BD_CTT_092025\\CP7COORDS.CSV\"\n",
    "r4  = r\"C:\\Users\\1420844\\Downloads\\BD_CTT_092025\\DISTRITO.CSV\"\n",
    "r5  = r\"C:\\Users\\1420844\\Downloads\\BD_CTT_092025\\FREGUESIA.CSV\"\n",
    "r6  = r\"C:\\Users\\1420844\\Downloads\\BD_CTT_092025\\LOCAL.CSV\"\n",
    "r7  = r\"C:\\Users\\1420844\\Downloads\\BD_CTT_092025\\LOCALIDADE.CSV\"\n",
    "r8  = r\"C:\\Users\\1420844\\Downloads\\BD_CTT_092025\\LOCART.CSV\"\n",
    "r9  = r\"C:\\Users\\1420844\\Downloads\\BD_CTT_092025\\PORTA.CSV\"\n",
    "r10 = r\"C:\\Users\\1420844\\Downloads\\BD_CTT_092025\\PORTA_ALTERNATIVA.CSV\""
   ]
  },
  {
   "cell_type": "markdown",
   "id": "d3a3af0a",
   "metadata": {},
   "source": [
    "# Portas\n"
   ]
  },
  {
   "cell_type": "code",
   "execution_count": 50,
   "id": "b9c1ff01",
   "metadata": {},
   "outputs": [],
   "source": [
    "\n",
    "with open(r9, \"rb\") as f: linhas = f.read().decode(\"utf-8\", errors=\"ignore\")\n",
    "df_portas = pl.read_csv(StringIO(linhas), separator=\";\", ignore_errors=True, decimal_comma=True)\n",
    "\n",
    "df_portas = df_portas.with_columns([\n",
    "    df_portas[col].cast(pl.Int64)\n",
    "    for col in df_portas.columns\n",
    "    if col not in (\"LONG_PORTA\", \"LAT_PORTA\") and df_portas[col].dtype == pl.Float64\n",
    "])\n"
   ]
  },
  {
   "cell_type": "code",
   "execution_count": 51,
   "id": "9a3053a5",
   "metadata": {},
   "outputs": [
    {
     "data": {
      "text/html": [
       "<div><style>\n",
       ".dataframe > thead > tr,\n",
       ".dataframe > tbody > tr {\n",
       "  text-align: right;\n",
       "  white-space: pre-wrap;\n",
       "}\n",
       "</style>\n",
       "<small>shape: (5, 14)</small><table border=\"1\" class=\"dataframe\"><thead><tr><th>ID_PORTA</th><th>PORTA_TIPO</th><th>PORTA_NUM</th><th>ID_ARTERIA</th><th>CP4</th><th>CP3</th><th>DESIGNACAO_POSTAL</th><th>ID_LOCALIDADE</th><th>ID_LOCAL</th><th>DD</th><th>CC</th><th>FF</th><th>LONG_PORTA</th><th>LAT_PORTA</th></tr><tr><td>i64</td><td>str</td><td>i64</td><td>i64</td><td>i64</td><td>i64</td><td>str</td><td>i64</td><td>i64</td><td>i64</td><td>i64</td><td>i64</td><td>f64</td><td>f64</td></tr></thead><tbody><tr><td>3</td><td>null</td><td>353</td><td>7310315</td><td>2810</td><td>291</td><td>&quot;ALMADA&quot;</td><td>1976</td><td>null</td><td>15</td><td>3</td><td>15</td><td>-9.15</td><td>38.65</td></tr><tr><td>4</td><td>null</td><td>355</td><td>7310315</td><td>2810</td><td>291</td><td>&quot;ALMADA&quot;</td><td>1976</td><td>null</td><td>15</td><td>3</td><td>15</td><td>-9.15</td><td>38.65</td></tr><tr><td>5</td><td>null</td><td>12</td><td>2111417</td><td>5000</td><td>650</td><td>&quot;VILA REAL&quot;</td><td>52333</td><td>null</td><td>17</td><td>14</td><td>38</td><td>-7.74</td><td>41.29</td></tr><tr><td>6</td><td>null</td><td>16</td><td>2111417</td><td>5000</td><td>650</td><td>&quot;VILA REAL&quot;</td><td>52333</td><td>null</td><td>17</td><td>14</td><td>38</td><td>-7.74</td><td>41.29</td></tr><tr><td>7</td><td>null</td><td>18</td><td>2111417</td><td>5000</td><td>650</td><td>&quot;VILA REAL&quot;</td><td>52333</td><td>null</td><td>17</td><td>14</td><td>38</td><td>-7.74</td><td>41.29</td></tr></tbody></table></div>"
      ],
      "text/plain": [
       "shape: (5, 14)\n",
       "┌─────┬─────┬─────┬────────┬──────┬─────┬────────┬───────┬───────┬─────┬─────┬─────┬───────┬───────┐\n",
       "│ ID_ ┆ POR ┆ POR ┆ ID_ART ┆ CP4  ┆ CP3 ┆ DESIGN ┆ ID_LO ┆ ID_LO ┆ DD  ┆ CC  ┆ FF  ┆ LONG_ ┆ LAT_P │\n",
       "│ POR ┆ TA_ ┆ TA_ ┆ ERIA   ┆ ---  ┆ --- ┆ ACAO_P ┆ CALID ┆ CAL   ┆ --- ┆ --- ┆ --- ┆ PORTA ┆ ORTA  │\n",
       "│ TA  ┆ TIP ┆ NUM ┆ ---    ┆ i64  ┆ i64 ┆ OSTAL  ┆ ADE   ┆ ---   ┆ i64 ┆ i64 ┆ i64 ┆ ---   ┆ ---   │\n",
       "│ --- ┆ O   ┆ --- ┆ i64    ┆      ┆     ┆ ---    ┆ ---   ┆ i64   ┆     ┆     ┆     ┆ f64   ┆ f64   │\n",
       "│ i64 ┆ --- ┆ i64 ┆        ┆      ┆     ┆ str    ┆ i64   ┆       ┆     ┆     ┆     ┆       ┆       │\n",
       "│     ┆ str ┆     ┆        ┆      ┆     ┆        ┆       ┆       ┆     ┆     ┆     ┆       ┆       │\n",
       "╞═════╪═════╪═════╪════════╪══════╪═════╪════════╪═══════╪═══════╪═════╪═════╪═════╪═══════╪═══════╡\n",
       "│ 3   ┆ nul ┆ 353 ┆ 731031 ┆ 2810 ┆ 291 ┆ ALMADA ┆ 1976  ┆ null  ┆ 15  ┆ 3   ┆ 15  ┆ -9.15 ┆ 38.65 │\n",
       "│     ┆ l   ┆     ┆ 5      ┆      ┆     ┆        ┆       ┆       ┆     ┆     ┆     ┆       ┆       │\n",
       "├╌╌╌╌╌┼╌╌╌╌╌┼╌╌╌╌╌┼╌╌╌╌╌╌╌╌┼╌╌╌╌╌╌┼╌╌╌╌╌┼╌╌╌╌╌╌╌╌┼╌╌╌╌╌╌╌┼╌╌╌╌╌╌╌┼╌╌╌╌╌┼╌╌╌╌╌┼╌╌╌╌╌┼╌╌╌╌╌╌╌┼╌╌╌╌╌╌╌┤\n",
       "│ 4   ┆ nul ┆ 355 ┆ 731031 ┆ 2810 ┆ 291 ┆ ALMADA ┆ 1976  ┆ null  ┆ 15  ┆ 3   ┆ 15  ┆ -9.15 ┆ 38.65 │\n",
       "│     ┆ l   ┆     ┆ 5      ┆      ┆     ┆        ┆       ┆       ┆     ┆     ┆     ┆       ┆       │\n",
       "├╌╌╌╌╌┼╌╌╌╌╌┼╌╌╌╌╌┼╌╌╌╌╌╌╌╌┼╌╌╌╌╌╌┼╌╌╌╌╌┼╌╌╌╌╌╌╌╌┼╌╌╌╌╌╌╌┼╌╌╌╌╌╌╌┼╌╌╌╌╌┼╌╌╌╌╌┼╌╌╌╌╌┼╌╌╌╌╌╌╌┼╌╌╌╌╌╌╌┤\n",
       "│ 5   ┆ nul ┆ 12  ┆ 211141 ┆ 5000 ┆ 650 ┆ VILA   ┆ 52333 ┆ null  ┆ 17  ┆ 14  ┆ 38  ┆ -7.74 ┆ 41.29 │\n",
       "│     ┆ l   ┆     ┆ 7      ┆      ┆     ┆ REAL   ┆       ┆       ┆     ┆     ┆     ┆       ┆       │\n",
       "├╌╌╌╌╌┼╌╌╌╌╌┼╌╌╌╌╌┼╌╌╌╌╌╌╌╌┼╌╌╌╌╌╌┼╌╌╌╌╌┼╌╌╌╌╌╌╌╌┼╌╌╌╌╌╌╌┼╌╌╌╌╌╌╌┼╌╌╌╌╌┼╌╌╌╌╌┼╌╌╌╌╌┼╌╌╌╌╌╌╌┼╌╌╌╌╌╌╌┤\n",
       "│ 6   ┆ nul ┆ 16  ┆ 211141 ┆ 5000 ┆ 650 ┆ VILA   ┆ 52333 ┆ null  ┆ 17  ┆ 14  ┆ 38  ┆ -7.74 ┆ 41.29 │\n",
       "│     ┆ l   ┆     ┆ 7      ┆      ┆     ┆ REAL   ┆       ┆       ┆     ┆     ┆     ┆       ┆       │\n",
       "├╌╌╌╌╌┼╌╌╌╌╌┼╌╌╌╌╌┼╌╌╌╌╌╌╌╌┼╌╌╌╌╌╌┼╌╌╌╌╌┼╌╌╌╌╌╌╌╌┼╌╌╌╌╌╌╌┼╌╌╌╌╌╌╌┼╌╌╌╌╌┼╌╌╌╌╌┼╌╌╌╌╌┼╌╌╌╌╌╌╌┼╌╌╌╌╌╌╌┤\n",
       "│ 7   ┆ nul ┆ 18  ┆ 211141 ┆ 5000 ┆ 650 ┆ VILA   ┆ 52333 ┆ null  ┆ 17  ┆ 14  ┆ 38  ┆ -7.74 ┆ 41.29 │\n",
       "│     ┆ l   ┆     ┆ 7      ┆      ┆     ┆ REAL   ┆       ┆       ┆     ┆     ┆     ┆       ┆       │\n",
       "└─────┴─────┴─────┴────────┴──────┴─────┴────────┴───────┴───────┴─────┴─────┴─────┴───────┴───────┘"
      ]
     },
     "execution_count": 51,
     "metadata": {},
     "output_type": "execute_result"
    }
   ],
   "source": [
    "df_portas.head()"
   ]
  },
  {
   "cell_type": "code",
   "execution_count": 52,
   "id": "03447b92",
   "metadata": {},
   "outputs": [
    {
     "data": {
      "text/plain": [
       "Schema([('ID_PORTA', Int64),\n",
       "        ('PORTA_TIPO', String),\n",
       "        ('PORTA_NUM', Int64),\n",
       "        ('ID_ARTERIA', Int64),\n",
       "        ('CP4', Int64),\n",
       "        ('CP3', Int64),\n",
       "        ('DESIGNACAO_POSTAL', String),\n",
       "        ('ID_LOCALIDADE', Int64),\n",
       "        ('ID_LOCAL', Int64),\n",
       "        ('DD', Int64),\n",
       "        ('CC', Int64),\n",
       "        ('FF', Int64),\n",
       "        ('LONG_PORTA', Float64),\n",
       "        ('LAT_PORTA', Float64)])"
      ]
     },
     "execution_count": 52,
     "metadata": {},
     "output_type": "execute_result"
    }
   ],
   "source": [
    "df_portas.schema\n"
   ]
  },
  {
   "cell_type": "code",
   "execution_count": 53,
   "id": "9ff4bf22",
   "metadata": {},
   "outputs": [
    {
     "data": {
      "text/html": [
       "<div><style>\n",
       ".dataframe > thead > tr,\n",
       ".dataframe > tbody > tr {\n",
       "  text-align: right;\n",
       "  white-space: pre-wrap;\n",
       "}\n",
       "</style>\n",
       "<small>shape: (13_203, 6)</small><table border=\"1\" class=\"dataframe\"><thead><tr><th>ID_ARTERIA</th><th>ID_PORTA</th><th>PORTA_NUM</th><th>LONG_PORTA</th><th>LAT_PORTA</th><th>CP4</th></tr><tr><td>i64</td><td>i64</td><td>i64</td><td>f64</td><td>f64</td><td>i64</td></tr></thead><tbody><tr><td>6231213</td><td>25102</td><td>352</td><td>-8.59</td><td>41.15</td><td>4000</td></tr><tr><td>6231213</td><td>25103</td><td>172</td><td>-8.59</td><td>41.15</td><td>4000</td></tr><tr><td>6881213</td><td>25109</td><td>549</td><td>-8.6</td><td>41.15</td><td>4000</td></tr><tr><td>7281213</td><td>25112</td><td>222</td><td>-8.59</td><td>41.15</td><td>4000</td></tr><tr><td>7281213</td><td>25113</td><td>102</td><td>-8.59</td><td>41.15</td><td>4000</td></tr><tr><td>&hellip;</td><td>&hellip;</td><td>&hellip;</td><td>&hellip;</td><td>&hellip;</td><td>&hellip;</td></tr><tr><td>7821213</td><td>7484709</td><td>191</td><td>-8.6</td><td>41.14</td><td>4000</td></tr><tr><td>7821213</td><td>7484710</td><td>61</td><td>-8.6</td><td>41.14</td><td>4000</td></tr><tr><td>1711213</td><td>7489866</td><td>10</td><td>-8.61</td><td>41.14</td><td>4000</td></tr><tr><td>1711213</td><td>7489867</td><td>16</td><td>-8.61</td><td>41.14</td><td>4000</td></tr><tr><td>1711213</td><td>7489868</td><td>18</td><td>-8.61</td><td>41.15</td><td>4000</td></tr></tbody></table></div>"
      ],
      "text/plain": [
       "shape: (13_203, 6)\n",
       "┌────────────┬──────────┬───────────┬────────────┬───────────┬──────┐\n",
       "│ ID_ARTERIA ┆ ID_PORTA ┆ PORTA_NUM ┆ LONG_PORTA ┆ LAT_PORTA ┆ CP4  │\n",
       "│ ---        ┆ ---      ┆ ---       ┆ ---        ┆ ---       ┆ ---  │\n",
       "│ i64        ┆ i64      ┆ i64       ┆ f64        ┆ f64       ┆ i64  │\n",
       "╞════════════╪══════════╪═══════════╪════════════╪═══════════╪══════╡\n",
       "│ 6231213    ┆ 25102    ┆ 352       ┆ -8.59      ┆ 41.15     ┆ 4000 │\n",
       "├╌╌╌╌╌╌╌╌╌╌╌╌┼╌╌╌╌╌╌╌╌╌╌┼╌╌╌╌╌╌╌╌╌╌╌┼╌╌╌╌╌╌╌╌╌╌╌╌┼╌╌╌╌╌╌╌╌╌╌╌┼╌╌╌╌╌╌┤\n",
       "│ 6231213    ┆ 25103    ┆ 172       ┆ -8.59      ┆ 41.15     ┆ 4000 │\n",
       "├╌╌╌╌╌╌╌╌╌╌╌╌┼╌╌╌╌╌╌╌╌╌╌┼╌╌╌╌╌╌╌╌╌╌╌┼╌╌╌╌╌╌╌╌╌╌╌╌┼╌╌╌╌╌╌╌╌╌╌╌┼╌╌╌╌╌╌┤\n",
       "│ 6881213    ┆ 25109    ┆ 549       ┆ -8.6       ┆ 41.15     ┆ 4000 │\n",
       "├╌╌╌╌╌╌╌╌╌╌╌╌┼╌╌╌╌╌╌╌╌╌╌┼╌╌╌╌╌╌╌╌╌╌╌┼╌╌╌╌╌╌╌╌╌╌╌╌┼╌╌╌╌╌╌╌╌╌╌╌┼╌╌╌╌╌╌┤\n",
       "│ 7281213    ┆ 25112    ┆ 222       ┆ -8.59      ┆ 41.15     ┆ 4000 │\n",
       "├╌╌╌╌╌╌╌╌╌╌╌╌┼╌╌╌╌╌╌╌╌╌╌┼╌╌╌╌╌╌╌╌╌╌╌┼╌╌╌╌╌╌╌╌╌╌╌╌┼╌╌╌╌╌╌╌╌╌╌╌┼╌╌╌╌╌╌┤\n",
       "│ 7281213    ┆ 25113    ┆ 102       ┆ -8.59      ┆ 41.15     ┆ 4000 │\n",
       "├╌╌╌╌╌╌╌╌╌╌╌╌┼╌╌╌╌╌╌╌╌╌╌┼╌╌╌╌╌╌╌╌╌╌╌┼╌╌╌╌╌╌╌╌╌╌╌╌┼╌╌╌╌╌╌╌╌╌╌╌┼╌╌╌╌╌╌┤\n",
       "│ …          ┆ …        ┆ …         ┆ …          ┆ …         ┆ …    │\n",
       "├╌╌╌╌╌╌╌╌╌╌╌╌┼╌╌╌╌╌╌╌╌╌╌┼╌╌╌╌╌╌╌╌╌╌╌┼╌╌╌╌╌╌╌╌╌╌╌╌┼╌╌╌╌╌╌╌╌╌╌╌┼╌╌╌╌╌╌┤\n",
       "│ 7821213    ┆ 7484709  ┆ 191       ┆ -8.6       ┆ 41.14     ┆ 4000 │\n",
       "├╌╌╌╌╌╌╌╌╌╌╌╌┼╌╌╌╌╌╌╌╌╌╌┼╌╌╌╌╌╌╌╌╌╌╌┼╌╌╌╌╌╌╌╌╌╌╌╌┼╌╌╌╌╌╌╌╌╌╌╌┼╌╌╌╌╌╌┤\n",
       "│ 7821213    ┆ 7484710  ┆ 61        ┆ -8.6       ┆ 41.14     ┆ 4000 │\n",
       "├╌╌╌╌╌╌╌╌╌╌╌╌┼╌╌╌╌╌╌╌╌╌╌┼╌╌╌╌╌╌╌╌╌╌╌┼╌╌╌╌╌╌╌╌╌╌╌╌┼╌╌╌╌╌╌╌╌╌╌╌┼╌╌╌╌╌╌┤\n",
       "│ 1711213    ┆ 7489866  ┆ 10        ┆ -8.61      ┆ 41.14     ┆ 4000 │\n",
       "├╌╌╌╌╌╌╌╌╌╌╌╌┼╌╌╌╌╌╌╌╌╌╌┼╌╌╌╌╌╌╌╌╌╌╌┼╌╌╌╌╌╌╌╌╌╌╌╌┼╌╌╌╌╌╌╌╌╌╌╌┼╌╌╌╌╌╌┤\n",
       "│ 1711213    ┆ 7489867  ┆ 16        ┆ -8.61      ┆ 41.14     ┆ 4000 │\n",
       "├╌╌╌╌╌╌╌╌╌╌╌╌┼╌╌╌╌╌╌╌╌╌╌┼╌╌╌╌╌╌╌╌╌╌╌┼╌╌╌╌╌╌╌╌╌╌╌╌┼╌╌╌╌╌╌╌╌╌╌╌┼╌╌╌╌╌╌┤\n",
       "│ 1711213    ┆ 7489868  ┆ 18        ┆ -8.61      ┆ 41.15     ┆ 4000 │\n",
       "└────────────┴──────────┴───────────┴────────────┴───────────┴──────┘"
      ]
     },
     "execution_count": 53,
     "metadata": {},
     "output_type": "execute_result"
    }
   ],
   "source": [
    "# ==========================\n",
    "# 1. Seleção de colunas úteis\n",
    "# ==========================\n",
    "cols_uteis = [\n",
    "   \"ID_ARTERIA\", \"ID_PORTA\",\"PORTA_NUM\",\"LONG_PORTA\", \"LAT_PORTA\", \"CP4\"\n",
    "]\n",
    "df_portas_f = df_portas.select(cols_uteis)\n",
    "\n",
    "# ==========================\n",
    "# 2. Filtragem por CP4 = 4000\n",
    "# ==========================\n",
    "df_portas_f = df_portas_f.filter(pl.col(\"CP4\") == 4000)\n",
    "\n",
    "# ==========================\n",
    "# 3. Visualização\n",
    "# ==========================\n",
    "df_portas_f\n"
   ]
  },
  {
   "cell_type": "markdown",
   "id": "eb756ee5",
   "metadata": {},
   "source": [
    "# Artérias (Designação)"
   ]
  },
  {
   "cell_type": "code",
   "execution_count": 54,
   "id": "09a3b1fc",
   "metadata": {},
   "outputs": [],
   "source": [
    "with open(r8, \"rb\") as f: linhas = f.read().decode(\"utf-8\", errors=\"ignore\")\n",
    "df_locart = pl.read_csv(StringIO(linhas), separator=\";\", ignore_errors=True, decimal_comma=True)\n"
   ]
  },
  {
   "cell_type": "code",
   "execution_count": 55,
   "id": "35e4ea1a",
   "metadata": {},
   "outputs": [
    {
     "data": {
      "text/html": [
       "<div><style>\n",
       ".dataframe > thead > tr,\n",
       ".dataframe > tbody > tr {\n",
       "  text-align: right;\n",
       "  white-space: pre-wrap;\n",
       "}\n",
       "</style>\n",
       "<small>shape: (5, 9)</small><table border=\"1\" class=\"dataframe\"><thead><tr><th>LOCALIDADE</th><th>ART_COD</th><th>ART_TIPO</th><th>ART_TITULO</th><th>ART_DESIG</th><th>ART_LOCAL</th><th>CP4</th><th>CP3</th><th>CPALF</th></tr><tr><td>str</td><td>i64</td><td>str</td><td>str</td><td>str</td><td>str</td><td>i64</td><td>i64</td><td>str</td></tr></thead><tbody><tr><td>&quot;Porto&quot;</td><td>61213</td><td>&quot;Rua&quot;</td><td>null</td><td>&quot;Abraos&quot;</td><td>null</td><td>4000</td><td>12</td><td>&quot;PORTO&quot;</td></tr><tr><td>&quot;Porto&quot;</td><td>61213</td><td>&quot;Rua&quot;</td><td>null</td><td>&quot;Abraos&quot;</td><td>null</td><td>4000</td><td>11</td><td>&quot;PORTO&quot;</td></tr><tr><td>&quot;Porto&quot;</td><td>451213</td><td>&quot;Travessa&quot;</td><td>null</td><td>&quot;guas&quot;</td><td>null</td><td>4000</td><td>20</td><td>&quot;PORTO&quot;</td></tr><tr><td>&quot;Porto&quot;</td><td>451213</td><td>&quot;Travessa&quot;</td><td>null</td><td>&quot;guas&quot;</td><td>null</td><td>4000</td><td>19</td><td>&quot;PORTO&quot;</td></tr><tr><td>&quot;Porto&quot;</td><td>521213</td><td>&quot;Rua&quot;</td><td>null</td><td>&quot;Aires de Ornelas&quot;</td><td>null</td><td>4000</td><td>23</td><td>&quot;PORTO&quot;</td></tr></tbody></table></div>"
      ],
      "text/plain": [
       "shape: (5, 9)\n",
       "┌────────────┬─────────┬──────────┬────────────┬──────────────────┬───────────┬──────┬─────┬───────┐\n",
       "│ LOCALIDADE ┆ ART_COD ┆ ART_TIPO ┆ ART_TITULO ┆ ART_DESIG        ┆ ART_LOCAL ┆ CP4  ┆ CP3 ┆ CPALF │\n",
       "│ ---        ┆ ---     ┆ ---      ┆ ---        ┆ ---              ┆ ---       ┆ ---  ┆ --- ┆ ---   │\n",
       "│ str        ┆ i64     ┆ str      ┆ str        ┆ str              ┆ str       ┆ i64  ┆ i64 ┆ str   │\n",
       "╞════════════╪═════════╪══════════╪════════════╪══════════════════╪═══════════╪══════╪═════╪═══════╡\n",
       "│ Porto      ┆ 61213   ┆ Rua      ┆ null       ┆ Abraos           ┆ null      ┆ 4000 ┆ 12  ┆ PORTO │\n",
       "├╌╌╌╌╌╌╌╌╌╌╌╌┼╌╌╌╌╌╌╌╌╌┼╌╌╌╌╌╌╌╌╌╌┼╌╌╌╌╌╌╌╌╌╌╌╌┼╌╌╌╌╌╌╌╌╌╌╌╌╌╌╌╌╌╌┼╌╌╌╌╌╌╌╌╌╌╌┼╌╌╌╌╌╌┼╌╌╌╌╌┼╌╌╌╌╌╌╌┤\n",
       "│ Porto      ┆ 61213   ┆ Rua      ┆ null       ┆ Abraos           ┆ null      ┆ 4000 ┆ 11  ┆ PORTO │\n",
       "├╌╌╌╌╌╌╌╌╌╌╌╌┼╌╌╌╌╌╌╌╌╌┼╌╌╌╌╌╌╌╌╌╌┼╌╌╌╌╌╌╌╌╌╌╌╌┼╌╌╌╌╌╌╌╌╌╌╌╌╌╌╌╌╌╌┼╌╌╌╌╌╌╌╌╌╌╌┼╌╌╌╌╌╌┼╌╌╌╌╌┼╌╌╌╌╌╌╌┤\n",
       "│ Porto      ┆ 451213  ┆ Travessa ┆ null       ┆ guas             ┆ null      ┆ 4000 ┆ 20  ┆ PORTO │\n",
       "├╌╌╌╌╌╌╌╌╌╌╌╌┼╌╌╌╌╌╌╌╌╌┼╌╌╌╌╌╌╌╌╌╌┼╌╌╌╌╌╌╌╌╌╌╌╌┼╌╌╌╌╌╌╌╌╌╌╌╌╌╌╌╌╌╌┼╌╌╌╌╌╌╌╌╌╌╌┼╌╌╌╌╌╌┼╌╌╌╌╌┼╌╌╌╌╌╌╌┤\n",
       "│ Porto      ┆ 451213  ┆ Travessa ┆ null       ┆ guas             ┆ null      ┆ 4000 ┆ 19  ┆ PORTO │\n",
       "├╌╌╌╌╌╌╌╌╌╌╌╌┼╌╌╌╌╌╌╌╌╌┼╌╌╌╌╌╌╌╌╌╌┼╌╌╌╌╌╌╌╌╌╌╌╌┼╌╌╌╌╌╌╌╌╌╌╌╌╌╌╌╌╌╌┼╌╌╌╌╌╌╌╌╌╌╌┼╌╌╌╌╌╌┼╌╌╌╌╌┼╌╌╌╌╌╌╌┤\n",
       "│ Porto      ┆ 521213  ┆ Rua      ┆ null       ┆ Aires de Ornelas ┆ null      ┆ 4000 ┆ 23  ┆ PORTO │\n",
       "└────────────┴─────────┴──────────┴────────────┴──────────────────┴───────────┴──────┴─────┴───────┘"
      ]
     },
     "execution_count": 55,
     "metadata": {},
     "output_type": "execute_result"
    }
   ],
   "source": [
    "# ==========================\n",
    "# 1. Seleção de colunas úteis\n",
    "# ==========================\n",
    "cols_uteis = [\n",
    "    \"LOCALIDADE\", \"ART_COD\", \"ART_TIPO\",\n",
    "    \"ART_TITULO\", \"ART_DESIG\", \"ART_LOCAL\",\n",
    "    \"CP4\", \"CP3\", \"CPALF\"\n",
    "]\n",
    "df_locart_filtrado = df_locart.select(cols_uteis)\n",
    "\n",
    "# ==========================\n",
    "# 2. Filtragem por CP4 = 4000\n",
    "# ==========================\n",
    "df_locart_filtrado_f = df_locart_filtrado.filter(pl.col(\"CP4\") == 4000)\n",
    "\n",
    "# ==========================\n",
    "# 3. Visualização\n",
    "# ==========================\n",
    "df_locart_filtrado_f.head()\n"
   ]
  },
  {
   "cell_type": "markdown",
   "id": "dda8f741",
   "metadata": {},
   "source": [
    "# Porta Alternativas"
   ]
  },
  {
   "cell_type": "code",
   "execution_count": 56,
   "id": "cd6d0f9e",
   "metadata": {},
   "outputs": [
    {
     "name": "stderr",
     "output_type": "stream",
     "text": [
      "C:\\Users\\1420844\\AppData\\Local\\Temp\\ipykernel_6000\\4145517808.py:29: DataOrientationWarning: Row orientation inferred during DataFrame construction. Explicitly specify the orientation by passing `orient=\"row\"` to silence this warning.\n",
      "  df_PORTA_ALTERNATIVA = pl.DataFrame(dados, schema=header)\n"
     ]
    },
    {
     "data": {
      "text/html": [
       "<div><style>\n",
       ".dataframe > thead > tr,\n",
       ".dataframe > tbody > tr {\n",
       "  text-align: right;\n",
       "  white-space: pre-wrap;\n",
       "}\n",
       "</style>\n",
       "<small>shape: (230_411, 4)</small><table border=\"1\" class=\"dataframe\"><thead><tr><th>ID_PORTA</th><th>PORTA_TIPO</th><th>PORTA_NUM</th><th>PORTA_SUFIXO</th></tr><tr><td>i64</td><td>str</td><td>f64</td><td>str</td></tr></thead><tbody><tr><td>134</td><td>&quot;Lote&quot;</td><td>23.0</td><td>null</td></tr><tr><td>135</td><td>&quot;Lote&quot;</td><td>24.0</td><td>null</td></tr><tr><td>136</td><td>&quot;Lote&quot;</td><td>25.0</td><td>null</td></tr><tr><td>137</td><td>&quot;Lote&quot;</td><td>26.0</td><td>null</td></tr><tr><td>138</td><td>&quot;Lote&quot;</td><td>27.0</td><td>null</td></tr><tr><td>&hellip;</td><td>&hellip;</td><td>&hellip;</td><td>&hellip;</td></tr><tr><td>7492754</td><td>&quot;Edifcio&quot;</td><td>null</td><td>&quot;Cidadania Caboz Gonalves&quot;</td></tr><tr><td>7493063</td><td>&quot;Lote&quot;</td><td>410.0</td><td>null</td></tr><tr><td>7493132</td><td>&quot;Lote&quot;</td><td>2.0</td><td>null</td></tr><tr><td>7493133</td><td>&quot;Lote&quot;</td><td>3.0</td><td>null</td></tr><tr><td>7493218</td><td>&quot;Casa&quot;</td><td>null</td><td>&quot;Portal-De-Lamas&quot;</td></tr></tbody></table></div>"
      ],
      "text/plain": [
       "shape: (230_411, 4)\n",
       "┌──────────┬────────────┬───────────┬──────────────────────────┐\n",
       "│ ID_PORTA ┆ PORTA_TIPO ┆ PORTA_NUM ┆ PORTA_SUFIXO             │\n",
       "│ ---      ┆ ---        ┆ ---       ┆ ---                      │\n",
       "│ i64      ┆ str        ┆ f64       ┆ str                      │\n",
       "╞══════════╪════════════╪═══════════╪══════════════════════════╡\n",
       "│ 134      ┆ Lote       ┆ 23.0      ┆ null                     │\n",
       "├╌╌╌╌╌╌╌╌╌╌┼╌╌╌╌╌╌╌╌╌╌╌╌┼╌╌╌╌╌╌╌╌╌╌╌┼╌╌╌╌╌╌╌╌╌╌╌╌╌╌╌╌╌╌╌╌╌╌╌╌╌╌┤\n",
       "│ 135      ┆ Lote       ┆ 24.0      ┆ null                     │\n",
       "├╌╌╌╌╌╌╌╌╌╌┼╌╌╌╌╌╌╌╌╌╌╌╌┼╌╌╌╌╌╌╌╌╌╌╌┼╌╌╌╌╌╌╌╌╌╌╌╌╌╌╌╌╌╌╌╌╌╌╌╌╌╌┤\n",
       "│ 136      ┆ Lote       ┆ 25.0      ┆ null                     │\n",
       "├╌╌╌╌╌╌╌╌╌╌┼╌╌╌╌╌╌╌╌╌╌╌╌┼╌╌╌╌╌╌╌╌╌╌╌┼╌╌╌╌╌╌╌╌╌╌╌╌╌╌╌╌╌╌╌╌╌╌╌╌╌╌┤\n",
       "│ 137      ┆ Lote       ┆ 26.0      ┆ null                     │\n",
       "├╌╌╌╌╌╌╌╌╌╌┼╌╌╌╌╌╌╌╌╌╌╌╌┼╌╌╌╌╌╌╌╌╌╌╌┼╌╌╌╌╌╌╌╌╌╌╌╌╌╌╌╌╌╌╌╌╌╌╌╌╌╌┤\n",
       "│ 138      ┆ Lote       ┆ 27.0      ┆ null                     │\n",
       "├╌╌╌╌╌╌╌╌╌╌┼╌╌╌╌╌╌╌╌╌╌╌╌┼╌╌╌╌╌╌╌╌╌╌╌┼╌╌╌╌╌╌╌╌╌╌╌╌╌╌╌╌╌╌╌╌╌╌╌╌╌╌┤\n",
       "│ …        ┆ …          ┆ …         ┆ …                        │\n",
       "├╌╌╌╌╌╌╌╌╌╌┼╌╌╌╌╌╌╌╌╌╌╌╌┼╌╌╌╌╌╌╌╌╌╌╌┼╌╌╌╌╌╌╌╌╌╌╌╌╌╌╌╌╌╌╌╌╌╌╌╌╌╌┤\n",
       "│ 7492754  ┆ Edifcio    ┆ null      ┆ Cidadania Caboz Gonalves │\n",
       "├╌╌╌╌╌╌╌╌╌╌┼╌╌╌╌╌╌╌╌╌╌╌╌┼╌╌╌╌╌╌╌╌╌╌╌┼╌╌╌╌╌╌╌╌╌╌╌╌╌╌╌╌╌╌╌╌╌╌╌╌╌╌┤\n",
       "│ 7493063  ┆ Lote       ┆ 410.0     ┆ null                     │\n",
       "├╌╌╌╌╌╌╌╌╌╌┼╌╌╌╌╌╌╌╌╌╌╌╌┼╌╌╌╌╌╌╌╌╌╌╌┼╌╌╌╌╌╌╌╌╌╌╌╌╌╌╌╌╌╌╌╌╌╌╌╌╌╌┤\n",
       "│ 7493132  ┆ Lote       ┆ 2.0       ┆ null                     │\n",
       "├╌╌╌╌╌╌╌╌╌╌┼╌╌╌╌╌╌╌╌╌╌╌╌┼╌╌╌╌╌╌╌╌╌╌╌┼╌╌╌╌╌╌╌╌╌╌╌╌╌╌╌╌╌╌╌╌╌╌╌╌╌╌┤\n",
       "│ 7493133  ┆ Lote       ┆ 3.0       ┆ null                     │\n",
       "├╌╌╌╌╌╌╌╌╌╌┼╌╌╌╌╌╌╌╌╌╌╌╌┼╌╌╌╌╌╌╌╌╌╌╌┼╌╌╌╌╌╌╌╌╌╌╌╌╌╌╌╌╌╌╌╌╌╌╌╌╌╌┤\n",
       "│ 7493218  ┆ Casa       ┆ null      ┆ Portal-De-Lamas          │\n",
       "└──────────┴────────────┴───────────┴──────────────────────────┘"
      ]
     },
     "execution_count": 56,
     "metadata": {},
     "output_type": "execute_result"
    }
   ],
   "source": [
    "# ==========================\n",
    "# 1. Ler ficheiro e separar manualmente\n",
    "# ==========================\n",
    "import polars as pl\n",
    "\n",
    "with open(r10, \"r\", encoding=\"utf-8\", errors=\"ignore\") as f:\n",
    "    linhas = [l.strip() for l in f if l.strip()]\n",
    "\n",
    "# header na primeira linha\n",
    "header = linhas[0].split(\";\")\n",
    "\n",
    "# processar restantes linhas\n",
    "dados = []\n",
    "for linha in linhas[1:]:\n",
    "    partes = linha.split(\";\")\n",
    "    # garantir que tem o mesmo nº de colunas\n",
    "    while len(partes) < len(header):\n",
    "        partes.append(\"\")\n",
    "    # transformar \"\" em None\n",
    "    partes = [p if p != \"\" else None for p in partes]\n",
    "    # substituir vírgula decimal\n",
    "    partes[0] = int(float(partes[0].replace(\",\", \".\"))) if partes[0] else None  # inteiro\n",
    "    partes[2] = float(partes[2].replace(\",\", \".\")) if partes[2] else None       # decimal\n",
    "    dados.append(partes)\n",
    "\n",
    "# ==========================\n",
    "# 2. Criar DataFrame Polars\n",
    "# ==========================\n",
    "df_PORTA_ALTERNATIVA = pl.DataFrame(dados, schema=header)\n",
    "\n",
    "df_PORTA_ALTERNATIVA\n"
   ]
  },
  {
   "cell_type": "markdown",
   "id": "08628849",
   "metadata": {},
   "source": [
    "# Artéria Alternativa"
   ]
  },
  {
   "cell_type": "code",
   "execution_count": 57,
   "id": "9cb6b069",
   "metadata": {},
   "outputs": [],
   "source": [
    "\n",
    "with open(r1, \"rb\") as f: linhas = f.read().decode(\"utf-8\", errors=\"ignore\")\n",
    "df_arteria_alternativa = pl.read_csv(StringIO(linhas), separator=\";\", ignore_errors=True, decimal_comma=True)\n",
    "\n",
    "df_arteria_alternativa = df_portas.with_columns([\n",
    "    df_portas[col].cast(pl.Int64)\n",
    "    for col in df_portas.columns\n",
    "    if col not in (\"LONG_PORTA\", \"LAT_PORTA\") and df_portas[col].dtype == pl.Float64\n",
    "])"
   ]
  },
  {
   "cell_type": "code",
   "execution_count": 58,
   "id": "d921c067",
   "metadata": {},
   "outputs": [
    {
     "data": {
      "text/html": [
       "<div><style>\n",
       ".dataframe > thead > tr,\n",
       ".dataframe > tbody > tr {\n",
       "  text-align: right;\n",
       "  white-space: pre-wrap;\n",
       "}\n",
       "</style>\n",
       "<small>shape: (4_608_117, 14)</small><table border=\"1\" class=\"dataframe\"><thead><tr><th>ID_PORTA</th><th>PORTA_TIPO</th><th>PORTA_NUM</th><th>ID_ARTERIA</th><th>CP4</th><th>CP3</th><th>DESIGNACAO_POSTAL</th><th>ID_LOCALIDADE</th><th>ID_LOCAL</th><th>DD</th><th>CC</th><th>FF</th><th>LONG_PORTA</th><th>LAT_PORTA</th></tr><tr><td>i64</td><td>str</td><td>i64</td><td>i64</td><td>i64</td><td>i64</td><td>str</td><td>i64</td><td>i64</td><td>i64</td><td>i64</td><td>i64</td><td>f64</td><td>f64</td></tr></thead><tbody><tr><td>3</td><td>null</td><td>353</td><td>7310315</td><td>2810</td><td>291</td><td>&quot;ALMADA&quot;</td><td>1976</td><td>null</td><td>15</td><td>3</td><td>15</td><td>-9.15</td><td>38.65</td></tr><tr><td>4</td><td>null</td><td>355</td><td>7310315</td><td>2810</td><td>291</td><td>&quot;ALMADA&quot;</td><td>1976</td><td>null</td><td>15</td><td>3</td><td>15</td><td>-9.15</td><td>38.65</td></tr><tr><td>5</td><td>null</td><td>12</td><td>2111417</td><td>5000</td><td>650</td><td>&quot;VILA REAL&quot;</td><td>52333</td><td>null</td><td>17</td><td>14</td><td>38</td><td>-7.74</td><td>41.29</td></tr><tr><td>6</td><td>null</td><td>16</td><td>2111417</td><td>5000</td><td>650</td><td>&quot;VILA REAL&quot;</td><td>52333</td><td>null</td><td>17</td><td>14</td><td>38</td><td>-7.74</td><td>41.29</td></tr><tr><td>7</td><td>null</td><td>18</td><td>2111417</td><td>5000</td><td>650</td><td>&quot;VILA REAL&quot;</td><td>52333</td><td>null</td><td>17</td><td>14</td><td>38</td><td>-7.74</td><td>41.29</td></tr><tr><td>&hellip;</td><td>&hellip;</td><td>&hellip;</td><td>&hellip;</td><td>&hellip;</td><td>&hellip;</td><td>&hellip;</td><td>&hellip;</td><td>&hellip;</td><td>&hellip;</td><td>&hellip;</td><td>&hellip;</td><td>&hellip;</td><td>&hellip;</td></tr><tr><td>7493403</td><td>null</td><td>58</td><td>114875100</td><td>4860</td><td>410</td><td>&quot;CABECEIRAS DE BASTO&quot;</td><td>69525</td><td>null</td><td>3</td><td>4</td><td>21</td><td>-7.97</td><td>41.5</td></tr><tr><td>7493404</td><td>null</td><td>25</td><td>114822100</td><td>4860</td><td>325</td><td>&quot;CABECEIRAS DE BASTO&quot;</td><td>69520</td><td>null</td><td>3</td><td>4</td><td>21</td><td>-8.01</td><td>41.5</td></tr><tr><td>7493405</td><td>null</td><td>46</td><td>114822100</td><td>4860</td><td>325</td><td>&quot;CABECEIRAS DE BASTO&quot;</td><td>69520</td><td>null</td><td>3</td><td>4</td><td>21</td><td>-8.01</td><td>41.5</td></tr><tr><td>7493406</td><td>null</td><td>230</td><td>13790100</td><td>4860</td><td>127</td><td>&quot;CABECEIRAS DE BASTO&quot;</td><td>10577</td><td>null</td><td>3</td><td>4</td><td>21</td><td>-7.99</td><td>41.52</td></tr><tr><td>7493407</td><td>null</td><td>62</td><td>107941100</td><td>4550</td><td>12</td><td>&quot;BAIRROS&quot;</td><td>12380</td><td>41392</td><td>1</td><td>6</td><td>11</td><td>-8.25</td><td>41.04</td></tr></tbody></table></div>"
      ],
      "text/plain": [
       "shape: (4_608_117, 14)\n",
       "┌─────┬─────┬─────┬────────┬──────┬─────┬────────┬───────┬───────┬─────┬─────┬─────┬───────┬───────┐\n",
       "│ ID_ ┆ POR ┆ POR ┆ ID_ART ┆ CP4  ┆ CP3 ┆ DESIGN ┆ ID_LO ┆ ID_LO ┆ DD  ┆ CC  ┆ FF  ┆ LONG_ ┆ LAT_P │\n",
       "│ POR ┆ TA_ ┆ TA_ ┆ ERIA   ┆ ---  ┆ --- ┆ ACAO_P ┆ CALID ┆ CAL   ┆ --- ┆ --- ┆ --- ┆ PORTA ┆ ORTA  │\n",
       "│ TA  ┆ TIP ┆ NUM ┆ ---    ┆ i64  ┆ i64 ┆ OSTAL  ┆ ADE   ┆ ---   ┆ i64 ┆ i64 ┆ i64 ┆ ---   ┆ ---   │\n",
       "│ --- ┆ O   ┆ --- ┆ i64    ┆      ┆     ┆ ---    ┆ ---   ┆ i64   ┆     ┆     ┆     ┆ f64   ┆ f64   │\n",
       "│ i64 ┆ --- ┆ i64 ┆        ┆      ┆     ┆ str    ┆ i64   ┆       ┆     ┆     ┆     ┆       ┆       │\n",
       "│     ┆ str ┆     ┆        ┆      ┆     ┆        ┆       ┆       ┆     ┆     ┆     ┆       ┆       │\n",
       "╞═════╪═════╪═════╪════════╪══════╪═════╪════════╪═══════╪═══════╪═════╪═════╪═════╪═══════╪═══════╡\n",
       "│ 3   ┆ nul ┆ 353 ┆ 731031 ┆ 2810 ┆ 291 ┆ ALMADA ┆ 1976  ┆ null  ┆ 15  ┆ 3   ┆ 15  ┆ -9.15 ┆ 38.65 │\n",
       "│     ┆ l   ┆     ┆ 5      ┆      ┆     ┆        ┆       ┆       ┆     ┆     ┆     ┆       ┆       │\n",
       "├╌╌╌╌╌┼╌╌╌╌╌┼╌╌╌╌╌┼╌╌╌╌╌╌╌╌┼╌╌╌╌╌╌┼╌╌╌╌╌┼╌╌╌╌╌╌╌╌┼╌╌╌╌╌╌╌┼╌╌╌╌╌╌╌┼╌╌╌╌╌┼╌╌╌╌╌┼╌╌╌╌╌┼╌╌╌╌╌╌╌┼╌╌╌╌╌╌╌┤\n",
       "│ 4   ┆ nul ┆ 355 ┆ 731031 ┆ 2810 ┆ 291 ┆ ALMADA ┆ 1976  ┆ null  ┆ 15  ┆ 3   ┆ 15  ┆ -9.15 ┆ 38.65 │\n",
       "│     ┆ l   ┆     ┆ 5      ┆      ┆     ┆        ┆       ┆       ┆     ┆     ┆     ┆       ┆       │\n",
       "├╌╌╌╌╌┼╌╌╌╌╌┼╌╌╌╌╌┼╌╌╌╌╌╌╌╌┼╌╌╌╌╌╌┼╌╌╌╌╌┼╌╌╌╌╌╌╌╌┼╌╌╌╌╌╌╌┼╌╌╌╌╌╌╌┼╌╌╌╌╌┼╌╌╌╌╌┼╌╌╌╌╌┼╌╌╌╌╌╌╌┼╌╌╌╌╌╌╌┤\n",
       "│ 5   ┆ nul ┆ 12  ┆ 211141 ┆ 5000 ┆ 650 ┆ VILA   ┆ 52333 ┆ null  ┆ 17  ┆ 14  ┆ 38  ┆ -7.74 ┆ 41.29 │\n",
       "│     ┆ l   ┆     ┆ 7      ┆      ┆     ┆ REAL   ┆       ┆       ┆     ┆     ┆     ┆       ┆       │\n",
       "├╌╌╌╌╌┼╌╌╌╌╌┼╌╌╌╌╌┼╌╌╌╌╌╌╌╌┼╌╌╌╌╌╌┼╌╌╌╌╌┼╌╌╌╌╌╌╌╌┼╌╌╌╌╌╌╌┼╌╌╌╌╌╌╌┼╌╌╌╌╌┼╌╌╌╌╌┼╌╌╌╌╌┼╌╌╌╌╌╌╌┼╌╌╌╌╌╌╌┤\n",
       "│ 6   ┆ nul ┆ 16  ┆ 211141 ┆ 5000 ┆ 650 ┆ VILA   ┆ 52333 ┆ null  ┆ 17  ┆ 14  ┆ 38  ┆ -7.74 ┆ 41.29 │\n",
       "│     ┆ l   ┆     ┆ 7      ┆      ┆     ┆ REAL   ┆       ┆       ┆     ┆     ┆     ┆       ┆       │\n",
       "├╌╌╌╌╌┼╌╌╌╌╌┼╌╌╌╌╌┼╌╌╌╌╌╌╌╌┼╌╌╌╌╌╌┼╌╌╌╌╌┼╌╌╌╌╌╌╌╌┼╌╌╌╌╌╌╌┼╌╌╌╌╌╌╌┼╌╌╌╌╌┼╌╌╌╌╌┼╌╌╌╌╌┼╌╌╌╌╌╌╌┼╌╌╌╌╌╌╌┤\n",
       "│ 7   ┆ nul ┆ 18  ┆ 211141 ┆ 5000 ┆ 650 ┆ VILA   ┆ 52333 ┆ null  ┆ 17  ┆ 14  ┆ 38  ┆ -7.74 ┆ 41.29 │\n",
       "│     ┆ l   ┆     ┆ 7      ┆      ┆     ┆ REAL   ┆       ┆       ┆     ┆     ┆     ┆       ┆       │\n",
       "├╌╌╌╌╌┼╌╌╌╌╌┼╌╌╌╌╌┼╌╌╌╌╌╌╌╌┼╌╌╌╌╌╌┼╌╌╌╌╌┼╌╌╌╌╌╌╌╌┼╌╌╌╌╌╌╌┼╌╌╌╌╌╌╌┼╌╌╌╌╌┼╌╌╌╌╌┼╌╌╌╌╌┼╌╌╌╌╌╌╌┼╌╌╌╌╌╌╌┤\n",
       "│ …   ┆ …   ┆ …   ┆ …      ┆ …    ┆ …   ┆ …      ┆ …     ┆ …     ┆ …   ┆ …   ┆ …   ┆ …     ┆ …     │\n",
       "├╌╌╌╌╌┼╌╌╌╌╌┼╌╌╌╌╌┼╌╌╌╌╌╌╌╌┼╌╌╌╌╌╌┼╌╌╌╌╌┼╌╌╌╌╌╌╌╌┼╌╌╌╌╌╌╌┼╌╌╌╌╌╌╌┼╌╌╌╌╌┼╌╌╌╌╌┼╌╌╌╌╌┼╌╌╌╌╌╌╌┼╌╌╌╌╌╌╌┤\n",
       "│ 749 ┆ nul ┆ 58  ┆ 114875 ┆ 4860 ┆ 410 ┆ CABECE ┆ 69525 ┆ null  ┆ 3   ┆ 4   ┆ 21  ┆ -7.97 ┆ 41.5  │\n",
       "│ 340 ┆ l   ┆     ┆ 100    ┆      ┆     ┆ IRAS   ┆       ┆       ┆     ┆     ┆     ┆       ┆       │\n",
       "│ 3   ┆     ┆     ┆        ┆      ┆     ┆ DE     ┆       ┆       ┆     ┆     ┆     ┆       ┆       │\n",
       "│     ┆     ┆     ┆        ┆      ┆     ┆ BASTO  ┆       ┆       ┆     ┆     ┆     ┆       ┆       │\n",
       "├╌╌╌╌╌┼╌╌╌╌╌┼╌╌╌╌╌┼╌╌╌╌╌╌╌╌┼╌╌╌╌╌╌┼╌╌╌╌╌┼╌╌╌╌╌╌╌╌┼╌╌╌╌╌╌╌┼╌╌╌╌╌╌╌┼╌╌╌╌╌┼╌╌╌╌╌┼╌╌╌╌╌┼╌╌╌╌╌╌╌┼╌╌╌╌╌╌╌┤\n",
       "│ 749 ┆ nul ┆ 25  ┆ 114822 ┆ 4860 ┆ 325 ┆ CABECE ┆ 69520 ┆ null  ┆ 3   ┆ 4   ┆ 21  ┆ -8.01 ┆ 41.5  │\n",
       "│ 340 ┆ l   ┆     ┆ 100    ┆      ┆     ┆ IRAS   ┆       ┆       ┆     ┆     ┆     ┆       ┆       │\n",
       "│ 4   ┆     ┆     ┆        ┆      ┆     ┆ DE     ┆       ┆       ┆     ┆     ┆     ┆       ┆       │\n",
       "│     ┆     ┆     ┆        ┆      ┆     ┆ BASTO  ┆       ┆       ┆     ┆     ┆     ┆       ┆       │\n",
       "├╌╌╌╌╌┼╌╌╌╌╌┼╌╌╌╌╌┼╌╌╌╌╌╌╌╌┼╌╌╌╌╌╌┼╌╌╌╌╌┼╌╌╌╌╌╌╌╌┼╌╌╌╌╌╌╌┼╌╌╌╌╌╌╌┼╌╌╌╌╌┼╌╌╌╌╌┼╌╌╌╌╌┼╌╌╌╌╌╌╌┼╌╌╌╌╌╌╌┤\n",
       "│ 749 ┆ nul ┆ 46  ┆ 114822 ┆ 4860 ┆ 325 ┆ CABECE ┆ 69520 ┆ null  ┆ 3   ┆ 4   ┆ 21  ┆ -8.01 ┆ 41.5  │\n",
       "│ 340 ┆ l   ┆     ┆ 100    ┆      ┆     ┆ IRAS   ┆       ┆       ┆     ┆     ┆     ┆       ┆       │\n",
       "│ 5   ┆     ┆     ┆        ┆      ┆     ┆ DE     ┆       ┆       ┆     ┆     ┆     ┆       ┆       │\n",
       "│     ┆     ┆     ┆        ┆      ┆     ┆ BASTO  ┆       ┆       ┆     ┆     ┆     ┆       ┆       │\n",
       "├╌╌╌╌╌┼╌╌╌╌╌┼╌╌╌╌╌┼╌╌╌╌╌╌╌╌┼╌╌╌╌╌╌┼╌╌╌╌╌┼╌╌╌╌╌╌╌╌┼╌╌╌╌╌╌╌┼╌╌╌╌╌╌╌┼╌╌╌╌╌┼╌╌╌╌╌┼╌╌╌╌╌┼╌╌╌╌╌╌╌┼╌╌╌╌╌╌╌┤\n",
       "│ 749 ┆ nul ┆ 230 ┆ 137901 ┆ 4860 ┆ 127 ┆ CABECE ┆ 10577 ┆ null  ┆ 3   ┆ 4   ┆ 21  ┆ -7.99 ┆ 41.52 │\n",
       "│ 340 ┆ l   ┆     ┆ 00     ┆      ┆     ┆ IRAS   ┆       ┆       ┆     ┆     ┆     ┆       ┆       │\n",
       "│ 6   ┆     ┆     ┆        ┆      ┆     ┆ DE     ┆       ┆       ┆     ┆     ┆     ┆       ┆       │\n",
       "│     ┆     ┆     ┆        ┆      ┆     ┆ BASTO  ┆       ┆       ┆     ┆     ┆     ┆       ┆       │\n",
       "├╌╌╌╌╌┼╌╌╌╌╌┼╌╌╌╌╌┼╌╌╌╌╌╌╌╌┼╌╌╌╌╌╌┼╌╌╌╌╌┼╌╌╌╌╌╌╌╌┼╌╌╌╌╌╌╌┼╌╌╌╌╌╌╌┼╌╌╌╌╌┼╌╌╌╌╌┼╌╌╌╌╌┼╌╌╌╌╌╌╌┼╌╌╌╌╌╌╌┤\n",
       "│ 749 ┆ nul ┆ 62  ┆ 107941 ┆ 4550 ┆ 12  ┆ BAIRRO ┆ 12380 ┆ 41392 ┆ 1   ┆ 6   ┆ 11  ┆ -8.25 ┆ 41.04 │\n",
       "│ 340 ┆ l   ┆     ┆ 100    ┆      ┆     ┆ S      ┆       ┆       ┆     ┆     ┆     ┆       ┆       │\n",
       "│ 7   ┆     ┆     ┆        ┆      ┆     ┆        ┆       ┆       ┆     ┆     ┆     ┆       ┆       │\n",
       "└─────┴─────┴─────┴────────┴──────┴─────┴────────┴───────┴───────┴─────┴─────┴─────┴───────┴───────┘"
      ]
     },
     "execution_count": 58,
     "metadata": {},
     "output_type": "execute_result"
    }
   ],
   "source": [
    "df_arteria_alternativa"
   ]
  },
  {
   "cell_type": "markdown",
   "id": "bea17493",
   "metadata": {},
   "source": [
    "# Merge"
   ]
  },
  {
   "cell_type": "markdown",
   "id": "4cc941ed",
   "metadata": {},
   "source": [
    "#Merge do locart (Designação principal das artéticas com as portas) com as portas"
   ]
  },
  {
   "cell_type": "code",
   "execution_count": 59,
   "id": "02f420d3",
   "metadata": {},
   "outputs": [],
   "source": [
    "df_Principal = df_locart_filtrado_f.join(\n",
    "    df_portas_f,\n",
    "    left_on=\"ART_COD\",\n",
    "    right_on=\"ID_ARTERIA\",\n",
    "    how=\"left\"   # podes trocar por \"left\", \"right\" ou \"outer\" conforme precisas\n",
    ")"
   ]
  },
  {
   "cell_type": "code",
   "execution_count": 60,
   "id": "12373052",
   "metadata": {},
   "outputs": [
    {
     "data": {
      "text/html": [
       "<div><style>\n",
       ".dataframe > thead > tr,\n",
       ".dataframe > tbody > tr {\n",
       "  text-align: right;\n",
       "  white-space: pre-wrap;\n",
       "}\n",
       "</style>\n",
       "<small>shape: (5, 14)</small><table border=\"1\" class=\"dataframe\"><thead><tr><th>LOCALIDADE</th><th>ART_COD</th><th>ART_TIPO</th><th>ART_TITULO</th><th>ART_DESIG</th><th>ART_LOCAL</th><th>CP4</th><th>CP3</th><th>CPALF</th><th>ID_PORTA</th><th>PORTA_NUM</th><th>LONG_PORTA</th><th>LAT_PORTA</th><th>CP4_right</th></tr><tr><td>str</td><td>i64</td><td>str</td><td>str</td><td>str</td><td>str</td><td>i64</td><td>i64</td><td>str</td><td>i64</td><td>i64</td><td>f64</td><td>f64</td><td>i64</td></tr></thead><tbody><tr><td>&quot;Porto&quot;</td><td>61213</td><td>&quot;Rua&quot;</td><td>null</td><td>&quot;Abraos&quot;</td><td>null</td><td>4000</td><td>12</td><td>&quot;PORTO&quot;</td><td>94415</td><td>49</td><td>-8.59</td><td>41.15</td><td>4000</td></tr><tr><td>&quot;Porto&quot;</td><td>61213</td><td>&quot;Rua&quot;</td><td>null</td><td>&quot;Abraos&quot;</td><td>null</td><td>4000</td><td>12</td><td>&quot;PORTO&quot;</td><td>94416</td><td>32</td><td>-8.59</td><td>41.15</td><td>4000</td></tr><tr><td>&quot;Porto&quot;</td><td>61213</td><td>&quot;Rua&quot;</td><td>null</td><td>&quot;Abraos&quot;</td><td>null</td><td>4000</td><td>12</td><td>&quot;PORTO&quot;</td><td>233905</td><td>10</td><td>-8.59</td><td>41.15</td><td>4000</td></tr><tr><td>&quot;Porto&quot;</td><td>61213</td><td>&quot;Rua&quot;</td><td>null</td><td>&quot;Abraos&quot;</td><td>null</td><td>4000</td><td>12</td><td>&quot;PORTO&quot;</td><td>233906</td><td>16</td><td>-8.59</td><td>41.15</td><td>4000</td></tr><tr><td>&quot;Porto&quot;</td><td>61213</td><td>&quot;Rua&quot;</td><td>null</td><td>&quot;Abraos&quot;</td><td>null</td><td>4000</td><td>12</td><td>&quot;PORTO&quot;</td><td>1673928</td><td>154</td><td>-8.59</td><td>41.15</td><td>4000</td></tr></tbody></table></div>"
      ],
      "text/plain": [
       "shape: (5, 14)\n",
       "┌─────┬─────┬─────┬─────┬─────┬─────┬──────┬─────┬───────┬────────┬────────┬───────┬───────┬───────┐\n",
       "│ LOC ┆ ART ┆ ART ┆ ART ┆ ART ┆ ART ┆ CP4  ┆ CP3 ┆ CPALF ┆ ID_POR ┆ PORTA_ ┆ LONG_ ┆ LAT_P ┆ CP4_r │\n",
       "│ ALI ┆ _CO ┆ _TI ┆ _TI ┆ _DE ┆ _LO ┆ ---  ┆ --- ┆ ---   ┆ TA     ┆ NUM    ┆ PORTA ┆ ORTA  ┆ ight  │\n",
       "│ DAD ┆ D   ┆ PO  ┆ TUL ┆ SIG ┆ CAL ┆ i64  ┆ i64 ┆ str   ┆ ---    ┆ ---    ┆ ---   ┆ ---   ┆ ---   │\n",
       "│ E   ┆ --- ┆ --- ┆ O   ┆ --- ┆ --- ┆      ┆     ┆       ┆ i64    ┆ i64    ┆ f64   ┆ f64   ┆ i64   │\n",
       "│ --- ┆ i64 ┆ str ┆ --- ┆ str ┆ str ┆      ┆     ┆       ┆        ┆        ┆       ┆       ┆       │\n",
       "│ str ┆     ┆     ┆ str ┆     ┆     ┆      ┆     ┆       ┆        ┆        ┆       ┆       ┆       │\n",
       "╞═════╪═════╪═════╪═════╪═════╪═════╪══════╪═════╪═══════╪════════╪════════╪═══════╪═══════╪═══════╡\n",
       "│ Por ┆ 612 ┆ Rua ┆ nul ┆ Abr ┆ nul ┆ 4000 ┆ 12  ┆ PORTO ┆ 94415  ┆ 49     ┆ -8.59 ┆ 41.15 ┆ 4000  │\n",
       "│ to  ┆ 13  ┆     ┆ l   ┆ aos ┆ l   ┆      ┆     ┆       ┆        ┆        ┆       ┆       ┆       │\n",
       "├╌╌╌╌╌┼╌╌╌╌╌┼╌╌╌╌╌┼╌╌╌╌╌┼╌╌╌╌╌┼╌╌╌╌╌┼╌╌╌╌╌╌┼╌╌╌╌╌┼╌╌╌╌╌╌╌┼╌╌╌╌╌╌╌╌┼╌╌╌╌╌╌╌╌┼╌╌╌╌╌╌╌┼╌╌╌╌╌╌╌┼╌╌╌╌╌╌╌┤\n",
       "│ Por ┆ 612 ┆ Rua ┆ nul ┆ Abr ┆ nul ┆ 4000 ┆ 12  ┆ PORTO ┆ 94416  ┆ 32     ┆ -8.59 ┆ 41.15 ┆ 4000  │\n",
       "│ to  ┆ 13  ┆     ┆ l   ┆ aos ┆ l   ┆      ┆     ┆       ┆        ┆        ┆       ┆       ┆       │\n",
       "├╌╌╌╌╌┼╌╌╌╌╌┼╌╌╌╌╌┼╌╌╌╌╌┼╌╌╌╌╌┼╌╌╌╌╌┼╌╌╌╌╌╌┼╌╌╌╌╌┼╌╌╌╌╌╌╌┼╌╌╌╌╌╌╌╌┼╌╌╌╌╌╌╌╌┼╌╌╌╌╌╌╌┼╌╌╌╌╌╌╌┼╌╌╌╌╌╌╌┤\n",
       "│ Por ┆ 612 ┆ Rua ┆ nul ┆ Abr ┆ nul ┆ 4000 ┆ 12  ┆ PORTO ┆ 233905 ┆ 10     ┆ -8.59 ┆ 41.15 ┆ 4000  │\n",
       "│ to  ┆ 13  ┆     ┆ l   ┆ aos ┆ l   ┆      ┆     ┆       ┆        ┆        ┆       ┆       ┆       │\n",
       "├╌╌╌╌╌┼╌╌╌╌╌┼╌╌╌╌╌┼╌╌╌╌╌┼╌╌╌╌╌┼╌╌╌╌╌┼╌╌╌╌╌╌┼╌╌╌╌╌┼╌╌╌╌╌╌╌┼╌╌╌╌╌╌╌╌┼╌╌╌╌╌╌╌╌┼╌╌╌╌╌╌╌┼╌╌╌╌╌╌╌┼╌╌╌╌╌╌╌┤\n",
       "│ Por ┆ 612 ┆ Rua ┆ nul ┆ Abr ┆ nul ┆ 4000 ┆ 12  ┆ PORTO ┆ 233906 ┆ 16     ┆ -8.59 ┆ 41.15 ┆ 4000  │\n",
       "│ to  ┆ 13  ┆     ┆ l   ┆ aos ┆ l   ┆      ┆     ┆       ┆        ┆        ┆       ┆       ┆       │\n",
       "├╌╌╌╌╌┼╌╌╌╌╌┼╌╌╌╌╌┼╌╌╌╌╌┼╌╌╌╌╌┼╌╌╌╌╌┼╌╌╌╌╌╌┼╌╌╌╌╌┼╌╌╌╌╌╌╌┼╌╌╌╌╌╌╌╌┼╌╌╌╌╌╌╌╌┼╌╌╌╌╌╌╌┼╌╌╌╌╌╌╌┼╌╌╌╌╌╌╌┤\n",
       "│ Por ┆ 612 ┆ Rua ┆ nul ┆ Abr ┆ nul ┆ 4000 ┆ 12  ┆ PORTO ┆ 167392 ┆ 154    ┆ -8.59 ┆ 41.15 ┆ 4000  │\n",
       "│ to  ┆ 13  ┆     ┆ l   ┆ aos ┆ l   ┆      ┆     ┆       ┆ 8      ┆        ┆       ┆       ┆       │\n",
       "└─────┴─────┴─────┴─────┴─────┴─────┴──────┴─────┴───────┴────────┴────────┴───────┴───────┴───────┘"
      ]
     },
     "execution_count": 60,
     "metadata": {},
     "output_type": "execute_result"
    }
   ],
   "source": [
    "df_Principal.head()"
   ]
  },
  {
   "cell_type": "code",
   "execution_count": 61,
   "id": "3a12ed0e",
   "metadata": {},
   "outputs": [
    {
     "data": {
      "text/html": [
       "<div><style>\n",
       ".dataframe > thead > tr,\n",
       ".dataframe > tbody > tr {\n",
       "  text-align: right;\n",
       "  white-space: pre-wrap;\n",
       "}\n",
       "</style>\n",
       "<small>shape: (95_901, 11)</small><table border=\"1\" class=\"dataframe\"><thead><tr><th>ART_COD</th><th>ART_TIPO</th><th>ART_TITULO</th><th>ART_DESIG</th><th>PORTA_NUM</th><th>CP4</th><th>CP3</th><th>CPALF</th><th>LOCALIDADE</th><th>LONG_PORTA</th><th>LAT_PORTA</th></tr><tr><td>i64</td><td>str</td><td>str</td><td>str</td><td>i64</td><td>i64</td><td>i64</td><td>str</td><td>str</td><td>f64</td><td>f64</td></tr></thead><tbody><tr><td>61213</td><td>&quot;Rua&quot;</td><td>null</td><td>&quot;Abraos&quot;</td><td>49</td><td>4000</td><td>12</td><td>&quot;PORTO&quot;</td><td>&quot;Porto&quot;</td><td>-8.59</td><td>41.15</td></tr><tr><td>61213</td><td>&quot;Rua&quot;</td><td>null</td><td>&quot;Abraos&quot;</td><td>32</td><td>4000</td><td>12</td><td>&quot;PORTO&quot;</td><td>&quot;Porto&quot;</td><td>-8.59</td><td>41.15</td></tr><tr><td>61213</td><td>&quot;Rua&quot;</td><td>null</td><td>&quot;Abraos&quot;</td><td>10</td><td>4000</td><td>12</td><td>&quot;PORTO&quot;</td><td>&quot;Porto&quot;</td><td>-8.59</td><td>41.15</td></tr><tr><td>61213</td><td>&quot;Rua&quot;</td><td>null</td><td>&quot;Abraos&quot;</td><td>16</td><td>4000</td><td>12</td><td>&quot;PORTO&quot;</td><td>&quot;Porto&quot;</td><td>-8.59</td><td>41.15</td></tr><tr><td>61213</td><td>&quot;Rua&quot;</td><td>null</td><td>&quot;Abraos&quot;</td><td>154</td><td>4000</td><td>12</td><td>&quot;PORTO&quot;</td><td>&quot;Porto&quot;</td><td>-8.59</td><td>41.15</td></tr><tr><td>&hellip;</td><td>&hellip;</td><td>&hellip;</td><td>&hellip;</td><td>&hellip;</td><td>&hellip;</td><td>&hellip;</td><td>&hellip;</td><td>&hellip;</td><td>&hellip;</td><td>&hellip;</td></tr><tr><td>2147140000</td><td>&quot;Beco&quot;</td><td>null</td><td>&quot;Passos Manuel&quot;</td><td>6</td><td>4000</td><td>7</td><td>&quot;PORTO&quot;</td><td>&quot;Porto&quot;</td><td>-8.6</td><td>41.14</td></tr><tr><td>2147140000</td><td>&quot;Beco&quot;</td><td>null</td><td>&quot;Passos Manuel&quot;</td><td>null</td><td>4000</td><td>7</td><td>&quot;PORTO&quot;</td><td>&quot;Porto&quot;</td><td>-8.6</td><td>41.14</td></tr><tr><td>2147140000</td><td>&quot;Beco&quot;</td><td>null</td><td>&quot;Passos Manuel&quot;</td><td>null</td><td>4000</td><td>7</td><td>&quot;PORTO&quot;</td><td>&quot;Porto&quot;</td><td>-8.6</td><td>41.14</td></tr><tr><td>2147140000</td><td>&quot;Beco&quot;</td><td>null</td><td>&quot;Passos Manuel&quot;</td><td>null</td><td>4000</td><td>7</td><td>&quot;PORTO&quot;</td><td>&quot;Porto&quot;</td><td>-8.6</td><td>41.14</td></tr><tr><td>2147140000</td><td>&quot;Beco&quot;</td><td>null</td><td>&quot;Passos Manuel&quot;</td><td>null</td><td>4000</td><td>7</td><td>&quot;PORTO&quot;</td><td>&quot;Porto&quot;</td><td>-8.6</td><td>41.14</td></tr></tbody></table></div>"
      ],
      "text/plain": [
       "shape: (95_901, 11)\n",
       "┌─────────┬─────────┬─────────┬─────────┬─────────┬──────┬─────┬───────┬─────────┬────────┬────────┐\n",
       "│ ART_COD ┆ ART_TIP ┆ ART_TIT ┆ ART_DES ┆ PORTA_N ┆ CP4  ┆ CP3 ┆ CPALF ┆ LOCALID ┆ LONG_P ┆ LAT_PO │\n",
       "│ ---     ┆ O       ┆ ULO     ┆ IG      ┆ UM      ┆ ---  ┆ --- ┆ ---   ┆ ADE     ┆ ORTA   ┆ RTA    │\n",
       "│ i64     ┆ ---     ┆ ---     ┆ ---     ┆ ---     ┆ i64  ┆ i64 ┆ str   ┆ ---     ┆ ---    ┆ ---    │\n",
       "│         ┆ str     ┆ str     ┆ str     ┆ i64     ┆      ┆     ┆       ┆ str     ┆ f64    ┆ f64    │\n",
       "╞═════════╪═════════╪═════════╪═════════╪═════════╪══════╪═════╪═══════╪═════════╪════════╪════════╡\n",
       "│ 61213   ┆ Rua     ┆ null    ┆ Abraos  ┆ 49      ┆ 4000 ┆ 12  ┆ PORTO ┆ Porto   ┆ -8.59  ┆ 41.15  │\n",
       "├╌╌╌╌╌╌╌╌╌┼╌╌╌╌╌╌╌╌╌┼╌╌╌╌╌╌╌╌╌┼╌╌╌╌╌╌╌╌╌┼╌╌╌╌╌╌╌╌╌┼╌╌╌╌╌╌┼╌╌╌╌╌┼╌╌╌╌╌╌╌┼╌╌╌╌╌╌╌╌╌┼╌╌╌╌╌╌╌╌┼╌╌╌╌╌╌╌╌┤\n",
       "│ 61213   ┆ Rua     ┆ null    ┆ Abraos  ┆ 32      ┆ 4000 ┆ 12  ┆ PORTO ┆ Porto   ┆ -8.59  ┆ 41.15  │\n",
       "├╌╌╌╌╌╌╌╌╌┼╌╌╌╌╌╌╌╌╌┼╌╌╌╌╌╌╌╌╌┼╌╌╌╌╌╌╌╌╌┼╌╌╌╌╌╌╌╌╌┼╌╌╌╌╌╌┼╌╌╌╌╌┼╌╌╌╌╌╌╌┼╌╌╌╌╌╌╌╌╌┼╌╌╌╌╌╌╌╌┼╌╌╌╌╌╌╌╌┤\n",
       "│ 61213   ┆ Rua     ┆ null    ┆ Abraos  ┆ 10      ┆ 4000 ┆ 12  ┆ PORTO ┆ Porto   ┆ -8.59  ┆ 41.15  │\n",
       "├╌╌╌╌╌╌╌╌╌┼╌╌╌╌╌╌╌╌╌┼╌╌╌╌╌╌╌╌╌┼╌╌╌╌╌╌╌╌╌┼╌╌╌╌╌╌╌╌╌┼╌╌╌╌╌╌┼╌╌╌╌╌┼╌╌╌╌╌╌╌┼╌╌╌╌╌╌╌╌╌┼╌╌╌╌╌╌╌╌┼╌╌╌╌╌╌╌╌┤\n",
       "│ 61213   ┆ Rua     ┆ null    ┆ Abraos  ┆ 16      ┆ 4000 ┆ 12  ┆ PORTO ┆ Porto   ┆ -8.59  ┆ 41.15  │\n",
       "├╌╌╌╌╌╌╌╌╌┼╌╌╌╌╌╌╌╌╌┼╌╌╌╌╌╌╌╌╌┼╌╌╌╌╌╌╌╌╌┼╌╌╌╌╌╌╌╌╌┼╌╌╌╌╌╌┼╌╌╌╌╌┼╌╌╌╌╌╌╌┼╌╌╌╌╌╌╌╌╌┼╌╌╌╌╌╌╌╌┼╌╌╌╌╌╌╌╌┤\n",
       "│ 61213   ┆ Rua     ┆ null    ┆ Abraos  ┆ 154     ┆ 4000 ┆ 12  ┆ PORTO ┆ Porto   ┆ -8.59  ┆ 41.15  │\n",
       "├╌╌╌╌╌╌╌╌╌┼╌╌╌╌╌╌╌╌╌┼╌╌╌╌╌╌╌╌╌┼╌╌╌╌╌╌╌╌╌┼╌╌╌╌╌╌╌╌╌┼╌╌╌╌╌╌┼╌╌╌╌╌┼╌╌╌╌╌╌╌┼╌╌╌╌╌╌╌╌╌┼╌╌╌╌╌╌╌╌┼╌╌╌╌╌╌╌╌┤\n",
       "│ …       ┆ …       ┆ …       ┆ …       ┆ …       ┆ …    ┆ …   ┆ …     ┆ …       ┆ …      ┆ …      │\n",
       "├╌╌╌╌╌╌╌╌╌┼╌╌╌╌╌╌╌╌╌┼╌╌╌╌╌╌╌╌╌┼╌╌╌╌╌╌╌╌╌┼╌╌╌╌╌╌╌╌╌┼╌╌╌╌╌╌┼╌╌╌╌╌┼╌╌╌╌╌╌╌┼╌╌╌╌╌╌╌╌╌┼╌╌╌╌╌╌╌╌┼╌╌╌╌╌╌╌╌┤\n",
       "│ 2147140 ┆ Beco    ┆ null    ┆ Passos  ┆ 6       ┆ 4000 ┆ 7   ┆ PORTO ┆ Porto   ┆ -8.6   ┆ 41.14  │\n",
       "│ 000     ┆         ┆         ┆ Manuel  ┆         ┆      ┆     ┆       ┆         ┆        ┆        │\n",
       "├╌╌╌╌╌╌╌╌╌┼╌╌╌╌╌╌╌╌╌┼╌╌╌╌╌╌╌╌╌┼╌╌╌╌╌╌╌╌╌┼╌╌╌╌╌╌╌╌╌┼╌╌╌╌╌╌┼╌╌╌╌╌┼╌╌╌╌╌╌╌┼╌╌╌╌╌╌╌╌╌┼╌╌╌╌╌╌╌╌┼╌╌╌╌╌╌╌╌┤\n",
       "│ 2147140 ┆ Beco    ┆ null    ┆ Passos  ┆ null    ┆ 4000 ┆ 7   ┆ PORTO ┆ Porto   ┆ -8.6   ┆ 41.14  │\n",
       "│ 000     ┆         ┆         ┆ Manuel  ┆         ┆      ┆     ┆       ┆         ┆        ┆        │\n",
       "├╌╌╌╌╌╌╌╌╌┼╌╌╌╌╌╌╌╌╌┼╌╌╌╌╌╌╌╌╌┼╌╌╌╌╌╌╌╌╌┼╌╌╌╌╌╌╌╌╌┼╌╌╌╌╌╌┼╌╌╌╌╌┼╌╌╌╌╌╌╌┼╌╌╌╌╌╌╌╌╌┼╌╌╌╌╌╌╌╌┼╌╌╌╌╌╌╌╌┤\n",
       "│ 2147140 ┆ Beco    ┆ null    ┆ Passos  ┆ null    ┆ 4000 ┆ 7   ┆ PORTO ┆ Porto   ┆ -8.6   ┆ 41.14  │\n",
       "│ 000     ┆         ┆         ┆ Manuel  ┆         ┆      ┆     ┆       ┆         ┆        ┆        │\n",
       "├╌╌╌╌╌╌╌╌╌┼╌╌╌╌╌╌╌╌╌┼╌╌╌╌╌╌╌╌╌┼╌╌╌╌╌╌╌╌╌┼╌╌╌╌╌╌╌╌╌┼╌╌╌╌╌╌┼╌╌╌╌╌┼╌╌╌╌╌╌╌┼╌╌╌╌╌╌╌╌╌┼╌╌╌╌╌╌╌╌┼╌╌╌╌╌╌╌╌┤\n",
       "│ 2147140 ┆ Beco    ┆ null    ┆ Passos  ┆ null    ┆ 4000 ┆ 7   ┆ PORTO ┆ Porto   ┆ -8.6   ┆ 41.14  │\n",
       "│ 000     ┆         ┆         ┆ Manuel  ┆         ┆      ┆     ┆       ┆         ┆        ┆        │\n",
       "├╌╌╌╌╌╌╌╌╌┼╌╌╌╌╌╌╌╌╌┼╌╌╌╌╌╌╌╌╌┼╌╌╌╌╌╌╌╌╌┼╌╌╌╌╌╌╌╌╌┼╌╌╌╌╌╌┼╌╌╌╌╌┼╌╌╌╌╌╌╌┼╌╌╌╌╌╌╌╌╌┼╌╌╌╌╌╌╌╌┼╌╌╌╌╌╌╌╌┤\n",
       "│ 2147140 ┆ Beco    ┆ null    ┆ Passos  ┆ null    ┆ 4000 ┆ 7   ┆ PORTO ┆ Porto   ┆ -8.6   ┆ 41.14  │\n",
       "│ 000     ┆         ┆         ┆ Manuel  ┆         ┆      ┆     ┆       ┆         ┆        ┆        │\n",
       "└─────────┴─────────┴─────────┴─────────┴─────────┴──────┴─────┴───────┴─────────┴────────┴────────┘"
      ]
     },
     "execution_count": 61,
     "metadata": {},
     "output_type": "execute_result"
    }
   ],
   "source": [
    "# ==========================\n",
    "# 1. Seleção de colunas úteis\n",
    "# ==========================\n",
    "cols_final = [\n",
    "    \"ART_COD\",\n",
    "    \"ART_TIPO\",\n",
    "    \"ART_TITULO\",\n",
    "    \"ART_DESIG\",\n",
    "    \"PORTA_NUM\",\n",
    "    \"CP4\",\n",
    "    \"CP3\",\n",
    "    \"CPALF\",\n",
    "    \"LOCALIDADE\",\n",
    "    \"LONG_PORTA\",\n",
    "    \"LAT_PORTA\"\n",
    "]\n",
    "df_Principal_f = df_Principal.select(cols_final)\n",
    "\n",
    "# ==========================\n",
    "# 2. Visualização\n",
    "# ==========================\n",
    "df_Principal_f\n"
   ]
  },
  {
   "cell_type": "code",
   "execution_count": 62,
   "id": "dbd7c88c",
   "metadata": {},
   "outputs": [
    {
     "data": {
      "text/plain": [
       "'\\n\\ndf_merged_2 = df_Principal_f.join(\\n    df_PORTA_ALTERNATIVA,\\n    left_on=\"ID_PORTA\",       # <- ajusta para a tua chave em df_locart/df_portas\\n    right_on=\"ID_PORTA\",       # <- chave no df_PORTA_ALTERNATIVA\\n    how=\"left\"\\n)\\n\\ndf_merged_2\\n'"
      ]
     },
     "execution_count": 62,
     "metadata": {},
     "output_type": "execute_result"
    }
   ],
   "source": [
    "'''\n",
    "\n",
    "df_merged_2 = df_Principal_f.join(\n",
    "    df_PORTA_ALTERNATIVA,\n",
    "    left_on=\"ID_PORTA\",       # <- ajusta para a tua chave em df_locart/df_portas\n",
    "    right_on=\"ID_PORTA\",       # <- chave no df_PORTA_ALTERNATIVA\n",
    "    how=\"left\"\n",
    ")\n",
    "\n",
    "df_merged_2\n",
    "'''"
   ]
  },
  {
   "cell_type": "code",
   "execution_count": 63,
   "id": "151b3439",
   "metadata": {},
   "outputs": [
    {
     "data": {
      "text/html": [
       "<div><style>\n",
       ".dataframe > thead > tr,\n",
       ".dataframe > tbody > tr {\n",
       "  text-align: right;\n",
       "  white-space: pre-wrap;\n",
       "}\n",
       "</style>\n",
       "<small>shape: (95_901, 11)</small><table border=\"1\" class=\"dataframe\"><thead><tr><th>ART_COD</th><th>ART_TIPO</th><th>ART_TITULO</th><th>ART_DESIG</th><th>PORTA_NUM</th><th>CP4</th><th>CP3</th><th>CPALF</th><th>LOCALIDADE</th><th>LONG_PORTA</th><th>LAT_PORTA</th></tr><tr><td>i64</td><td>str</td><td>str</td><td>str</td><td>i64</td><td>i64</td><td>i64</td><td>str</td><td>str</td><td>f64</td><td>f64</td></tr></thead><tbody><tr><td>61213</td><td>&quot;Rua&quot;</td><td>null</td><td>&quot;Abraos&quot;</td><td>49</td><td>4000</td><td>12</td><td>&quot;PORTO&quot;</td><td>&quot;Porto&quot;</td><td>-8.59</td><td>41.15</td></tr><tr><td>61213</td><td>&quot;Rua&quot;</td><td>null</td><td>&quot;Abraos&quot;</td><td>32</td><td>4000</td><td>12</td><td>&quot;PORTO&quot;</td><td>&quot;Porto&quot;</td><td>-8.59</td><td>41.15</td></tr><tr><td>61213</td><td>&quot;Rua&quot;</td><td>null</td><td>&quot;Abraos&quot;</td><td>10</td><td>4000</td><td>12</td><td>&quot;PORTO&quot;</td><td>&quot;Porto&quot;</td><td>-8.59</td><td>41.15</td></tr><tr><td>61213</td><td>&quot;Rua&quot;</td><td>null</td><td>&quot;Abraos&quot;</td><td>16</td><td>4000</td><td>12</td><td>&quot;PORTO&quot;</td><td>&quot;Porto&quot;</td><td>-8.59</td><td>41.15</td></tr><tr><td>61213</td><td>&quot;Rua&quot;</td><td>null</td><td>&quot;Abraos&quot;</td><td>154</td><td>4000</td><td>12</td><td>&quot;PORTO&quot;</td><td>&quot;Porto&quot;</td><td>-8.59</td><td>41.15</td></tr><tr><td>&hellip;</td><td>&hellip;</td><td>&hellip;</td><td>&hellip;</td><td>&hellip;</td><td>&hellip;</td><td>&hellip;</td><td>&hellip;</td><td>&hellip;</td><td>&hellip;</td><td>&hellip;</td></tr><tr><td>2147140000</td><td>&quot;Beco&quot;</td><td>null</td><td>&quot;Passos Manuel&quot;</td><td>6</td><td>4000</td><td>7</td><td>&quot;PORTO&quot;</td><td>&quot;Porto&quot;</td><td>-8.6</td><td>41.14</td></tr><tr><td>2147140000</td><td>&quot;Beco&quot;</td><td>null</td><td>&quot;Passos Manuel&quot;</td><td>null</td><td>4000</td><td>7</td><td>&quot;PORTO&quot;</td><td>&quot;Porto&quot;</td><td>-8.6</td><td>41.14</td></tr><tr><td>2147140000</td><td>&quot;Beco&quot;</td><td>null</td><td>&quot;Passos Manuel&quot;</td><td>null</td><td>4000</td><td>7</td><td>&quot;PORTO&quot;</td><td>&quot;Porto&quot;</td><td>-8.6</td><td>41.14</td></tr><tr><td>2147140000</td><td>&quot;Beco&quot;</td><td>null</td><td>&quot;Passos Manuel&quot;</td><td>null</td><td>4000</td><td>7</td><td>&quot;PORTO&quot;</td><td>&quot;Porto&quot;</td><td>-8.6</td><td>41.14</td></tr><tr><td>2147140000</td><td>&quot;Beco&quot;</td><td>null</td><td>&quot;Passos Manuel&quot;</td><td>null</td><td>4000</td><td>7</td><td>&quot;PORTO&quot;</td><td>&quot;Porto&quot;</td><td>-8.6</td><td>41.14</td></tr></tbody></table></div>"
      ],
      "text/plain": [
       "shape: (95_901, 11)\n",
       "┌─────────┬─────────┬─────────┬─────────┬─────────┬──────┬─────┬───────┬─────────┬────────┬────────┐\n",
       "│ ART_COD ┆ ART_TIP ┆ ART_TIT ┆ ART_DES ┆ PORTA_N ┆ CP4  ┆ CP3 ┆ CPALF ┆ LOCALID ┆ LONG_P ┆ LAT_PO │\n",
       "│ ---     ┆ O       ┆ ULO     ┆ IG      ┆ UM      ┆ ---  ┆ --- ┆ ---   ┆ ADE     ┆ ORTA   ┆ RTA    │\n",
       "│ i64     ┆ ---     ┆ ---     ┆ ---     ┆ ---     ┆ i64  ┆ i64 ┆ str   ┆ ---     ┆ ---    ┆ ---    │\n",
       "│         ┆ str     ┆ str     ┆ str     ┆ i64     ┆      ┆     ┆       ┆ str     ┆ f64    ┆ f64    │\n",
       "╞═════════╪═════════╪═════════╪═════════╪═════════╪══════╪═════╪═══════╪═════════╪════════╪════════╡\n",
       "│ 61213   ┆ Rua     ┆ null    ┆ Abraos  ┆ 49      ┆ 4000 ┆ 12  ┆ PORTO ┆ Porto   ┆ -8.59  ┆ 41.15  │\n",
       "├╌╌╌╌╌╌╌╌╌┼╌╌╌╌╌╌╌╌╌┼╌╌╌╌╌╌╌╌╌┼╌╌╌╌╌╌╌╌╌┼╌╌╌╌╌╌╌╌╌┼╌╌╌╌╌╌┼╌╌╌╌╌┼╌╌╌╌╌╌╌┼╌╌╌╌╌╌╌╌╌┼╌╌╌╌╌╌╌╌┼╌╌╌╌╌╌╌╌┤\n",
       "│ 61213   ┆ Rua     ┆ null    ┆ Abraos  ┆ 32      ┆ 4000 ┆ 12  ┆ PORTO ┆ Porto   ┆ -8.59  ┆ 41.15  │\n",
       "├╌╌╌╌╌╌╌╌╌┼╌╌╌╌╌╌╌╌╌┼╌╌╌╌╌╌╌╌╌┼╌╌╌╌╌╌╌╌╌┼╌╌╌╌╌╌╌╌╌┼╌╌╌╌╌╌┼╌╌╌╌╌┼╌╌╌╌╌╌╌┼╌╌╌╌╌╌╌╌╌┼╌╌╌╌╌╌╌╌┼╌╌╌╌╌╌╌╌┤\n",
       "│ 61213   ┆ Rua     ┆ null    ┆ Abraos  ┆ 10      ┆ 4000 ┆ 12  ┆ PORTO ┆ Porto   ┆ -8.59  ┆ 41.15  │\n",
       "├╌╌╌╌╌╌╌╌╌┼╌╌╌╌╌╌╌╌╌┼╌╌╌╌╌╌╌╌╌┼╌╌╌╌╌╌╌╌╌┼╌╌╌╌╌╌╌╌╌┼╌╌╌╌╌╌┼╌╌╌╌╌┼╌╌╌╌╌╌╌┼╌╌╌╌╌╌╌╌╌┼╌╌╌╌╌╌╌╌┼╌╌╌╌╌╌╌╌┤\n",
       "│ 61213   ┆ Rua     ┆ null    ┆ Abraos  ┆ 16      ┆ 4000 ┆ 12  ┆ PORTO ┆ Porto   ┆ -8.59  ┆ 41.15  │\n",
       "├╌╌╌╌╌╌╌╌╌┼╌╌╌╌╌╌╌╌╌┼╌╌╌╌╌╌╌╌╌┼╌╌╌╌╌╌╌╌╌┼╌╌╌╌╌╌╌╌╌┼╌╌╌╌╌╌┼╌╌╌╌╌┼╌╌╌╌╌╌╌┼╌╌╌╌╌╌╌╌╌┼╌╌╌╌╌╌╌╌┼╌╌╌╌╌╌╌╌┤\n",
       "│ 61213   ┆ Rua     ┆ null    ┆ Abraos  ┆ 154     ┆ 4000 ┆ 12  ┆ PORTO ┆ Porto   ┆ -8.59  ┆ 41.15  │\n",
       "├╌╌╌╌╌╌╌╌╌┼╌╌╌╌╌╌╌╌╌┼╌╌╌╌╌╌╌╌╌┼╌╌╌╌╌╌╌╌╌┼╌╌╌╌╌╌╌╌╌┼╌╌╌╌╌╌┼╌╌╌╌╌┼╌╌╌╌╌╌╌┼╌╌╌╌╌╌╌╌╌┼╌╌╌╌╌╌╌╌┼╌╌╌╌╌╌╌╌┤\n",
       "│ …       ┆ …       ┆ …       ┆ …       ┆ …       ┆ …    ┆ …   ┆ …     ┆ …       ┆ …      ┆ …      │\n",
       "├╌╌╌╌╌╌╌╌╌┼╌╌╌╌╌╌╌╌╌┼╌╌╌╌╌╌╌╌╌┼╌╌╌╌╌╌╌╌╌┼╌╌╌╌╌╌╌╌╌┼╌╌╌╌╌╌┼╌╌╌╌╌┼╌╌╌╌╌╌╌┼╌╌╌╌╌╌╌╌╌┼╌╌╌╌╌╌╌╌┼╌╌╌╌╌╌╌╌┤\n",
       "│ 2147140 ┆ Beco    ┆ null    ┆ Passos  ┆ 6       ┆ 4000 ┆ 7   ┆ PORTO ┆ Porto   ┆ -8.6   ┆ 41.14  │\n",
       "│ 000     ┆         ┆         ┆ Manuel  ┆         ┆      ┆     ┆       ┆         ┆        ┆        │\n",
       "├╌╌╌╌╌╌╌╌╌┼╌╌╌╌╌╌╌╌╌┼╌╌╌╌╌╌╌╌╌┼╌╌╌╌╌╌╌╌╌┼╌╌╌╌╌╌╌╌╌┼╌╌╌╌╌╌┼╌╌╌╌╌┼╌╌╌╌╌╌╌┼╌╌╌╌╌╌╌╌╌┼╌╌╌╌╌╌╌╌┼╌╌╌╌╌╌╌╌┤\n",
       "│ 2147140 ┆ Beco    ┆ null    ┆ Passos  ┆ null    ┆ 4000 ┆ 7   ┆ PORTO ┆ Porto   ┆ -8.6   ┆ 41.14  │\n",
       "│ 000     ┆         ┆         ┆ Manuel  ┆         ┆      ┆     ┆       ┆         ┆        ┆        │\n",
       "├╌╌╌╌╌╌╌╌╌┼╌╌╌╌╌╌╌╌╌┼╌╌╌╌╌╌╌╌╌┼╌╌╌╌╌╌╌╌╌┼╌╌╌╌╌╌╌╌╌┼╌╌╌╌╌╌┼╌╌╌╌╌┼╌╌╌╌╌╌╌┼╌╌╌╌╌╌╌╌╌┼╌╌╌╌╌╌╌╌┼╌╌╌╌╌╌╌╌┤\n",
       "│ 2147140 ┆ Beco    ┆ null    ┆ Passos  ┆ null    ┆ 4000 ┆ 7   ┆ PORTO ┆ Porto   ┆ -8.6   ┆ 41.14  │\n",
       "│ 000     ┆         ┆         ┆ Manuel  ┆         ┆      ┆     ┆       ┆         ┆        ┆        │\n",
       "├╌╌╌╌╌╌╌╌╌┼╌╌╌╌╌╌╌╌╌┼╌╌╌╌╌╌╌╌╌┼╌╌╌╌╌╌╌╌╌┼╌╌╌╌╌╌╌╌╌┼╌╌╌╌╌╌┼╌╌╌╌╌┼╌╌╌╌╌╌╌┼╌╌╌╌╌╌╌╌╌┼╌╌╌╌╌╌╌╌┼╌╌╌╌╌╌╌╌┤\n",
       "│ 2147140 ┆ Beco    ┆ null    ┆ Passos  ┆ null    ┆ 4000 ┆ 7   ┆ PORTO ┆ Porto   ┆ -8.6   ┆ 41.14  │\n",
       "│ 000     ┆         ┆         ┆ Manuel  ┆         ┆      ┆     ┆       ┆         ┆        ┆        │\n",
       "├╌╌╌╌╌╌╌╌╌┼╌╌╌╌╌╌╌╌╌┼╌╌╌╌╌╌╌╌╌┼╌╌╌╌╌╌╌╌╌┼╌╌╌╌╌╌╌╌╌┼╌╌╌╌╌╌┼╌╌╌╌╌┼╌╌╌╌╌╌╌┼╌╌╌╌╌╌╌╌╌┼╌╌╌╌╌╌╌╌┼╌╌╌╌╌╌╌╌┤\n",
       "│ 2147140 ┆ Beco    ┆ null    ┆ Passos  ┆ null    ┆ 4000 ┆ 7   ┆ PORTO ┆ Porto   ┆ -8.6   ┆ 41.14  │\n",
       "│ 000     ┆         ┆         ┆ Manuel  ┆         ┆      ┆     ┆       ┆         ┆        ┆        │\n",
       "└─────────┴─────────┴─────────┴─────────┴─────────┴──────┴─────┴───────┴─────────┴────────┴────────┘"
      ]
     },
     "execution_count": 63,
     "metadata": {},
     "output_type": "execute_result"
    }
   ],
   "source": [
    "df_Principal_f"
   ]
  },
  {
   "cell_type": "code",
   "execution_count": 64,
   "id": "0519d821",
   "metadata": {},
   "outputs": [
    {
     "data": {
      "text/plain": [
       "' \\n\\n# ==========================\\n# 1. Verificação ignorando maiúsculas/minúsculas\\n# ==========================\\ndf_Principal_f = df_Principal_f.with_columns(\\n    (pl.col(\"CPALF\").str.to_lowercase() == pl.col(\"LOCALIDADE\").str.to_lowercase()).alias(\"iguais_lower\")\\n)\\n\\n# ==========================\\n# 2. Contagem\\n# ==========================\\ndf_Principal_f[\"iguais_lower\"].value_counts()\\n'"
      ]
     },
     "execution_count": 64,
     "metadata": {},
     "output_type": "execute_result"
    }
   ],
   "source": [
    "''' \n",
    "\n",
    "# ==========================\n",
    "# 1. Verificação ignorando maiúsculas/minúsculas\n",
    "# ==========================\n",
    "df_Principal_f = df_Principal_f.with_columns(\n",
    "    (pl.col(\"CPALF\").str.to_lowercase() == pl.col(\"LOCALIDADE\").str.to_lowercase()).alias(\"iguais_lower\")\n",
    ")\n",
    "\n",
    "# ==========================\n",
    "# 2. Contagem\n",
    "# ==========================\n",
    "df_Principal_f[\"iguais_lower\"].value_counts()\n",
    "'''\n"
   ]
  },
  {
   "cell_type": "code",
   "execution_count": 65,
   "id": "4d744744",
   "metadata": {},
   "outputs": [],
   "source": [
    "\n",
    "# ==========================\n",
    "# 1. Gravação em CSV\n",
    "# ==========================\n",
    "df_Principal_f.write_csv(r\"C:\\Users\\1420844\\Downloads\\df_Principal_f.csv\")\n",
    "\n"
   ]
  },
  {
   "cell_type": "code",
   "execution_count": 66,
   "id": "38e6d8a9",
   "metadata": {},
   "outputs": [
    {
     "data": {
      "text/html": [
       "<div><style>\n",
       ".dataframe > thead > tr,\n",
       ".dataframe > tbody > tr {\n",
       "  text-align: right;\n",
       "  white-space: pre-wrap;\n",
       "}\n",
       "</style>\n",
       "<small>shape: (95_901, 11)</small><table border=\"1\" class=\"dataframe\"><thead><tr><th>ART_COD</th><th>ART_TIPO</th><th>ART_TITULO</th><th>ART_DESIG</th><th>PORTA_NUM</th><th>CP4</th><th>CP3</th><th>CPALF</th><th>LOCALIDADE</th><th>LONG_PORTA</th><th>LAT_PORTA</th></tr><tr><td>i64</td><td>str</td><td>str</td><td>str</td><td>i64</td><td>i64</td><td>i64</td><td>str</td><td>str</td><td>f64</td><td>f64</td></tr></thead><tbody><tr><td>61213</td><td>&quot;Rua&quot;</td><td>null</td><td>&quot;Abraos&quot;</td><td>49</td><td>4000</td><td>12</td><td>&quot;PORTO&quot;</td><td>&quot;Porto&quot;</td><td>-8.59</td><td>41.15</td></tr><tr><td>61213</td><td>&quot;Rua&quot;</td><td>null</td><td>&quot;Abraos&quot;</td><td>32</td><td>4000</td><td>12</td><td>&quot;PORTO&quot;</td><td>&quot;Porto&quot;</td><td>-8.59</td><td>41.15</td></tr><tr><td>61213</td><td>&quot;Rua&quot;</td><td>null</td><td>&quot;Abraos&quot;</td><td>10</td><td>4000</td><td>12</td><td>&quot;PORTO&quot;</td><td>&quot;Porto&quot;</td><td>-8.59</td><td>41.15</td></tr><tr><td>61213</td><td>&quot;Rua&quot;</td><td>null</td><td>&quot;Abraos&quot;</td><td>16</td><td>4000</td><td>12</td><td>&quot;PORTO&quot;</td><td>&quot;Porto&quot;</td><td>-8.59</td><td>41.15</td></tr><tr><td>61213</td><td>&quot;Rua&quot;</td><td>null</td><td>&quot;Abraos&quot;</td><td>154</td><td>4000</td><td>12</td><td>&quot;PORTO&quot;</td><td>&quot;Porto&quot;</td><td>-8.59</td><td>41.15</td></tr><tr><td>&hellip;</td><td>&hellip;</td><td>&hellip;</td><td>&hellip;</td><td>&hellip;</td><td>&hellip;</td><td>&hellip;</td><td>&hellip;</td><td>&hellip;</td><td>&hellip;</td><td>&hellip;</td></tr><tr><td>2147140000</td><td>&quot;Beco&quot;</td><td>null</td><td>&quot;Passos Manuel&quot;</td><td>6</td><td>4000</td><td>7</td><td>&quot;PORTO&quot;</td><td>&quot;Porto&quot;</td><td>-8.6</td><td>41.14</td></tr><tr><td>2147140000</td><td>&quot;Beco&quot;</td><td>null</td><td>&quot;Passos Manuel&quot;</td><td>null</td><td>4000</td><td>7</td><td>&quot;PORTO&quot;</td><td>&quot;Porto&quot;</td><td>-8.6</td><td>41.14</td></tr><tr><td>2147140000</td><td>&quot;Beco&quot;</td><td>null</td><td>&quot;Passos Manuel&quot;</td><td>null</td><td>4000</td><td>7</td><td>&quot;PORTO&quot;</td><td>&quot;Porto&quot;</td><td>-8.6</td><td>41.14</td></tr><tr><td>2147140000</td><td>&quot;Beco&quot;</td><td>null</td><td>&quot;Passos Manuel&quot;</td><td>null</td><td>4000</td><td>7</td><td>&quot;PORTO&quot;</td><td>&quot;Porto&quot;</td><td>-8.6</td><td>41.14</td></tr><tr><td>2147140000</td><td>&quot;Beco&quot;</td><td>null</td><td>&quot;Passos Manuel&quot;</td><td>null</td><td>4000</td><td>7</td><td>&quot;PORTO&quot;</td><td>&quot;Porto&quot;</td><td>-8.6</td><td>41.14</td></tr></tbody></table></div>"
      ],
      "text/plain": [
       "shape: (95_901, 11)\n",
       "┌─────────┬─────────┬─────────┬─────────┬─────────┬──────┬─────┬───────┬─────────┬────────┬────────┐\n",
       "│ ART_COD ┆ ART_TIP ┆ ART_TIT ┆ ART_DES ┆ PORTA_N ┆ CP4  ┆ CP3 ┆ CPALF ┆ LOCALID ┆ LONG_P ┆ LAT_PO │\n",
       "│ ---     ┆ O       ┆ ULO     ┆ IG      ┆ UM      ┆ ---  ┆ --- ┆ ---   ┆ ADE     ┆ ORTA   ┆ RTA    │\n",
       "│ i64     ┆ ---     ┆ ---     ┆ ---     ┆ ---     ┆ i64  ┆ i64 ┆ str   ┆ ---     ┆ ---    ┆ ---    │\n",
       "│         ┆ str     ┆ str     ┆ str     ┆ i64     ┆      ┆     ┆       ┆ str     ┆ f64    ┆ f64    │\n",
       "╞═════════╪═════════╪═════════╪═════════╪═════════╪══════╪═════╪═══════╪═════════╪════════╪════════╡\n",
       "│ 61213   ┆ Rua     ┆ null    ┆ Abraos  ┆ 49      ┆ 4000 ┆ 12  ┆ PORTO ┆ Porto   ┆ -8.59  ┆ 41.15  │\n",
       "├╌╌╌╌╌╌╌╌╌┼╌╌╌╌╌╌╌╌╌┼╌╌╌╌╌╌╌╌╌┼╌╌╌╌╌╌╌╌╌┼╌╌╌╌╌╌╌╌╌┼╌╌╌╌╌╌┼╌╌╌╌╌┼╌╌╌╌╌╌╌┼╌╌╌╌╌╌╌╌╌┼╌╌╌╌╌╌╌╌┼╌╌╌╌╌╌╌╌┤\n",
       "│ 61213   ┆ Rua     ┆ null    ┆ Abraos  ┆ 32      ┆ 4000 ┆ 12  ┆ PORTO ┆ Porto   ┆ -8.59  ┆ 41.15  │\n",
       "├╌╌╌╌╌╌╌╌╌┼╌╌╌╌╌╌╌╌╌┼╌╌╌╌╌╌╌╌╌┼╌╌╌╌╌╌╌╌╌┼╌╌╌╌╌╌╌╌╌┼╌╌╌╌╌╌┼╌╌╌╌╌┼╌╌╌╌╌╌╌┼╌╌╌╌╌╌╌╌╌┼╌╌╌╌╌╌╌╌┼╌╌╌╌╌╌╌╌┤\n",
       "│ 61213   ┆ Rua     ┆ null    ┆ Abraos  ┆ 10      ┆ 4000 ┆ 12  ┆ PORTO ┆ Porto   ┆ -8.59  ┆ 41.15  │\n",
       "├╌╌╌╌╌╌╌╌╌┼╌╌╌╌╌╌╌╌╌┼╌╌╌╌╌╌╌╌╌┼╌╌╌╌╌╌╌╌╌┼╌╌╌╌╌╌╌╌╌┼╌╌╌╌╌╌┼╌╌╌╌╌┼╌╌╌╌╌╌╌┼╌╌╌╌╌╌╌╌╌┼╌╌╌╌╌╌╌╌┼╌╌╌╌╌╌╌╌┤\n",
       "│ 61213   ┆ Rua     ┆ null    ┆ Abraos  ┆ 16      ┆ 4000 ┆ 12  ┆ PORTO ┆ Porto   ┆ -8.59  ┆ 41.15  │\n",
       "├╌╌╌╌╌╌╌╌╌┼╌╌╌╌╌╌╌╌╌┼╌╌╌╌╌╌╌╌╌┼╌╌╌╌╌╌╌╌╌┼╌╌╌╌╌╌╌╌╌┼╌╌╌╌╌╌┼╌╌╌╌╌┼╌╌╌╌╌╌╌┼╌╌╌╌╌╌╌╌╌┼╌╌╌╌╌╌╌╌┼╌╌╌╌╌╌╌╌┤\n",
       "│ 61213   ┆ Rua     ┆ null    ┆ Abraos  ┆ 154     ┆ 4000 ┆ 12  ┆ PORTO ┆ Porto   ┆ -8.59  ┆ 41.15  │\n",
       "├╌╌╌╌╌╌╌╌╌┼╌╌╌╌╌╌╌╌╌┼╌╌╌╌╌╌╌╌╌┼╌╌╌╌╌╌╌╌╌┼╌╌╌╌╌╌╌╌╌┼╌╌╌╌╌╌┼╌╌╌╌╌┼╌╌╌╌╌╌╌┼╌╌╌╌╌╌╌╌╌┼╌╌╌╌╌╌╌╌┼╌╌╌╌╌╌╌╌┤\n",
       "│ …       ┆ …       ┆ …       ┆ …       ┆ …       ┆ …    ┆ …   ┆ …     ┆ …       ┆ …      ┆ …      │\n",
       "├╌╌╌╌╌╌╌╌╌┼╌╌╌╌╌╌╌╌╌┼╌╌╌╌╌╌╌╌╌┼╌╌╌╌╌╌╌╌╌┼╌╌╌╌╌╌╌╌╌┼╌╌╌╌╌╌┼╌╌╌╌╌┼╌╌╌╌╌╌╌┼╌╌╌╌╌╌╌╌╌┼╌╌╌╌╌╌╌╌┼╌╌╌╌╌╌╌╌┤\n",
       "│ 2147140 ┆ Beco    ┆ null    ┆ Passos  ┆ 6       ┆ 4000 ┆ 7   ┆ PORTO ┆ Porto   ┆ -8.6   ┆ 41.14  │\n",
       "│ 000     ┆         ┆         ┆ Manuel  ┆         ┆      ┆     ┆       ┆         ┆        ┆        │\n",
       "├╌╌╌╌╌╌╌╌╌┼╌╌╌╌╌╌╌╌╌┼╌╌╌╌╌╌╌╌╌┼╌╌╌╌╌╌╌╌╌┼╌╌╌╌╌╌╌╌╌┼╌╌╌╌╌╌┼╌╌╌╌╌┼╌╌╌╌╌╌╌┼╌╌╌╌╌╌╌╌╌┼╌╌╌╌╌╌╌╌┼╌╌╌╌╌╌╌╌┤\n",
       "│ 2147140 ┆ Beco    ┆ null    ┆ Passos  ┆ null    ┆ 4000 ┆ 7   ┆ PORTO ┆ Porto   ┆ -8.6   ┆ 41.14  │\n",
       "│ 000     ┆         ┆         ┆ Manuel  ┆         ┆      ┆     ┆       ┆         ┆        ┆        │\n",
       "├╌╌╌╌╌╌╌╌╌┼╌╌╌╌╌╌╌╌╌┼╌╌╌╌╌╌╌╌╌┼╌╌╌╌╌╌╌╌╌┼╌╌╌╌╌╌╌╌╌┼╌╌╌╌╌╌┼╌╌╌╌╌┼╌╌╌╌╌╌╌┼╌╌╌╌╌╌╌╌╌┼╌╌╌╌╌╌╌╌┼╌╌╌╌╌╌╌╌┤\n",
       "│ 2147140 ┆ Beco    ┆ null    ┆ Passos  ┆ null    ┆ 4000 ┆ 7   ┆ PORTO ┆ Porto   ┆ -8.6   ┆ 41.14  │\n",
       "│ 000     ┆         ┆         ┆ Manuel  ┆         ┆      ┆     ┆       ┆         ┆        ┆        │\n",
       "├╌╌╌╌╌╌╌╌╌┼╌╌╌╌╌╌╌╌╌┼╌╌╌╌╌╌╌╌╌┼╌╌╌╌╌╌╌╌╌┼╌╌╌╌╌╌╌╌╌┼╌╌╌╌╌╌┼╌╌╌╌╌┼╌╌╌╌╌╌╌┼╌╌╌╌╌╌╌╌╌┼╌╌╌╌╌╌╌╌┼╌╌╌╌╌╌╌╌┤\n",
       "│ 2147140 ┆ Beco    ┆ null    ┆ Passos  ┆ null    ┆ 4000 ┆ 7   ┆ PORTO ┆ Porto   ┆ -8.6   ┆ 41.14  │\n",
       "│ 000     ┆         ┆         ┆ Manuel  ┆         ┆      ┆     ┆       ┆         ┆        ┆        │\n",
       "├╌╌╌╌╌╌╌╌╌┼╌╌╌╌╌╌╌╌╌┼╌╌╌╌╌╌╌╌╌┼╌╌╌╌╌╌╌╌╌┼╌╌╌╌╌╌╌╌╌┼╌╌╌╌╌╌┼╌╌╌╌╌┼╌╌╌╌╌╌╌┼╌╌╌╌╌╌╌╌╌┼╌╌╌╌╌╌╌╌┼╌╌╌╌╌╌╌╌┤\n",
       "│ 2147140 ┆ Beco    ┆ null    ┆ Passos  ┆ null    ┆ 4000 ┆ 7   ┆ PORTO ┆ Porto   ┆ -8.6   ┆ 41.14  │\n",
       "│ 000     ┆         ┆         ┆ Manuel  ┆         ┆      ┆     ┆       ┆         ┆        ┆        │\n",
       "└─────────┴─────────┴─────────┴─────────┴─────────┴──────┴─────┴───────┴─────────┴────────┴────────┘"
      ]
     },
     "execution_count": 66,
     "metadata": {},
     "output_type": "execute_result"
    }
   ],
   "source": [
    "df_Principal_f"
   ]
  },
  {
   "cell_type": "code",
   "execution_count": 67,
   "id": "a9de7280",
   "metadata": {},
   "outputs": [
    {
     "name": "stdout",
     "output_type": "stream",
     "text": [
      "Tempo Polars: 4.46 segundos\n",
      "Memória Polars (delta): 634.11 MB\n",
      "Memória Polars (final): 2466.37 MB\n"
     ]
    }
   ],
   "source": [
    "gc.collect()\n",
    "m1 = process.memory_info().rss / 1024**2\n",
    "\n",
    "print(\"Tempo Polars:\", round(time.time() - start, 2), \"segundos\")\n",
    "print(\"Memória Polars (delta):\", round(m1 - m0, 2), \"MB\")\n",
    "print(\"Memória Polars (final):\", round(m1, 2), \"MB\")"
   ]
  }
 ],
 "metadata": {
  "kernelspec": {
   "display_name": "Python 3",
   "language": "python",
   "name": "python3"
  },
  "language_info": {
   "codemirror_mode": {
    "name": "ipython",
    "version": 3
   },
   "file_extension": ".py",
   "mimetype": "text/x-python",
   "name": "python",
   "nbconvert_exporter": "python",
   "pygments_lexer": "ipython3",
   "version": "3.13.7"
  }
 },
 "nbformat": 4,
 "nbformat_minor": 5
}
