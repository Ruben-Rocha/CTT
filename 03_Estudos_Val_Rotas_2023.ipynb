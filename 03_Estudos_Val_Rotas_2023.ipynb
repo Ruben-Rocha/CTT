{
 "cells": [
  {
   "cell_type": "code",
   "execution_count": 1,
   "metadata": {},
   "outputs": [],
   "source": [
    "import psycopg2\n",
    "import psycopg2.extras\n",
    "import os\n",
    "\n",
    "\n",
    "\n",
    "def conecta_db():\n",
    "      con = psycopg2.connect(host='localhost', \n",
    "                         database='postgres',\n",
    "                         user='postgres', \n",
    "                         password='postgres')\n",
    "      return con\n",
    "\n",
    "\n",
    "def criar_db(sql):\n",
    "    con = conecta_db()\n",
    "    cur = con.cursor()\n",
    "    cur.execute(sql)\n",
    "    con.commit()\n",
    "    con.close()\n",
    "\n",
    "\n",
    "def inserir_db(sql):\n",
    "    con = conecta_db()\n",
    "    cur = con.cursor()\n",
    "    try:\n",
    "        cur.execute(sql)\n",
    "        con.commit()\n",
    "    except (Exception, psycopg2.DatabaseError) as error:\n",
    "        print(\"Error: %s\" % error)\n",
    "        con.rollback()\n",
    "        cur.close()\n",
    "        return 1\n",
    "    cur.close()\n"
   ]
  },
  {
   "cell_type": "code",
   "execution_count": 2,
   "metadata": {},
   "outputs": [],
   "source": [
    "\n",
    "import numpy as np\n",
    "\n",
    "# centro_replace = {\n",
    "#         'C. O. ALG - ALGARVE': '8811455',\n",
    "#         'C. O. AVEIRO': '8811417',\n",
    "#         'C. O. BRAGA': '8817018',\n",
    "#         'C. O. COIMBRA': '8818171',\n",
    "#         'C. O. LEIRIA': '8811456',\n",
    "#         'C. O. MEM MARTINS': '8811373',\n",
    "#         'C. O. PERAFITA': '8818154',\n",
    "#         'C. O. VISEU': '8811457',\n",
    "#         'C.O. LOURES - MARL': '8811496',\n",
    "#         'C.O. PALMELA': '8819009',\n",
    "#         'CO DEVESAS': '8819001',\n",
    "#         'CO PINHEIRO DE FORA': '8819002',\n",
    "#     }\n",
    "\n",
    "#selecional o centro e as datas:\n",
    "    \n",
    "CO='8818171'\n",
    "\n",
    "import pandas as pd\n",
    "con = conecta_db()\n",
    "cur = con.cursor(cursor_factory=psycopg2.extras.DictCursor)\n",
    "\n",
    "cur.execute(\"\"\"\n",
    "    SELECT * FROM recolhas_2023_fn \n",
    "    WHERE centro = %s \n",
    "    AND TO_DATE(data_criacao, 'DD/MM/YYYY') >= TO_DATE('03/11/2023', 'DD/MM/YYYY') \n",
    "    AND TO_DATE(data_criacao, 'DD/MM/YYYY') <= TO_DATE('30/11/2023', 'DD/MM/YYYY')\n",
    "\"\"\", (CO,))\n",
    "\n",
    "column_names = [desc[0] for desc in cur.description]\n",
    "result_data_e = cur.fetchall()\n",
    "cur.close()\n",
    "con.close()\n",
    "\n",
    "df_expresso = pd.DataFrame(result_data_e, columns=column_names)\n"
   ]
  },
  {
   "cell_type": "code",
   "execution_count": 3,
   "metadata": {},
   "outputs": [],
   "source": [
    "one_drive_folder = \"/Users/rubenfilipemartinsdarocha/Library/CloudStorage/GoogleDrive-rubenfilype@gmail.com/My Drive/Colab Notebooks/CTT/03.Modelo_parcial\"\n",
    "# Construct the full file path\n",
    "file_name = str(CO) + '.xlsx'  # Replace CO with the appropriate variable name\n",
    "file_path = os.path.join(one_drive_folder, file_name)\n",
    "\n",
    "# Read Excel sheets\n",
    "df_v = pd.read_excel(file_path, sheet_name='Veículos')\n",
    "df = pd.DataFrame(df_v)\n"
   ]
  },
  {
   "cell_type": "code",
   "execution_count": 4,
   "metadata": {},
   "outputs": [
    {
     "name": "stdout",
     "output_type": "stream",
     "text": [
      "Routes in rotas_expresso_table not present in rotas_ficheiro_table and matching the pattern '4 numbers + 1 letter':\n",
      "[]\n"
     ]
    }
   ],
   "source": [
    "rotas_ficheiro_table = pd.DataFrame({'Nome': df['Nome'].str[:5].unique()})\n",
    "rotas_expresso_table = pd.DataFrame({'giro': df_expresso['giro'].str[:5].unique()})\n",
    "\n",
    "rotas_ficheiro_table['Nome'] = rotas_ficheiro_table['Nome'].astype(str).str.replace(' ', '')\n",
    "rotas_expresso_table['giro'] = rotas_expresso_table['giro'].astype(str).str.replace(' ', '')\n",
    "\n",
    "rotas_not_in_ficheiro = set(rotas_expresso_table['giro']) - set(rotas_ficheiro_table['Nome'])\n",
    "\n",
    "pattern = r'^\\d{4}[a-zA-Z]$'\n",
    "\n",
    "# Filter routes matching the regular expression pattern\n",
    "rotas_matching_pattern = [route for route in rotas_not_in_ficheiro if pd.Series(route).str.match(pattern).any()]\n",
    "\n",
    "print(\"Routes in rotas_expresso_table not present in rotas_ficheiro_table and matching the pattern '4 numbers + 1 letter':\")\n",
    "print(rotas_matching_pattern)"
   ]
  }
 ],
 "metadata": {
  "kernelspec": {
   "display_name": "Python 3",
   "language": "python",
   "name": "python3"
  },
  "language_info": {
   "codemirror_mode": {
    "name": "ipython",
    "version": 3
   },
   "file_extension": ".py",
   "mimetype": "text/x-python",
   "name": "python",
   "nbconvert_exporter": "python",
   "pygments_lexer": "ipython3",
   "version": "3.12.0"
  }
 },
 "nbformat": 4,
 "nbformat_minor": 2
}
